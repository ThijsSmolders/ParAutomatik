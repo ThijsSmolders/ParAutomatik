{
 "cells": [
  {
   "cell_type": "markdown",
   "id": "ec869451-fdaf-4267-8099-fcced9eae121",
   "metadata": {},
   "source": [
    "# SCC-DFTB Dataset generation\n",
    "\n",
    "Input: DFT_DB.db - ASE database with coordinates, energies and forces, and Slater-Koster tables with dummy repulsive potential. \n",
    "\n",
    "Output: corresponding DFTB_DB.db with E<sup>BL</sup>+E<sup>SCC</sup> and F<sup>BL</sup>+F<sup>SCC</sup> for the structures in DFT_DB.db\n",
    "\n",
    "\n",
    "In this book, the calculations are done in serial. The computations can be run in parallel, which speeds up this step significantly.  "
   ]
  },
  {
   "cell_type": "code",
   "execution_count": 1,
   "id": "d35f8c67-fb0c-4a14-a066-6982032485fa",
   "metadata": {},
   "outputs": [
    {
     "name": "stdout",
     "output_type": "stream",
     "text": [
      "You are here: /Users/tjams20/Documents/repos/ParAutomatik/pgm/Jupyter_notebooks\n"
     ]
    }
   ],
   "source": [
    "from ase.io import read,write\n",
    "from ase.io.vasp import read_vasp_out\n",
    "from ase.atoms import *\n",
    "from ase.calculators.dftb import Dftb\n",
    "from ase.calculators.vasp import Vasp\n",
    "from ase.optimize import *\n",
    "import ase.db\n",
    "import sys, os\n",
    "import numpy as np\n",
    "from tqdm import tqdm \n",
    "from ase.db import connect\n",
    "os.environ['DFTB_COMMAND'] = 'dftb+'  # link to your DFTB binary. Modify if needed. \n",
    "base_dir=os.getcwd()\n",
    "os.chdir(base_dir) \n",
    "if not os.path.isdir(\"RUN_SK/\"):\n",
    "    os.mkdir(\"RUN_SK/\")\n",
    "\n",
    "#os.chdir(base_dir)\n",
    "print('You are here:', base_dir)"
   ]
  },
  {
   "cell_type": "code",
   "execution_count": 2,
   "id": "7858e2f2-3880-4b4a-9c63-41a0620742f7",
   "metadata": {},
   "outputs": [
    {
     "name": "stdout",
     "output_type": "stream",
     "text": [
      "Models loaded\n"
     ]
    }
   ],
   "source": [
    "# set up model for the DFTB+ computations using ASE \n",
    "\n",
    "def setup_model(elements,spin,charge,**kwargs):\n",
    "    print('setting up calculator')\n",
    "    os.environ[\"DFTB_PREFIX\"] = base_dir+\"/SKF/\"\n",
    "    DFTB_calc=Dftb(Hamiltonian_SCC='Yes',Hamiltonian_ShellResolvedSCC = 'Yes',Hamiltonian_SCCTolerance = '1.0E-006',Hamiltonian_Mixer= 'Anderson{',Hamiltonian_Mixer_MixingParameter='0.03',Hamiltonian_MaxSCCIterations = '150',Hamiltonian_Filling = 'MethfesselPaxton{',Hamiltonian_Filling_Temperature = '0.001583407672623195',Hamiltonian_KPointsAndWeights = 'SupercellFolding{1 0 0 0 1 0 0 0 1 0.0 0.0 0.0}',) \n",
    "    if spin>0:                  \n",
    "        DFTB_calc.set(Hamiltonian_SpinPolarisation = 'Colinear{') \n",
    "        DFTB_calc.set(Hamiltonian_SpinPolarisation_UnpairedElectrons=str(spin))\n",
    "        DFTB_calc.set(Hamiltonian_SpinConstants_ ='')\n",
    "        for i in elements: \n",
    "            print(i)\n",
    "            spinparam=get_spindata(i)\n",
    "            string=f'Hamiltonian_SpinConstants_{i}'  \n",
    "            print(string)\n",
    "            DFTB_calc.set(**{string:spinparam})  \n",
    "    if charge>0: \n",
    "        DFTB_calc.set(Hamiltonian_Charge =str(charge))\n",
    "    calc=DFTB_calc\n",
    "    return calc\n",
    "           \n",
    "def get_spindata(element): \n",
    "    if element=='Li':\n",
    "        spinparam='{-0.019  -0.016  -0.016 -0.027}'\n",
    "    if element=='C':\n",
    "        spinparam='{-0.031 -0.025 -0.025 -0.023}'\n",
    "    if element=='O':\n",
    "        spinparam='{-0.035 -0.030 -0.030 -0.028}'\n",
    "    if element=='H':\n",
    "        spinparam='{-0.072}'\n",
    "    if element=='P':\n",
    "        spinparam='{-0.035 -0.030 -0.030 -0.0280}'   \n",
    "    return spinparam \n",
    "\n",
    "def run_dftb(structure,SKF):\n",
    "    os.chdir(base_dir+'/RUN_SK')\n",
    "    w = structure.get_chemical_symbols()\n",
    "    print('w is',w)\n",
    "    charge=0\n",
    "    spin=0\n",
    "    calculator = setup_model(w,spin,charge)\n",
    "    structure.calc=calculator\n",
    "    structure.get_potential_energy()\n",
    "    structure.get_forces()\n",
    "    os.chdir(base_dir)\n",
    "    return structure    \n",
    "\n",
    "print('Models loaded')"
   ]
  },
  {
   "cell_type": "code",
   "execution_count": 3,
   "id": "8caca34f-8657-4a12-b544-47cbfd40c7f8",
   "metadata": {},
   "outputs": [
    {
     "name": "stderr",
     "output_type": "stream",
     "text": [
      "0it [00:00, ?it/s]"
     ]
    },
    {
     "name": "stdout",
     "output_type": "stream",
     "text": [
      "w is ['C', 'C', 'C', 'H', 'H', 'H', 'H', 'Li', 'Li', 'O', 'O', 'O', 'O']\n",
      "setting up calculator\n"
     ]
    },
    {
     "name": "stderr",
     "output_type": "stream",
     "text": [
      "1it [00:00,  1.75it/s]"
     ]
    },
    {
     "name": "stdout",
     "output_type": "stream",
     "text": [
      "structure 1 written to DFTB_db \"\n",
      "w is ['C', 'C', 'C', 'H', 'H', 'H', 'H', 'O', 'O', 'O']\n",
      "setting up calculator\n"
     ]
    },
    {
     "name": "stderr",
     "output_type": "stream",
     "text": [
      "2it [00:00,  2.25it/s]"
     ]
    },
    {
     "name": "stdout",
     "output_type": "stream",
     "text": [
      "structure 2 written to DFTB_db \"\n",
      "w is ['C', 'C', 'C', 'C', 'C', 'H', 'H', 'H', 'H', 'H', 'H', 'H', 'H', 'H', 'H', 'O', 'O', 'O']\n",
      "setting up calculator\n"
     ]
    },
    {
     "name": "stderr",
     "output_type": "stream",
     "text": [
      "3it [00:01,  2.32it/s]"
     ]
    },
    {
     "name": "stdout",
     "output_type": "stream",
     "text": [
      "structure 3 written to DFTB_db \"\n",
      "w is ['C', 'C', 'C', 'H', 'H', 'H', 'H', 'Li', 'O', 'O', 'O']\n",
      "setting up calculator\n"
     ]
    },
    {
     "name": "stderr",
     "output_type": "stream",
     "text": [
      "4it [00:02,  1.87it/s]"
     ]
    },
    {
     "name": "stdout",
     "output_type": "stream",
     "text": [
      "structure 4 written to DFTB_db \"\n",
      "w is ['C', 'C', 'C', 'C', 'H', 'H', 'H', 'H', 'H', 'H', 'H', 'H', 'O', 'O', 'O']\n",
      "setting up calculator\n"
     ]
    },
    {
     "name": "stderr",
     "output_type": "stream",
     "text": [
      "5it [00:02,  1.82it/s]"
     ]
    },
    {
     "name": "stdout",
     "output_type": "stream",
     "text": [
      "structure 5 written to DFTB_db \"\n",
      "w is ['C', 'C', 'C', 'C', 'H', 'H', 'H', 'H', 'H', 'H', 'H', 'H', 'O', 'O', 'O']\n",
      "setting up calculator\n"
     ]
    },
    {
     "name": "stderr",
     "output_type": "stream",
     "text": [
      "6it [00:02,  2.19it/s]"
     ]
    },
    {
     "name": "stdout",
     "output_type": "stream",
     "text": [
      "structure 6 written to DFTB_db \"\n",
      "w is ['C', 'C', 'C', 'H', 'H', 'H', 'H', 'Li', 'Li', 'O', 'O', 'O', 'O']\n",
      "setting up calculator\n"
     ]
    },
    {
     "name": "stderr",
     "output_type": "stream",
     "text": [
      "7it [00:03,  2.32it/s]"
     ]
    },
    {
     "name": "stdout",
     "output_type": "stream",
     "text": [
      "structure 7 written to DFTB_db \"\n",
      "w is ['C', 'C', 'C', 'C', 'H', 'H', 'H', 'H', 'H', 'H', 'H', 'H', 'O', 'O', 'O']\n",
      "setting up calculator\n"
     ]
    },
    {
     "name": "stderr",
     "output_type": "stream",
     "text": [
      "8it [00:03,  2.59it/s]"
     ]
    },
    {
     "name": "stdout",
     "output_type": "stream",
     "text": [
      "structure 8 written to DFTB_db \"\n",
      "w is ['C', 'C', 'C', 'H', 'H', 'H', 'H', 'Li', 'O', 'O', 'O']\n",
      "setting up calculator\n"
     ]
    },
    {
     "name": "stderr",
     "output_type": "stream",
     "text": [
      "9it [00:03,  2.64it/s]"
     ]
    },
    {
     "name": "stdout",
     "output_type": "stream",
     "text": [
      "structure 9 written to DFTB_db \"\n",
      "w is ['C', 'C', 'C', 'H', 'H', 'H', 'H', 'O', 'O', 'O']\n",
      "setting up calculator\n"
     ]
    },
    {
     "name": "stderr",
     "output_type": "stream",
     "text": [
      "10it [00:04,  2.27it/s]"
     ]
    },
    {
     "name": "stdout",
     "output_type": "stream",
     "text": [
      "structure 10 written to DFTB_db \"\n",
      "w is ['C', 'C', 'C', 'H', 'H', 'H', 'H', 'O', 'O', 'O']\n",
      "setting up calculator\n"
     ]
    },
    {
     "name": "stderr",
     "output_type": "stream",
     "text": [
      "11it [00:05,  2.05it/s]"
     ]
    },
    {
     "name": "stdout",
     "output_type": "stream",
     "text": [
      "structure 11 written to DFTB_db \"\n",
      "w is ['C', 'C', 'C', 'H', 'H', 'H', 'H', 'O', 'O', 'O']\n",
      "setting up calculator\n"
     ]
    },
    {
     "name": "stderr",
     "output_type": "stream",
     "text": [
      "12it [00:05,  1.85it/s]"
     ]
    },
    {
     "name": "stdout",
     "output_type": "stream",
     "text": [
      "structure 12 written to DFTB_db \"\n",
      "w is ['C', 'C', 'C', 'H', 'H', 'H', 'H', 'O', 'O', 'O']\n",
      "setting up calculator\n"
     ]
    },
    {
     "name": "stderr",
     "output_type": "stream",
     "text": [
      "13it [00:06,  1.71it/s]"
     ]
    },
    {
     "name": "stdout",
     "output_type": "stream",
     "text": [
      "structure 13 written to DFTB_db \"\n",
      "w is ['C', 'C', 'C', 'H', 'H', 'H', 'H', 'O', 'O', 'O']\n",
      "setting up calculator\n"
     ]
    },
    {
     "name": "stderr",
     "output_type": "stream",
     "text": [
      "14it [00:06,  1.82it/s]"
     ]
    },
    {
     "name": "stdout",
     "output_type": "stream",
     "text": [
      "structure 14 written to DFTB_db \"\n",
      "w is ['C', 'C', 'C', 'H', 'H', 'H', 'H', 'O', 'O', 'O']\n",
      "setting up calculator\n"
     ]
    },
    {
     "name": "stderr",
     "output_type": "stream",
     "text": [
      "15it [00:07,  1.88it/s]"
     ]
    },
    {
     "name": "stdout",
     "output_type": "stream",
     "text": [
      "structure 15 written to DFTB_db \"\n",
      "w is ['C', 'C', 'C', 'H', 'H', 'H', 'H', 'O', 'O', 'O']\n",
      "setting up calculator\n"
     ]
    },
    {
     "name": "stderr",
     "output_type": "stream",
     "text": [
      "16it [00:07,  1.85it/s]"
     ]
    },
    {
     "name": "stdout",
     "output_type": "stream",
     "text": [
      "structure 16 written to DFTB_db \"\n",
      "w is ['C', 'C', 'C', 'H', 'H', 'H', 'H', 'O', 'O', 'O']\n",
      "setting up calculator\n"
     ]
    },
    {
     "name": "stderr",
     "output_type": "stream",
     "text": [
      "17it [00:08,  1.84it/s]"
     ]
    },
    {
     "name": "stdout",
     "output_type": "stream",
     "text": [
      "structure 17 written to DFTB_db \"\n",
      "w is ['C', 'C', 'C', 'H', 'H', 'H', 'H', 'O', 'O', 'O']\n",
      "setting up calculator\n"
     ]
    },
    {
     "name": "stderr",
     "output_type": "stream",
     "text": [
      "18it [00:09,  1.69it/s]"
     ]
    },
    {
     "name": "stdout",
     "output_type": "stream",
     "text": [
      "structure 18 written to DFTB_db \"\n",
      "w is ['C', 'C', 'C', 'H', 'H', 'H', 'H', 'O', 'O', 'O']\n",
      "setting up calculator\n"
     ]
    },
    {
     "name": "stderr",
     "output_type": "stream",
     "text": [
      "19it [00:09,  1.65it/s]"
     ]
    },
    {
     "name": "stdout",
     "output_type": "stream",
     "text": [
      "structure 19 written to DFTB_db \"\n",
      "w is ['C', 'C', 'C', 'H', 'H', 'H', 'H', 'O', 'O', 'O']\n",
      "setting up calculator\n"
     ]
    },
    {
     "name": "stderr",
     "output_type": "stream",
     "text": [
      "20it [00:10,  1.73it/s]"
     ]
    },
    {
     "name": "stdout",
     "output_type": "stream",
     "text": [
      "structure 20 written to DFTB_db \"\n",
      "w is ['C', 'C', 'C', 'H', 'H', 'H', 'H', 'O', 'O', 'O']\n",
      "setting up calculator\n"
     ]
    },
    {
     "name": "stderr",
     "output_type": "stream",
     "text": [
      "21it [00:10,  1.79it/s]"
     ]
    },
    {
     "name": "stdout",
     "output_type": "stream",
     "text": [
      "structure 21 written to DFTB_db \"\n",
      "w is ['C', 'C', 'C', 'H', 'H', 'H', 'H', 'O', 'O', 'O']\n",
      "setting up calculator\n"
     ]
    },
    {
     "name": "stderr",
     "output_type": "stream",
     "text": [
      "22it [00:11,  1.65it/s]"
     ]
    },
    {
     "name": "stdout",
     "output_type": "stream",
     "text": [
      "structure 22 written to DFTB_db \"\n",
      "w is ['C', 'C', 'C', 'H', 'H', 'H', 'H', 'O', 'O', 'O']\n",
      "setting up calculator\n"
     ]
    },
    {
     "name": "stderr",
     "output_type": "stream",
     "text": [
      "23it [00:12,  1.73it/s]"
     ]
    },
    {
     "name": "stdout",
     "output_type": "stream",
     "text": [
      "structure 23 written to DFTB_db \"\n",
      "w is ['C', 'C', 'C', 'H', 'H', 'H', 'H', 'O', 'O', 'O']\n",
      "setting up calculator\n"
     ]
    },
    {
     "name": "stderr",
     "output_type": "stream",
     "text": [
      "24it [00:12,  1.56it/s]"
     ]
    },
    {
     "name": "stdout",
     "output_type": "stream",
     "text": [
      "structure 24 written to DFTB_db \"\n",
      "w is ['C', 'C', 'C', 'H', 'H', 'H', 'H', 'O', 'O', 'O']\n",
      "setting up calculator\n"
     ]
    },
    {
     "name": "stderr",
     "output_type": "stream",
     "text": [
      "25it [00:13,  1.58it/s]"
     ]
    },
    {
     "name": "stdout",
     "output_type": "stream",
     "text": [
      "structure 25 written to DFTB_db \"\n",
      "w is ['C', 'C', 'C', 'H', 'H', 'H', 'H', 'O', 'O', 'O']\n",
      "setting up calculator\n"
     ]
    },
    {
     "name": "stderr",
     "output_type": "stream",
     "text": [
      "Note: The following floating-point exceptions are signalling: IEEE_INVALID_FLAG IEEE_DIVIDE_BY_ZERO IEEE_UNDERFLOW_FLAG IEEE_DENORMAL\n",
      "Note: The following floating-point exceptions are signalling: IEEE_INVALID_FLAG IEEE_DIVIDE_BY_ZERO IEEE_UNDERFLOW_FLAG IEEE_DENORMAL\n",
      "26it [00:14,  1.43it/s]"
     ]
    },
    {
     "name": "stdout",
     "output_type": "stream",
     "text": [
      "Error\n",
      "w is ['C', 'C', 'C', 'H', 'H', 'H', 'H', 'O', 'O', 'O']\n",
      "setting up calculator\n"
     ]
    },
    {
     "name": "stderr",
     "output_type": "stream",
     "text": [
      "27it [00:15,  1.40it/s]"
     ]
    },
    {
     "name": "stdout",
     "output_type": "stream",
     "text": [
      "structure 27 written to DFTB_db \"\n",
      "w is ['C', 'C', 'C', 'H', 'H', 'H', 'H', 'O', 'O', 'O']\n",
      "setting up calculator\n"
     ]
    },
    {
     "name": "stderr",
     "output_type": "stream",
     "text": [
      "28it [00:15,  1.58it/s]"
     ]
    },
    {
     "name": "stdout",
     "output_type": "stream",
     "text": [
      "structure 28 written to DFTB_db \"\n",
      "w is ['C', 'C', 'C', 'H', 'H', 'H', 'H', 'O', 'O', 'O']\n",
      "setting up calculator\n"
     ]
    },
    {
     "name": "stderr",
     "output_type": "stream",
     "text": [
      "29it [00:16,  1.74it/s]"
     ]
    },
    {
     "name": "stdout",
     "output_type": "stream",
     "text": [
      "structure 29 written to DFTB_db \"\n",
      "w is ['C', 'C', 'C', 'H', 'H', 'H', 'H', 'O', 'O', 'O']\n",
      "setting up calculator\n"
     ]
    },
    {
     "name": "stderr",
     "output_type": "stream",
     "text": [
      "30it [00:16,  1.82it/s]"
     ]
    },
    {
     "name": "stdout",
     "output_type": "stream",
     "text": [
      "structure 30 written to DFTB_db \"\n",
      "w is ['C', 'C', 'C', 'H', 'H', 'H', 'H', 'O', 'O', 'O']\n",
      "setting up calculator\n"
     ]
    },
    {
     "name": "stderr",
     "output_type": "stream",
     "text": [
      "31it [00:17,  1.78it/s]"
     ]
    },
    {
     "name": "stdout",
     "output_type": "stream",
     "text": [
      "structure 31 written to DFTB_db \"\n",
      "w is ['C', 'C', 'C', 'H', 'H', 'H', 'H', 'O', 'O', 'O']\n",
      "setting up calculator\n"
     ]
    },
    {
     "name": "stderr",
     "output_type": "stream",
     "text": [
      "32it [00:17,  1.76it/s]"
     ]
    },
    {
     "name": "stdout",
     "output_type": "stream",
     "text": [
      "structure 32 written to DFTB_db \"\n",
      "w is ['C', 'C', 'C', 'H', 'H', 'H', 'H', 'O', 'O', 'O']\n",
      "setting up calculator\n"
     ]
    },
    {
     "name": "stderr",
     "output_type": "stream",
     "text": [
      "33it [00:18,  1.77it/s]"
     ]
    },
    {
     "name": "stdout",
     "output_type": "stream",
     "text": [
      "structure 33 written to DFTB_db \"\n",
      "w is ['C', 'C', 'C', 'H', 'H', 'H', 'H', 'O', 'O', 'O']\n",
      "setting up calculator\n"
     ]
    },
    {
     "name": "stderr",
     "output_type": "stream",
     "text": [
      "34it [00:18,  1.88it/s]"
     ]
    },
    {
     "name": "stdout",
     "output_type": "stream",
     "text": [
      "structure 34 written to DFTB_db \"\n",
      "w is ['C', 'C', 'C', 'H', 'H', 'H', 'H', 'O', 'O', 'O']\n",
      "setting up calculator\n"
     ]
    },
    {
     "name": "stderr",
     "output_type": "stream",
     "text": [
      "35it [00:19,  1.88it/s]"
     ]
    },
    {
     "name": "stdout",
     "output_type": "stream",
     "text": [
      "structure 35 written to DFTB_db \"\n",
      "w is ['C', 'C', 'C', 'H', 'H', 'H', 'H', 'O', 'O', 'O']\n",
      "setting up calculator\n"
     ]
    },
    {
     "name": "stderr",
     "output_type": "stream",
     "text": [
      "36it [00:19,  1.90it/s]"
     ]
    },
    {
     "name": "stdout",
     "output_type": "stream",
     "text": [
      "structure 36 written to DFTB_db \"\n",
      "w is ['C', 'C', 'C', 'H', 'H', 'H', 'H', 'O', 'O', 'O']\n",
      "setting up calculator\n"
     ]
    },
    {
     "name": "stderr",
     "output_type": "stream",
     "text": [
      "37it [00:20,  1.87it/s]"
     ]
    },
    {
     "name": "stdout",
     "output_type": "stream",
     "text": [
      "structure 37 written to DFTB_db \"\n",
      "w is ['C', 'C', 'C', 'H', 'H', 'H', 'H', 'O', 'O', 'O']\n",
      "setting up calculator\n"
     ]
    },
    {
     "name": "stderr",
     "output_type": "stream",
     "text": [
      "38it [00:20,  1.85it/s]"
     ]
    },
    {
     "name": "stdout",
     "output_type": "stream",
     "text": [
      "structure 38 written to DFTB_db \"\n",
      "w is ['C', 'C', 'C', 'H', 'H', 'H', 'H', 'O', 'O', 'O']\n",
      "setting up calculator\n"
     ]
    },
    {
     "name": "stderr",
     "output_type": "stream",
     "text": [
      "Note: The following floating-point exceptions are signalling: IEEE_INVALID_FLAG IEEE_DIVIDE_BY_ZERO IEEE_UNDERFLOW_FLAG IEEE_DENORMAL\n",
      "Note: The following floating-point exceptions are signalling: IEEE_INVALID_FLAG IEEE_DIVIDE_BY_ZERO IEEE_UNDERFLOW_FLAG IEEE_DENORMAL\n",
      "39it [00:21,  1.61it/s]"
     ]
    },
    {
     "name": "stdout",
     "output_type": "stream",
     "text": [
      "Error\n",
      "w is ['C', 'C', 'C', 'H', 'H', 'H', 'H', 'O', 'O', 'O']\n",
      "setting up calculator\n"
     ]
    },
    {
     "name": "stderr",
     "output_type": "stream",
     "text": [
      "40it [00:22,  1.57it/s]"
     ]
    },
    {
     "name": "stdout",
     "output_type": "stream",
     "text": [
      "structure 40 written to DFTB_db \"\n",
      "w is ['C', 'C', 'C', 'H', 'H', 'H', 'H', 'O', 'O', 'O']\n",
      "setting up calculator\n"
     ]
    },
    {
     "name": "stderr",
     "output_type": "stream",
     "text": [
      "41it [00:22,  1.68it/s]"
     ]
    },
    {
     "name": "stdout",
     "output_type": "stream",
     "text": [
      "structure 41 written to DFTB_db \"\n",
      "w is ['C', 'C', 'C', 'H', 'H', 'H', 'H', 'O', 'O', 'O']\n",
      "setting up calculator\n"
     ]
    },
    {
     "name": "stderr",
     "output_type": "stream",
     "text": [
      "42it [00:23,  1.78it/s]"
     ]
    },
    {
     "name": "stdout",
     "output_type": "stream",
     "text": [
      "structure 42 written to DFTB_db \"\n",
      "w is ['C', 'C', 'C', 'H', 'H', 'H', 'H', 'O', 'O', 'O']\n",
      "setting up calculator\n"
     ]
    },
    {
     "name": "stderr",
     "output_type": "stream",
     "text": [
      "Note: The following floating-point exceptions are signalling: IEEE_INVALID_FLAG IEEE_DIVIDE_BY_ZERO IEEE_UNDERFLOW_FLAG IEEE_DENORMAL\n",
      "Note: The following floating-point exceptions are signalling: IEEE_INVALID_FLAG IEEE_DIVIDE_BY_ZERO IEEE_UNDERFLOW_FLAG IEEE_DENORMAL\n",
      "43it [00:24,  1.57it/s]"
     ]
    },
    {
     "name": "stdout",
     "output_type": "stream",
     "text": [
      "Error\n",
      "w is ['C', 'C', 'C', 'H', 'H', 'H', 'H', 'O', 'O', 'O']\n",
      "setting up calculator\n"
     ]
    },
    {
     "name": "stderr",
     "output_type": "stream",
     "text": [
      "44it [00:24,  1.75it/s]"
     ]
    },
    {
     "name": "stdout",
     "output_type": "stream",
     "text": [
      "structure 44 written to DFTB_db \"\n",
      "w is ['C', 'C', 'C', 'H', 'H', 'H', 'H', 'O', 'O', 'O']\n",
      "setting up calculator\n"
     ]
    },
    {
     "name": "stderr",
     "output_type": "stream",
     "text": [
      "45it [00:24,  1.86it/s]"
     ]
    },
    {
     "name": "stdout",
     "output_type": "stream",
     "text": [
      "structure 45 written to DFTB_db \"\n",
      "w is ['C', 'C', 'C', 'H', 'H', 'H', 'H', 'O', 'O', 'O']\n",
      "setting up calculator\n"
     ]
    },
    {
     "name": "stderr",
     "output_type": "stream",
     "text": [
      "46it [00:25,  1.82it/s]"
     ]
    },
    {
     "name": "stdout",
     "output_type": "stream",
     "text": [
      "structure 46 written to DFTB_db \"\n",
      "w is ['C', 'C', 'C', 'H', 'H', 'H', 'H', 'O', 'O', 'O']\n",
      "setting up calculator\n"
     ]
    },
    {
     "name": "stderr",
     "output_type": "stream",
     "text": [
      "47it [00:26,  1.78it/s]"
     ]
    },
    {
     "name": "stdout",
     "output_type": "stream",
     "text": [
      "structure 47 written to DFTB_db \"\n",
      "w is ['C', 'C', 'C', 'H', 'H', 'H', 'H', 'O', 'O', 'O']\n",
      "setting up calculator\n"
     ]
    },
    {
     "name": "stderr",
     "output_type": "stream",
     "text": [
      "48it [00:26,  1.84it/s]"
     ]
    },
    {
     "name": "stdout",
     "output_type": "stream",
     "text": [
      "structure 48 written to DFTB_db \"\n",
      "w is ['C', 'C', 'C', 'H', 'H', 'H', 'H', 'O', 'O', 'O']\n",
      "setting up calculator\n"
     ]
    },
    {
     "name": "stderr",
     "output_type": "stream",
     "text": [
      "49it [00:27,  1.80it/s]"
     ]
    },
    {
     "name": "stdout",
     "output_type": "stream",
     "text": [
      "structure 49 written to DFTB_db \"\n",
      "w is ['C', 'C', 'C', 'H', 'H', 'H', 'H', 'O', 'O', 'O']\n",
      "setting up calculator\n"
     ]
    },
    {
     "name": "stderr",
     "output_type": "stream",
     "text": [
      "50it [00:27,  1.80it/s]"
     ]
    },
    {
     "name": "stdout",
     "output_type": "stream",
     "text": [
      "structure 50 written to DFTB_db \"\n",
      "w is ['C', 'C', 'C', 'H', 'H', 'H', 'H', 'O', 'O', 'O']\n",
      "setting up calculator\n"
     ]
    },
    {
     "name": "stderr",
     "output_type": "stream",
     "text": [
      "51it [00:28,  1.66it/s]"
     ]
    },
    {
     "name": "stdout",
     "output_type": "stream",
     "text": [
      "structure 51 written to DFTB_db \"\n",
      "w is ['C', 'C', 'C', 'H', 'H', 'H', 'H', 'O', 'O', 'O']\n",
      "setting up calculator\n"
     ]
    },
    {
     "name": "stderr",
     "output_type": "stream",
     "text": [
      "52it [00:29,  1.51it/s]"
     ]
    },
    {
     "name": "stdout",
     "output_type": "stream",
     "text": [
      "structure 52 written to DFTB_db \"\n",
      "w is ['C', 'C', 'C', 'H', 'H', 'H', 'H', 'O', 'O', 'O']\n",
      "setting up calculator\n"
     ]
    },
    {
     "name": "stderr",
     "output_type": "stream",
     "text": [
      "53it [00:29,  1.65it/s]"
     ]
    },
    {
     "name": "stdout",
     "output_type": "stream",
     "text": [
      "structure 53 written to DFTB_db \"\n",
      "w is ['C', 'C', 'C', 'H', 'H', 'H', 'H', 'O', 'O', 'O']\n",
      "setting up calculator\n"
     ]
    },
    {
     "name": "stderr",
     "output_type": "stream",
     "text": [
      "54it [00:30,  1.55it/s]"
     ]
    },
    {
     "name": "stdout",
     "output_type": "stream",
     "text": [
      "structure 54 written to DFTB_db \"\n",
      "w is ['C', 'C', 'C', 'H', 'H', 'H', 'H', 'O', 'O', 'O']\n",
      "setting up calculator\n"
     ]
    },
    {
     "name": "stderr",
     "output_type": "stream",
     "text": [
      "55it [00:31,  1.63it/s]"
     ]
    },
    {
     "name": "stdout",
     "output_type": "stream",
     "text": [
      "structure 55 written to DFTB_db \"\n",
      "w is ['C', 'C', 'C', 'H', 'H', 'H', 'H', 'O', 'O', 'O']\n",
      "setting up calculator\n"
     ]
    },
    {
     "name": "stderr",
     "output_type": "stream",
     "text": [
      "56it [00:31,  1.73it/s]"
     ]
    },
    {
     "name": "stdout",
     "output_type": "stream",
     "text": [
      "structure 56 written to DFTB_db \"\n",
      "w is ['C', 'C', 'C', 'H', 'H', 'H', 'H', 'O', 'O', 'O']\n",
      "setting up calculator\n"
     ]
    },
    {
     "name": "stderr",
     "output_type": "stream",
     "text": [
      "57it [00:32,  1.83it/s]"
     ]
    },
    {
     "name": "stdout",
     "output_type": "stream",
     "text": [
      "structure 57 written to DFTB_db \"\n",
      "w is ['C', 'C', 'C', 'H', 'H', 'H', 'H', 'O', 'O', 'O']\n",
      "setting up calculator\n"
     ]
    },
    {
     "name": "stderr",
     "output_type": "stream",
     "text": [
      "58it [00:32,  1.83it/s]"
     ]
    },
    {
     "name": "stdout",
     "output_type": "stream",
     "text": [
      "structure 58 written to DFTB_db \"\n",
      "w is ['C', 'C', 'C', 'H', 'H', 'H', 'H', 'O', 'O', 'O']\n",
      "setting up calculator\n"
     ]
    },
    {
     "name": "stderr",
     "output_type": "stream",
     "text": [
      "59it [00:33,  1.91it/s]"
     ]
    },
    {
     "name": "stdout",
     "output_type": "stream",
     "text": [
      "structure 59 written to DFTB_db \"\n",
      "w is ['C', 'C', 'C', 'H', 'H', 'H', 'H', 'O', 'O', 'O']\n",
      "setting up calculator\n"
     ]
    },
    {
     "name": "stderr",
     "output_type": "stream",
     "text": [
      "60it [00:33,  2.17it/s]"
     ]
    },
    {
     "name": "stdout",
     "output_type": "stream",
     "text": [
      "structure 60 written to DFTB_db \"\n",
      "w is ['C', 'C', 'C', 'H', 'H', 'H', 'H', 'O', 'O', 'O']\n",
      "setting up calculator\n"
     ]
    },
    {
     "name": "stderr",
     "output_type": "stream",
     "text": [
      "61it [00:33,  2.42it/s]"
     ]
    },
    {
     "name": "stdout",
     "output_type": "stream",
     "text": [
      "structure 61 written to DFTB_db \"\n",
      "w is ['C', 'C', 'C', 'H', 'H', 'H', 'H', 'O', 'O', 'O']\n",
      "setting up calculator\n"
     ]
    },
    {
     "name": "stderr",
     "output_type": "stream",
     "text": [
      "62it [00:34,  2.00it/s]"
     ]
    },
    {
     "name": "stdout",
     "output_type": "stream",
     "text": [
      "structure 62 written to DFTB_db \"\n",
      "w is ['C', 'C', 'C', 'H', 'H', 'H', 'H', 'O', 'O', 'O']\n",
      "setting up calculator\n"
     ]
    },
    {
     "name": "stderr",
     "output_type": "stream",
     "text": [
      "63it [00:34,  2.07it/s]"
     ]
    },
    {
     "name": "stdout",
     "output_type": "stream",
     "text": [
      "structure 63 written to DFTB_db \"\n",
      "w is ['C', 'C', 'C', 'H', 'H', 'H', 'H', 'O', 'O', 'O']\n",
      "setting up calculator\n"
     ]
    },
    {
     "name": "stderr",
     "output_type": "stream",
     "text": [
      "64it [00:35,  2.05it/s]"
     ]
    },
    {
     "name": "stdout",
     "output_type": "stream",
     "text": [
      "structure 64 written to DFTB_db \"\n",
      "w is ['C', 'C', 'C', 'H', 'H', 'H', 'H', 'O', 'O', 'O']\n",
      "setting up calculator\n"
     ]
    },
    {
     "name": "stderr",
     "output_type": "stream",
     "text": [
      "65it [00:35,  1.82it/s]"
     ]
    },
    {
     "name": "stdout",
     "output_type": "stream",
     "text": [
      "structure 65 written to DFTB_db \"\n",
      "w is ['C', 'C', 'C', 'H', 'H', 'H', 'H', 'O', 'O', 'O']\n",
      "setting up calculator\n"
     ]
    },
    {
     "name": "stderr",
     "output_type": "stream",
     "text": [
      "66it [00:36,  1.75it/s]"
     ]
    },
    {
     "name": "stdout",
     "output_type": "stream",
     "text": [
      "structure 66 written to DFTB_db \"\n",
      "w is ['C', 'C', 'C', 'H', 'H', 'H', 'H', 'O', 'O', 'O']\n",
      "setting up calculator\n"
     ]
    },
    {
     "name": "stderr",
     "output_type": "stream",
     "text": [
      "67it [00:37,  1.64it/s]"
     ]
    },
    {
     "name": "stdout",
     "output_type": "stream",
     "text": [
      "structure 67 written to DFTB_db \"\n",
      "w is ['C', 'C', 'C', 'H', 'H', 'H', 'H', 'O', 'O', 'O']\n",
      "setting up calculator\n"
     ]
    },
    {
     "name": "stderr",
     "output_type": "stream",
     "text": [
      "68it [00:37,  1.88it/s]"
     ]
    },
    {
     "name": "stdout",
     "output_type": "stream",
     "text": [
      "structure 68 written to DFTB_db \"\n",
      "w is ['C', 'C', 'C', 'H', 'H', 'H', 'H', 'O', 'O', 'O']\n",
      "setting up calculator\n"
     ]
    },
    {
     "name": "stderr",
     "output_type": "stream",
     "text": [
      "69it [00:38,  1.86it/s]"
     ]
    },
    {
     "name": "stdout",
     "output_type": "stream",
     "text": [
      "structure 69 written to DFTB_db \"\n",
      "w is ['C', 'C', 'C', 'H', 'H', 'H', 'H', 'O', 'O', 'O']\n",
      "setting up calculator\n"
     ]
    },
    {
     "name": "stderr",
     "output_type": "stream",
     "text": [
      "70it [00:38,  1.99it/s]"
     ]
    },
    {
     "name": "stdout",
     "output_type": "stream",
     "text": [
      "structure 70 written to DFTB_db \"\n",
      "w is ['C', 'C', 'C', 'H', 'H', 'H', 'H', 'O', 'O', 'O']\n",
      "setting up calculator\n"
     ]
    },
    {
     "name": "stderr",
     "output_type": "stream",
     "text": [
      "71it [00:39,  2.05it/s]"
     ]
    },
    {
     "name": "stdout",
     "output_type": "stream",
     "text": [
      "structure 71 written to DFTB_db \"\n",
      "w is ['C', 'C', 'C', 'H', 'H', 'H', 'H', 'O', 'O', 'O']\n",
      "setting up calculator\n"
     ]
    },
    {
     "name": "stderr",
     "output_type": "stream",
     "text": [
      "72it [00:39,  2.15it/s]"
     ]
    },
    {
     "name": "stdout",
     "output_type": "stream",
     "text": [
      "structure 72 written to DFTB_db \"\n",
      "w is ['C', 'C', 'C', 'H', 'H', 'H', 'H', 'O', 'O', 'O']\n",
      "setting up calculator\n"
     ]
    },
    {
     "name": "stderr",
     "output_type": "stream",
     "text": [
      "73it [00:39,  2.18it/s]"
     ]
    },
    {
     "name": "stdout",
     "output_type": "stream",
     "text": [
      "structure 73 written to DFTB_db \"\n",
      "w is ['C', 'C', 'C', 'H', 'H', 'H', 'H', 'O', 'O', 'O']\n",
      "setting up calculator\n"
     ]
    },
    {
     "name": "stderr",
     "output_type": "stream",
     "text": [
      "74it [00:40,  2.31it/s]"
     ]
    },
    {
     "name": "stdout",
     "output_type": "stream",
     "text": [
      "structure 74 written to DFTB_db \"\n",
      "w is ['C', 'C', 'C', 'H', 'H', 'H', 'H', 'O', 'O', 'O']\n",
      "setting up calculator\n"
     ]
    },
    {
     "name": "stderr",
     "output_type": "stream",
     "text": [
      "75it [00:40,  2.65it/s]"
     ]
    },
    {
     "name": "stdout",
     "output_type": "stream",
     "text": [
      "structure 75 written to DFTB_db \"\n",
      "w is ['C', 'C', 'C', 'H', 'H', 'H', 'H', 'O', 'O', 'O']\n",
      "setting up calculator\n"
     ]
    },
    {
     "name": "stderr",
     "output_type": "stream",
     "text": [
      "76it [00:40,  2.71it/s]"
     ]
    },
    {
     "name": "stdout",
     "output_type": "stream",
     "text": [
      "structure 76 written to DFTB_db \"\n",
      "w is ['C', 'C', 'C', 'H', 'H', 'H', 'H', 'O', 'O', 'O']\n",
      "setting up calculator\n"
     ]
    },
    {
     "name": "stderr",
     "output_type": "stream",
     "text": [
      "77it [00:41,  2.73it/s]"
     ]
    },
    {
     "name": "stdout",
     "output_type": "stream",
     "text": [
      "structure 77 written to DFTB_db \"\n",
      "w is ['C', 'C', 'C', 'H', 'H', 'H', 'H', 'O', 'O', 'O']\n",
      "setting up calculator\n"
     ]
    },
    {
     "name": "stderr",
     "output_type": "stream",
     "text": [
      "78it [00:41,  2.54it/s]"
     ]
    },
    {
     "name": "stdout",
     "output_type": "stream",
     "text": [
      "structure 78 written to DFTB_db \"\n",
      "w is ['C', 'C', 'C', 'H', 'H', 'H', 'H', 'O', 'O', 'O']\n",
      "setting up calculator\n"
     ]
    },
    {
     "name": "stderr",
     "output_type": "stream",
     "text": [
      "79it [00:41,  2.84it/s]"
     ]
    },
    {
     "name": "stdout",
     "output_type": "stream",
     "text": [
      "structure 79 written to DFTB_db \"\n",
      "w is ['C', 'C', 'C', 'H', 'H', 'H', 'H', 'O', 'O', 'O']\n",
      "setting up calculator\n"
     ]
    },
    {
     "name": "stderr",
     "output_type": "stream",
     "text": [
      "80it [00:42,  2.39it/s]"
     ]
    },
    {
     "name": "stdout",
     "output_type": "stream",
     "text": [
      "structure 80 written to DFTB_db \"\n",
      "w is ['C', 'C', 'C', 'H', 'H', 'H', 'H', 'O', 'O', 'O']\n",
      "setting up calculator\n"
     ]
    },
    {
     "name": "stderr",
     "output_type": "stream",
     "text": [
      "81it [00:43,  2.34it/s]"
     ]
    },
    {
     "name": "stdout",
     "output_type": "stream",
     "text": [
      "structure 81 written to DFTB_db \"\n",
      "w is ['C', 'C', 'C', 'H', 'H', 'H', 'H', 'O', 'O', 'O']\n",
      "setting up calculator\n"
     ]
    },
    {
     "name": "stderr",
     "output_type": "stream",
     "text": [
      "82it [00:43,  2.13it/s]"
     ]
    },
    {
     "name": "stdout",
     "output_type": "stream",
     "text": [
      "structure 82 written to DFTB_db \"\n",
      "w is ['C', 'C', 'C', 'H', 'H', 'H', 'H', 'O', 'O', 'O']\n",
      "setting up calculator\n"
     ]
    },
    {
     "name": "stderr",
     "output_type": "stream",
     "text": [
      "83it [00:44,  2.02it/s]"
     ]
    },
    {
     "name": "stdout",
     "output_type": "stream",
     "text": [
      "structure 83 written to DFTB_db \"\n",
      "w is ['C', 'C', 'C', 'H', 'H', 'H', 'H', 'O', 'O', 'O']\n",
      "setting up calculator\n"
     ]
    },
    {
     "name": "stderr",
     "output_type": "stream",
     "text": [
      "84it [00:44,  2.38it/s]"
     ]
    },
    {
     "name": "stdout",
     "output_type": "stream",
     "text": [
      "structure 84 written to DFTB_db \"\n",
      "w is ['C', 'C', 'C', 'H', 'H', 'H', 'H', 'O', 'O', 'O']\n",
      "setting up calculator\n"
     ]
    },
    {
     "name": "stderr",
     "output_type": "stream",
     "text": [
      "85it [00:44,  2.68it/s]"
     ]
    },
    {
     "name": "stdout",
     "output_type": "stream",
     "text": [
      "structure 85 written to DFTB_db \"\n",
      "w is ['C', 'C', 'C', 'H', 'H', 'H', 'H', 'O', 'O', 'O']\n",
      "setting up calculator\n"
     ]
    },
    {
     "name": "stderr",
     "output_type": "stream",
     "text": [
      "86it [00:45,  2.35it/s]"
     ]
    },
    {
     "name": "stdout",
     "output_type": "stream",
     "text": [
      "structure 86 written to DFTB_db \"\n",
      "w is ['C', 'C', 'C', 'H', 'H', 'H', 'H', 'O', 'O', 'O']\n",
      "setting up calculator\n"
     ]
    },
    {
     "name": "stderr",
     "output_type": "stream",
     "text": [
      "87it [00:45,  2.12it/s]"
     ]
    },
    {
     "name": "stdout",
     "output_type": "stream",
     "text": [
      "structure 87 written to DFTB_db \"\n",
      "w is ['C', 'C', 'C', 'H', 'H', 'H', 'H', 'O', 'O', 'O']\n",
      "setting up calculator\n"
     ]
    },
    {
     "name": "stderr",
     "output_type": "stream",
     "text": [
      "88it [00:46,  2.16it/s]"
     ]
    },
    {
     "name": "stdout",
     "output_type": "stream",
     "text": [
      "structure 88 written to DFTB_db \"\n",
      "w is ['C', 'C', 'C', 'H', 'H', 'H', 'H', 'O', 'O', 'O']\n",
      "setting up calculator\n"
     ]
    },
    {
     "name": "stderr",
     "output_type": "stream",
     "text": [
      "89it [00:46,  2.07it/s]"
     ]
    },
    {
     "name": "stdout",
     "output_type": "stream",
     "text": [
      "structure 89 written to DFTB_db \"\n",
      "w is ['C', 'C', 'C', 'H', 'H', 'H', 'H', 'O', 'O', 'O']\n",
      "setting up calculator\n"
     ]
    },
    {
     "name": "stderr",
     "output_type": "stream",
     "text": [
      "90it [00:47,  1.76it/s]"
     ]
    },
    {
     "name": "stdout",
     "output_type": "stream",
     "text": [
      "structure 90 written to DFTB_db \"\n",
      "w is ['C', 'C', 'C', 'H', 'H', 'H', 'H', 'O', 'O', 'O']\n",
      "setting up calculator\n"
     ]
    },
    {
     "name": "stderr",
     "output_type": "stream",
     "text": [
      "91it [00:47,  2.02it/s]"
     ]
    },
    {
     "name": "stdout",
     "output_type": "stream",
     "text": [
      "structure 91 written to DFTB_db \"\n",
      "w is ['C', 'C', 'C', 'H', 'H', 'H', 'H', 'O', 'O', 'O']\n",
      "setting up calculator\n"
     ]
    },
    {
     "name": "stderr",
     "output_type": "stream",
     "text": [
      "92it [00:48,  1.74it/s]"
     ]
    },
    {
     "name": "stdout",
     "output_type": "stream",
     "text": [
      "structure 92 written to DFTB_db \"\n",
      "w is ['C', 'C', 'C', 'H', 'H', 'H', 'H', 'O', 'O', 'O']\n",
      "setting up calculator\n"
     ]
    },
    {
     "name": "stderr",
     "output_type": "stream",
     "text": [
      "93it [00:48,  1.94it/s]"
     ]
    },
    {
     "name": "stdout",
     "output_type": "stream",
     "text": [
      "structure 93 written to DFTB_db \"\n",
      "w is ['C', 'C', 'C', 'H', 'H', 'H', 'H', 'O', 'O', 'O']\n",
      "setting up calculator\n"
     ]
    },
    {
     "name": "stderr",
     "output_type": "stream",
     "text": [
      "94it [00:49,  2.13it/s]"
     ]
    },
    {
     "name": "stdout",
     "output_type": "stream",
     "text": [
      "structure 94 written to DFTB_db \"\n",
      "w is ['C', 'C', 'C', 'H', 'H', 'H', 'H', 'O', 'O', 'O']\n",
      "setting up calculator\n"
     ]
    },
    {
     "name": "stderr",
     "output_type": "stream",
     "text": [
      "95it [00:49,  2.15it/s]"
     ]
    },
    {
     "name": "stdout",
     "output_type": "stream",
     "text": [
      "structure 95 written to DFTB_db \"\n",
      "w is ['C', 'C', 'C', 'H', 'H', 'H', 'H', 'O', 'O', 'O']\n",
      "setting up calculator\n"
     ]
    },
    {
     "name": "stderr",
     "output_type": "stream",
     "text": [
      "96it [00:50,  1.99it/s]"
     ]
    },
    {
     "name": "stdout",
     "output_type": "stream",
     "text": [
      "structure 96 written to DFTB_db \"\n",
      "w is ['C', 'C', 'C', 'H', 'H', 'H', 'H', 'O', 'O', 'O']\n",
      "setting up calculator\n"
     ]
    },
    {
     "name": "stderr",
     "output_type": "stream",
     "text": [
      "97it [00:50,  2.22it/s]"
     ]
    },
    {
     "name": "stdout",
     "output_type": "stream",
     "text": [
      "structure 97 written to DFTB_db \"\n",
      "w is ['C', 'C', 'C', 'H', 'H', 'H', 'H', 'O', 'O', 'O']\n",
      "setting up calculator\n"
     ]
    },
    {
     "name": "stderr",
     "output_type": "stream",
     "text": [
      "98it [00:51,  2.11it/s]"
     ]
    },
    {
     "name": "stdout",
     "output_type": "stream",
     "text": [
      "structure 98 written to DFTB_db \"\n",
      "w is ['C', 'C', 'C', 'H', 'H', 'H', 'H', 'O', 'O', 'O']\n",
      "setting up calculator\n"
     ]
    },
    {
     "name": "stderr",
     "output_type": "stream",
     "text": [
      "99it [00:51,  2.17it/s]"
     ]
    },
    {
     "name": "stdout",
     "output_type": "stream",
     "text": [
      "structure 99 written to DFTB_db \"\n",
      "w is ['C', 'C', 'C', 'H', 'H', 'H', 'H', 'O', 'O', 'O']\n",
      "setting up calculator\n"
     ]
    },
    {
     "name": "stderr",
     "output_type": "stream",
     "text": [
      "100it [00:52,  2.20it/s]"
     ]
    },
    {
     "name": "stdout",
     "output_type": "stream",
     "text": [
      "structure 100 written to DFTB_db \"\n",
      "w is ['C', 'C', 'C', 'H', 'H', 'H', 'H', 'O', 'O', 'O']\n",
      "setting up calculator\n"
     ]
    },
    {
     "name": "stderr",
     "output_type": "stream",
     "text": [
      "101it [00:52,  2.06it/s]"
     ]
    },
    {
     "name": "stdout",
     "output_type": "stream",
     "text": [
      "structure 101 written to DFTB_db \"\n",
      "w is ['C', 'C', 'C', 'H', 'H', 'H', 'H', 'O', 'O', 'O']\n",
      "setting up calculator\n"
     ]
    },
    {
     "name": "stderr",
     "output_type": "stream",
     "text": [
      "102it [00:53,  1.96it/s]"
     ]
    },
    {
     "name": "stdout",
     "output_type": "stream",
     "text": [
      "structure 102 written to DFTB_db \"\n",
      "w is ['C', 'C', 'C', 'H', 'H', 'H', 'H', 'O', 'O', 'O']\n",
      "setting up calculator\n"
     ]
    },
    {
     "name": "stderr",
     "output_type": "stream",
     "text": [
      "103it [00:53,  2.18it/s]"
     ]
    },
    {
     "name": "stdout",
     "output_type": "stream",
     "text": [
      "structure 103 written to DFTB_db \"\n",
      "w is ['C', 'C', 'C', 'H', 'H', 'H', 'H', 'O', 'O', 'O']\n",
      "setting up calculator\n"
     ]
    },
    {
     "name": "stderr",
     "output_type": "stream",
     "text": [
      "104it [00:53,  2.45it/s]"
     ]
    },
    {
     "name": "stdout",
     "output_type": "stream",
     "text": [
      "structure 104 written to DFTB_db \"\n",
      "w is ['C', 'C', 'C', 'H', 'H', 'H', 'H', 'O', 'O', 'O']\n",
      "setting up calculator\n"
     ]
    },
    {
     "name": "stderr",
     "output_type": "stream",
     "text": [
      "105it [00:54,  2.20it/s]"
     ]
    },
    {
     "name": "stdout",
     "output_type": "stream",
     "text": [
      "structure 105 written to DFTB_db \"\n",
      "w is ['C', 'C', 'C', 'H', 'H', 'H', 'H', 'O', 'O', 'O']\n",
      "setting up calculator\n"
     ]
    },
    {
     "name": "stderr",
     "output_type": "stream",
     "text": [
      "106it [00:54,  2.18it/s]"
     ]
    },
    {
     "name": "stdout",
     "output_type": "stream",
     "text": [
      "structure 106 written to DFTB_db \"\n",
      "w is ['C', 'C', 'C', 'H', 'H', 'H', 'H', 'O', 'O', 'O']\n",
      "setting up calculator\n"
     ]
    },
    {
     "name": "stderr",
     "output_type": "stream",
     "text": [
      "107it [00:55,  2.07it/s]"
     ]
    },
    {
     "name": "stdout",
     "output_type": "stream",
     "text": [
      "structure 107 written to DFTB_db \"\n",
      "w is ['C', 'C', 'C', 'H', 'H', 'H', 'H', 'O', 'O', 'O']\n",
      "setting up calculator\n"
     ]
    },
    {
     "name": "stderr",
     "output_type": "stream",
     "text": [
      "108it [00:55,  2.09it/s]"
     ]
    },
    {
     "name": "stdout",
     "output_type": "stream",
     "text": [
      "structure 108 written to DFTB_db \"\n",
      "w is ['C', 'C', 'C', 'H', 'H', 'H', 'H', 'O', 'O', 'O']\n",
      "setting up calculator\n"
     ]
    },
    {
     "name": "stderr",
     "output_type": "stream",
     "text": [
      "109it [00:56,  2.39it/s]"
     ]
    },
    {
     "name": "stdout",
     "output_type": "stream",
     "text": [
      "structure 109 written to DFTB_db \"\n",
      "w is ['C', 'C', 'C', 'H', 'H', 'H', 'H', 'O', 'O', 'O']\n",
      "setting up calculator\n"
     ]
    },
    {
     "name": "stderr",
     "output_type": "stream",
     "text": [
      "110it [00:56,  2.39it/s]"
     ]
    },
    {
     "name": "stdout",
     "output_type": "stream",
     "text": [
      "structure 110 written to DFTB_db \"\n",
      "w is ['C', 'C', 'C', 'H', 'H', 'H', 'H', 'O', 'O', 'O']\n",
      "setting up calculator\n"
     ]
    },
    {
     "name": "stderr",
     "output_type": "stream",
     "text": [
      "111it [00:57,  2.17it/s]"
     ]
    },
    {
     "name": "stdout",
     "output_type": "stream",
     "text": [
      "structure 111 written to DFTB_db \"\n",
      "w is ['C', 'C', 'C', 'H', 'H', 'H', 'H', 'O', 'O', 'O']\n",
      "setting up calculator\n"
     ]
    },
    {
     "name": "stderr",
     "output_type": "stream",
     "text": [
      "112it [00:57,  2.05it/s]"
     ]
    },
    {
     "name": "stdout",
     "output_type": "stream",
     "text": [
      "structure 112 written to DFTB_db \"\n",
      "w is ['C', 'C', 'C', 'H', 'H', 'H', 'H', 'O', 'O', 'O']\n",
      "setting up calculator\n"
     ]
    },
    {
     "name": "stderr",
     "output_type": "stream",
     "text": [
      "113it [00:57,  2.38it/s]"
     ]
    },
    {
     "name": "stdout",
     "output_type": "stream",
     "text": [
      "structure 113 written to DFTB_db \"\n",
      "w is ['C', 'C', 'C', 'H', 'H', 'H', 'H', 'O', 'O', 'O']\n",
      "setting up calculator\n"
     ]
    },
    {
     "name": "stderr",
     "output_type": "stream",
     "text": [
      "114it [00:58,  2.03it/s]"
     ]
    },
    {
     "name": "stdout",
     "output_type": "stream",
     "text": [
      "structure 114 written to DFTB_db \"\n",
      "w is ['C', 'C', 'C', 'H', 'H', 'H', 'H', 'O', 'O', 'O']\n",
      "setting up calculator\n"
     ]
    },
    {
     "name": "stderr",
     "output_type": "stream",
     "text": [
      "115it [00:59,  2.10it/s]"
     ]
    },
    {
     "name": "stdout",
     "output_type": "stream",
     "text": [
      "structure 115 written to DFTB_db \"\n",
      "w is ['C', 'C', 'C', 'H', 'H', 'H', 'H', 'O', 'O', 'O']\n",
      "setting up calculator\n"
     ]
    },
    {
     "name": "stderr",
     "output_type": "stream",
     "text": [
      "116it [00:59,  2.41it/s]"
     ]
    },
    {
     "name": "stdout",
     "output_type": "stream",
     "text": [
      "structure 116 written to DFTB_db \"\n",
      "w is ['C', 'C', 'C', 'H', 'H', 'H', 'H', 'O', 'O', 'O']\n",
      "setting up calculator\n"
     ]
    },
    {
     "name": "stderr",
     "output_type": "stream",
     "text": [
      "117it [00:59,  2.30it/s]"
     ]
    },
    {
     "name": "stdout",
     "output_type": "stream",
     "text": [
      "structure 117 written to DFTB_db \"\n",
      "w is ['C', 'C', 'C', 'H', 'H', 'H', 'H', 'O', 'O', 'O']\n",
      "setting up calculator\n"
     ]
    },
    {
     "name": "stderr",
     "output_type": "stream",
     "text": [
      "118it [01:00,  2.63it/s]"
     ]
    },
    {
     "name": "stdout",
     "output_type": "stream",
     "text": [
      "structure 118 written to DFTB_db \"\n",
      "w is ['C', 'C', 'C', 'H', 'H', 'H', 'H', 'O', 'O', 'O']\n",
      "setting up calculator\n"
     ]
    },
    {
     "name": "stderr",
     "output_type": "stream",
     "text": [
      "119it [01:00,  2.57it/s]"
     ]
    },
    {
     "name": "stdout",
     "output_type": "stream",
     "text": [
      "structure 119 written to DFTB_db \"\n",
      "w is ['C', 'C', 'C', 'H', 'H', 'H', 'H', 'O', 'O', 'O']\n",
      "setting up calculator\n"
     ]
    },
    {
     "name": "stderr",
     "output_type": "stream",
     "text": [
      "120it [01:00,  2.42it/s]"
     ]
    },
    {
     "name": "stdout",
     "output_type": "stream",
     "text": [
      "structure 120 written to DFTB_db \"\n",
      "w is ['C', 'C', 'C', 'H', 'H', 'H', 'H', 'O', 'O', 'O']\n",
      "setting up calculator\n"
     ]
    },
    {
     "name": "stderr",
     "output_type": "stream",
     "text": [
      "121it [01:01,  2.76it/s]"
     ]
    },
    {
     "name": "stdout",
     "output_type": "stream",
     "text": [
      "structure 121 written to DFTB_db \"\n",
      "w is ['C', 'C', 'C', 'H', 'H', 'H', 'H', 'O', 'O', 'O']\n",
      "setting up calculator\n"
     ]
    },
    {
     "name": "stderr",
     "output_type": "stream",
     "text": [
      "122it [01:01,  3.02it/s]"
     ]
    },
    {
     "name": "stdout",
     "output_type": "stream",
     "text": [
      "structure 122 written to DFTB_db \"\n",
      "w is ['C', 'C', 'C', 'H', 'H', 'H', 'H', 'O', 'O', 'O']\n",
      "setting up calculator\n"
     ]
    },
    {
     "name": "stderr",
     "output_type": "stream",
     "text": [
      "123it [01:01,  3.09it/s]"
     ]
    },
    {
     "name": "stdout",
     "output_type": "stream",
     "text": [
      "structure 123 written to DFTB_db \"\n",
      "w is ['C', 'C', 'C', 'H', 'H', 'H', 'H', 'O', 'O', 'O']\n",
      "setting up calculator\n"
     ]
    },
    {
     "name": "stderr",
     "output_type": "stream",
     "text": [
      "124it [01:02,  2.92it/s]"
     ]
    },
    {
     "name": "stdout",
     "output_type": "stream",
     "text": [
      "structure 124 written to DFTB_db \"\n",
      "w is ['C', 'C', 'C', 'H', 'H', 'H', 'H', 'O', 'O', 'O']\n",
      "setting up calculator\n"
     ]
    },
    {
     "name": "stderr",
     "output_type": "stream",
     "text": [
      "125it [01:02,  2.98it/s]"
     ]
    },
    {
     "name": "stdout",
     "output_type": "stream",
     "text": [
      "structure 125 written to DFTB_db \"\n",
      "w is ['C', 'C', 'C', 'H', 'H', 'H', 'H', 'O', 'O', 'O']\n",
      "setting up calculator\n"
     ]
    },
    {
     "name": "stderr",
     "output_type": "stream",
     "text": [
      "126it [01:03,  2.33it/s]"
     ]
    },
    {
     "name": "stdout",
     "output_type": "stream",
     "text": [
      "structure 126 written to DFTB_db \"\n",
      "w is ['C', 'C', 'C', 'H', 'H', 'H', 'H', 'O', 'O', 'O']\n",
      "setting up calculator\n"
     ]
    },
    {
     "name": "stderr",
     "output_type": "stream",
     "text": [
      "127it [01:03,  2.24it/s]"
     ]
    },
    {
     "name": "stdout",
     "output_type": "stream",
     "text": [
      "structure 127 written to DFTB_db \"\n",
      "w is ['C', 'C', 'C', 'H', 'H', 'H', 'H', 'O', 'O', 'O']\n",
      "setting up calculator\n"
     ]
    },
    {
     "name": "stderr",
     "output_type": "stream",
     "text": [
      "128it [01:04,  2.24it/s]"
     ]
    },
    {
     "name": "stdout",
     "output_type": "stream",
     "text": [
      "structure 128 written to DFTB_db \"\n",
      "w is ['C', 'C', 'C', 'H', 'H', 'H', 'H', 'O', 'O', 'O']\n",
      "setting up calculator\n"
     ]
    },
    {
     "name": "stderr",
     "output_type": "stream",
     "text": [
      "129it [01:04,  2.01it/s]"
     ]
    },
    {
     "name": "stdout",
     "output_type": "stream",
     "text": [
      "structure 129 written to DFTB_db \"\n",
      "w is ['C', 'C', 'C', 'H', 'H', 'H', 'H', 'O', 'O', 'O']\n",
      "setting up calculator\n"
     ]
    },
    {
     "name": "stderr",
     "output_type": "stream",
     "text": [
      "130it [01:05,  2.06it/s]"
     ]
    },
    {
     "name": "stdout",
     "output_type": "stream",
     "text": [
      "structure 130 written to DFTB_db \"\n",
      "w is ['C', 'C', 'C', 'H', 'H', 'H', 'H', 'O', 'O', 'O']\n",
      "setting up calculator\n"
     ]
    },
    {
     "name": "stderr",
     "output_type": "stream",
     "text": [
      "131it [01:05,  2.20it/s]"
     ]
    },
    {
     "name": "stdout",
     "output_type": "stream",
     "text": [
      "structure 131 written to DFTB_db \"\n",
      "w is ['C', 'C', 'C', 'H', 'H', 'H', 'H', 'O', 'O', 'O']\n",
      "setting up calculator\n"
     ]
    },
    {
     "name": "stderr",
     "output_type": "stream",
     "text": [
      "132it [01:06,  2.08it/s]"
     ]
    },
    {
     "name": "stdout",
     "output_type": "stream",
     "text": [
      "structure 132 written to DFTB_db \"\n",
      "w is ['C', 'C', 'C', 'H', 'H', 'H', 'H', 'O', 'O', 'O']\n",
      "setting up calculator\n"
     ]
    },
    {
     "name": "stderr",
     "output_type": "stream",
     "text": [
      "133it [01:06,  1.89it/s]"
     ]
    },
    {
     "name": "stdout",
     "output_type": "stream",
     "text": [
      "structure 133 written to DFTB_db \"\n",
      "w is ['C', 'C', 'C', 'H', 'H', 'H', 'H', 'O', 'O', 'O']\n",
      "setting up calculator\n"
     ]
    },
    {
     "name": "stderr",
     "output_type": "stream",
     "text": [
      "134it [01:07,  1.84it/s]"
     ]
    },
    {
     "name": "stdout",
     "output_type": "stream",
     "text": [
      "structure 134 written to DFTB_db \"\n",
      "w is ['C', 'C', 'C', 'H', 'H', 'H', 'H', 'O', 'O', 'O']\n",
      "setting up calculator\n"
     ]
    },
    {
     "name": "stderr",
     "output_type": "stream",
     "text": [
      "135it [01:07,  1.68it/s]"
     ]
    },
    {
     "name": "stdout",
     "output_type": "stream",
     "text": [
      "structure 135 written to DFTB_db \"\n",
      "w is ['C', 'C', 'C', 'H', 'H', 'H', 'H', 'O', 'O', 'O']\n",
      "setting up calculator\n"
     ]
    },
    {
     "name": "stderr",
     "output_type": "stream",
     "text": [
      "136it [01:08,  1.81it/s]"
     ]
    },
    {
     "name": "stdout",
     "output_type": "stream",
     "text": [
      "structure 136 written to DFTB_db \"\n",
      "w is ['C', 'C', 'C', 'H', 'H', 'H', 'H', 'O', 'O', 'O']\n",
      "setting up calculator\n"
     ]
    },
    {
     "name": "stderr",
     "output_type": "stream",
     "text": [
      "137it [01:08,  1.88it/s]"
     ]
    },
    {
     "name": "stdout",
     "output_type": "stream",
     "text": [
      "structure 137 written to DFTB_db \"\n",
      "w is ['C', 'C', 'C', 'H', 'H', 'H', 'H', 'O', 'O', 'O']\n",
      "setting up calculator\n"
     ]
    },
    {
     "name": "stderr",
     "output_type": "stream",
     "text": [
      "138it [01:09,  1.76it/s]"
     ]
    },
    {
     "name": "stdout",
     "output_type": "stream",
     "text": [
      "structure 138 written to DFTB_db \"\n",
      "w is ['C', 'C', 'C', 'H', 'H', 'H', 'H', 'O', 'O', 'O']\n",
      "setting up calculator\n"
     ]
    },
    {
     "name": "stderr",
     "output_type": "stream",
     "text": [
      "139it [01:09,  2.01it/s]"
     ]
    },
    {
     "name": "stdout",
     "output_type": "stream",
     "text": [
      "structure 139 written to DFTB_db \"\n",
      "w is ['C', 'C', 'C', 'H', 'H', 'H', 'H', 'O', 'O', 'O']\n",
      "setting up calculator\n"
     ]
    },
    {
     "name": "stderr",
     "output_type": "stream",
     "text": [
      "140it [01:10,  2.30it/s]"
     ]
    },
    {
     "name": "stdout",
     "output_type": "stream",
     "text": [
      "structure 140 written to DFTB_db \"\n",
      "w is ['C', 'C', 'C', 'H', 'H', 'H', 'H', 'O', 'O', 'O']\n",
      "setting up calculator\n"
     ]
    },
    {
     "name": "stderr",
     "output_type": "stream",
     "text": [
      "141it [01:10,  2.52it/s]"
     ]
    },
    {
     "name": "stdout",
     "output_type": "stream",
     "text": [
      "structure 141 written to DFTB_db \"\n",
      "w is ['C', 'C', 'C', 'H', 'H', 'H', 'H', 'O', 'O', 'O']\n",
      "setting up calculator\n"
     ]
    },
    {
     "name": "stderr",
     "output_type": "stream",
     "text": [
      "142it [01:10,  2.56it/s]"
     ]
    },
    {
     "name": "stdout",
     "output_type": "stream",
     "text": [
      "structure 142 written to DFTB_db \"\n",
      "w is ['C', 'C', 'C', 'H', 'H', 'H', 'H', 'O', 'O', 'O']\n",
      "setting up calculator\n"
     ]
    },
    {
     "name": "stderr",
     "output_type": "stream",
     "text": [
      "143it [01:11,  1.68it/s]"
     ]
    },
    {
     "name": "stdout",
     "output_type": "stream",
     "text": [
      "structure 143 written to DFTB_db \"\n",
      "w is ['C', 'C', 'C', 'H', 'H', 'H', 'H', 'O', 'O', 'O']\n",
      "setting up calculator\n"
     ]
    },
    {
     "name": "stderr",
     "output_type": "stream",
     "text": [
      "144it [01:12,  1.65it/s]"
     ]
    },
    {
     "name": "stdout",
     "output_type": "stream",
     "text": [
      "structure 144 written to DFTB_db \"\n",
      "w is ['C', 'C', 'C', 'H', 'H', 'H', 'H', 'O', 'O', 'O']\n",
      "setting up calculator\n"
     ]
    },
    {
     "name": "stderr",
     "output_type": "stream",
     "text": [
      "145it [01:12,  1.85it/s]"
     ]
    },
    {
     "name": "stdout",
     "output_type": "stream",
     "text": [
      "structure 145 written to DFTB_db \"\n",
      "w is ['C', 'C', 'C', 'H', 'H', 'H', 'H', 'O', 'O', 'O']\n",
      "setting up calculator\n"
     ]
    },
    {
     "name": "stderr",
     "output_type": "stream",
     "text": [
      "146it [01:13,  1.86it/s]"
     ]
    },
    {
     "name": "stdout",
     "output_type": "stream",
     "text": [
      "structure 146 written to DFTB_db \"\n",
      "w is ['C', 'C', 'C', 'H', 'H', 'H', 'H', 'O', 'O', 'O']\n",
      "setting up calculator\n"
     ]
    },
    {
     "name": "stderr",
     "output_type": "stream",
     "text": [
      "147it [01:13,  1.90it/s]"
     ]
    },
    {
     "name": "stdout",
     "output_type": "stream",
     "text": [
      "structure 147 written to DFTB_db \"\n",
      "w is ['C', 'C', 'C', 'H', 'H', 'H', 'H', 'O', 'O', 'O']\n",
      "setting up calculator\n"
     ]
    },
    {
     "name": "stderr",
     "output_type": "stream",
     "text": [
      "148it [01:14,  2.09it/s]"
     ]
    },
    {
     "name": "stdout",
     "output_type": "stream",
     "text": [
      "structure 148 written to DFTB_db \"\n",
      "w is ['C', 'C', 'C', 'H', 'H', 'H', 'H', 'O', 'O', 'O']\n",
      "setting up calculator\n"
     ]
    },
    {
     "name": "stderr",
     "output_type": "stream",
     "text": [
      "149it [01:14,  1.95it/s]"
     ]
    },
    {
     "name": "stdout",
     "output_type": "stream",
     "text": [
      "structure 149 written to DFTB_db \"\n",
      "w is ['C', 'C', 'C', 'H', 'H', 'H', 'H', 'O', 'O', 'O']\n",
      "setting up calculator\n"
     ]
    },
    {
     "name": "stderr",
     "output_type": "stream",
     "text": [
      "150it [01:15,  2.10it/s]"
     ]
    },
    {
     "name": "stdout",
     "output_type": "stream",
     "text": [
      "structure 150 written to DFTB_db \"\n",
      "w is ['C', 'C', 'C', 'H', 'H', 'H', 'H', 'O', 'O', 'O']\n",
      "setting up calculator\n"
     ]
    },
    {
     "name": "stderr",
     "output_type": "stream",
     "text": [
      "151it [01:15,  2.11it/s]"
     ]
    },
    {
     "name": "stdout",
     "output_type": "stream",
     "text": [
      "structure 151 written to DFTB_db \"\n",
      "w is ['C', 'C', 'C', 'H', 'H', 'H', 'H', 'O', 'O', 'O']\n",
      "setting up calculator\n"
     ]
    },
    {
     "name": "stderr",
     "output_type": "stream",
     "text": [
      "152it [01:16,  2.29it/s]"
     ]
    },
    {
     "name": "stdout",
     "output_type": "stream",
     "text": [
      "structure 152 written to DFTB_db \"\n",
      "w is ['C', 'C', 'C', 'H', 'H', 'H', 'H', 'O', 'O', 'O']\n",
      "setting up calculator\n"
     ]
    },
    {
     "name": "stderr",
     "output_type": "stream",
     "text": [
      "153it [01:16,  2.58it/s]"
     ]
    },
    {
     "name": "stdout",
     "output_type": "stream",
     "text": [
      "structure 153 written to DFTB_db \"\n",
      "w is ['C', 'C', 'C', 'H', 'H', 'H', 'H', 'O', 'O', 'O']\n",
      "setting up calculator\n"
     ]
    },
    {
     "name": "stderr",
     "output_type": "stream",
     "text": [
      "154it [01:17,  1.87it/s]"
     ]
    },
    {
     "name": "stdout",
     "output_type": "stream",
     "text": [
      "structure 154 written to DFTB_db \"\n",
      "w is ['C', 'C', 'C', 'H', 'H', 'H', 'H', 'O', 'O', 'O']\n",
      "setting up calculator\n"
     ]
    },
    {
     "name": "stderr",
     "output_type": "stream",
     "text": [
      "155it [01:17,  1.99it/s]"
     ]
    },
    {
     "name": "stdout",
     "output_type": "stream",
     "text": [
      "structure 155 written to DFTB_db \"\n",
      "w is ['C', 'C', 'C', 'H', 'H', 'H', 'H', 'O', 'O', 'O']\n",
      "setting up calculator\n"
     ]
    },
    {
     "name": "stderr",
     "output_type": "stream",
     "text": [
      "156it [01:18,  1.84it/s]"
     ]
    },
    {
     "name": "stdout",
     "output_type": "stream",
     "text": [
      "structure 156 written to DFTB_db \"\n",
      "w is ['C', 'C', 'C', 'H', 'H', 'H', 'H', 'O', 'O', 'O']\n",
      "setting up calculator\n"
     ]
    },
    {
     "name": "stderr",
     "output_type": "stream",
     "text": [
      "157it [01:18,  1.97it/s]"
     ]
    },
    {
     "name": "stdout",
     "output_type": "stream",
     "text": [
      "structure 157 written to DFTB_db \"\n",
      "w is ['C', 'C', 'C', 'H', 'H', 'H', 'H', 'O', 'O', 'O']\n",
      "setting up calculator\n"
     ]
    },
    {
     "name": "stderr",
     "output_type": "stream",
     "text": [
      "158it [01:19,  2.13it/s]"
     ]
    },
    {
     "name": "stdout",
     "output_type": "stream",
     "text": [
      "structure 158 written to DFTB_db \"\n",
      "w is ['C', 'C', 'C', 'H', 'H', 'H', 'H', 'O', 'O', 'O']\n",
      "setting up calculator\n"
     ]
    },
    {
     "name": "stderr",
     "output_type": "stream",
     "text": [
      "159it [01:19,  2.01it/s]"
     ]
    },
    {
     "name": "stdout",
     "output_type": "stream",
     "text": [
      "structure 159 written to DFTB_db \"\n",
      "w is ['C', 'C', 'C', 'H', 'H', 'H', 'H', 'O', 'O', 'O']\n",
      "setting up calculator\n"
     ]
    },
    {
     "name": "stderr",
     "output_type": "stream",
     "text": [
      "160it [01:20,  2.14it/s]"
     ]
    },
    {
     "name": "stdout",
     "output_type": "stream",
     "text": [
      "structure 160 written to DFTB_db \"\n",
      "w is ['C', 'C', 'C', 'H', 'H', 'H', 'H', 'O', 'O', 'O']\n",
      "setting up calculator\n"
     ]
    },
    {
     "name": "stderr",
     "output_type": "stream",
     "text": [
      "161it [01:20,  1.87it/s]"
     ]
    },
    {
     "name": "stdout",
     "output_type": "stream",
     "text": [
      "structure 161 written to DFTB_db \"\n",
      "w is ['C', 'C', 'C', 'H', 'H', 'H', 'H', 'O', 'O', 'O']\n",
      "setting up calculator\n"
     ]
    },
    {
     "name": "stderr",
     "output_type": "stream",
     "text": [
      "162it [01:21,  1.74it/s]"
     ]
    },
    {
     "name": "stdout",
     "output_type": "stream",
     "text": [
      "structure 162 written to DFTB_db \"\n",
      "w is ['C', 'C', 'C', 'H', 'H', 'H', 'H', 'O', 'O', 'O']\n",
      "setting up calculator\n"
     ]
    },
    {
     "name": "stderr",
     "output_type": "stream",
     "text": [
      "163it [01:22,  1.70it/s]"
     ]
    },
    {
     "name": "stdout",
     "output_type": "stream",
     "text": [
      "structure 163 written to DFTB_db \"\n",
      "w is ['C', 'C', 'C', 'H', 'H', 'H', 'H', 'O', 'O', 'O']\n",
      "setting up calculator\n"
     ]
    },
    {
     "name": "stderr",
     "output_type": "stream",
     "text": [
      "164it [01:22,  1.72it/s]"
     ]
    },
    {
     "name": "stdout",
     "output_type": "stream",
     "text": [
      "structure 164 written to DFTB_db \"\n",
      "w is ['C', 'C', 'C', 'H', 'H', 'H', 'H', 'O', 'O', 'O']\n",
      "setting up calculator\n"
     ]
    },
    {
     "name": "stderr",
     "output_type": "stream",
     "text": [
      "165it [01:23,  1.79it/s]"
     ]
    },
    {
     "name": "stdout",
     "output_type": "stream",
     "text": [
      "structure 165 written to DFTB_db \"\n",
      "w is ['C', 'C', 'C', 'H', 'H', 'H', 'H', 'O', 'O', 'O']\n",
      "setting up calculator\n"
     ]
    },
    {
     "name": "stderr",
     "output_type": "stream",
     "text": [
      "166it [01:23,  2.06it/s]"
     ]
    },
    {
     "name": "stdout",
     "output_type": "stream",
     "text": [
      "structure 166 written to DFTB_db \"\n",
      "w is ['C', 'C', 'C', 'H', 'H', 'H', 'H', 'O', 'O', 'O']\n",
      "setting up calculator\n"
     ]
    },
    {
     "name": "stderr",
     "output_type": "stream",
     "text": [
      "167it [01:24,  1.94it/s]"
     ]
    },
    {
     "name": "stdout",
     "output_type": "stream",
     "text": [
      "structure 167 written to DFTB_db \"\n",
      "w is ['C', 'C', 'C', 'H', 'H', 'H', 'H', 'O', 'O', 'O']\n",
      "setting up calculator\n"
     ]
    },
    {
     "name": "stderr",
     "output_type": "stream",
     "text": [
      "168it [01:24,  1.84it/s]"
     ]
    },
    {
     "name": "stdout",
     "output_type": "stream",
     "text": [
      "structure 168 written to DFTB_db \"\n",
      "w is ['C', 'C', 'C', 'H', 'H', 'H', 'H', 'O', 'O', 'O']\n",
      "setting up calculator\n"
     ]
    },
    {
     "name": "stderr",
     "output_type": "stream",
     "text": [
      "169it [01:25,  1.84it/s]"
     ]
    },
    {
     "name": "stdout",
     "output_type": "stream",
     "text": [
      "structure 169 written to DFTB_db \"\n",
      "w is ['C', 'C', 'C', 'H', 'H', 'H', 'H', 'O', 'O', 'O']\n",
      "setting up calculator\n"
     ]
    },
    {
     "name": "stderr",
     "output_type": "stream",
     "text": [
      "170it [01:25,  1.80it/s]"
     ]
    },
    {
     "name": "stdout",
     "output_type": "stream",
     "text": [
      "structure 170 written to DFTB_db \"\n",
      "w is ['C', 'C', 'C', 'H', 'H', 'H', 'H', 'O', 'O', 'O']\n",
      "setting up calculator\n"
     ]
    },
    {
     "name": "stderr",
     "output_type": "stream",
     "text": [
      "171it [01:26,  2.03it/s]"
     ]
    },
    {
     "name": "stdout",
     "output_type": "stream",
     "text": [
      "structure 171 written to DFTB_db \"\n",
      "w is ['C', 'C', 'C', 'H', 'H', 'H', 'H', 'O', 'O', 'O']\n",
      "setting up calculator\n"
     ]
    },
    {
     "name": "stderr",
     "output_type": "stream",
     "text": [
      "172it [01:26,  2.10it/s]"
     ]
    },
    {
     "name": "stdout",
     "output_type": "stream",
     "text": [
      "structure 172 written to DFTB_db \"\n",
      "w is ['C', 'C', 'C', 'H', 'H', 'H', 'H', 'O', 'O', 'O']\n",
      "setting up calculator\n"
     ]
    },
    {
     "name": "stderr",
     "output_type": "stream",
     "text": [
      "173it [01:27,  2.18it/s]"
     ]
    },
    {
     "name": "stdout",
     "output_type": "stream",
     "text": [
      "structure 173 written to DFTB_db \"\n",
      "w is ['C', 'C', 'C', 'H', 'H', 'H', 'H', 'O', 'O', 'O']\n",
      "setting up calculator\n"
     ]
    },
    {
     "name": "stderr",
     "output_type": "stream",
     "text": [
      "174it [01:27,  2.11it/s]"
     ]
    },
    {
     "name": "stdout",
     "output_type": "stream",
     "text": [
      "structure 174 written to DFTB_db \"\n",
      "w is ['C', 'C', 'C', 'H', 'H', 'H', 'H', 'O', 'O', 'O']\n",
      "setting up calculator\n"
     ]
    },
    {
     "name": "stderr",
     "output_type": "stream",
     "text": [
      "175it [01:27,  2.14it/s]"
     ]
    },
    {
     "name": "stdout",
     "output_type": "stream",
     "text": [
      "structure 175 written to DFTB_db \"\n",
      "w is ['C', 'C', 'C', 'H', 'H', 'H', 'H', 'O', 'O', 'O']\n",
      "setting up calculator\n"
     ]
    },
    {
     "name": "stderr",
     "output_type": "stream",
     "text": [
      "176it [01:28,  2.46it/s]"
     ]
    },
    {
     "name": "stdout",
     "output_type": "stream",
     "text": [
      "structure 176 written to DFTB_db \"\n",
      "w is ['C', 'C', 'C', 'H', 'H', 'H', 'H', 'O', 'O', 'O']\n",
      "setting up calculator\n"
     ]
    },
    {
     "name": "stderr",
     "output_type": "stream",
     "text": [
      "177it [01:28,  2.61it/s]"
     ]
    },
    {
     "name": "stdout",
     "output_type": "stream",
     "text": [
      "structure 177 written to DFTB_db \"\n",
      "w is ['C', 'C', 'C', 'H', 'H', 'H', 'H', 'O', 'O', 'O']\n",
      "setting up calculator\n"
     ]
    },
    {
     "name": "stderr",
     "output_type": "stream",
     "text": [
      "178it [01:29,  2.41it/s]"
     ]
    },
    {
     "name": "stdout",
     "output_type": "stream",
     "text": [
      "structure 178 written to DFTB_db \"\n",
      "w is ['C', 'C', 'C', 'H', 'H', 'H', 'H', 'O', 'O', 'O']\n",
      "setting up calculator\n"
     ]
    },
    {
     "name": "stderr",
     "output_type": "stream",
     "text": [
      "179it [01:29,  2.72it/s]"
     ]
    },
    {
     "name": "stdout",
     "output_type": "stream",
     "text": [
      "structure 179 written to DFTB_db \"\n",
      "w is ['C', 'C', 'C', 'H', 'H', 'H', 'H', 'O', 'O', 'O']\n",
      "setting up calculator\n"
     ]
    },
    {
     "name": "stderr",
     "output_type": "stream",
     "text": [
      "180it [01:29,  2.95it/s]"
     ]
    },
    {
     "name": "stdout",
     "output_type": "stream",
     "text": [
      "structure 180 written to DFTB_db \"\n",
      "w is ['C', 'C', 'C', 'H', 'H', 'H', 'H', 'O', 'O', 'O']\n",
      "setting up calculator\n"
     ]
    },
    {
     "name": "stderr",
     "output_type": "stream",
     "text": [
      "181it [01:29,  2.90it/s]"
     ]
    },
    {
     "name": "stdout",
     "output_type": "stream",
     "text": [
      "structure 181 written to DFTB_db \"\n",
      "w is ['C', 'C', 'C', 'H', 'H', 'H', 'H', 'O', 'O', 'O']\n",
      "setting up calculator\n"
     ]
    },
    {
     "name": "stderr",
     "output_type": "stream",
     "text": [
      "182it [01:30,  2.49it/s]"
     ]
    },
    {
     "name": "stdout",
     "output_type": "stream",
     "text": [
      "structure 182 written to DFTB_db \"\n",
      "w is ['C', 'C', 'C', 'H', 'H', 'H', 'H', 'O', 'O', 'O']\n",
      "setting up calculator\n"
     ]
    },
    {
     "name": "stderr",
     "output_type": "stream",
     "text": [
      "183it [01:31,  2.06it/s]"
     ]
    },
    {
     "name": "stdout",
     "output_type": "stream",
     "text": [
      "structure 183 written to DFTB_db \"\n",
      "w is ['C', 'C', 'C', 'H', 'H', 'H', 'H', 'O', 'O', 'O']\n",
      "setting up calculator\n"
     ]
    },
    {
     "name": "stderr",
     "output_type": "stream",
     "text": [
      "184it [01:31,  1.78it/s]"
     ]
    },
    {
     "name": "stdout",
     "output_type": "stream",
     "text": [
      "structure 184 written to DFTB_db \"\n",
      "w is ['C', 'C', 'C', 'H', 'H', 'H', 'H', 'O', 'O', 'O']\n",
      "setting up calculator\n"
     ]
    },
    {
     "name": "stderr",
     "output_type": "stream",
     "text": [
      "185it [01:32,  2.11it/s]"
     ]
    },
    {
     "name": "stdout",
     "output_type": "stream",
     "text": [
      "structure 185 written to DFTB_db \"\n",
      "w is ['C', 'C', 'C', 'H', 'H', 'H', 'H', 'O', 'O', 'O']\n",
      "setting up calculator\n"
     ]
    },
    {
     "name": "stderr",
     "output_type": "stream",
     "text": [
      "186it [01:32,  2.26it/s]"
     ]
    },
    {
     "name": "stdout",
     "output_type": "stream",
     "text": [
      "structure 186 written to DFTB_db \"\n",
      "w is ['C', 'C', 'C', 'H', 'H', 'H', 'H', 'O', 'O', 'O']\n",
      "setting up calculator\n"
     ]
    },
    {
     "name": "stderr",
     "output_type": "stream",
     "text": [
      "187it [01:32,  2.54it/s]"
     ]
    },
    {
     "name": "stdout",
     "output_type": "stream",
     "text": [
      "structure 187 written to DFTB_db \"\n",
      "w is ['C', 'C', 'C', 'H', 'H', 'H', 'H', 'O', 'O', 'O']\n",
      "setting up calculator\n"
     ]
    },
    {
     "name": "stderr",
     "output_type": "stream",
     "text": [
      "188it [01:33,  2.16it/s]"
     ]
    },
    {
     "name": "stdout",
     "output_type": "stream",
     "text": [
      "structure 188 written to DFTB_db \"\n",
      "w is ['C', 'C', 'C', 'H', 'H', 'H', 'H', 'O', 'O', 'O']\n",
      "setting up calculator\n"
     ]
    },
    {
     "name": "stderr",
     "output_type": "stream",
     "text": [
      "189it [01:33,  2.15it/s]"
     ]
    },
    {
     "name": "stdout",
     "output_type": "stream",
     "text": [
      "structure 189 written to DFTB_db \"\n",
      "w is ['C', 'C', 'C', 'H', 'H', 'H', 'H', 'O', 'O', 'O']\n",
      "setting up calculator\n"
     ]
    },
    {
     "name": "stderr",
     "output_type": "stream",
     "text": [
      "190it [01:34,  2.03it/s]"
     ]
    },
    {
     "name": "stdout",
     "output_type": "stream",
     "text": [
      "structure 190 written to DFTB_db \"\n",
      "w is ['C', 'C', 'C', 'H', 'H', 'H', 'H', 'O', 'O', 'O']\n",
      "setting up calculator\n"
     ]
    },
    {
     "name": "stderr",
     "output_type": "stream",
     "text": [
      "191it [01:34,  2.24it/s]"
     ]
    },
    {
     "name": "stdout",
     "output_type": "stream",
     "text": [
      "structure 191 written to DFTB_db \"\n",
      "w is ['C', 'C', 'C', 'H', 'H', 'H', 'H', 'O', 'O', 'O']\n",
      "setting up calculator\n"
     ]
    },
    {
     "name": "stderr",
     "output_type": "stream",
     "text": [
      "192it [01:35,  2.13it/s]"
     ]
    },
    {
     "name": "stdout",
     "output_type": "stream",
     "text": [
      "structure 192 written to DFTB_db \"\n",
      "w is ['C', 'C', 'C', 'H', 'H', 'H', 'H', 'O', 'O', 'O']\n",
      "setting up calculator\n"
     ]
    },
    {
     "name": "stderr",
     "output_type": "stream",
     "text": [
      "193it [01:35,  2.47it/s]"
     ]
    },
    {
     "name": "stdout",
     "output_type": "stream",
     "text": [
      "structure 193 written to DFTB_db \"\n",
      "w is ['C', 'C', 'C', 'H', 'H', 'H', 'H', 'O', 'O', 'O']\n",
      "setting up calculator\n"
     ]
    },
    {
     "name": "stderr",
     "output_type": "stream",
     "text": [
      "194it [01:35,  2.79it/s]"
     ]
    },
    {
     "name": "stdout",
     "output_type": "stream",
     "text": [
      "structure 194 written to DFTB_db \"\n",
      "w is ['C', 'C', 'C', 'H', 'H', 'H', 'H', 'O', 'O', 'O']\n",
      "setting up calculator\n"
     ]
    },
    {
     "name": "stderr",
     "output_type": "stream",
     "text": [
      "195it [01:36,  3.07it/s]"
     ]
    },
    {
     "name": "stdout",
     "output_type": "stream",
     "text": [
      "structure 195 written to DFTB_db \"\n",
      "w is ['C', 'C', 'C', 'H', 'H', 'H', 'H', 'O', 'O', 'O']\n",
      "setting up calculator\n"
     ]
    },
    {
     "name": "stderr",
     "output_type": "stream",
     "text": [
      "196it [01:36,  2.38it/s]"
     ]
    },
    {
     "name": "stdout",
     "output_type": "stream",
     "text": [
      "structure 196 written to DFTB_db \"\n",
      "w is ['C', 'C', 'C', 'H', 'H', 'H', 'H', 'O', 'O', 'O']\n",
      "setting up calculator\n"
     ]
    },
    {
     "name": "stderr",
     "output_type": "stream",
     "text": [
      "197it [01:37,  2.20it/s]"
     ]
    },
    {
     "name": "stdout",
     "output_type": "stream",
     "text": [
      "structure 197 written to DFTB_db \"\n",
      "w is ['C', 'C', 'C', 'H', 'H', 'H', 'H', 'O', 'O', 'O']\n",
      "setting up calculator\n"
     ]
    },
    {
     "name": "stderr",
     "output_type": "stream",
     "text": [
      "198it [01:37,  2.53it/s]"
     ]
    },
    {
     "name": "stdout",
     "output_type": "stream",
     "text": [
      "structure 198 written to DFTB_db \"\n",
      "w is ['C', 'C', 'C', 'H', 'H', 'H', 'H', 'O', 'O', 'O']\n",
      "setting up calculator\n"
     ]
    },
    {
     "name": "stderr",
     "output_type": "stream",
     "text": [
      "199it [01:37,  2.83it/s]"
     ]
    },
    {
     "name": "stdout",
     "output_type": "stream",
     "text": [
      "structure 199 written to DFTB_db \"\n",
      "w is ['C', 'C', 'C', 'H', 'H', 'H', 'H', 'O', 'O', 'O']\n",
      "setting up calculator\n"
     ]
    },
    {
     "name": "stderr",
     "output_type": "stream",
     "text": [
      "200it [01:38,  3.09it/s]"
     ]
    },
    {
     "name": "stdout",
     "output_type": "stream",
     "text": [
      "structure 200 written to DFTB_db \"\n",
      "w is ['C', 'C', 'C', 'H', 'H', 'H', 'H', 'O', 'O', 'O']\n",
      "setting up calculator\n"
     ]
    },
    {
     "name": "stderr",
     "output_type": "stream",
     "text": [
      "201it [01:38,  3.37it/s]"
     ]
    },
    {
     "name": "stdout",
     "output_type": "stream",
     "text": [
      "structure 201 written to DFTB_db \"\n",
      "w is ['C', 'C', 'C', 'H', 'H', 'H', 'H', 'O', 'O', 'O']\n",
      "setting up calculator\n"
     ]
    },
    {
     "name": "stderr",
     "output_type": "stream",
     "text": [
      "202it [01:38,  3.56it/s]"
     ]
    },
    {
     "name": "stdout",
     "output_type": "stream",
     "text": [
      "structure 202 written to DFTB_db \"\n",
      "w is ['C', 'C', 'C', 'H', 'H', 'H', 'H', 'O', 'O', 'O']\n",
      "setting up calculator\n"
     ]
    },
    {
     "name": "stderr",
     "output_type": "stream",
     "text": [
      "203it [01:38,  3.61it/s]"
     ]
    },
    {
     "name": "stdout",
     "output_type": "stream",
     "text": [
      "structure 203 written to DFTB_db \"\n",
      "w is ['C', 'C', 'C', 'H', 'H', 'H', 'H', 'O', 'O', 'O']\n",
      "setting up calculator\n"
     ]
    },
    {
     "name": "stderr",
     "output_type": "stream",
     "text": [
      "204it [01:39,  3.52it/s]"
     ]
    },
    {
     "name": "stdout",
     "output_type": "stream",
     "text": [
      "structure 204 written to DFTB_db \"\n",
      "w is ['C', 'C', 'C', 'H', 'H', 'H', 'H', 'O', 'O', 'O']\n",
      "setting up calculator\n"
     ]
    },
    {
     "name": "stderr",
     "output_type": "stream",
     "text": [
      "205it [01:39,  3.08it/s]"
     ]
    },
    {
     "name": "stdout",
     "output_type": "stream",
     "text": [
      "structure 205 written to DFTB_db \"\n",
      "w is ['C', 'C', 'C', 'H', 'H', 'H', 'H', 'O', 'O', 'O']\n",
      "setting up calculator\n"
     ]
    },
    {
     "name": "stderr",
     "output_type": "stream",
     "text": [
      "206it [01:39,  3.09it/s]"
     ]
    },
    {
     "name": "stdout",
     "output_type": "stream",
     "text": [
      "structure 206 written to DFTB_db \"\n",
      "w is ['C', 'C', 'C', 'H', 'H', 'H', 'H', 'O', 'O', 'O']\n",
      "setting up calculator\n"
     ]
    },
    {
     "name": "stderr",
     "output_type": "stream",
     "text": [
      "207it [01:40,  2.45it/s]"
     ]
    },
    {
     "name": "stdout",
     "output_type": "stream",
     "text": [
      "structure 207 written to DFTB_db \"\n",
      "w is ['C', 'C', 'C', 'H', 'H', 'H', 'H', 'O', 'O', 'O']\n",
      "setting up calculator\n"
     ]
    },
    {
     "name": "stderr",
     "output_type": "stream",
     "text": [
      "208it [01:41,  2.04it/s]"
     ]
    },
    {
     "name": "stdout",
     "output_type": "stream",
     "text": [
      "structure 208 written to DFTB_db \"\n",
      "w is ['C', 'C', 'C', 'H', 'H', 'H', 'H', 'O', 'O', 'O']\n",
      "setting up calculator\n"
     ]
    },
    {
     "name": "stderr",
     "output_type": "stream",
     "text": [
      "209it [01:41,  2.10it/s]"
     ]
    },
    {
     "name": "stdout",
     "output_type": "stream",
     "text": [
      "structure 209 written to DFTB_db \"\n",
      "w is ['C', 'C', 'C', 'H', 'H', 'H', 'H', 'O', 'O', 'O']\n",
      "setting up calculator\n"
     ]
    },
    {
     "name": "stderr",
     "output_type": "stream",
     "text": [
      "210it [01:42,  2.09it/s]"
     ]
    },
    {
     "name": "stdout",
     "output_type": "stream",
     "text": [
      "structure 210 written to DFTB_db \"\n",
      "w is ['C', 'C', 'C', 'H', 'H', 'H', 'H', 'O', 'O', 'O']\n",
      "setting up calculator\n"
     ]
    },
    {
     "name": "stderr",
     "output_type": "stream",
     "text": [
      "211it [01:42,  1.92it/s]"
     ]
    },
    {
     "name": "stdout",
     "output_type": "stream",
     "text": [
      "structure 211 written to DFTB_db \"\n",
      "w is ['C', 'C', 'C', 'H', 'H', 'H', 'H', 'O', 'O', 'O']\n",
      "setting up calculator\n"
     ]
    },
    {
     "name": "stderr",
     "output_type": "stream",
     "text": [
      "212it [01:43,  2.11it/s]"
     ]
    },
    {
     "name": "stdout",
     "output_type": "stream",
     "text": [
      "structure 212 written to DFTB_db \"\n",
      "w is ['C', 'C', 'C', 'H', 'H', 'H', 'H', 'O', 'O', 'O']\n",
      "setting up calculator\n"
     ]
    },
    {
     "name": "stderr",
     "output_type": "stream",
     "text": [
      "213it [01:43,  2.43it/s]"
     ]
    },
    {
     "name": "stdout",
     "output_type": "stream",
     "text": [
      "structure 213 written to DFTB_db \"\n",
      "w is ['C', 'C', 'C', 'H', 'H', 'H', 'H', 'O', 'O', 'O']\n",
      "setting up calculator\n"
     ]
    },
    {
     "name": "stderr",
     "output_type": "stream",
     "text": [
      "214it [01:43,  2.20it/s]"
     ]
    },
    {
     "name": "stdout",
     "output_type": "stream",
     "text": [
      "structure 214 written to DFTB_db \"\n",
      "w is ['C', 'C', 'C', 'H', 'H', 'H', 'H', 'O', 'O', 'O']\n",
      "setting up calculator\n"
     ]
    },
    {
     "name": "stderr",
     "output_type": "stream",
     "text": [
      "215it [01:44,  2.19it/s]"
     ]
    },
    {
     "name": "stdout",
     "output_type": "stream",
     "text": [
      "structure 215 written to DFTB_db \"\n",
      "w is ['C', 'C', 'C', 'H', 'H', 'H', 'H', 'O', 'O', 'O']\n",
      "setting up calculator\n"
     ]
    },
    {
     "name": "stderr",
     "output_type": "stream",
     "text": [
      "216it [01:44,  2.17it/s]"
     ]
    },
    {
     "name": "stdout",
     "output_type": "stream",
     "text": [
      "structure 216 written to DFTB_db \"\n",
      "w is ['C', 'C', 'C', 'H', 'H', 'H', 'H', 'O', 'O', 'O']\n",
      "setting up calculator\n"
     ]
    },
    {
     "name": "stderr",
     "output_type": "stream",
     "text": [
      "217it [01:45,  2.20it/s]"
     ]
    },
    {
     "name": "stdout",
     "output_type": "stream",
     "text": [
      "structure 217 written to DFTB_db \"\n",
      "w is ['C', 'C', 'C', 'H', 'H', 'H', 'H', 'O', 'O', 'O']\n",
      "setting up calculator\n"
     ]
    },
    {
     "name": "stderr",
     "output_type": "stream",
     "text": [
      "218it [01:45,  1.96it/s]"
     ]
    },
    {
     "name": "stdout",
     "output_type": "stream",
     "text": [
      "structure 218 written to DFTB_db \"\n",
      "w is ['C', 'C', 'C', 'H', 'H', 'H', 'H', 'O', 'O', 'O']\n",
      "setting up calculator\n"
     ]
    },
    {
     "name": "stderr",
     "output_type": "stream",
     "text": [
      "219it [01:46,  1.93it/s]"
     ]
    },
    {
     "name": "stdout",
     "output_type": "stream",
     "text": [
      "structure 219 written to DFTB_db \"\n",
      "w is ['C', 'C', 'C', 'H', 'H', 'H', 'H', 'O', 'O', 'O']\n",
      "setting up calculator\n"
     ]
    },
    {
     "name": "stderr",
     "output_type": "stream",
     "text": [
      "220it [01:46,  2.03it/s]"
     ]
    },
    {
     "name": "stdout",
     "output_type": "stream",
     "text": [
      "structure 220 written to DFTB_db \"\n",
      "w is ['C', 'C', 'C', 'H', 'H', 'H', 'H', 'O', 'O', 'O']\n",
      "setting up calculator\n"
     ]
    },
    {
     "name": "stderr",
     "output_type": "stream",
     "text": [
      "221it [01:47,  1.76it/s]"
     ]
    },
    {
     "name": "stdout",
     "output_type": "stream",
     "text": [
      "structure 221 written to DFTB_db \"\n",
      "w is ['C', 'C', 'C', 'H', 'H', 'H', 'H', 'O', 'O', 'O']\n",
      "setting up calculator\n"
     ]
    },
    {
     "name": "stderr",
     "output_type": "stream",
     "text": [
      "222it [01:47,  2.06it/s]"
     ]
    },
    {
     "name": "stdout",
     "output_type": "stream",
     "text": [
      "structure 222 written to DFTB_db \"\n",
      "w is ['C', 'C', 'C', 'H', 'H', 'H', 'H', 'O', 'O', 'O']\n",
      "setting up calculator\n"
     ]
    },
    {
     "name": "stderr",
     "output_type": "stream",
     "text": [
      "223it [01:48,  1.90it/s]"
     ]
    },
    {
     "name": "stdout",
     "output_type": "stream",
     "text": [
      "structure 223 written to DFTB_db \"\n",
      "w is ['C', 'C', 'C', 'H', 'H', 'H', 'H', 'O', 'O', 'O']\n",
      "setting up calculator\n"
     ]
    },
    {
     "name": "stderr",
     "output_type": "stream",
     "text": [
      "224it [01:48,  2.03it/s]"
     ]
    },
    {
     "name": "stdout",
     "output_type": "stream",
     "text": [
      "structure 224 written to DFTB_db \"\n",
      "w is ['C', 'C', 'C', 'H', 'H', 'H', 'H', 'O', 'O', 'O']\n",
      "setting up calculator\n"
     ]
    },
    {
     "name": "stderr",
     "output_type": "stream",
     "text": [
      "225it [01:49,  2.13it/s]"
     ]
    },
    {
     "name": "stdout",
     "output_type": "stream",
     "text": [
      "structure 225 written to DFTB_db \"\n",
      "w is ['C', 'C', 'C', 'H', 'H', 'H', 'H', 'O', 'O', 'O']\n",
      "setting up calculator\n"
     ]
    },
    {
     "name": "stderr",
     "output_type": "stream",
     "text": [
      "226it [01:49,  2.23it/s]"
     ]
    },
    {
     "name": "stdout",
     "output_type": "stream",
     "text": [
      "structure 226 written to DFTB_db \"\n",
      "w is ['C', 'C', 'C', 'H', 'H', 'H', 'H', 'O', 'O', 'O']\n",
      "setting up calculator\n"
     ]
    },
    {
     "name": "stderr",
     "output_type": "stream",
     "text": [
      "227it [01:50,  2.37it/s]"
     ]
    },
    {
     "name": "stdout",
     "output_type": "stream",
     "text": [
      "structure 227 written to DFTB_db \"\n",
      "w is ['C', 'C', 'C', 'H', 'H', 'H', 'H', 'O', 'O', 'O']\n",
      "setting up calculator\n"
     ]
    },
    {
     "name": "stderr",
     "output_type": "stream",
     "text": [
      "228it [01:50,  2.56it/s]"
     ]
    },
    {
     "name": "stdout",
     "output_type": "stream",
     "text": [
      "structure 228 written to DFTB_db \"\n",
      "w is ['C', 'C', 'C', 'H', 'H', 'H', 'H', 'O', 'O', 'O']\n",
      "setting up calculator\n"
     ]
    },
    {
     "name": "stderr",
     "output_type": "stream",
     "text": [
      "229it [01:50,  2.36it/s]"
     ]
    },
    {
     "name": "stdout",
     "output_type": "stream",
     "text": [
      "structure 229 written to DFTB_db \"\n",
      "w is ['C', 'C', 'C', 'H', 'H', 'H', 'H', 'O', 'O', 'O']\n",
      "setting up calculator\n"
     ]
    },
    {
     "name": "stderr",
     "output_type": "stream",
     "text": [
      "230it [01:51,  2.29it/s]"
     ]
    },
    {
     "name": "stdout",
     "output_type": "stream",
     "text": [
      "structure 230 written to DFTB_db \"\n",
      "w is ['C', 'C', 'C', 'H', 'H', 'H', 'H', 'O', 'O', 'O']\n",
      "setting up calculator\n"
     ]
    },
    {
     "name": "stderr",
     "output_type": "stream",
     "text": [
      "231it [01:51,  2.59it/s]"
     ]
    },
    {
     "name": "stdout",
     "output_type": "stream",
     "text": [
      "structure 231 written to DFTB_db \"\n",
      "w is ['C', 'C', 'C', 'H', 'H', 'H', 'H', 'O', 'O', 'O']\n",
      "setting up calculator\n"
     ]
    },
    {
     "name": "stderr",
     "output_type": "stream",
     "text": [
      "232it [01:51,  2.64it/s]"
     ]
    },
    {
     "name": "stdout",
     "output_type": "stream",
     "text": [
      "structure 232 written to DFTB_db \"\n",
      "w is ['C', 'C', 'C', 'H', 'H', 'H', 'H', 'O', 'O', 'O']\n",
      "setting up calculator\n"
     ]
    },
    {
     "name": "stderr",
     "output_type": "stream",
     "text": [
      "233it [01:52,  2.18it/s]"
     ]
    },
    {
     "name": "stdout",
     "output_type": "stream",
     "text": [
      "structure 233 written to DFTB_db \"\n",
      "w is ['C', 'C', 'C', 'H', 'H', 'H', 'H', 'O', 'O', 'O']\n",
      "setting up calculator\n"
     ]
    },
    {
     "name": "stderr",
     "output_type": "stream",
     "text": [
      "234it [01:53,  1.99it/s]"
     ]
    },
    {
     "name": "stdout",
     "output_type": "stream",
     "text": [
      "structure 234 written to DFTB_db \"\n",
      "w is ['C', 'C', 'C', 'H', 'H', 'H', 'H', 'O', 'O', 'O']\n",
      "setting up calculator\n"
     ]
    },
    {
     "name": "stderr",
     "output_type": "stream",
     "text": [
      "235it [01:53,  2.25it/s]"
     ]
    },
    {
     "name": "stdout",
     "output_type": "stream",
     "text": [
      "structure 235 written to DFTB_db \"\n",
      "w is ['C', 'C', 'C', 'H', 'H', 'H', 'H', 'O', 'O', 'O']\n",
      "setting up calculator\n"
     ]
    },
    {
     "name": "stderr",
     "output_type": "stream",
     "text": [
      "236it [01:53,  2.43it/s]"
     ]
    },
    {
     "name": "stdout",
     "output_type": "stream",
     "text": [
      "structure 236 written to DFTB_db \"\n",
      "w is ['C', 'C', 'C', 'H', 'H', 'H', 'H', 'O', 'O', 'O']\n",
      "setting up calculator\n"
     ]
    },
    {
     "name": "stderr",
     "output_type": "stream",
     "text": [
      "237it [01:54,  2.53it/s]"
     ]
    },
    {
     "name": "stdout",
     "output_type": "stream",
     "text": [
      "structure 237 written to DFTB_db \"\n",
      "w is ['C', 'C', 'C', 'H', 'H', 'H', 'H', 'O', 'O', 'O']\n",
      "setting up calculator\n"
     ]
    },
    {
     "name": "stderr",
     "output_type": "stream",
     "text": [
      "238it [01:54,  2.45it/s]"
     ]
    },
    {
     "name": "stdout",
     "output_type": "stream",
     "text": [
      "structure 238 written to DFTB_db \"\n",
      "w is ['C', 'C', 'C', 'H', 'H', 'H', 'H', 'O', 'O', 'O']\n",
      "setting up calculator\n"
     ]
    },
    {
     "name": "stderr",
     "output_type": "stream",
     "text": [
      "239it [01:54,  2.74it/s]"
     ]
    },
    {
     "name": "stdout",
     "output_type": "stream",
     "text": [
      "structure 239 written to DFTB_db \"\n",
      "w is ['C', 'C', 'C', 'H', 'H', 'H', 'H', 'O', 'O', 'O']\n",
      "setting up calculator\n"
     ]
    },
    {
     "name": "stderr",
     "output_type": "stream",
     "text": [
      "240it [01:55,  2.55it/s]"
     ]
    },
    {
     "name": "stdout",
     "output_type": "stream",
     "text": [
      "structure 240 written to DFTB_db \"\n",
      "w is ['C', 'C', 'C', 'H', 'H', 'H', 'H', 'O', 'O', 'O']\n",
      "setting up calculator\n"
     ]
    },
    {
     "name": "stderr",
     "output_type": "stream",
     "text": [
      "241it [01:55,  2.82it/s]"
     ]
    },
    {
     "name": "stdout",
     "output_type": "stream",
     "text": [
      "structure 241 written to DFTB_db \"\n",
      "w is ['C', 'C', 'C', 'H', 'H', 'H', 'H', 'O', 'O', 'O']\n",
      "setting up calculator\n"
     ]
    },
    {
     "name": "stderr",
     "output_type": "stream",
     "text": [
      "242it [01:55,  2.92it/s]"
     ]
    },
    {
     "name": "stdout",
     "output_type": "stream",
     "text": [
      "structure 242 written to DFTB_db \"\n",
      "w is ['C', 'C', 'C', 'H', 'H', 'H', 'H', 'O', 'O', 'O']\n",
      "setting up calculator\n"
     ]
    },
    {
     "name": "stderr",
     "output_type": "stream",
     "text": [
      "243it [01:56,  2.91it/s]"
     ]
    },
    {
     "name": "stdout",
     "output_type": "stream",
     "text": [
      "structure 243 written to DFTB_db \"\n",
      "w is ['C', 'C', 'C', 'H', 'H', 'H', 'H', 'O', 'O', 'O']\n",
      "setting up calculator\n"
     ]
    },
    {
     "name": "stderr",
     "output_type": "stream",
     "text": [
      "244it [01:56,  2.65it/s]"
     ]
    },
    {
     "name": "stdout",
     "output_type": "stream",
     "text": [
      "structure 244 written to DFTB_db \"\n",
      "w is ['C', 'C', 'C', 'H', 'H', 'H', 'H', 'O', 'O', 'O']\n",
      "setting up calculator\n"
     ]
    },
    {
     "name": "stderr",
     "output_type": "stream",
     "text": [
      "245it [01:57,  2.91it/s]"
     ]
    },
    {
     "name": "stdout",
     "output_type": "stream",
     "text": [
      "structure 245 written to DFTB_db \"\n",
      "w is ['C', 'C', 'C', 'H', 'H', 'H', 'H', 'O', 'O', 'O']\n",
      "setting up calculator\n"
     ]
    },
    {
     "name": "stderr",
     "output_type": "stream",
     "text": [
      "246it [01:57,  2.40it/s]"
     ]
    },
    {
     "name": "stdout",
     "output_type": "stream",
     "text": [
      "structure 246 written to DFTB_db \"\n",
      "w is ['C', 'C', 'C', 'H', 'H', 'H', 'H', 'O', 'O', 'O']\n",
      "setting up calculator\n"
     ]
    },
    {
     "name": "stderr",
     "output_type": "stream",
     "text": [
      "247it [01:57,  2.73it/s]"
     ]
    },
    {
     "name": "stdout",
     "output_type": "stream",
     "text": [
      "structure 247 written to DFTB_db \"\n",
      "w is ['C', 'C', 'C', 'H', 'H', 'H', 'H', 'O', 'O', 'O']\n",
      "setting up calculator\n"
     ]
    },
    {
     "name": "stderr",
     "output_type": "stream",
     "text": [
      "248it [01:58,  2.98it/s]"
     ]
    },
    {
     "name": "stdout",
     "output_type": "stream",
     "text": [
      "structure 248 written to DFTB_db \"\n",
      "w is ['C', 'C', 'C', 'H', 'H', 'H', 'H', 'O', 'O', 'O']\n",
      "setting up calculator\n"
     ]
    },
    {
     "name": "stderr",
     "output_type": "stream",
     "text": [
      "249it [01:58,  2.52it/s]"
     ]
    },
    {
     "name": "stdout",
     "output_type": "stream",
     "text": [
      "structure 249 written to DFTB_db \"\n",
      "w is ['C', 'C', 'C', 'H', 'H', 'H', 'H', 'O', 'O', 'O']\n",
      "setting up calculator\n"
     ]
    },
    {
     "name": "stderr",
     "output_type": "stream",
     "text": [
      "250it [01:59,  2.04it/s]"
     ]
    },
    {
     "name": "stdout",
     "output_type": "stream",
     "text": [
      "structure 250 written to DFTB_db \"\n",
      "w is ['C', 'C', 'C', 'H', 'H', 'H', 'H', 'O', 'O', 'O']\n",
      "setting up calculator\n"
     ]
    },
    {
     "name": "stderr",
     "output_type": "stream",
     "text": [
      "251it [01:59,  1.98it/s]"
     ]
    },
    {
     "name": "stdout",
     "output_type": "stream",
     "text": [
      "structure 251 written to DFTB_db \"\n",
      "w is ['C', 'C', 'C', 'H', 'H', 'H', 'H', 'O', 'O', 'O']\n",
      "setting up calculator\n"
     ]
    },
    {
     "name": "stderr",
     "output_type": "stream",
     "text": [
      "252it [02:00,  2.02it/s]"
     ]
    },
    {
     "name": "stdout",
     "output_type": "stream",
     "text": [
      "structure 252 written to DFTB_db \"\n",
      "w is ['C', 'C', 'C', 'H', 'H', 'H', 'H', 'O', 'O', 'O']\n",
      "setting up calculator\n"
     ]
    },
    {
     "name": "stderr",
     "output_type": "stream",
     "text": [
      "253it [02:00,  2.26it/s]"
     ]
    },
    {
     "name": "stdout",
     "output_type": "stream",
     "text": [
      "structure 253 written to DFTB_db \"\n",
      "w is ['C', 'C', 'C', 'H', 'H', 'H', 'H', 'O', 'O', 'O']\n",
      "setting up calculator\n"
     ]
    },
    {
     "name": "stderr",
     "output_type": "stream",
     "text": [
      "254it [02:01,  1.98it/s]"
     ]
    },
    {
     "name": "stdout",
     "output_type": "stream",
     "text": [
      "structure 254 written to DFTB_db \"\n",
      "w is ['C', 'C', 'C', 'H', 'H', 'H', 'H', 'O', 'O', 'O']\n",
      "setting up calculator\n"
     ]
    },
    {
     "name": "stderr",
     "output_type": "stream",
     "text": [
      "255it [02:01,  2.28it/s]"
     ]
    },
    {
     "name": "stdout",
     "output_type": "stream",
     "text": [
      "structure 255 written to DFTB_db \"\n",
      "w is ['C', 'C', 'C', 'H', 'H', 'H', 'H', 'O', 'O', 'O']\n",
      "setting up calculator\n"
     ]
    },
    {
     "name": "stderr",
     "output_type": "stream",
     "text": [
      "256it [02:01,  2.45it/s]"
     ]
    },
    {
     "name": "stdout",
     "output_type": "stream",
     "text": [
      "structure 256 written to DFTB_db \"\n",
      "w is ['C', 'C', 'C', 'H', 'H', 'H', 'H', 'O', 'O', 'O']\n",
      "setting up calculator\n"
     ]
    },
    {
     "name": "stderr",
     "output_type": "stream",
     "text": [
      "257it [02:02,  2.49it/s]"
     ]
    },
    {
     "name": "stdout",
     "output_type": "stream",
     "text": [
      "structure 257 written to DFTB_db \"\n",
      "w is ['C', 'C', 'C', 'H', 'H', 'H', 'H', 'O', 'O', 'O']\n",
      "setting up calculator\n"
     ]
    },
    {
     "name": "stderr",
     "output_type": "stream",
     "text": [
      "258it [02:03,  2.07it/s]"
     ]
    },
    {
     "name": "stdout",
     "output_type": "stream",
     "text": [
      "structure 258 written to DFTB_db \"\n",
      "w is ['C', 'C', 'C', 'H', 'H', 'H', 'H', 'O', 'O', 'O']\n",
      "setting up calculator\n"
     ]
    },
    {
     "name": "stderr",
     "output_type": "stream",
     "text": [
      "259it [02:03,  2.09it/s]"
     ]
    },
    {
     "name": "stdout",
     "output_type": "stream",
     "text": [
      "structure 259 written to DFTB_db \"\n",
      "w is ['C', 'C', 'C', 'H', 'H', 'H', 'H', 'O', 'O', 'O']\n",
      "setting up calculator\n"
     ]
    },
    {
     "name": "stderr",
     "output_type": "stream",
     "text": [
      "260it [02:03,  2.23it/s]"
     ]
    },
    {
     "name": "stdout",
     "output_type": "stream",
     "text": [
      "structure 260 written to DFTB_db \"\n",
      "w is ['C', 'C', 'C', 'H', 'H', 'H', 'H', 'O', 'O', 'O']\n",
      "setting up calculator\n"
     ]
    },
    {
     "name": "stderr",
     "output_type": "stream",
     "text": [
      "261it [02:04,  2.17it/s]"
     ]
    },
    {
     "name": "stdout",
     "output_type": "stream",
     "text": [
      "structure 261 written to DFTB_db \"\n",
      "w is ['C', 'C', 'C', 'H', 'H', 'H', 'H', 'O', 'O', 'O']\n",
      "setting up calculator\n"
     ]
    },
    {
     "name": "stderr",
     "output_type": "stream",
     "text": [
      "262it [02:04,  2.35it/s]"
     ]
    },
    {
     "name": "stdout",
     "output_type": "stream",
     "text": [
      "structure 262 written to DFTB_db \"\n",
      "w is ['C', 'C', 'C', 'H', 'H', 'H', 'H', 'O', 'O', 'O']\n",
      "setting up calculator\n"
     ]
    },
    {
     "name": "stderr",
     "output_type": "stream",
     "text": [
      "263it [02:05,  2.19it/s]"
     ]
    },
    {
     "name": "stdout",
     "output_type": "stream",
     "text": [
      "structure 263 written to DFTB_db \"\n",
      "w is ['C', 'C', 'C', 'H', 'H', 'H', 'H', 'O', 'O', 'O']\n",
      "setting up calculator\n"
     ]
    },
    {
     "name": "stderr",
     "output_type": "stream",
     "text": [
      "264it [02:05,  2.33it/s]"
     ]
    },
    {
     "name": "stdout",
     "output_type": "stream",
     "text": [
      "structure 264 written to DFTB_db \"\n",
      "w is ['C', 'C', 'C', 'H', 'H', 'H', 'H', 'O', 'O', 'O']\n",
      "setting up calculator\n"
     ]
    },
    {
     "name": "stderr",
     "output_type": "stream",
     "text": [
      "265it [02:06,  1.89it/s]"
     ]
    },
    {
     "name": "stdout",
     "output_type": "stream",
     "text": [
      "structure 265 written to DFTB_db \"\n",
      "w is ['C', 'C', 'C', 'H', 'H', 'H', 'H', 'O', 'O', 'O']\n",
      "setting up calculator\n"
     ]
    },
    {
     "name": "stderr",
     "output_type": "stream",
     "text": [
      "266it [02:06,  2.14it/s]"
     ]
    },
    {
     "name": "stdout",
     "output_type": "stream",
     "text": [
      "structure 266 written to DFTB_db \"\n",
      "w is ['C', 'C', 'C', 'H', 'H', 'H', 'H', 'O', 'O', 'O']\n",
      "setting up calculator\n"
     ]
    },
    {
     "name": "stderr",
     "output_type": "stream",
     "text": [
      "267it [02:07,  1.90it/s]"
     ]
    },
    {
     "name": "stdout",
     "output_type": "stream",
     "text": [
      "structure 267 written to DFTB_db \"\n",
      "w is ['C', 'C', 'C', 'H', 'H', 'H', 'H', 'O', 'O', 'O']\n",
      "setting up calculator\n"
     ]
    },
    {
     "name": "stderr",
     "output_type": "stream",
     "text": [
      "268it [02:08,  1.70it/s]"
     ]
    },
    {
     "name": "stdout",
     "output_type": "stream",
     "text": [
      "structure 268 written to DFTB_db \"\n",
      "w is ['C', 'C', 'C', 'H', 'H', 'H', 'H', 'O', 'O', 'O']\n",
      "setting up calculator\n"
     ]
    },
    {
     "name": "stderr",
     "output_type": "stream",
     "text": [
      "269it [02:08,  1.95it/s]"
     ]
    },
    {
     "name": "stdout",
     "output_type": "stream",
     "text": [
      "structure 269 written to DFTB_db \"\n",
      "w is ['C', 'C', 'C', 'H', 'H', 'H', 'H', 'O', 'O', 'O']\n",
      "setting up calculator\n"
     ]
    },
    {
     "name": "stderr",
     "output_type": "stream",
     "text": [
      "270it [02:08,  2.15it/s]"
     ]
    },
    {
     "name": "stdout",
     "output_type": "stream",
     "text": [
      "structure 270 written to DFTB_db \"\n",
      "w is ['C', 'C', 'C', 'H', 'H', 'H', 'H', 'O', 'O', 'O']\n",
      "setting up calculator\n"
     ]
    },
    {
     "name": "stderr",
     "output_type": "stream",
     "text": [
      "271it [02:09,  2.14it/s]"
     ]
    },
    {
     "name": "stdout",
     "output_type": "stream",
     "text": [
      "structure 271 written to DFTB_db \"\n",
      "w is ['C', 'C', 'C', 'H', 'H', 'H', 'H', 'O', 'O', 'O']\n",
      "setting up calculator\n"
     ]
    },
    {
     "name": "stderr",
     "output_type": "stream",
     "text": [
      "272it [02:09,  2.02it/s]"
     ]
    },
    {
     "name": "stdout",
     "output_type": "stream",
     "text": [
      "structure 272 written to DFTB_db \"\n",
      "w is ['C', 'C', 'C', 'H', 'H', 'H', 'H', 'O', 'O', 'O']\n",
      "setting up calculator\n"
     ]
    },
    {
     "name": "stderr",
     "output_type": "stream",
     "text": [
      "273it [02:10,  2.22it/s]"
     ]
    },
    {
     "name": "stdout",
     "output_type": "stream",
     "text": [
      "structure 273 written to DFTB_db \"\n",
      "w is ['C', 'C', 'C', 'H', 'H', 'H', 'H', 'O', 'O', 'O']\n",
      "setting up calculator\n"
     ]
    },
    {
     "name": "stderr",
     "output_type": "stream",
     "text": [
      "274it [02:10,  2.46it/s]"
     ]
    },
    {
     "name": "stdout",
     "output_type": "stream",
     "text": [
      "structure 274 written to DFTB_db \"\n",
      "w is ['C', 'C', 'C', 'H', 'H', 'H', 'H', 'O', 'O', 'O']\n",
      "setting up calculator\n"
     ]
    },
    {
     "name": "stderr",
     "output_type": "stream",
     "text": [
      "275it [02:10,  2.69it/s]"
     ]
    },
    {
     "name": "stdout",
     "output_type": "stream",
     "text": [
      "structure 275 written to DFTB_db \"\n",
      "w is ['C', 'C', 'C', 'H', 'H', 'H', 'H', 'O', 'O', 'O']\n",
      "setting up calculator\n"
     ]
    },
    {
     "name": "stderr",
     "output_type": "stream",
     "text": [
      "276it [02:11,  2.76it/s]"
     ]
    },
    {
     "name": "stdout",
     "output_type": "stream",
     "text": [
      "structure 276 written to DFTB_db \"\n",
      "w is ['C', 'C', 'C', 'H', 'H', 'H', 'H', 'O', 'O', 'O']\n",
      "setting up calculator\n"
     ]
    },
    {
     "name": "stderr",
     "output_type": "stream",
     "text": [
      "277it [02:11,  2.95it/s]"
     ]
    },
    {
     "name": "stdout",
     "output_type": "stream",
     "text": [
      "structure 277 written to DFTB_db \"\n",
      "w is ['C', 'C', 'C', 'H', 'H', 'H', 'H', 'O', 'O', 'O']\n",
      "setting up calculator\n"
     ]
    },
    {
     "name": "stderr",
     "output_type": "stream",
     "text": [
      "278it [02:12,  2.26it/s]"
     ]
    },
    {
     "name": "stdout",
     "output_type": "stream",
     "text": [
      "structure 278 written to DFTB_db \"\n",
      "w is ['C', 'C', 'C', 'H', 'H', 'H', 'H', 'O', 'O', 'O']\n",
      "setting up calculator\n"
     ]
    },
    {
     "name": "stderr",
     "output_type": "stream",
     "text": [
      "279it [02:12,  2.14it/s]"
     ]
    },
    {
     "name": "stdout",
     "output_type": "stream",
     "text": [
      "structure 279 written to DFTB_db \"\n",
      "w is ['C', 'C', 'C', 'H', 'H', 'H', 'H', 'O', 'O', 'O']\n",
      "setting up calculator\n"
     ]
    },
    {
     "name": "stderr",
     "output_type": "stream",
     "text": [
      "280it [02:13,  1.93it/s]"
     ]
    },
    {
     "name": "stdout",
     "output_type": "stream",
     "text": [
      "structure 280 written to DFTB_db \"\n",
      "w is ['C', 'C', 'C', 'H', 'H', 'H', 'H', 'O', 'O', 'O']\n",
      "setting up calculator\n"
     ]
    },
    {
     "name": "stderr",
     "output_type": "stream",
     "text": [
      "281it [02:13,  1.82it/s]"
     ]
    },
    {
     "name": "stdout",
     "output_type": "stream",
     "text": [
      "structure 281 written to DFTB_db \"\n",
      "w is ['C', 'C', 'C', 'H', 'H', 'H', 'H', 'O', 'O', 'O']\n",
      "setting up calculator\n"
     ]
    },
    {
     "name": "stderr",
     "output_type": "stream",
     "text": [
      "282it [02:14,  1.67it/s]"
     ]
    },
    {
     "name": "stdout",
     "output_type": "stream",
     "text": [
      "structure 282 written to DFTB_db \"\n",
      "w is ['C', 'C', 'C', 'H', 'H', 'H', 'H', 'O', 'O', 'O']\n",
      "setting up calculator\n"
     ]
    },
    {
     "name": "stderr",
     "output_type": "stream",
     "text": [
      "283it [02:15,  1.81it/s]"
     ]
    },
    {
     "name": "stdout",
     "output_type": "stream",
     "text": [
      "structure 283 written to DFTB_db \"\n",
      "w is ['C', 'C', 'C', 'H', 'H', 'H', 'H', 'O', 'O', 'O']\n",
      "setting up calculator\n"
     ]
    },
    {
     "name": "stderr",
     "output_type": "stream",
     "text": [
      "284it [02:15,  1.77it/s]"
     ]
    },
    {
     "name": "stdout",
     "output_type": "stream",
     "text": [
      "structure 284 written to DFTB_db \"\n",
      "w is ['C', 'C', 'C', 'H', 'H', 'H', 'H', 'O', 'O', 'O']\n",
      "setting up calculator\n"
     ]
    },
    {
     "name": "stderr",
     "output_type": "stream",
     "text": [
      "285it [02:16,  1.91it/s]"
     ]
    },
    {
     "name": "stdout",
     "output_type": "stream",
     "text": [
      "structure 285 written to DFTB_db \"\n",
      "w is ['C', 'C', 'C', 'H', 'H', 'H', 'H', 'O', 'O', 'O']\n",
      "setting up calculator\n"
     ]
    },
    {
     "name": "stderr",
     "output_type": "stream",
     "text": [
      "286it [02:16,  1.86it/s]"
     ]
    },
    {
     "name": "stdout",
     "output_type": "stream",
     "text": [
      "structure 286 written to DFTB_db \"\n",
      "w is ['C', 'C', 'C', 'H', 'H', 'H', 'H', 'O', 'O', 'O']\n",
      "setting up calculator\n"
     ]
    },
    {
     "name": "stderr",
     "output_type": "stream",
     "text": [
      "287it [02:17,  1.62it/s]"
     ]
    },
    {
     "name": "stdout",
     "output_type": "stream",
     "text": [
      "structure 287 written to DFTB_db \"\n",
      "w is ['C', 'C', 'C', 'H', 'H', 'H', 'H', 'O', 'O', 'O']\n",
      "setting up calculator\n"
     ]
    },
    {
     "name": "stderr",
     "output_type": "stream",
     "text": [
      "288it [02:17,  1.68it/s]"
     ]
    },
    {
     "name": "stdout",
     "output_type": "stream",
     "text": [
      "structure 288 written to DFTB_db \"\n",
      "w is ['C', 'C', 'C', 'H', 'H', 'H', 'H', 'O', 'O', 'O']\n",
      "setting up calculator\n"
     ]
    },
    {
     "name": "stderr",
     "output_type": "stream",
     "text": [
      "289it [02:18,  1.81it/s]"
     ]
    },
    {
     "name": "stdout",
     "output_type": "stream",
     "text": [
      "structure 289 written to DFTB_db \"\n",
      "w is ['C', 'C', 'C', 'H', 'H', 'H', 'H', 'O', 'O', 'O']\n",
      "setting up calculator\n"
     ]
    },
    {
     "name": "stderr",
     "output_type": "stream",
     "text": [
      "290it [02:18,  1.85it/s]"
     ]
    },
    {
     "name": "stdout",
     "output_type": "stream",
     "text": [
      "structure 290 written to DFTB_db \"\n",
      "w is ['C', 'C', 'C', 'H', 'H', 'H', 'H', 'O', 'O', 'O']\n",
      "setting up calculator\n"
     ]
    },
    {
     "name": "stderr",
     "output_type": "stream",
     "text": [
      "291it [02:19,  1.76it/s]"
     ]
    },
    {
     "name": "stdout",
     "output_type": "stream",
     "text": [
      "structure 291 written to DFTB_db \"\n",
      "w is ['C', 'C', 'C', 'H', 'H', 'H', 'H', 'O', 'O', 'O']\n",
      "setting up calculator\n"
     ]
    },
    {
     "name": "stderr",
     "output_type": "stream",
     "text": [
      "292it [02:20,  1.79it/s]"
     ]
    },
    {
     "name": "stdout",
     "output_type": "stream",
     "text": [
      "structure 292 written to DFTB_db \"\n",
      "w is ['C', 'C', 'C', 'H', 'H', 'H', 'H', 'O', 'O', 'O']\n",
      "setting up calculator\n"
     ]
    },
    {
     "name": "stderr",
     "output_type": "stream",
     "text": [
      "293it [02:20,  1.87it/s]"
     ]
    },
    {
     "name": "stdout",
     "output_type": "stream",
     "text": [
      "structure 293 written to DFTB_db \"\n",
      "w is ['C', 'C', 'C', 'H', 'H', 'H', 'H', 'O', 'O', 'O']\n",
      "setting up calculator\n"
     ]
    },
    {
     "name": "stderr",
     "output_type": "stream",
     "text": [
      "294it [02:21,  1.94it/s]"
     ]
    },
    {
     "name": "stdout",
     "output_type": "stream",
     "text": [
      "structure 294 written to DFTB_db \"\n",
      "w is ['C', 'C', 'C', 'H', 'H', 'H', 'H', 'O', 'O', 'O']\n",
      "setting up calculator\n"
     ]
    },
    {
     "name": "stderr",
     "output_type": "stream",
     "text": [
      "295it [02:21,  1.91it/s]"
     ]
    },
    {
     "name": "stdout",
     "output_type": "stream",
     "text": [
      "structure 295 written to DFTB_db \"\n",
      "w is ['C', 'C', 'C', 'H', 'H', 'H', 'H', 'O', 'O', 'O']\n",
      "setting up calculator\n"
     ]
    },
    {
     "name": "stderr",
     "output_type": "stream",
     "text": [
      "296it [02:22,  1.91it/s]"
     ]
    },
    {
     "name": "stdout",
     "output_type": "stream",
     "text": [
      "structure 296 written to DFTB_db \"\n",
      "w is ['C', 'C', 'C', 'H', 'H', 'H', 'H', 'O', 'O', 'O']\n",
      "setting up calculator\n"
     ]
    },
    {
     "name": "stderr",
     "output_type": "stream",
     "text": [
      "297it [02:22,  2.03it/s]"
     ]
    },
    {
     "name": "stdout",
     "output_type": "stream",
     "text": [
      "structure 297 written to DFTB_db \"\n",
      "w is ['C', 'C', 'C', 'H', 'H', 'H', 'H', 'O', 'O', 'O']\n",
      "setting up calculator\n"
     ]
    },
    {
     "name": "stderr",
     "output_type": "stream",
     "text": [
      "298it [02:23,  1.91it/s]"
     ]
    },
    {
     "name": "stdout",
     "output_type": "stream",
     "text": [
      "structure 298 written to DFTB_db \"\n",
      "w is ['C', 'C', 'C', 'H', 'H', 'H', 'H', 'O', 'O', 'O']\n",
      "setting up calculator\n"
     ]
    },
    {
     "name": "stderr",
     "output_type": "stream",
     "text": [
      "299it [02:23,  1.90it/s]"
     ]
    },
    {
     "name": "stdout",
     "output_type": "stream",
     "text": [
      "structure 299 written to DFTB_db \"\n",
      "w is ['C', 'C', 'C', 'H', 'H', 'H', 'H', 'O', 'O', 'O']\n",
      "setting up calculator\n"
     ]
    },
    {
     "name": "stderr",
     "output_type": "stream",
     "text": [
      "300it [02:24,  1.87it/s]"
     ]
    },
    {
     "name": "stdout",
     "output_type": "stream",
     "text": [
      "structure 300 written to DFTB_db \"\n",
      "w is ['C', 'C', 'C', 'H', 'H', 'H', 'H', 'O', 'O', 'O']\n",
      "setting up calculator\n"
     ]
    },
    {
     "name": "stderr",
     "output_type": "stream",
     "text": [
      "301it [02:24,  1.89it/s]"
     ]
    },
    {
     "name": "stdout",
     "output_type": "stream",
     "text": [
      "structure 301 written to DFTB_db \"\n",
      "w is ['C', 'C', 'C', 'H', 'H', 'H', 'H', 'O', 'O', 'O']\n",
      "setting up calculator\n"
     ]
    },
    {
     "name": "stderr",
     "output_type": "stream",
     "text": [
      "302it [02:25,  2.05it/s]"
     ]
    },
    {
     "name": "stdout",
     "output_type": "stream",
     "text": [
      "structure 302 written to DFTB_db \"\n",
      "w is ['C', 'C', 'C', 'H', 'H', 'H', 'H', 'O', 'O', 'O']\n",
      "setting up calculator\n"
     ]
    },
    {
     "name": "stderr",
     "output_type": "stream",
     "text": [
      "303it [02:25,  2.33it/s]"
     ]
    },
    {
     "name": "stdout",
     "output_type": "stream",
     "text": [
      "structure 303 written to DFTB_db \"\n",
      "w is ['C', 'C', 'C', 'H', 'H', 'H', 'H', 'O', 'O', 'O']\n",
      "setting up calculator\n"
     ]
    },
    {
     "name": "stderr",
     "output_type": "stream",
     "text": [
      "304it [02:25,  2.36it/s]"
     ]
    },
    {
     "name": "stdout",
     "output_type": "stream",
     "text": [
      "structure 304 written to DFTB_db \"\n",
      "w is ['C', 'C', 'C', 'H', 'H', 'H', 'H', 'O', 'O', 'O']\n",
      "setting up calculator\n"
     ]
    },
    {
     "name": "stderr",
     "output_type": "stream",
     "text": [
      "305it [02:26,  2.54it/s]"
     ]
    },
    {
     "name": "stdout",
     "output_type": "stream",
     "text": [
      "structure 305 written to DFTB_db \"\n",
      "w is ['C', 'C', 'C', 'H', 'H', 'H', 'H', 'O', 'O', 'O']\n",
      "setting up calculator\n"
     ]
    },
    {
     "name": "stderr",
     "output_type": "stream",
     "text": [
      "306it [02:26,  2.36it/s]"
     ]
    },
    {
     "name": "stdout",
     "output_type": "stream",
     "text": [
      "structure 306 written to DFTB_db \"\n",
      "w is ['C', 'C', 'C', 'H', 'H', 'H', 'H', 'O', 'O', 'O']\n",
      "setting up calculator\n"
     ]
    },
    {
     "name": "stderr",
     "output_type": "stream",
     "text": [
      "307it [02:27,  2.41it/s]"
     ]
    },
    {
     "name": "stdout",
     "output_type": "stream",
     "text": [
      "structure 307 written to DFTB_db \"\n",
      "w is ['C', 'C', 'C', 'H', 'H', 'H', 'H', 'O', 'O', 'O']\n",
      "setting up calculator\n"
     ]
    },
    {
     "name": "stderr",
     "output_type": "stream",
     "text": [
      "308it [02:27,  2.77it/s]"
     ]
    },
    {
     "name": "stdout",
     "output_type": "stream",
     "text": [
      "structure 308 written to DFTB_db \"\n",
      "w is ['C', 'C', 'C', 'H', 'H', 'H', 'H', 'O', 'O', 'O']\n",
      "setting up calculator\n"
     ]
    },
    {
     "name": "stderr",
     "output_type": "stream",
     "text": [
      "309it [02:27,  3.10it/s]"
     ]
    },
    {
     "name": "stdout",
     "output_type": "stream",
     "text": [
      "structure 309 written to DFTB_db \"\n",
      "w is ['C', 'C', 'C', 'H', 'H', 'H', 'H', 'O', 'O', 'O']\n",
      "setting up calculator\n"
     ]
    },
    {
     "name": "stderr",
     "output_type": "stream",
     "text": [
      "310it [02:28,  2.57it/s]"
     ]
    },
    {
     "name": "stdout",
     "output_type": "stream",
     "text": [
      "structure 310 written to DFTB_db \"\n",
      "w is ['C', 'C', 'C', 'H', 'H', 'H', 'H', 'O', 'O', 'O']\n",
      "setting up calculator\n"
     ]
    },
    {
     "name": "stderr",
     "output_type": "stream",
     "text": [
      "311it [02:28,  2.51it/s]"
     ]
    },
    {
     "name": "stdout",
     "output_type": "stream",
     "text": [
      "structure 311 written to DFTB_db \"\n",
      "w is ['C', 'C', 'C', 'H', 'H', 'H', 'H', 'O', 'O', 'O']\n",
      "setting up calculator\n"
     ]
    },
    {
     "name": "stderr",
     "output_type": "stream",
     "text": [
      "312it [02:28,  2.41it/s]"
     ]
    },
    {
     "name": "stdout",
     "output_type": "stream",
     "text": [
      "structure 312 written to DFTB_db \"\n",
      "w is ['C', 'C', 'C', 'H', 'H', 'H', 'H', 'O', 'O', 'O']\n",
      "setting up calculator\n"
     ]
    },
    {
     "name": "stderr",
     "output_type": "stream",
     "text": [
      "313it [02:29,  2.71it/s]"
     ]
    },
    {
     "name": "stdout",
     "output_type": "stream",
     "text": [
      "structure 313 written to DFTB_db \"\n",
      "w is ['C', 'C', 'C', 'H', 'H', 'H', 'H', 'O', 'O', 'O']\n",
      "setting up calculator\n"
     ]
    },
    {
     "name": "stderr",
     "output_type": "stream",
     "text": [
      "314it [02:29,  2.93it/s]"
     ]
    },
    {
     "name": "stdout",
     "output_type": "stream",
     "text": [
      "structure 314 written to DFTB_db \"\n",
      "w is ['C', 'C', 'C', 'H', 'H', 'H', 'H', 'O', 'O', 'O']\n",
      "setting up calculator\n"
     ]
    },
    {
     "name": "stderr",
     "output_type": "stream",
     "text": [
      "315it [02:29,  3.17it/s]"
     ]
    },
    {
     "name": "stdout",
     "output_type": "stream",
     "text": [
      "structure 315 written to DFTB_db \"\n",
      "w is ['C', 'C', 'C', 'H', 'H', 'H', 'H', 'O', 'O', 'O']\n",
      "setting up calculator\n"
     ]
    },
    {
     "name": "stderr",
     "output_type": "stream",
     "text": [
      "316it [02:29,  3.35it/s]"
     ]
    },
    {
     "name": "stdout",
     "output_type": "stream",
     "text": [
      "structure 316 written to DFTB_db \"\n",
      "w is ['C', 'C', 'C', 'H', 'H', 'H', 'H', 'O', 'O', 'O']\n",
      "setting up calculator\n"
     ]
    },
    {
     "name": "stderr",
     "output_type": "stream",
     "text": [
      "317it [02:30,  3.23it/s]"
     ]
    },
    {
     "name": "stdout",
     "output_type": "stream",
     "text": [
      "structure 317 written to DFTB_db \"\n",
      "w is ['C', 'C', 'C', 'H', 'H', 'H', 'H', 'O', 'O', 'O']\n",
      "setting up calculator\n"
     ]
    },
    {
     "name": "stderr",
     "output_type": "stream",
     "text": [
      "318it [02:30,  3.20it/s]"
     ]
    },
    {
     "name": "stdout",
     "output_type": "stream",
     "text": [
      "structure 318 written to DFTB_db \"\n",
      "w is ['C', 'C', 'C', 'H', 'H', 'H', 'H', 'O', 'O', 'O']\n",
      "setting up calculator\n"
     ]
    },
    {
     "name": "stderr",
     "output_type": "stream",
     "text": [
      "319it [02:30,  3.40it/s]"
     ]
    },
    {
     "name": "stdout",
     "output_type": "stream",
     "text": [
      "structure 319 written to DFTB_db \"\n",
      "w is ['C', 'C', 'C', 'H', 'H', 'H', 'H', 'O', 'O', 'O']\n",
      "setting up calculator\n"
     ]
    },
    {
     "name": "stderr",
     "output_type": "stream",
     "text": [
      "320it [02:31,  2.90it/s]"
     ]
    },
    {
     "name": "stdout",
     "output_type": "stream",
     "text": [
      "structure 320 written to DFTB_db \"\n",
      "w is ['C', 'C', 'C', 'H', 'H', 'H', 'H', 'O', 'O', 'O']\n",
      "setting up calculator\n"
     ]
    },
    {
     "name": "stderr",
     "output_type": "stream",
     "text": [
      "321it [02:31,  2.59it/s]"
     ]
    },
    {
     "name": "stdout",
     "output_type": "stream",
     "text": [
      "structure 321 written to DFTB_db \"\n",
      "w is ['C', 'C', 'C', 'H', 'H', 'H', 'H', 'O', 'O', 'O']\n",
      "setting up calculator\n"
     ]
    },
    {
     "name": "stderr",
     "output_type": "stream",
     "text": [
      "322it [02:32,  2.86it/s]"
     ]
    },
    {
     "name": "stdout",
     "output_type": "stream",
     "text": [
      "structure 322 written to DFTB_db \"\n",
      "w is ['C', 'C', 'C', 'H', 'H', 'H', 'H', 'O', 'O', 'O']\n",
      "setting up calculator\n"
     ]
    },
    {
     "name": "stderr",
     "output_type": "stream",
     "text": [
      "323it [02:32,  3.10it/s]"
     ]
    },
    {
     "name": "stdout",
     "output_type": "stream",
     "text": [
      "structure 323 written to DFTB_db \"\n",
      "w is ['C', 'C', 'C', 'H', 'H', 'H', 'H', 'O', 'O', 'O']\n",
      "setting up calculator\n"
     ]
    },
    {
     "name": "stderr",
     "output_type": "stream",
     "text": [
      "324it [02:32,  3.33it/s]"
     ]
    },
    {
     "name": "stdout",
     "output_type": "stream",
     "text": [
      "structure 324 written to DFTB_db \"\n",
      "w is ['C', 'C', 'C', 'H', 'H', 'H', 'H', 'O', 'O', 'O']\n",
      "setting up calculator\n"
     ]
    },
    {
     "name": "stderr",
     "output_type": "stream",
     "text": [
      "325it [02:32,  3.48it/s]"
     ]
    },
    {
     "name": "stdout",
     "output_type": "stream",
     "text": [
      "structure 325 written to DFTB_db \"\n",
      "w is ['C', 'C', 'C', 'H', 'H', 'H', 'H', 'O', 'O', 'O']\n",
      "setting up calculator\n"
     ]
    },
    {
     "name": "stderr",
     "output_type": "stream",
     "text": [
      "326it [02:33,  2.95it/s]"
     ]
    },
    {
     "name": "stdout",
     "output_type": "stream",
     "text": [
      "structure 326 written to DFTB_db \"\n",
      "w is ['C', 'C', 'C', 'H', 'H', 'H', 'H', 'O', 'O', 'O']\n",
      "setting up calculator\n"
     ]
    },
    {
     "name": "stderr",
     "output_type": "stream",
     "text": [
      "327it [02:33,  3.06it/s]"
     ]
    },
    {
     "name": "stdout",
     "output_type": "stream",
     "text": [
      "structure 327 written to DFTB_db \"\n",
      "w is ['C', 'C', 'C', 'H', 'H', 'H', 'H', 'O', 'O', 'O']\n",
      "setting up calculator\n"
     ]
    },
    {
     "name": "stderr",
     "output_type": "stream",
     "text": [
      "328it [02:33,  3.09it/s]"
     ]
    },
    {
     "name": "stdout",
     "output_type": "stream",
     "text": [
      "structure 328 written to DFTB_db \"\n",
      "w is ['C', 'C', 'C', 'H', 'H', 'H', 'H', 'O', 'O', 'O']\n",
      "setting up calculator\n"
     ]
    },
    {
     "name": "stderr",
     "output_type": "stream",
     "text": [
      "329it [02:34,  2.72it/s]"
     ]
    },
    {
     "name": "stdout",
     "output_type": "stream",
     "text": [
      "structure 329 written to DFTB_db \"\n",
      "w is ['C', 'C', 'C', 'H', 'H', 'H', 'H', 'O', 'O', 'O']\n",
      "setting up calculator\n"
     ]
    },
    {
     "name": "stderr",
     "output_type": "stream",
     "text": [
      "330it [02:34,  2.57it/s]"
     ]
    },
    {
     "name": "stdout",
     "output_type": "stream",
     "text": [
      "structure 330 written to DFTB_db \"\n",
      "w is ['C', 'C', 'C', 'H', 'H', 'H', 'H', 'O', 'O', 'O']\n",
      "setting up calculator\n"
     ]
    },
    {
     "name": "stderr",
     "output_type": "stream",
     "text": [
      "331it [02:35,  2.38it/s]"
     ]
    },
    {
     "name": "stdout",
     "output_type": "stream",
     "text": [
      "structure 331 written to DFTB_db \"\n",
      "w is ['C', 'C', 'C', 'H', 'H', 'H', 'H', 'O', 'O', 'O']\n",
      "setting up calculator\n"
     ]
    },
    {
     "name": "stderr",
     "output_type": "stream",
     "text": [
      "332it [02:35,  2.72it/s]"
     ]
    },
    {
     "name": "stdout",
     "output_type": "stream",
     "text": [
      "structure 332 written to DFTB_db \"\n",
      "w is ['C', 'C', 'C', 'H', 'H', 'H', 'H', 'O', 'O', 'O']\n",
      "setting up calculator\n"
     ]
    },
    {
     "name": "stderr",
     "output_type": "stream",
     "text": [
      "333it [02:35,  3.04it/s]"
     ]
    },
    {
     "name": "stdout",
     "output_type": "stream",
     "text": [
      "structure 333 written to DFTB_db \"\n",
      "w is ['C', 'C', 'C', 'H', 'H', 'H', 'H', 'O', 'O', 'O']\n",
      "setting up calculator\n"
     ]
    },
    {
     "name": "stderr",
     "output_type": "stream",
     "text": [
      "334it [02:36,  3.21it/s]"
     ]
    },
    {
     "name": "stdout",
     "output_type": "stream",
     "text": [
      "structure 334 written to DFTB_db \"\n",
      "w is ['C', 'C', 'C', 'H', 'H', 'H', 'H', 'O', 'O', 'O']\n",
      "setting up calculator\n"
     ]
    },
    {
     "name": "stderr",
     "output_type": "stream",
     "text": [
      "335it [02:36,  3.31it/s]"
     ]
    },
    {
     "name": "stdout",
     "output_type": "stream",
     "text": [
      "structure 335 written to DFTB_db \"\n",
      "w is ['C', 'C', 'C', 'H', 'H', 'H', 'H', 'O', 'O', 'O']\n",
      "setting up calculator\n"
     ]
    },
    {
     "name": "stderr",
     "output_type": "stream",
     "text": [
      "336it [02:36,  3.31it/s]"
     ]
    },
    {
     "name": "stdout",
     "output_type": "stream",
     "text": [
      "structure 336 written to DFTB_db \"\n",
      "w is ['C', 'C', 'C', 'H', 'H', 'H', 'H', 'O', 'O', 'O']\n",
      "setting up calculator\n"
     ]
    },
    {
     "name": "stderr",
     "output_type": "stream",
     "text": [
      "337it [02:36,  3.29it/s]"
     ]
    },
    {
     "name": "stdout",
     "output_type": "stream",
     "text": [
      "structure 337 written to DFTB_db \"\n",
      "w is ['C', 'C', 'C', 'H', 'H', 'H', 'H', 'O', 'O', 'O']\n",
      "setting up calculator\n"
     ]
    },
    {
     "name": "stderr",
     "output_type": "stream",
     "text": [
      "338it [02:37,  2.70it/s]"
     ]
    },
    {
     "name": "stdout",
     "output_type": "stream",
     "text": [
      "structure 338 written to DFTB_db \"\n",
      "w is ['C', 'C', 'C', 'H', 'H', 'H', 'H', 'O', 'O', 'O']\n",
      "setting up calculator\n"
     ]
    },
    {
     "name": "stderr",
     "output_type": "stream",
     "text": [
      "339it [02:38,  2.46it/s]"
     ]
    },
    {
     "name": "stdout",
     "output_type": "stream",
     "text": [
      "structure 339 written to DFTB_db \"\n",
      "w is ['C', 'C', 'C', 'H', 'H', 'H', 'H', 'O', 'O', 'O']\n",
      "setting up calculator\n"
     ]
    },
    {
     "name": "stderr",
     "output_type": "stream",
     "text": [
      "340it [02:38,  2.33it/s]"
     ]
    },
    {
     "name": "stdout",
     "output_type": "stream",
     "text": [
      "structure 340 written to DFTB_db \"\n",
      "w is ['C', 'C', 'C', 'H', 'H', 'H', 'H', 'O', 'O', 'O']\n",
      "setting up calculator\n"
     ]
    },
    {
     "name": "stderr",
     "output_type": "stream",
     "text": [
      "341it [02:38,  2.30it/s]"
     ]
    },
    {
     "name": "stdout",
     "output_type": "stream",
     "text": [
      "structure 341 written to DFTB_db \"\n",
      "w is ['C', 'C', 'C', 'H', 'H', 'H', 'H', 'O', 'O', 'O']\n",
      "setting up calculator\n"
     ]
    },
    {
     "name": "stderr",
     "output_type": "stream",
     "text": [
      "342it [02:39,  2.53it/s]"
     ]
    },
    {
     "name": "stdout",
     "output_type": "stream",
     "text": [
      "structure 342 written to DFTB_db \"\n",
      "w is ['C', 'C', 'C', 'H', 'H', 'H', 'H', 'O', 'O', 'O']\n",
      "setting up calculator\n"
     ]
    },
    {
     "name": "stderr",
     "output_type": "stream",
     "text": [
      "343it [02:39,  2.76it/s]"
     ]
    },
    {
     "name": "stdout",
     "output_type": "stream",
     "text": [
      "structure 343 written to DFTB_db \"\n",
      "w is ['C', 'C', 'C', 'H', 'H', 'H', 'H', 'O', 'O', 'O']\n",
      "setting up calculator\n"
     ]
    },
    {
     "name": "stderr",
     "output_type": "stream",
     "text": [
      "344it [02:39,  2.99it/s]"
     ]
    },
    {
     "name": "stdout",
     "output_type": "stream",
     "text": [
      "structure 344 written to DFTB_db \"\n",
      "w is ['C', 'C', 'C', 'H', 'H', 'H', 'H', 'O', 'O', 'O']\n",
      "setting up calculator\n"
     ]
    },
    {
     "name": "stderr",
     "output_type": "stream",
     "text": [
      "345it [02:40,  3.18it/s]"
     ]
    },
    {
     "name": "stdout",
     "output_type": "stream",
     "text": [
      "structure 345 written to DFTB_db \"\n",
      "w is ['C', 'C', 'C', 'H', 'H', 'H', 'H', 'O', 'O', 'O']\n",
      "setting up calculator\n"
     ]
    },
    {
     "name": "stderr",
     "output_type": "stream",
     "text": [
      "346it [02:40,  3.26it/s]"
     ]
    },
    {
     "name": "stdout",
     "output_type": "stream",
     "text": [
      "structure 346 written to DFTB_db \"\n",
      "w is ['C', 'C', 'C', 'H', 'H', 'H', 'H', 'O', 'O', 'O']\n",
      "setting up calculator\n"
     ]
    },
    {
     "name": "stderr",
     "output_type": "stream",
     "text": [
      "347it [02:40,  3.36it/s]"
     ]
    },
    {
     "name": "stdout",
     "output_type": "stream",
     "text": [
      "structure 347 written to DFTB_db \"\n",
      "w is ['C', 'C', 'C', 'H', 'H', 'H', 'H', 'O', 'O', 'O']\n",
      "setting up calculator\n"
     ]
    },
    {
     "name": "stderr",
     "output_type": "stream",
     "text": [
      "348it [02:40,  3.44it/s]"
     ]
    },
    {
     "name": "stdout",
     "output_type": "stream",
     "text": [
      "structure 348 written to DFTB_db \"\n",
      "w is ['C', 'C', 'C', 'H', 'H', 'H', 'H', 'O', 'O', 'O']\n",
      "setting up calculator\n"
     ]
    },
    {
     "name": "stderr",
     "output_type": "stream",
     "text": [
      "349it [02:41,  3.55it/s]"
     ]
    },
    {
     "name": "stdout",
     "output_type": "stream",
     "text": [
      "structure 349 written to DFTB_db \"\n",
      "w is ['C', 'C', 'C', 'H', 'H', 'H', 'H', 'O', 'O', 'O']\n",
      "setting up calculator\n"
     ]
    },
    {
     "name": "stderr",
     "output_type": "stream",
     "text": [
      "350it [02:41,  3.58it/s]"
     ]
    },
    {
     "name": "stdout",
     "output_type": "stream",
     "text": [
      "structure 350 written to DFTB_db \"\n",
      "w is ['C', 'C', 'C', 'H', 'H', 'H', 'H', 'O', 'O', 'O']\n",
      "setting up calculator\n"
     ]
    },
    {
     "name": "stderr",
     "output_type": "stream",
     "text": [
      "351it [02:41,  2.83it/s]"
     ]
    },
    {
     "name": "stdout",
     "output_type": "stream",
     "text": [
      "structure 351 written to DFTB_db \"\n",
      "w is ['C', 'C', 'C', 'H', 'H', 'H', 'H', 'O', 'O', 'O']\n",
      "setting up calculator\n"
     ]
    },
    {
     "name": "stderr",
     "output_type": "stream",
     "text": [
      "352it [02:42,  2.61it/s]"
     ]
    },
    {
     "name": "stdout",
     "output_type": "stream",
     "text": [
      "structure 352 written to DFTB_db \"\n",
      "w is ['C', 'C', 'C', 'H', 'H', 'H', 'H', 'O', 'O', 'O']\n",
      "setting up calculator\n"
     ]
    },
    {
     "name": "stderr",
     "output_type": "stream",
     "text": [
      "353it [02:42,  2.41it/s]"
     ]
    },
    {
     "name": "stdout",
     "output_type": "stream",
     "text": [
      "structure 353 written to DFTB_db \"\n",
      "w is ['C', 'C', 'C', 'H', 'H', 'H', 'H', 'O', 'O', 'O']\n",
      "setting up calculator\n"
     ]
    },
    {
     "name": "stderr",
     "output_type": "stream",
     "text": [
      "354it [02:43,  2.45it/s]"
     ]
    },
    {
     "name": "stdout",
     "output_type": "stream",
     "text": [
      "structure 354 written to DFTB_db \"\n",
      "w is ['C', 'C', 'C', 'H', 'H', 'H', 'H', 'O', 'O', 'O']\n",
      "setting up calculator\n"
     ]
    },
    {
     "name": "stderr",
     "output_type": "stream",
     "text": [
      "355it [02:43,  2.73it/s]"
     ]
    },
    {
     "name": "stdout",
     "output_type": "stream",
     "text": [
      "structure 355 written to DFTB_db \"\n",
      "w is ['C', 'C', 'C', 'H', 'H', 'H', 'H', 'O', 'O', 'O']\n",
      "setting up calculator\n"
     ]
    },
    {
     "name": "stderr",
     "output_type": "stream",
     "text": [
      "356it [02:43,  2.88it/s]"
     ]
    },
    {
     "name": "stdout",
     "output_type": "stream",
     "text": [
      "structure 356 written to DFTB_db \"\n",
      "w is ['C', 'C', 'C', 'H', 'H', 'H', 'H', 'O', 'O', 'O']\n",
      "setting up calculator\n"
     ]
    },
    {
     "name": "stderr",
     "output_type": "stream",
     "text": [
      "357it [02:44,  3.04it/s]"
     ]
    },
    {
     "name": "stdout",
     "output_type": "stream",
     "text": [
      "structure 357 written to DFTB_db \"\n",
      "w is ['C', 'C', 'C', 'H', 'H', 'H', 'H', 'O', 'O', 'O']\n",
      "setting up calculator\n"
     ]
    },
    {
     "name": "stderr",
     "output_type": "stream",
     "text": [
      "358it [02:44,  3.02it/s]"
     ]
    },
    {
     "name": "stdout",
     "output_type": "stream",
     "text": [
      "structure 358 written to DFTB_db \"\n",
      "w is ['C', 'C', 'C', 'H', 'H', 'H', 'H', 'O', 'O', 'O']\n",
      "setting up calculator\n"
     ]
    },
    {
     "name": "stderr",
     "output_type": "stream",
     "text": [
      "359it [02:44,  3.20it/s]"
     ]
    },
    {
     "name": "stdout",
     "output_type": "stream",
     "text": [
      "structure 359 written to DFTB_db \"\n",
      "w is ['C', 'C', 'C', 'H', 'H', 'H', 'H', 'O', 'O', 'O']\n",
      "setting up calculator\n"
     ]
    },
    {
     "name": "stderr",
     "output_type": "stream",
     "text": [
      "360it [02:45,  3.27it/s]"
     ]
    },
    {
     "name": "stdout",
     "output_type": "stream",
     "text": [
      "structure 360 written to DFTB_db \"\n",
      "w is ['C', 'C', 'C', 'H', 'H', 'H', 'H', 'O', 'O', 'O']\n",
      "setting up calculator\n"
     ]
    },
    {
     "name": "stderr",
     "output_type": "stream",
     "text": [
      "361it [02:45,  3.07it/s]"
     ]
    },
    {
     "name": "stdout",
     "output_type": "stream",
     "text": [
      "structure 361 written to DFTB_db \"\n",
      "w is ['C', 'C', 'C', 'H', 'H', 'H', 'H', 'O', 'O', 'O']\n",
      "setting up calculator\n"
     ]
    },
    {
     "name": "stderr",
     "output_type": "stream",
     "text": [
      "362it [02:45,  2.82it/s]"
     ]
    },
    {
     "name": "stdout",
     "output_type": "stream",
     "text": [
      "structure 362 written to DFTB_db \"\n",
      "w is ['C', 'C', 'C', 'H', 'H', 'H', 'H', 'O', 'O', 'O']\n",
      "setting up calculator\n"
     ]
    },
    {
     "name": "stderr",
     "output_type": "stream",
     "text": [
      "363it [02:46,  2.41it/s]"
     ]
    },
    {
     "name": "stdout",
     "output_type": "stream",
     "text": [
      "structure 363 written to DFTB_db \"\n",
      "w is ['C', 'C', 'C', 'H', 'H', 'H', 'H', 'O', 'O', 'O']\n",
      "setting up calculator\n"
     ]
    },
    {
     "name": "stderr",
     "output_type": "stream",
     "text": [
      "364it [02:46,  2.32it/s]"
     ]
    },
    {
     "name": "stdout",
     "output_type": "stream",
     "text": [
      "structure 364 written to DFTB_db \"\n",
      "w is ['C', 'C', 'C', 'H', 'H', 'H', 'H', 'O', 'O', 'O']\n",
      "setting up calculator\n"
     ]
    },
    {
     "name": "stderr",
     "output_type": "stream",
     "text": [
      "365it [02:47,  2.35it/s]"
     ]
    },
    {
     "name": "stdout",
     "output_type": "stream",
     "text": [
      "structure 365 written to DFTB_db \"\n",
      "w is ['C', 'C', 'C', 'H', 'H', 'H', 'H', 'O', 'O', 'O']\n",
      "setting up calculator\n"
     ]
    },
    {
     "name": "stderr",
     "output_type": "stream",
     "text": [
      "366it [02:47,  2.48it/s]"
     ]
    },
    {
     "name": "stdout",
     "output_type": "stream",
     "text": [
      "structure 366 written to DFTB_db \"\n",
      "w is ['C', 'C', 'C', 'H', 'H', 'H', 'H', 'O', 'O', 'O']\n",
      "setting up calculator\n"
     ]
    },
    {
     "name": "stderr",
     "output_type": "stream",
     "text": [
      "367it [02:47,  2.70it/s]"
     ]
    },
    {
     "name": "stdout",
     "output_type": "stream",
     "text": [
      "structure 367 written to DFTB_db \"\n",
      "w is ['C', 'C', 'C', 'H', 'H', 'H', 'H', 'O', 'O', 'O']\n",
      "setting up calculator\n"
     ]
    },
    {
     "name": "stderr",
     "output_type": "stream",
     "text": [
      "368it [02:48,  2.52it/s]"
     ]
    },
    {
     "name": "stdout",
     "output_type": "stream",
     "text": [
      "structure 368 written to DFTB_db \"\n",
      "w is ['C', 'C', 'C', 'H', 'H', 'H', 'H', 'O', 'O', 'O']\n",
      "setting up calculator\n"
     ]
    },
    {
     "name": "stderr",
     "output_type": "stream",
     "text": [
      "369it [02:48,  2.35it/s]"
     ]
    },
    {
     "name": "stdout",
     "output_type": "stream",
     "text": [
      "structure 369 written to DFTB_db \"\n",
      "w is ['C', 'C', 'C', 'H', 'H', 'H', 'H', 'O', 'O', 'O']\n",
      "setting up calculator\n"
     ]
    },
    {
     "name": "stderr",
     "output_type": "stream",
     "text": [
      "370it [02:49,  2.06it/s]"
     ]
    },
    {
     "name": "stdout",
     "output_type": "stream",
     "text": [
      "structure 370 written to DFTB_db \"\n",
      "w is ['C', 'C', 'C', 'H', 'H', 'H', 'H', 'O', 'O', 'O']\n",
      "setting up calculator\n"
     ]
    },
    {
     "name": "stderr",
     "output_type": "stream",
     "text": [
      "371it [02:50,  1.95it/s]"
     ]
    },
    {
     "name": "stdout",
     "output_type": "stream",
     "text": [
      "structure 371 written to DFTB_db \"\n",
      "w is ['C', 'C', 'C', 'H', 'H', 'H', 'H', 'O', 'O', 'O']\n",
      "setting up calculator\n"
     ]
    },
    {
     "name": "stderr",
     "output_type": "stream",
     "text": [
      "372it [02:50,  1.97it/s]"
     ]
    },
    {
     "name": "stdout",
     "output_type": "stream",
     "text": [
      "structure 372 written to DFTB_db \"\n",
      "w is ['C', 'C', 'C', 'H', 'H', 'H', 'H', 'O', 'O', 'O']\n",
      "setting up calculator\n"
     ]
    },
    {
     "name": "stderr",
     "output_type": "stream",
     "text": [
      "373it [02:50,  2.30it/s]"
     ]
    },
    {
     "name": "stdout",
     "output_type": "stream",
     "text": [
      "structure 373 written to DFTB_db \"\n",
      "w is ['C', 'C', 'C', 'H', 'H', 'H', 'H', 'O', 'O', 'O']\n",
      "setting up calculator\n"
     ]
    },
    {
     "name": "stderr",
     "output_type": "stream",
     "text": [
      "374it [02:51,  2.55it/s]"
     ]
    },
    {
     "name": "stdout",
     "output_type": "stream",
     "text": [
      "structure 374 written to DFTB_db \"\n",
      "w is ['C', 'C', 'C', 'H', 'H', 'H', 'H', 'O', 'O', 'O']\n",
      "setting up calculator\n"
     ]
    },
    {
     "name": "stderr",
     "output_type": "stream",
     "text": [
      "375it [02:51,  2.83it/s]"
     ]
    },
    {
     "name": "stdout",
     "output_type": "stream",
     "text": [
      "structure 375 written to DFTB_db \"\n",
      "w is ['C', 'C', 'C', 'H', 'H', 'H', 'H', 'O', 'O', 'O']\n",
      "setting up calculator\n"
     ]
    },
    {
     "name": "stderr",
     "output_type": "stream",
     "text": [
      "376it [02:51,  3.05it/s]"
     ]
    },
    {
     "name": "stdout",
     "output_type": "stream",
     "text": [
      "structure 376 written to DFTB_db \"\n",
      "w is ['C', 'C', 'C', 'H', 'H', 'H', 'H', 'O', 'O', 'O']\n",
      "setting up calculator\n"
     ]
    },
    {
     "name": "stderr",
     "output_type": "stream",
     "text": [
      "377it [02:52,  2.87it/s]"
     ]
    },
    {
     "name": "stdout",
     "output_type": "stream",
     "text": [
      "structure 377 written to DFTB_db \"\n",
      "w is ['C', 'C', 'C', 'H', 'H', 'H', 'H', 'O', 'O', 'O']\n",
      "setting up calculator\n"
     ]
    },
    {
     "name": "stderr",
     "output_type": "stream",
     "text": [
      "378it [02:52,  2.95it/s]"
     ]
    },
    {
     "name": "stdout",
     "output_type": "stream",
     "text": [
      "structure 378 written to DFTB_db \"\n",
      "w is ['C', 'C', 'C', 'H', 'H', 'H', 'H', 'O', 'O', 'O']\n",
      "setting up calculator\n"
     ]
    },
    {
     "name": "stderr",
     "output_type": "stream",
     "text": [
      "379it [02:52,  3.16it/s]"
     ]
    },
    {
     "name": "stdout",
     "output_type": "stream",
     "text": [
      "structure 379 written to DFTB_db \"\n",
      "w is ['C', 'C', 'C', 'H', 'H', 'H', 'H', 'O', 'O', 'O']\n",
      "setting up calculator\n"
     ]
    },
    {
     "name": "stderr",
     "output_type": "stream",
     "text": [
      "380it [02:52,  3.27it/s]"
     ]
    },
    {
     "name": "stdout",
     "output_type": "stream",
     "text": [
      "structure 380 written to DFTB_db \"\n",
      "w is ['C', 'C', 'C', 'H', 'H', 'H', 'H', 'O', 'O', 'O']\n",
      "setting up calculator\n"
     ]
    },
    {
     "name": "stderr",
     "output_type": "stream",
     "text": [
      "381it [02:53,  3.45it/s]"
     ]
    },
    {
     "name": "stdout",
     "output_type": "stream",
     "text": [
      "structure 381 written to DFTB_db \"\n",
      "w is ['C', 'C', 'C', 'H', 'H', 'H', 'H', 'O', 'O', 'O']\n",
      "setting up calculator\n"
     ]
    },
    {
     "name": "stderr",
     "output_type": "stream",
     "text": [
      "382it [02:53,  3.55it/s]"
     ]
    },
    {
     "name": "stdout",
     "output_type": "stream",
     "text": [
      "structure 382 written to DFTB_db \"\n",
      "w is ['C', 'C', 'C', 'H', 'H', 'H', 'H', 'O', 'O', 'O']\n",
      "setting up calculator\n"
     ]
    },
    {
     "name": "stderr",
     "output_type": "stream",
     "text": [
      "383it [02:53,  3.49it/s]"
     ]
    },
    {
     "name": "stdout",
     "output_type": "stream",
     "text": [
      "structure 383 written to DFTB_db \"\n",
      "w is ['C', 'C', 'C', 'H', 'H', 'H', 'H', 'O', 'O', 'O']\n",
      "setting up calculator\n"
     ]
    },
    {
     "name": "stderr",
     "output_type": "stream",
     "text": [
      "384it [02:54,  2.60it/s]"
     ]
    },
    {
     "name": "stdout",
     "output_type": "stream",
     "text": [
      "structure 384 written to DFTB_db \"\n",
      "w is ['C', 'C', 'C', 'H', 'H', 'H', 'H', 'O', 'O', 'O']\n",
      "setting up calculator\n"
     ]
    },
    {
     "name": "stderr",
     "output_type": "stream",
     "text": [
      "385it [02:54,  2.41it/s]"
     ]
    },
    {
     "name": "stdout",
     "output_type": "stream",
     "text": [
      "structure 385 written to DFTB_db \"\n",
      "w is ['C', 'C', 'C', 'H', 'H', 'H', 'H', 'O', 'O', 'O']\n",
      "setting up calculator\n"
     ]
    },
    {
     "name": "stderr",
     "output_type": "stream",
     "text": [
      "386it [02:55,  2.67it/s]"
     ]
    },
    {
     "name": "stdout",
     "output_type": "stream",
     "text": [
      "structure 386 written to DFTB_db \"\n",
      "w is ['C', 'C', 'C', 'H', 'H', 'H', 'H', 'O', 'O', 'O']\n",
      "setting up calculator\n"
     ]
    },
    {
     "name": "stderr",
     "output_type": "stream",
     "text": [
      "387it [02:55,  2.87it/s]"
     ]
    },
    {
     "name": "stdout",
     "output_type": "stream",
     "text": [
      "structure 387 written to DFTB_db \"\n",
      "w is ['C', 'C', 'C', 'H', 'H', 'H', 'H', 'O', 'O', 'O']\n",
      "setting up calculator\n"
     ]
    },
    {
     "name": "stderr",
     "output_type": "stream",
     "text": [
      "388it [02:55,  3.02it/s]"
     ]
    },
    {
     "name": "stdout",
     "output_type": "stream",
     "text": [
      "structure 388 written to DFTB_db \"\n",
      "w is ['C', 'C', 'C', 'H', 'H', 'H', 'H', 'O', 'O', 'O']\n",
      "setting up calculator\n"
     ]
    },
    {
     "name": "stderr",
     "output_type": "stream",
     "text": [
      "389it [02:56,  2.77it/s]"
     ]
    },
    {
     "name": "stdout",
     "output_type": "stream",
     "text": [
      "structure 389 written to DFTB_db \"\n",
      "w is ['C', 'C', 'C', 'H', 'H', 'H', 'H', 'O', 'O', 'O']\n",
      "setting up calculator\n"
     ]
    },
    {
     "name": "stderr",
     "output_type": "stream",
     "text": [
      "390it [02:56,  2.45it/s]"
     ]
    },
    {
     "name": "stdout",
     "output_type": "stream",
     "text": [
      "structure 390 written to DFTB_db \"\n",
      "w is ['C', 'C', 'C', 'H', 'H', 'H', 'H', 'O', 'O', 'O']\n",
      "setting up calculator\n"
     ]
    },
    {
     "name": "stderr",
     "output_type": "stream",
     "text": [
      "391it [02:57,  2.22it/s]"
     ]
    },
    {
     "name": "stdout",
     "output_type": "stream",
     "text": [
      "structure 391 written to DFTB_db \"\n",
      "w is ['C', 'C', 'C', 'H', 'H', 'H', 'H', 'O', 'O', 'O']\n",
      "setting up calculator\n"
     ]
    },
    {
     "name": "stderr",
     "output_type": "stream",
     "text": [
      "392it [02:57,  2.17it/s]"
     ]
    },
    {
     "name": "stdout",
     "output_type": "stream",
     "text": [
      "structure 392 written to DFTB_db \"\n",
      "w is ['C', 'C', 'C', 'H', 'H', 'H', 'H', 'O', 'O', 'O']\n",
      "setting up calculator\n"
     ]
    },
    {
     "name": "stderr",
     "output_type": "stream",
     "text": [
      "393it [02:58,  2.31it/s]"
     ]
    },
    {
     "name": "stdout",
     "output_type": "stream",
     "text": [
      "structure 393 written to DFTB_db \"\n",
      "w is ['C', 'C', 'C', 'H', 'H', 'H', 'H', 'O', 'O', 'O']\n",
      "setting up calculator\n"
     ]
    },
    {
     "name": "stderr",
     "output_type": "stream",
     "text": [
      "394it [02:58,  2.56it/s]"
     ]
    },
    {
     "name": "stdout",
     "output_type": "stream",
     "text": [
      "structure 394 written to DFTB_db \"\n",
      "w is ['C', 'C', 'C', 'H', 'H', 'H', 'H', 'O', 'O', 'O']\n",
      "setting up calculator\n"
     ]
    },
    {
     "name": "stderr",
     "output_type": "stream",
     "text": [
      "395it [02:58,  2.80it/s]"
     ]
    },
    {
     "name": "stdout",
     "output_type": "stream",
     "text": [
      "structure 395 written to DFTB_db \"\n",
      "w is ['C', 'C', 'C', 'H', 'H', 'H', 'H', 'O', 'O', 'O']\n",
      "setting up calculator\n"
     ]
    },
    {
     "name": "stderr",
     "output_type": "stream",
     "text": [
      "396it [02:58,  3.11it/s]"
     ]
    },
    {
     "name": "stdout",
     "output_type": "stream",
     "text": [
      "structure 396 written to DFTB_db \"\n",
      "w is ['C', 'C', 'C', 'H', 'H', 'H', 'H', 'O', 'O', 'O']\n",
      "setting up calculator\n"
     ]
    },
    {
     "name": "stderr",
     "output_type": "stream",
     "text": [
      "397it [02:59,  2.98it/s]"
     ]
    },
    {
     "name": "stdout",
     "output_type": "stream",
     "text": [
      "structure 397 written to DFTB_db \"\n",
      "w is ['C', 'C', 'C', 'H', 'H', 'H', 'H', 'O', 'O', 'O']\n",
      "setting up calculator\n"
     ]
    },
    {
     "name": "stderr",
     "output_type": "stream",
     "text": [
      "398it [02:59,  2.62it/s]"
     ]
    },
    {
     "name": "stdout",
     "output_type": "stream",
     "text": [
      "structure 398 written to DFTB_db \"\n",
      "w is ['C', 'C', 'C', 'H', 'H', 'H', 'H', 'O', 'O', 'O']\n",
      "setting up calculator\n"
     ]
    },
    {
     "name": "stderr",
     "output_type": "stream",
     "text": [
      "399it [02:59,  2.81it/s]"
     ]
    },
    {
     "name": "stdout",
     "output_type": "stream",
     "text": [
      "structure 399 written to DFTB_db \"\n",
      "w is ['C', 'C', 'C', 'H', 'H', 'H', 'H', 'O', 'O', 'O']\n",
      "setting up calculator\n"
     ]
    },
    {
     "name": "stderr",
     "output_type": "stream",
     "text": [
      "400it [03:00,  2.71it/s]"
     ]
    },
    {
     "name": "stdout",
     "output_type": "stream",
     "text": [
      "structure 400 written to DFTB_db \"\n",
      "w is ['C', 'C', 'C', 'H', 'H', 'H', 'H', 'O', 'O', 'O']\n",
      "setting up calculator\n"
     ]
    },
    {
     "name": "stderr",
     "output_type": "stream",
     "text": [
      "401it [03:00,  2.47it/s]"
     ]
    },
    {
     "name": "stdout",
     "output_type": "stream",
     "text": [
      "structure 401 written to DFTB_db \"\n",
      "w is ['C', 'C', 'C', 'H', 'H', 'H', 'H', 'O', 'O', 'O']\n",
      "setting up calculator\n"
     ]
    },
    {
     "name": "stderr",
     "output_type": "stream",
     "text": [
      "402it [03:01,  2.70it/s]"
     ]
    },
    {
     "name": "stdout",
     "output_type": "stream",
     "text": [
      "structure 402 written to DFTB_db \"\n",
      "w is ['C', 'C', 'C', 'H', 'H', 'H', 'H', 'O', 'O', 'O']\n",
      "setting up calculator\n"
     ]
    },
    {
     "name": "stderr",
     "output_type": "stream",
     "text": [
      "403it [03:01,  2.98it/s]"
     ]
    },
    {
     "name": "stdout",
     "output_type": "stream",
     "text": [
      "structure 403 written to DFTB_db \"\n",
      "w is ['C', 'C', 'C', 'H', 'H', 'H', 'H', 'O', 'O', 'O']\n",
      "setting up calculator\n"
     ]
    },
    {
     "name": "stderr",
     "output_type": "stream",
     "text": [
      "404it [03:01,  2.98it/s]"
     ]
    },
    {
     "name": "stdout",
     "output_type": "stream",
     "text": [
      "structure 404 written to DFTB_db \"\n",
      "w is ['C', 'C', 'C', 'H', 'H', 'H', 'H', 'O', 'O', 'O']\n",
      "setting up calculator\n"
     ]
    },
    {
     "name": "stderr",
     "output_type": "stream",
     "text": [
      "405it [03:02,  3.23it/s]"
     ]
    },
    {
     "name": "stdout",
     "output_type": "stream",
     "text": [
      "structure 405 written to DFTB_db \"\n",
      "w is ['C', 'C', 'C', 'H', 'H', 'H', 'H', 'O', 'O', 'O']\n",
      "setting up calculator\n"
     ]
    },
    {
     "name": "stderr",
     "output_type": "stream",
     "text": [
      "406it [03:02,  2.89it/s]"
     ]
    },
    {
     "name": "stdout",
     "output_type": "stream",
     "text": [
      "structure 406 written to DFTB_db \"\n",
      "w is ['C', 'C', 'C', 'H', 'H', 'H', 'H', 'O', 'O', 'O']\n",
      "setting up calculator\n"
     ]
    },
    {
     "name": "stderr",
     "output_type": "stream",
     "text": [
      "407it [03:02,  3.02it/s]"
     ]
    },
    {
     "name": "stdout",
     "output_type": "stream",
     "text": [
      "structure 407 written to DFTB_db \"\n",
      "w is ['C', 'C', 'C', 'H', 'H', 'H', 'H', 'O', 'O', 'O']\n",
      "setting up calculator\n"
     ]
    },
    {
     "name": "stderr",
     "output_type": "stream",
     "text": [
      "408it [03:03,  3.18it/s]"
     ]
    },
    {
     "name": "stdout",
     "output_type": "stream",
     "text": [
      "structure 408 written to DFTB_db \"\n",
      "w is ['C', 'C', 'C', 'H', 'H', 'H', 'H', 'O', 'O', 'O']\n",
      "setting up calculator\n"
     ]
    },
    {
     "name": "stderr",
     "output_type": "stream",
     "text": [
      "409it [03:03,  3.40it/s]"
     ]
    },
    {
     "name": "stdout",
     "output_type": "stream",
     "text": [
      "structure 409 written to DFTB_db \"\n",
      "w is ['C', 'C', 'C', 'H', 'H', 'H', 'H', 'O', 'O', 'O']\n",
      "setting up calculator\n"
     ]
    },
    {
     "name": "stderr",
     "output_type": "stream",
     "text": [
      "410it [03:03,  2.78it/s]"
     ]
    },
    {
     "name": "stdout",
     "output_type": "stream",
     "text": [
      "structure 410 written to DFTB_db \"\n",
      "w is ['C', 'C', 'C', 'H', 'H', 'H', 'H', 'O', 'O', 'O']\n",
      "setting up calculator\n"
     ]
    },
    {
     "name": "stderr",
     "output_type": "stream",
     "text": [
      "411it [03:04,  2.81it/s]"
     ]
    },
    {
     "name": "stdout",
     "output_type": "stream",
     "text": [
      "structure 411 written to DFTB_db \"\n",
      "w is ['C', 'C', 'C', 'H', 'H', 'H', 'H', 'O', 'O', 'O']\n",
      "setting up calculator\n"
     ]
    },
    {
     "name": "stderr",
     "output_type": "stream",
     "text": [
      "412it [03:04,  2.95it/s]"
     ]
    },
    {
     "name": "stdout",
     "output_type": "stream",
     "text": [
      "structure 412 written to DFTB_db \"\n",
      "w is ['C', 'C', 'C', 'H', 'H', 'H', 'H', 'O', 'O', 'O']\n",
      "setting up calculator\n"
     ]
    },
    {
     "name": "stderr",
     "output_type": "stream",
     "text": [
      "413it [03:04,  3.15it/s]"
     ]
    },
    {
     "name": "stdout",
     "output_type": "stream",
     "text": [
      "structure 413 written to DFTB_db \"\n",
      "w is ['C', 'C', 'C', 'H', 'H', 'H', 'H', 'O', 'O', 'O']\n",
      "setting up calculator\n"
     ]
    },
    {
     "name": "stderr",
     "output_type": "stream",
     "text": [
      "414it [03:04,  3.23it/s]"
     ]
    },
    {
     "name": "stdout",
     "output_type": "stream",
     "text": [
      "structure 414 written to DFTB_db \"\n",
      "w is ['C', 'C', 'C', 'H', 'H', 'H', 'H', 'O', 'O', 'O']\n",
      "setting up calculator\n"
     ]
    },
    {
     "name": "stderr",
     "output_type": "stream",
     "text": [
      "415it [03:05,  3.48it/s]"
     ]
    },
    {
     "name": "stdout",
     "output_type": "stream",
     "text": [
      "structure 415 written to DFTB_db \"\n",
      "w is ['C', 'C', 'C', 'H', 'H', 'H', 'H', 'O', 'O', 'O']\n",
      "setting up calculator\n"
     ]
    },
    {
     "name": "stderr",
     "output_type": "stream",
     "text": [
      "416it [03:05,  3.50it/s]"
     ]
    },
    {
     "name": "stdout",
     "output_type": "stream",
     "text": [
      "structure 416 written to DFTB_db \"\n",
      "w is ['C', 'C', 'C', 'H', 'H', 'H', 'H', 'O', 'O', 'O']\n",
      "setting up calculator\n"
     ]
    },
    {
     "name": "stderr",
     "output_type": "stream",
     "text": [
      "417it [03:05,  3.66it/s]"
     ]
    },
    {
     "name": "stdout",
     "output_type": "stream",
     "text": [
      "structure 417 written to DFTB_db \"\n",
      "w is ['C', 'C', 'C', 'H', 'H', 'H', 'H', 'O', 'O', 'O']\n",
      "setting up calculator\n"
     ]
    },
    {
     "name": "stderr",
     "output_type": "stream",
     "text": [
      "418it [03:06,  3.65it/s]"
     ]
    },
    {
     "name": "stdout",
     "output_type": "stream",
     "text": [
      "structure 418 written to DFTB_db \"\n",
      "w is ['C', 'C', 'C', 'H', 'H', 'H', 'H', 'O', 'O', 'O']\n",
      "setting up calculator\n"
     ]
    },
    {
     "name": "stderr",
     "output_type": "stream",
     "text": [
      "419it [03:06,  3.79it/s]"
     ]
    },
    {
     "name": "stdout",
     "output_type": "stream",
     "text": [
      "structure 419 written to DFTB_db \"\n",
      "w is ['C', 'C', 'C', 'H', 'H', 'H', 'H', 'O', 'O', 'O']\n",
      "setting up calculator\n"
     ]
    },
    {
     "name": "stderr",
     "output_type": "stream",
     "text": [
      "420it [03:06,  3.77it/s]"
     ]
    },
    {
     "name": "stdout",
     "output_type": "stream",
     "text": [
      "structure 420 written to DFTB_db \"\n",
      "w is ['C', 'C', 'C', 'H', 'H', 'H', 'H', 'O', 'O', 'O']\n",
      "setting up calculator\n"
     ]
    },
    {
     "name": "stderr",
     "output_type": "stream",
     "text": [
      "421it [03:06,  3.80it/s]"
     ]
    },
    {
     "name": "stdout",
     "output_type": "stream",
     "text": [
      "structure 421 written to DFTB_db \"\n",
      "w is ['C', 'C', 'C', 'H', 'H', 'H', 'H', 'O', 'O', 'O']\n",
      "setting up calculator\n"
     ]
    },
    {
     "name": "stderr",
     "output_type": "stream",
     "text": [
      "422it [03:07,  3.25it/s]"
     ]
    },
    {
     "name": "stdout",
     "output_type": "stream",
     "text": [
      "structure 422 written to DFTB_db \"\n",
      "w is ['C', 'C', 'C', 'H', 'H', 'H', 'H', 'O', 'O', 'O']\n",
      "setting up calculator\n"
     ]
    },
    {
     "name": "stderr",
     "output_type": "stream",
     "text": [
      "423it [03:07,  2.99it/s]"
     ]
    },
    {
     "name": "stdout",
     "output_type": "stream",
     "text": [
      "structure 423 written to DFTB_db \"\n",
      "w is ['C', 'C', 'C', 'H', 'H', 'H', 'H', 'O', 'O', 'O']\n",
      "setting up calculator\n"
     ]
    },
    {
     "name": "stderr",
     "output_type": "stream",
     "text": [
      "424it [03:08,  2.63it/s]"
     ]
    },
    {
     "name": "stdout",
     "output_type": "stream",
     "text": [
      "structure 424 written to DFTB_db \"\n",
      "w is ['C', 'C', 'C', 'H', 'H', 'H', 'H', 'O', 'O', 'O']\n",
      "setting up calculator\n"
     ]
    },
    {
     "name": "stderr",
     "output_type": "stream",
     "text": [
      "425it [03:08,  2.37it/s]"
     ]
    },
    {
     "name": "stdout",
     "output_type": "stream",
     "text": [
      "structure 425 written to DFTB_db \"\n",
      "w is ['C', 'C', 'C', 'H', 'H', 'H', 'H', 'O', 'O', 'O']\n",
      "setting up calculator\n"
     ]
    },
    {
     "name": "stderr",
     "output_type": "stream",
     "text": [
      "426it [03:08,  2.49it/s]"
     ]
    },
    {
     "name": "stdout",
     "output_type": "stream",
     "text": [
      "structure 426 written to DFTB_db \"\n",
      "w is ['C', 'C', 'C', 'H', 'H', 'H', 'H', 'O', 'O', 'O']\n",
      "setting up calculator\n"
     ]
    },
    {
     "name": "stderr",
     "output_type": "stream",
     "text": [
      "427it [03:09,  2.72it/s]"
     ]
    },
    {
     "name": "stdout",
     "output_type": "stream",
     "text": [
      "structure 427 written to DFTB_db \"\n",
      "w is ['C', 'C', 'C', 'H', 'H', 'H', 'H', 'O', 'O', 'O']\n",
      "setting up calculator\n"
     ]
    },
    {
     "name": "stderr",
     "output_type": "stream",
     "text": [
      "428it [03:09,  2.93it/s]"
     ]
    },
    {
     "name": "stdout",
     "output_type": "stream",
     "text": [
      "structure 428 written to DFTB_db \"\n",
      "w is ['C', 'C', 'C', 'H', 'H', 'H', 'H', 'O', 'O', 'O']\n",
      "setting up calculator\n"
     ]
    },
    {
     "name": "stderr",
     "output_type": "stream",
     "text": [
      "429it [03:09,  3.11it/s]"
     ]
    },
    {
     "name": "stdout",
     "output_type": "stream",
     "text": [
      "structure 429 written to DFTB_db \"\n",
      "w is ['C', 'C', 'C', 'H', 'H', 'H', 'H', 'O', 'O', 'O']\n",
      "setting up calculator\n"
     ]
    },
    {
     "name": "stderr",
     "output_type": "stream",
     "text": [
      "430it [03:10,  3.21it/s]"
     ]
    },
    {
     "name": "stdout",
     "output_type": "stream",
     "text": [
      "structure 430 written to DFTB_db \"\n",
      "w is ['C', 'C', 'C', 'H', 'H', 'H', 'H', 'O', 'O', 'O']\n",
      "setting up calculator\n"
     ]
    },
    {
     "name": "stderr",
     "output_type": "stream",
     "text": [
      "431it [03:10,  3.19it/s]"
     ]
    },
    {
     "name": "stdout",
     "output_type": "stream",
     "text": [
      "structure 431 written to DFTB_db \"\n",
      "w is ['C', 'C', 'C', 'H', 'H', 'H', 'H', 'O', 'O', 'O']\n",
      "setting up calculator\n"
     ]
    },
    {
     "name": "stderr",
     "output_type": "stream",
     "text": [
      "432it [03:10,  3.40it/s]"
     ]
    },
    {
     "name": "stdout",
     "output_type": "stream",
     "text": [
      "structure 432 written to DFTB_db \"\n",
      "w is ['C', 'C', 'C', 'H', 'H', 'H', 'H', 'O', 'O', 'O']\n",
      "setting up calculator\n"
     ]
    },
    {
     "name": "stderr",
     "output_type": "stream",
     "text": [
      "433it [03:11,  3.21it/s]"
     ]
    },
    {
     "name": "stdout",
     "output_type": "stream",
     "text": [
      "structure 433 written to DFTB_db \"\n",
      "w is ['C', 'C', 'C', 'H', 'H', 'H', 'H', 'O', 'O', 'O']\n",
      "setting up calculator\n"
     ]
    },
    {
     "name": "stderr",
     "output_type": "stream",
     "text": [
      "434it [03:11,  3.04it/s]"
     ]
    },
    {
     "name": "stdout",
     "output_type": "stream",
     "text": [
      "structure 434 written to DFTB_db \"\n",
      "w is ['C', 'C', 'C', 'H', 'H', 'H', 'H', 'O', 'O', 'O']\n",
      "setting up calculator\n"
     ]
    },
    {
     "name": "stderr",
     "output_type": "stream",
     "text": [
      "435it [03:11,  2.69it/s]"
     ]
    },
    {
     "name": "stdout",
     "output_type": "stream",
     "text": [
      "structure 435 written to DFTB_db \"\n",
      "w is ['C', 'C', 'C', 'H', 'H', 'H', 'H', 'O', 'O', 'O']\n",
      "setting up calculator\n"
     ]
    },
    {
     "name": "stderr",
     "output_type": "stream",
     "text": [
      "436it [03:12,  2.36it/s]"
     ]
    },
    {
     "name": "stdout",
     "output_type": "stream",
     "text": [
      "structure 436 written to DFTB_db \"\n",
      "w is ['C', 'C', 'C', 'H', 'H', 'H', 'H', 'O', 'O', 'O']\n",
      "setting up calculator\n"
     ]
    },
    {
     "name": "stderr",
     "output_type": "stream",
     "text": [
      "437it [03:12,  2.27it/s]"
     ]
    },
    {
     "name": "stdout",
     "output_type": "stream",
     "text": [
      "structure 437 written to DFTB_db \"\n",
      "w is ['C', 'C', 'C', 'H', 'H', 'H', 'H', 'O', 'O', 'O']\n",
      "setting up calculator\n"
     ]
    },
    {
     "name": "stderr",
     "output_type": "stream",
     "text": [
      "438it [03:13,  2.06it/s]"
     ]
    },
    {
     "name": "stdout",
     "output_type": "stream",
     "text": [
      "structure 438 written to DFTB_db \"\n",
      "w is ['C', 'C', 'C', 'H', 'H', 'H', 'H', 'O', 'O', 'O']\n",
      "setting up calculator\n"
     ]
    },
    {
     "name": "stderr",
     "output_type": "stream",
     "text": [
      "439it [03:14,  1.89it/s]"
     ]
    },
    {
     "name": "stdout",
     "output_type": "stream",
     "text": [
      "structure 439 written to DFTB_db \"\n",
      "w is ['C', 'C', 'C', 'H', 'H', 'H', 'H', 'O', 'O', 'O']\n",
      "setting up calculator\n"
     ]
    },
    {
     "name": "stderr",
     "output_type": "stream",
     "text": [
      "440it [03:14,  1.94it/s]"
     ]
    },
    {
     "name": "stdout",
     "output_type": "stream",
     "text": [
      "structure 440 written to DFTB_db \"\n",
      "w is ['C', 'C', 'C', 'H', 'H', 'H', 'H', 'O', 'O', 'O']\n",
      "setting up calculator\n"
     ]
    },
    {
     "name": "stderr",
     "output_type": "stream",
     "text": [
      "441it [03:15,  1.69it/s]"
     ]
    },
    {
     "name": "stdout",
     "output_type": "stream",
     "text": [
      "structure 441 written to DFTB_db \"\n",
      "w is ['C', 'C', 'C', 'H', 'H', 'H', 'H', 'O', 'O', 'O']\n",
      "setting up calculator\n"
     ]
    },
    {
     "name": "stderr",
     "output_type": "stream",
     "text": [
      "442it [03:16,  1.58it/s]"
     ]
    },
    {
     "name": "stdout",
     "output_type": "stream",
     "text": [
      "structure 442 written to DFTB_db \"\n",
      "w is ['C', 'C', 'C', 'H', 'H', 'H', 'H', 'O', 'O', 'O']\n",
      "setting up calculator\n"
     ]
    },
    {
     "name": "stderr",
     "output_type": "stream",
     "text": [
      "443it [03:16,  1.66it/s]"
     ]
    },
    {
     "name": "stdout",
     "output_type": "stream",
     "text": [
      "structure 443 written to DFTB_db \"\n",
      "w is ['C', 'C', 'C', 'H', 'H', 'H', 'H', 'O', 'O', 'O']\n",
      "setting up calculator\n"
     ]
    },
    {
     "name": "stderr",
     "output_type": "stream",
     "text": [
      "444it [03:16,  1.86it/s]"
     ]
    },
    {
     "name": "stdout",
     "output_type": "stream",
     "text": [
      "structure 444 written to DFTB_db \"\n",
      "w is ['C', 'C', 'C', 'H', 'H', 'H', 'H', 'O', 'O', 'O']\n",
      "setting up calculator\n"
     ]
    },
    {
     "name": "stderr",
     "output_type": "stream",
     "text": [
      "445it [03:17,  1.73it/s]"
     ]
    },
    {
     "name": "stdout",
     "output_type": "stream",
     "text": [
      "structure 445 written to DFTB_db \"\n",
      "w is ['C', 'C', 'C', 'H', 'H', 'H', 'H', 'O', 'O', 'O']\n",
      "setting up calculator\n"
     ]
    },
    {
     "name": "stderr",
     "output_type": "stream",
     "text": [
      "446it [03:17,  2.05it/s]"
     ]
    },
    {
     "name": "stdout",
     "output_type": "stream",
     "text": [
      "structure 446 written to DFTB_db \"\n",
      "w is ['C', 'C', 'C', 'H', 'H', 'H', 'H', 'O', 'O', 'O']\n",
      "setting up calculator\n"
     ]
    },
    {
     "name": "stderr",
     "output_type": "stream",
     "text": [
      "447it [03:18,  1.97it/s]"
     ]
    },
    {
     "name": "stdout",
     "output_type": "stream",
     "text": [
      "structure 447 written to DFTB_db \"\n",
      "w is ['C', 'C', 'C', 'H', 'H', 'H', 'H', 'O', 'O', 'O']\n",
      "setting up calculator\n"
     ]
    },
    {
     "name": "stderr",
     "output_type": "stream",
     "text": [
      "448it [03:18,  2.32it/s]"
     ]
    },
    {
     "name": "stdout",
     "output_type": "stream",
     "text": [
      "structure 448 written to DFTB_db \"\n",
      "w is ['C', 'C', 'C', 'H', 'H', 'H', 'H', 'O', 'O', 'O']\n",
      "setting up calculator\n"
     ]
    },
    {
     "name": "stderr",
     "output_type": "stream",
     "text": [
      "449it [03:19,  2.26it/s]"
     ]
    },
    {
     "name": "stdout",
     "output_type": "stream",
     "text": [
      "structure 449 written to DFTB_db \"\n",
      "w is ['C', 'C', 'C', 'H', 'H', 'H', 'H', 'O', 'O', 'O']\n",
      "setting up calculator\n"
     ]
    },
    {
     "name": "stderr",
     "output_type": "stream",
     "text": [
      "450it [03:19,  2.05it/s]"
     ]
    },
    {
     "name": "stdout",
     "output_type": "stream",
     "text": [
      "structure 450 written to DFTB_db \"\n",
      "w is ['C', 'C', 'C', 'H', 'H', 'H', 'H', 'O', 'O', 'O']\n",
      "setting up calculator\n"
     ]
    },
    {
     "name": "stderr",
     "output_type": "stream",
     "text": [
      "451it [03:20,  2.34it/s]"
     ]
    },
    {
     "name": "stdout",
     "output_type": "stream",
     "text": [
      "structure 451 written to DFTB_db \"\n",
      "w is ['C', 'C', 'C', 'H', 'H', 'H', 'H', 'O', 'O', 'O']\n",
      "setting up calculator\n"
     ]
    },
    {
     "name": "stderr",
     "output_type": "stream",
     "text": [
      "452it [03:20,  2.36it/s]"
     ]
    },
    {
     "name": "stdout",
     "output_type": "stream",
     "text": [
      "structure 452 written to DFTB_db \"\n",
      "w is ['C', 'C', 'C', 'H', 'H', 'H', 'H', 'O', 'O', 'O']\n",
      "setting up calculator\n"
     ]
    },
    {
     "name": "stderr",
     "output_type": "stream",
     "text": [
      "453it [03:20,  2.33it/s]"
     ]
    },
    {
     "name": "stdout",
     "output_type": "stream",
     "text": [
      "structure 453 written to DFTB_db \"\n",
      "w is ['C', 'C', 'C', 'H', 'H', 'H', 'H', 'O', 'O', 'O']\n",
      "setting up calculator\n"
     ]
    },
    {
     "name": "stderr",
     "output_type": "stream",
     "text": [
      "454it [03:21,  2.49it/s]"
     ]
    },
    {
     "name": "stdout",
     "output_type": "stream",
     "text": [
      "structure 454 written to DFTB_db \"\n",
      "w is ['C', 'C', 'C', 'H', 'H', 'H', 'H', 'O', 'O', 'O']\n",
      "setting up calculator\n"
     ]
    },
    {
     "name": "stderr",
     "output_type": "stream",
     "text": [
      "455it [03:21,  2.71it/s]"
     ]
    },
    {
     "name": "stdout",
     "output_type": "stream",
     "text": [
      "structure 455 written to DFTB_db \"\n",
      "w is ['C', 'C', 'C', 'H', 'H', 'H', 'H', 'O', 'O', 'O']\n",
      "setting up calculator\n"
     ]
    },
    {
     "name": "stderr",
     "output_type": "stream",
     "text": [
      "456it [03:21,  3.04it/s]"
     ]
    },
    {
     "name": "stdout",
     "output_type": "stream",
     "text": [
      "structure 456 written to DFTB_db \"\n",
      "w is ['C', 'C', 'C', 'H', 'H', 'H', 'H', 'O', 'O', 'O']\n",
      "setting up calculator\n"
     ]
    },
    {
     "name": "stderr",
     "output_type": "stream",
     "text": [
      "457it [03:22,  2.89it/s]"
     ]
    },
    {
     "name": "stdout",
     "output_type": "stream",
     "text": [
      "structure 457 written to DFTB_db \"\n",
      "w is ['C', 'C', 'C', 'H', 'H', 'H', 'H', 'O', 'O', 'O']\n",
      "setting up calculator\n"
     ]
    },
    {
     "name": "stderr",
     "output_type": "stream",
     "text": [
      "458it [03:22,  3.10it/s]"
     ]
    },
    {
     "name": "stdout",
     "output_type": "stream",
     "text": [
      "structure 458 written to DFTB_db \"\n",
      "w is ['C', 'C', 'C', 'H', 'H', 'H', 'H', 'O', 'O', 'O']\n",
      "setting up calculator\n"
     ]
    },
    {
     "name": "stderr",
     "output_type": "stream",
     "text": [
      "459it [03:22,  3.33it/s]"
     ]
    },
    {
     "name": "stdout",
     "output_type": "stream",
     "text": [
      "structure 459 written to DFTB_db \"\n",
      "w is ['C', 'C', 'C', 'H', 'H', 'H', 'H', 'O', 'O', 'O']\n",
      "setting up calculator\n"
     ]
    },
    {
     "name": "stderr",
     "output_type": "stream",
     "text": [
      "460it [03:23,  3.21it/s]"
     ]
    },
    {
     "name": "stdout",
     "output_type": "stream",
     "text": [
      "structure 460 written to DFTB_db \"\n",
      "w is ['C', 'C', 'C', 'H', 'H', 'H', 'H', 'O', 'O', 'O']\n",
      "setting up calculator\n"
     ]
    },
    {
     "name": "stderr",
     "output_type": "stream",
     "text": [
      "461it [03:23,  2.82it/s]"
     ]
    },
    {
     "name": "stdout",
     "output_type": "stream",
     "text": [
      "structure 461 written to DFTB_db \"\n",
      "w is ['C', 'C', 'C', 'H', 'H', 'H', 'H', 'O', 'O', 'O']\n",
      "setting up calculator\n"
     ]
    },
    {
     "name": "stderr",
     "output_type": "stream",
     "text": [
      "462it [03:23,  3.05it/s]"
     ]
    },
    {
     "name": "stdout",
     "output_type": "stream",
     "text": [
      "structure 462 written to DFTB_db \"\n",
      "w is ['C', 'C', 'C', 'H', 'H', 'H', 'H', 'O', 'O', 'O']\n",
      "setting up calculator\n"
     ]
    },
    {
     "name": "stderr",
     "output_type": "stream",
     "text": [
      "463it [03:24,  2.91it/s]"
     ]
    },
    {
     "name": "stdout",
     "output_type": "stream",
     "text": [
      "structure 463 written to DFTB_db \"\n",
      "w is ['C', 'C', 'C', 'H', 'H', 'H', 'H', 'O', 'O', 'O']\n",
      "setting up calculator\n"
     ]
    },
    {
     "name": "stderr",
     "output_type": "stream",
     "text": [
      "464it [03:24,  2.96it/s]"
     ]
    },
    {
     "name": "stdout",
     "output_type": "stream",
     "text": [
      "structure 464 written to DFTB_db \"\n",
      "w is ['C', 'C', 'C', 'H', 'H', 'H', 'H', 'O', 'O', 'O']\n",
      "setting up calculator\n"
     ]
    },
    {
     "name": "stderr",
     "output_type": "stream",
     "text": [
      "465it [03:24,  3.10it/s]"
     ]
    },
    {
     "name": "stdout",
     "output_type": "stream",
     "text": [
      "structure 465 written to DFTB_db \"\n",
      "w is ['C', 'C', 'C', 'H', 'H', 'H', 'H', 'O', 'O', 'O']\n",
      "setting up calculator\n"
     ]
    },
    {
     "name": "stderr",
     "output_type": "stream",
     "text": [
      "466it [03:25,  2.69it/s]"
     ]
    },
    {
     "name": "stdout",
     "output_type": "stream",
     "text": [
      "structure 466 written to DFTB_db \"\n",
      "w is ['C', 'C', 'C', 'H', 'H', 'H', 'H', 'O', 'O', 'O']\n",
      "setting up calculator\n"
     ]
    },
    {
     "name": "stderr",
     "output_type": "stream",
     "text": [
      "467it [03:25,  2.72it/s]"
     ]
    },
    {
     "name": "stdout",
     "output_type": "stream",
     "text": [
      "structure 467 written to DFTB_db \"\n",
      "w is ['C', 'C', 'C', 'H', 'H', 'H', 'H', 'O', 'O', 'O']\n",
      "setting up calculator\n"
     ]
    },
    {
     "name": "stderr",
     "output_type": "stream",
     "text": [
      "468it [03:25,  2.93it/s]"
     ]
    },
    {
     "name": "stdout",
     "output_type": "stream",
     "text": [
      "structure 468 written to DFTB_db \"\n",
      "w is ['C', 'C', 'C', 'H', 'H', 'H', 'H', 'O', 'O', 'O']\n",
      "setting up calculator\n"
     ]
    },
    {
     "name": "stderr",
     "output_type": "stream",
     "text": [
      "469it [03:26,  3.12it/s]"
     ]
    },
    {
     "name": "stdout",
     "output_type": "stream",
     "text": [
      "structure 469 written to DFTB_db \"\n",
      "w is ['C', 'C', 'C', 'H', 'H', 'H', 'H', 'O', 'O', 'O']\n",
      "setting up calculator\n"
     ]
    },
    {
     "name": "stderr",
     "output_type": "stream",
     "text": [
      "470it [03:26,  3.28it/s]"
     ]
    },
    {
     "name": "stdout",
     "output_type": "stream",
     "text": [
      "structure 470 written to DFTB_db \"\n",
      "w is ['C', 'C', 'C', 'H', 'H', 'H', 'H', 'O', 'O', 'O']\n",
      "setting up calculator\n"
     ]
    },
    {
     "name": "stderr",
     "output_type": "stream",
     "text": [
      "471it [03:26,  3.41it/s]"
     ]
    },
    {
     "name": "stdout",
     "output_type": "stream",
     "text": [
      "structure 471 written to DFTB_db \"\n",
      "w is ['C', 'C', 'C', 'H', 'H', 'H', 'H', 'O', 'O', 'O']\n",
      "setting up calculator\n"
     ]
    },
    {
     "name": "stderr",
     "output_type": "stream",
     "text": [
      "472it [03:27,  3.31it/s]"
     ]
    },
    {
     "name": "stdout",
     "output_type": "stream",
     "text": [
      "structure 472 written to DFTB_db \"\n",
      "w is ['C', 'C', 'C', 'H', 'H', 'H', 'H', 'O', 'O', 'O']\n",
      "setting up calculator\n"
     ]
    },
    {
     "name": "stderr",
     "output_type": "stream",
     "text": [
      "473it [03:27,  3.33it/s]"
     ]
    },
    {
     "name": "stdout",
     "output_type": "stream",
     "text": [
      "structure 473 written to DFTB_db \"\n",
      "w is ['C', 'C', 'C', 'H', 'H', 'H', 'H', 'O', 'O', 'O']\n",
      "setting up calculator\n"
     ]
    },
    {
     "name": "stderr",
     "output_type": "stream",
     "text": [
      "474it [03:27,  3.43it/s]"
     ]
    },
    {
     "name": "stdout",
     "output_type": "stream",
     "text": [
      "structure 474 written to DFTB_db \"\n",
      "w is ['C', 'C', 'C', 'H', 'H', 'H', 'H', 'O', 'O', 'O']\n",
      "setting up calculator\n"
     ]
    },
    {
     "name": "stderr",
     "output_type": "stream",
     "text": [
      "475it [03:28,  2.76it/s]"
     ]
    },
    {
     "name": "stdout",
     "output_type": "stream",
     "text": [
      "structure 475 written to DFTB_db \"\n",
      "w is ['C', 'C', 'C', 'H', 'H', 'H', 'H', 'O', 'O', 'O']\n",
      "setting up calculator\n"
     ]
    },
    {
     "name": "stderr",
     "output_type": "stream",
     "text": [
      "476it [03:28,  2.88it/s]"
     ]
    },
    {
     "name": "stdout",
     "output_type": "stream",
     "text": [
      "structure 476 written to DFTB_db \"\n",
      "w is ['C', 'C', 'C', 'H', 'H', 'H', 'H', 'O', 'O', 'O']\n",
      "setting up calculator\n"
     ]
    },
    {
     "name": "stderr",
     "output_type": "stream",
     "text": [
      "477it [03:28,  2.55it/s]"
     ]
    },
    {
     "name": "stdout",
     "output_type": "stream",
     "text": [
      "structure 477 written to DFTB_db \"\n",
      "w is ['C', 'C', 'C', 'H', 'H', 'H', 'H', 'O', 'O', 'O']\n",
      "setting up calculator\n"
     ]
    },
    {
     "name": "stderr",
     "output_type": "stream",
     "text": [
      "478it [03:29,  2.73it/s]"
     ]
    },
    {
     "name": "stdout",
     "output_type": "stream",
     "text": [
      "structure 478 written to DFTB_db \"\n",
      "w is ['C', 'C', 'C', 'H', 'H', 'H', 'H', 'O', 'O', 'O']\n",
      "setting up calculator\n"
     ]
    },
    {
     "name": "stderr",
     "output_type": "stream",
     "text": [
      "479it [03:29,  2.97it/s]"
     ]
    },
    {
     "name": "stdout",
     "output_type": "stream",
     "text": [
      "structure 479 written to DFTB_db \"\n",
      "w is ['C', 'C', 'C', 'H', 'H', 'H', 'H', 'O', 'O', 'O']\n",
      "setting up calculator\n"
     ]
    },
    {
     "name": "stderr",
     "output_type": "stream",
     "text": [
      "480it [03:29,  2.75it/s]"
     ]
    },
    {
     "name": "stdout",
     "output_type": "stream",
     "text": [
      "structure 480 written to DFTB_db \"\n",
      "w is ['C', 'C', 'C', 'H', 'H', 'H', 'H', 'O', 'O', 'O']\n",
      "setting up calculator\n"
     ]
    },
    {
     "name": "stderr",
     "output_type": "stream",
     "text": [
      "481it [03:30,  2.93it/s]"
     ]
    },
    {
     "name": "stdout",
     "output_type": "stream",
     "text": [
      "structure 481 written to DFTB_db \"\n",
      "w is ['C', 'C', 'C', 'H', 'H', 'H', 'H', 'O', 'O', 'O']\n",
      "setting up calculator\n"
     ]
    },
    {
     "name": "stderr",
     "output_type": "stream",
     "text": [
      "482it [03:30,  3.16it/s]"
     ]
    },
    {
     "name": "stdout",
     "output_type": "stream",
     "text": [
      "structure 482 written to DFTB_db \"\n",
      "w is ['C', 'C', 'C', 'H', 'H', 'H', 'H', 'O', 'O', 'O']\n",
      "setting up calculator\n"
     ]
    },
    {
     "name": "stderr",
     "output_type": "stream",
     "text": [
      "483it [03:30,  2.69it/s]"
     ]
    },
    {
     "name": "stdout",
     "output_type": "stream",
     "text": [
      "structure 483 written to DFTB_db \"\n",
      "w is ['C', 'C', 'C', 'H', 'H', 'H', 'H', 'O', 'O', 'O']\n",
      "setting up calculator\n"
     ]
    },
    {
     "name": "stderr",
     "output_type": "stream",
     "text": [
      "484it [03:31,  2.50it/s]"
     ]
    },
    {
     "name": "stdout",
     "output_type": "stream",
     "text": [
      "structure 484 written to DFTB_db \"\n",
      "w is ['C', 'C', 'C', 'H', 'H', 'H', 'H', 'O', 'O', 'O']\n",
      "setting up calculator\n"
     ]
    },
    {
     "name": "stderr",
     "output_type": "stream",
     "text": [
      "485it [03:31,  2.69it/s]"
     ]
    },
    {
     "name": "stdout",
     "output_type": "stream",
     "text": [
      "structure 485 written to DFTB_db \"\n",
      "w is ['C', 'C', 'C', 'H', 'H', 'H', 'H', 'O', 'O', 'O']\n",
      "setting up calculator\n"
     ]
    },
    {
     "name": "stderr",
     "output_type": "stream",
     "text": [
      "486it [03:32,  2.58it/s]"
     ]
    },
    {
     "name": "stdout",
     "output_type": "stream",
     "text": [
      "structure 486 written to DFTB_db \"\n",
      "w is ['C', 'C', 'C', 'H', 'H', 'H', 'H', 'O', 'O', 'O']\n",
      "setting up calculator\n"
     ]
    },
    {
     "name": "stderr",
     "output_type": "stream",
     "text": [
      "487it [03:32,  2.64it/s]"
     ]
    },
    {
     "name": "stdout",
     "output_type": "stream",
     "text": [
      "structure 487 written to DFTB_db \"\n",
      "w is ['C', 'C', 'C', 'H', 'H', 'H', 'H', 'O', 'O', 'O']\n",
      "setting up calculator\n"
     ]
    },
    {
     "name": "stderr",
     "output_type": "stream",
     "text": [
      "488it [03:32,  2.97it/s]"
     ]
    },
    {
     "name": "stdout",
     "output_type": "stream",
     "text": [
      "structure 488 written to DFTB_db \"\n",
      "w is ['C', 'C', 'C', 'H', 'H', 'H', 'H', 'O', 'O', 'O']\n",
      "setting up calculator\n"
     ]
    },
    {
     "name": "stderr",
     "output_type": "stream",
     "text": [
      "489it [03:33,  2.70it/s]"
     ]
    },
    {
     "name": "stdout",
     "output_type": "stream",
     "text": [
      "structure 489 written to DFTB_db \"\n",
      "w is ['C', 'C', 'C', 'H', 'H', 'H', 'H', 'O', 'O', 'O']\n",
      "setting up calculator\n"
     ]
    },
    {
     "name": "stderr",
     "output_type": "stream",
     "text": [
      "490it [03:33,  2.99it/s]"
     ]
    },
    {
     "name": "stdout",
     "output_type": "stream",
     "text": [
      "structure 490 written to DFTB_db \"\n",
      "w is ['C', 'C', 'C', 'H', 'H', 'H', 'H', 'O', 'O', 'O']\n",
      "setting up calculator\n"
     ]
    },
    {
     "name": "stderr",
     "output_type": "stream",
     "text": [
      "491it [03:33,  2.63it/s]"
     ]
    },
    {
     "name": "stdout",
     "output_type": "stream",
     "text": [
      "structure 491 written to DFTB_db \"\n",
      "w is ['C', 'C', 'C', 'H', 'H', 'H', 'H', 'O', 'O', 'O']\n",
      "setting up calculator\n"
     ]
    },
    {
     "name": "stderr",
     "output_type": "stream",
     "text": [
      "492it [03:34,  2.53it/s]"
     ]
    },
    {
     "name": "stdout",
     "output_type": "stream",
     "text": [
      "structure 492 written to DFTB_db \"\n",
      "w is ['C', 'C', 'C', 'H', 'H', 'H', 'H', 'Li', 'O', 'O', 'O']\n",
      "setting up calculator\n"
     ]
    },
    {
     "name": "stderr",
     "output_type": "stream",
     "text": [
      "493it [03:34,  2.58it/s]"
     ]
    },
    {
     "name": "stdout",
     "output_type": "stream",
     "text": [
      "structure 493 written to DFTB_db \"\n",
      "w is ['C', 'C', 'C', 'H', 'H', 'H', 'H', 'Li', 'O', 'O', 'O']\n",
      "setting up calculator\n"
     ]
    },
    {
     "name": "stderr",
     "output_type": "stream",
     "text": [
      "494it [03:35,  2.42it/s]"
     ]
    },
    {
     "name": "stdout",
     "output_type": "stream",
     "text": [
      "structure 494 written to DFTB_db \"\n",
      "w is ['C', 'C', 'C', 'H', 'H', 'H', 'H', 'Li', 'O', 'O', 'O']\n",
      "setting up calculator\n"
     ]
    },
    {
     "name": "stderr",
     "output_type": "stream",
     "text": [
      "495it [03:35,  2.22it/s]"
     ]
    },
    {
     "name": "stdout",
     "output_type": "stream",
     "text": [
      "structure 495 written to DFTB_db \"\n",
      "w is ['C', 'C', 'C', 'H', 'H', 'H', 'H', 'Li', 'O', 'O', 'O']\n",
      "setting up calculator\n"
     ]
    },
    {
     "name": "stderr",
     "output_type": "stream",
     "text": [
      "496it [03:36,  2.36it/s]"
     ]
    },
    {
     "name": "stdout",
     "output_type": "stream",
     "text": [
      "structure 496 written to DFTB_db \"\n",
      "w is ['C', 'C', 'C', 'H', 'H', 'H', 'H', 'Li', 'O', 'O', 'O']\n",
      "setting up calculator\n"
     ]
    },
    {
     "name": "stderr",
     "output_type": "stream",
     "text": [
      "497it [03:36,  2.52it/s]"
     ]
    },
    {
     "name": "stdout",
     "output_type": "stream",
     "text": [
      "structure 497 written to DFTB_db \"\n",
      "w is ['C', 'C', 'C', 'H', 'H', 'H', 'H', 'Li', 'O', 'O', 'O']\n",
      "setting up calculator\n"
     ]
    },
    {
     "name": "stderr",
     "output_type": "stream",
     "text": [
      "498it [03:36,  2.70it/s]"
     ]
    },
    {
     "name": "stdout",
     "output_type": "stream",
     "text": [
      "structure 498 written to DFTB_db \"\n",
      "w is ['C', 'C', 'C', 'H', 'H', 'H', 'H', 'Li', 'O', 'O', 'O']\n",
      "setting up calculator\n"
     ]
    },
    {
     "name": "stderr",
     "output_type": "stream",
     "text": [
      "499it [03:37,  2.10it/s]"
     ]
    },
    {
     "name": "stdout",
     "output_type": "stream",
     "text": [
      "structure 499 written to DFTB_db \"\n",
      "w is ['C', 'C', 'C', 'H', 'H', 'H', 'H', 'Li', 'O', 'O', 'O']\n",
      "setting up calculator\n"
     ]
    },
    {
     "name": "stderr",
     "output_type": "stream",
     "text": [
      "500it [03:38,  1.76it/s]"
     ]
    },
    {
     "name": "stdout",
     "output_type": "stream",
     "text": [
      "structure 500 written to DFTB_db \"\n",
      "w is ['C', 'C', 'C', 'H', 'H', 'H', 'H', 'Li', 'O', 'O', 'O']\n",
      "setting up calculator\n"
     ]
    },
    {
     "name": "stderr",
     "output_type": "stream",
     "text": [
      "501it [03:38,  1.76it/s]"
     ]
    },
    {
     "name": "stdout",
     "output_type": "stream",
     "text": [
      "structure 501 written to DFTB_db \"\n",
      "w is ['C', 'C', 'C', 'H', 'H', 'H', 'H', 'Li', 'O', 'O', 'O']\n",
      "setting up calculator\n"
     ]
    },
    {
     "name": "stderr",
     "output_type": "stream",
     "text": [
      "502it [03:39,  1.75it/s]"
     ]
    },
    {
     "name": "stdout",
     "output_type": "stream",
     "text": [
      "structure 502 written to DFTB_db \"\n",
      "w is ['C', 'C', 'C', 'H', 'H', 'H', 'H', 'Li', 'O', 'O', 'O']\n",
      "setting up calculator\n"
     ]
    },
    {
     "name": "stderr",
     "output_type": "stream",
     "text": [
      "503it [03:39,  2.02it/s]"
     ]
    },
    {
     "name": "stdout",
     "output_type": "stream",
     "text": [
      "structure 503 written to DFTB_db \"\n",
      "w is ['C', 'C', 'C', 'H', 'H', 'H', 'H', 'Li', 'O', 'O', 'O']\n",
      "setting up calculator\n"
     ]
    },
    {
     "name": "stderr",
     "output_type": "stream",
     "text": [
      "504it [03:40,  2.01it/s]"
     ]
    },
    {
     "name": "stdout",
     "output_type": "stream",
     "text": [
      "structure 504 written to DFTB_db \"\n",
      "w is ['C', 'C', 'C', 'H', 'H', 'H', 'H', 'Li', 'O', 'O', 'O']\n",
      "setting up calculator\n"
     ]
    },
    {
     "name": "stderr",
     "output_type": "stream",
     "text": [
      "505it [03:40,  2.30it/s]"
     ]
    },
    {
     "name": "stdout",
     "output_type": "stream",
     "text": [
      "structure 505 written to DFTB_db \"\n",
      "w is ['C', 'C', 'C', 'H', 'H', 'H', 'H', 'Li', 'O', 'O', 'O']\n",
      "setting up calculator\n"
     ]
    },
    {
     "name": "stderr",
     "output_type": "stream",
     "text": [
      "506it [03:40,  2.57it/s]"
     ]
    },
    {
     "name": "stdout",
     "output_type": "stream",
     "text": [
      "structure 506 written to DFTB_db \"\n",
      "w is ['C', 'C', 'C', 'H', 'H', 'H', 'H', 'Li', 'O', 'O', 'O']\n",
      "setting up calculator\n"
     ]
    },
    {
     "name": "stderr",
     "output_type": "stream",
     "text": [
      "507it [03:41,  2.76it/s]"
     ]
    },
    {
     "name": "stdout",
     "output_type": "stream",
     "text": [
      "structure 507 written to DFTB_db \"\n",
      "w is ['C', 'C', 'C', 'H', 'H', 'H', 'H', 'Li', 'O', 'O', 'O']\n",
      "setting up calculator\n"
     ]
    },
    {
     "name": "stderr",
     "output_type": "stream",
     "text": [
      "508it [03:41,  2.31it/s]"
     ]
    },
    {
     "name": "stdout",
     "output_type": "stream",
     "text": [
      "structure 508 written to DFTB_db \"\n",
      "w is ['C', 'C', 'C', 'H', 'H', 'H', 'H', 'Li', 'O', 'O', 'O']\n",
      "setting up calculator\n"
     ]
    },
    {
     "name": "stderr",
     "output_type": "stream",
     "text": [
      "509it [03:42,  2.15it/s]"
     ]
    },
    {
     "name": "stdout",
     "output_type": "stream",
     "text": [
      "structure 509 written to DFTB_db \"\n",
      "w is ['C', 'C', 'C', 'H', 'H', 'H', 'H', 'Li', 'O', 'O', 'O']\n",
      "setting up calculator\n"
     ]
    },
    {
     "name": "stderr",
     "output_type": "stream",
     "text": [
      "510it [03:42,  1.89it/s]"
     ]
    },
    {
     "name": "stdout",
     "output_type": "stream",
     "text": [
      "structure 510 written to DFTB_db \"\n",
      "w is ['C', 'C', 'C', 'H', 'H', 'H', 'H', 'Li', 'O', 'O', 'O']\n",
      "setting up calculator\n"
     ]
    },
    {
     "name": "stderr",
     "output_type": "stream",
     "text": [
      "511it [03:43,  2.11it/s]"
     ]
    },
    {
     "name": "stdout",
     "output_type": "stream",
     "text": [
      "structure 511 written to DFTB_db \"\n",
      "w is ['C', 'C', 'C', 'H', 'H', 'H', 'H', 'Li', 'O', 'O', 'O']\n",
      "setting up calculator\n"
     ]
    },
    {
     "name": "stderr",
     "output_type": "stream",
     "text": [
      "512it [03:43,  2.03it/s]"
     ]
    },
    {
     "name": "stdout",
     "output_type": "stream",
     "text": [
      "structure 512 written to DFTB_db \"\n",
      "w is ['C', 'C', 'C', 'H', 'H', 'H', 'H', 'Li', 'O', 'O', 'O']\n",
      "setting up calculator\n"
     ]
    },
    {
     "name": "stderr",
     "output_type": "stream",
     "text": [
      "513it [03:44,  1.83it/s]"
     ]
    },
    {
     "name": "stdout",
     "output_type": "stream",
     "text": [
      "structure 513 written to DFTB_db \"\n",
      "w is ['C', 'C', 'C', 'H', 'H', 'H', 'H', 'Li', 'O', 'O', 'O']\n",
      "setting up calculator\n"
     ]
    },
    {
     "name": "stderr",
     "output_type": "stream",
     "text": [
      "514it [03:44,  1.90it/s]"
     ]
    },
    {
     "name": "stdout",
     "output_type": "stream",
     "text": [
      "structure 514 written to DFTB_db \"\n",
      "w is ['C', 'C', 'C', 'H', 'H', 'H', 'H', 'Li', 'O', 'O', 'O']\n",
      "setting up calculator\n"
     ]
    },
    {
     "name": "stderr",
     "output_type": "stream",
     "text": [
      "515it [03:45,  2.01it/s]"
     ]
    },
    {
     "name": "stdout",
     "output_type": "stream",
     "text": [
      "structure 515 written to DFTB_db \"\n",
      "w is ['C', 'C', 'C', 'H', 'H', 'H', 'H', 'Li', 'O', 'O', 'O']\n",
      "setting up calculator\n"
     ]
    },
    {
     "name": "stderr",
     "output_type": "stream",
     "text": [
      "516it [03:46,  1.64it/s]"
     ]
    },
    {
     "name": "stdout",
     "output_type": "stream",
     "text": [
      "structure 516 written to DFTB_db \"\n",
      "w is ['C', 'C', 'C', 'H', 'H', 'H', 'H', 'Li', 'O', 'O', 'O']\n",
      "setting up calculator\n"
     ]
    },
    {
     "name": "stderr",
     "output_type": "stream",
     "text": [
      "517it [03:46,  1.76it/s]"
     ]
    },
    {
     "name": "stdout",
     "output_type": "stream",
     "text": [
      "structure 517 written to DFTB_db \"\n",
      "w is ['C', 'C', 'C', 'H', 'H', 'H', 'H', 'Li', 'O', 'O', 'O']\n",
      "setting up calculator\n"
     ]
    },
    {
     "name": "stderr",
     "output_type": "stream",
     "text": [
      "518it [03:47,  1.80it/s]"
     ]
    },
    {
     "name": "stdout",
     "output_type": "stream",
     "text": [
      "structure 518 written to DFTB_db \"\n",
      "w is ['C', 'C', 'C', 'H', 'H', 'H', 'H', 'Li', 'O', 'O', 'O']\n",
      "setting up calculator\n"
     ]
    },
    {
     "name": "stderr",
     "output_type": "stream",
     "text": [
      "519it [03:47,  1.84it/s]"
     ]
    },
    {
     "name": "stdout",
     "output_type": "stream",
     "text": [
      "structure 519 written to DFTB_db \"\n",
      "w is ['C', 'C', 'C', 'H', 'H', 'H', 'H', 'Li', 'O', 'O', 'O']\n",
      "setting up calculator\n"
     ]
    },
    {
     "name": "stderr",
     "output_type": "stream",
     "text": [
      "520it [03:48,  2.03it/s]"
     ]
    },
    {
     "name": "stdout",
     "output_type": "stream",
     "text": [
      "structure 520 written to DFTB_db \"\n",
      "w is ['C', 'C', 'C', 'H', 'H', 'H', 'H', 'Li', 'O', 'O', 'O']\n",
      "setting up calculator\n"
     ]
    },
    {
     "name": "stderr",
     "output_type": "stream",
     "text": [
      "521it [03:48,  2.19it/s]"
     ]
    },
    {
     "name": "stdout",
     "output_type": "stream",
     "text": [
      "structure 521 written to DFTB_db \"\n",
      "w is ['C', 'C', 'C', 'H', 'H', 'H', 'H', 'Li', 'O', 'O', 'O']\n",
      "setting up calculator\n"
     ]
    },
    {
     "name": "stderr",
     "output_type": "stream",
     "text": [
      "522it [03:48,  2.46it/s]"
     ]
    },
    {
     "name": "stdout",
     "output_type": "stream",
     "text": [
      "structure 522 written to DFTB_db \"\n",
      "w is ['C', 'C', 'C', 'H', 'H', 'H', 'H', 'Li', 'O', 'O', 'O']\n",
      "setting up calculator\n"
     ]
    },
    {
     "name": "stderr",
     "output_type": "stream",
     "text": [
      "523it [03:49,  2.53it/s]"
     ]
    },
    {
     "name": "stdout",
     "output_type": "stream",
     "text": [
      "structure 523 written to DFTB_db \"\n",
      "w is ['C', 'C', 'C', 'H', 'H', 'H', 'H', 'Li', 'O', 'O', 'O']\n",
      "setting up calculator\n"
     ]
    },
    {
     "name": "stderr",
     "output_type": "stream",
     "text": [
      "524it [03:49,  2.34it/s]"
     ]
    },
    {
     "name": "stdout",
     "output_type": "stream",
     "text": [
      "structure 524 written to DFTB_db \"\n",
      "w is ['C', 'C', 'C', 'H', 'H', 'H', 'H', 'Li', 'O', 'O', 'O']\n",
      "setting up calculator\n"
     ]
    },
    {
     "name": "stderr",
     "output_type": "stream",
     "text": [
      "525it [03:49,  2.54it/s]"
     ]
    },
    {
     "name": "stdout",
     "output_type": "stream",
     "text": [
      "structure 525 written to DFTB_db \"\n",
      "w is ['C', 'C', 'C', 'H', 'H', 'H', 'H', 'Li', 'O', 'O', 'O']\n",
      "setting up calculator\n"
     ]
    },
    {
     "name": "stderr",
     "output_type": "stream",
     "text": [
      "526it [03:50,  2.63it/s]"
     ]
    },
    {
     "name": "stdout",
     "output_type": "stream",
     "text": [
      "structure 526 written to DFTB_db \"\n",
      "w is ['C', 'C', 'C', 'H', 'H', 'H', 'H', 'Li', 'O', 'O', 'O']\n",
      "setting up calculator\n"
     ]
    },
    {
     "name": "stderr",
     "output_type": "stream",
     "text": [
      "527it [03:50,  2.68it/s]"
     ]
    },
    {
     "name": "stdout",
     "output_type": "stream",
     "text": [
      "structure 527 written to DFTB_db \"\n",
      "w is ['C', 'C', 'C', 'H', 'H', 'H', 'H', 'Li', 'O', 'O', 'O']\n",
      "setting up calculator\n"
     ]
    },
    {
     "name": "stderr",
     "output_type": "stream",
     "text": [
      "528it [03:51,  2.67it/s]"
     ]
    },
    {
     "name": "stdout",
     "output_type": "stream",
     "text": [
      "structure 528 written to DFTB_db \"\n",
      "w is ['C', 'C', 'C', 'H', 'H', 'H', 'H', 'Li', 'O', 'O', 'O']\n",
      "setting up calculator\n"
     ]
    },
    {
     "name": "stderr",
     "output_type": "stream",
     "text": [
      "529it [03:51,  2.75it/s]"
     ]
    },
    {
     "name": "stdout",
     "output_type": "stream",
     "text": [
      "structure 529 written to DFTB_db \"\n",
      "w is ['C', 'C', 'C', 'H', 'H', 'H', 'H', 'Li', 'O', 'O', 'O']\n",
      "setting up calculator\n"
     ]
    },
    {
     "name": "stderr",
     "output_type": "stream",
     "text": [
      "530it [03:51,  2.48it/s]"
     ]
    },
    {
     "name": "stdout",
     "output_type": "stream",
     "text": [
      "structure 530 written to DFTB_db \"\n",
      "w is ['C', 'C', 'C', 'H', 'H', 'H', 'H', 'Li', 'O', 'O', 'O']\n",
      "setting up calculator\n"
     ]
    },
    {
     "name": "stderr",
     "output_type": "stream",
     "text": [
      "531it [03:52,  2.66it/s]"
     ]
    },
    {
     "name": "stdout",
     "output_type": "stream",
     "text": [
      "structure 531 written to DFTB_db \"\n",
      "w is ['C', 'C', 'C', 'H', 'H', 'H', 'H', 'Li', 'O', 'O', 'O']\n",
      "setting up calculator\n"
     ]
    },
    {
     "name": "stderr",
     "output_type": "stream",
     "text": [
      "532it [03:52,  2.39it/s]"
     ]
    },
    {
     "name": "stdout",
     "output_type": "stream",
     "text": [
      "structure 532 written to DFTB_db \"\n",
      "w is ['C', 'C', 'C', 'H', 'H', 'H', 'H', 'Li', 'O', 'O', 'O']\n",
      "setting up calculator\n"
     ]
    },
    {
     "name": "stderr",
     "output_type": "stream",
     "text": [
      "533it [03:53,  2.36it/s]"
     ]
    },
    {
     "name": "stdout",
     "output_type": "stream",
     "text": [
      "structure 533 written to DFTB_db \"\n",
      "w is ['C', 'C', 'C', 'H', 'H', 'H', 'H', 'Li', 'O', 'O', 'O']\n",
      "setting up calculator\n"
     ]
    },
    {
     "name": "stderr",
     "output_type": "stream",
     "text": [
      "534it [03:53,  2.26it/s]"
     ]
    },
    {
     "name": "stdout",
     "output_type": "stream",
     "text": [
      "structure 534 written to DFTB_db \"\n",
      "w is ['C', 'C', 'C', 'H', 'H', 'H', 'H', 'Li', 'O', 'O', 'O']\n",
      "setting up calculator\n"
     ]
    },
    {
     "name": "stderr",
     "output_type": "stream",
     "text": [
      "535it [03:54,  2.15it/s]"
     ]
    },
    {
     "name": "stdout",
     "output_type": "stream",
     "text": [
      "structure 535 written to DFTB_db \"\n",
      "w is ['C', 'C', 'C', 'H', 'H', 'H', 'H', 'Li', 'O', 'O', 'O']\n",
      "setting up calculator\n"
     ]
    },
    {
     "name": "stderr",
     "output_type": "stream",
     "text": [
      "536it [03:54,  1.99it/s]"
     ]
    },
    {
     "name": "stdout",
     "output_type": "stream",
     "text": [
      "structure 536 written to DFTB_db \"\n",
      "w is ['C', 'C', 'C', 'H', 'H', 'H', 'H', 'Li', 'O', 'O', 'O']\n",
      "setting up calculator\n"
     ]
    },
    {
     "name": "stderr",
     "output_type": "stream",
     "text": [
      "537it [03:55,  1.93it/s]"
     ]
    },
    {
     "name": "stdout",
     "output_type": "stream",
     "text": [
      "structure 537 written to DFTB_db \"\n",
      "w is ['C', 'C', 'C', 'H', 'H', 'H', 'H', 'Li', 'O', 'O', 'O']\n",
      "setting up calculator\n"
     ]
    },
    {
     "name": "stderr",
     "output_type": "stream",
     "text": [
      "538it [03:55,  1.85it/s]"
     ]
    },
    {
     "name": "stdout",
     "output_type": "stream",
     "text": [
      "structure 538 written to DFTB_db \"\n",
      "w is ['C', 'C', 'C', 'H', 'H', 'H', 'H', 'Li', 'O', 'O', 'O']\n",
      "setting up calculator\n"
     ]
    },
    {
     "name": "stderr",
     "output_type": "stream",
     "text": [
      "539it [03:56,  1.78it/s]"
     ]
    },
    {
     "name": "stdout",
     "output_type": "stream",
     "text": [
      "structure 539 written to DFTB_db \"\n",
      "w is ['C', 'C', 'C', 'H', 'H', 'H', 'H', 'Li', 'O', 'O', 'O']\n",
      "setting up calculator\n"
     ]
    },
    {
     "name": "stderr",
     "output_type": "stream",
     "text": [
      "540it [03:57,  1.76it/s]"
     ]
    },
    {
     "name": "stdout",
     "output_type": "stream",
     "text": [
      "structure 540 written to DFTB_db \"\n",
      "w is ['C', 'C', 'C', 'H', 'H', 'H', 'H', 'Li', 'O', 'O', 'O']\n",
      "setting up calculator\n"
     ]
    },
    {
     "name": "stderr",
     "output_type": "stream",
     "text": [
      "541it [03:57,  1.71it/s]"
     ]
    },
    {
     "name": "stdout",
     "output_type": "stream",
     "text": [
      "structure 541 written to DFTB_db \"\n",
      "w is ['C', 'C', 'C', 'H', 'H', 'H', 'H', 'Li', 'O', 'O', 'O']\n",
      "setting up calculator\n"
     ]
    },
    {
     "name": "stderr",
     "output_type": "stream",
     "text": [
      "542it [03:58,  1.74it/s]"
     ]
    },
    {
     "name": "stdout",
     "output_type": "stream",
     "text": [
      "structure 542 written to DFTB_db \"\n",
      "w is ['C', 'C', 'C', 'H', 'H', 'H', 'H', 'Li', 'O', 'O', 'O']\n",
      "setting up calculator\n"
     ]
    },
    {
     "name": "stderr",
     "output_type": "stream",
     "text": [
      "543it [03:59,  1.61it/s]"
     ]
    },
    {
     "name": "stdout",
     "output_type": "stream",
     "text": [
      "structure 543 written to DFTB_db \"\n",
      "w is ['C', 'C', 'C', 'H', 'H', 'H', 'H', 'Li', 'O', 'O', 'O']\n",
      "setting up calculator\n"
     ]
    },
    {
     "name": "stderr",
     "output_type": "stream",
     "text": [
      "544it [03:59,  1.60it/s]"
     ]
    },
    {
     "name": "stdout",
     "output_type": "stream",
     "text": [
      "structure 544 written to DFTB_db \"\n",
      "w is ['C', 'C', 'C', 'H', 'H', 'H', 'H', 'Li', 'O', 'O', 'O']\n",
      "setting up calculator\n"
     ]
    },
    {
     "name": "stderr",
     "output_type": "stream",
     "text": [
      "545it [04:00,  1.69it/s]"
     ]
    },
    {
     "name": "stdout",
     "output_type": "stream",
     "text": [
      "structure 545 written to DFTB_db \"\n",
      "w is ['C', 'C', 'C', 'H', 'H', 'H', 'H', 'Li', 'O', 'O', 'O']\n",
      "setting up calculator\n"
     ]
    },
    {
     "name": "stderr",
     "output_type": "stream",
     "text": [
      "546it [04:00,  1.69it/s]"
     ]
    },
    {
     "name": "stdout",
     "output_type": "stream",
     "text": [
      "structure 546 written to DFTB_db \"\n",
      "w is ['C', 'C', 'C', 'H', 'H', 'H', 'H', 'Li', 'O', 'O', 'O']\n",
      "setting up calculator\n"
     ]
    },
    {
     "name": "stderr",
     "output_type": "stream",
     "text": [
      "Note: The following floating-point exceptions are signalling: IEEE_INVALID_FLAG IEEE_DIVIDE_BY_ZERO IEEE_UNDERFLOW_FLAG IEEE_DENORMAL\n",
      "Note: The following floating-point exceptions are signalling: IEEE_INVALID_FLAG IEEE_DIVIDE_BY_ZERO IEEE_UNDERFLOW_FLAG IEEE_DENORMAL\n",
      "547it [04:01,  1.47it/s]"
     ]
    },
    {
     "name": "stdout",
     "output_type": "stream",
     "text": [
      "Error\n",
      "w is ['C', 'C', 'C', 'H', 'H', 'H', 'H', 'Li', 'O', 'O', 'O']\n",
      "setting up calculator\n"
     ]
    },
    {
     "name": "stderr",
     "output_type": "stream",
     "text": [
      "548it [04:02,  1.72it/s]"
     ]
    },
    {
     "name": "stdout",
     "output_type": "stream",
     "text": [
      "structure 548 written to DFTB_db \"\n",
      "w is ['C', 'C', 'C', 'H', 'H', 'H', 'H', 'Li', 'O', 'O', 'O']\n",
      "setting up calculator\n"
     ]
    },
    {
     "name": "stderr",
     "output_type": "stream",
     "text": [
      "549it [04:03,  1.36it/s]"
     ]
    },
    {
     "name": "stdout",
     "output_type": "stream",
     "text": [
      "structure 549 written to DFTB_db \"\n",
      "w is ['C', 'C', 'C', 'H', 'H', 'H', 'H', 'Li', 'O', 'O', 'O']\n",
      "setting up calculator\n"
     ]
    },
    {
     "name": "stderr",
     "output_type": "stream",
     "text": [
      "550it [04:03,  1.50it/s]"
     ]
    },
    {
     "name": "stdout",
     "output_type": "stream",
     "text": [
      "structure 550 written to DFTB_db \"\n",
      "w is ['C', 'C', 'C', 'H', 'H', 'H', 'H', 'Li', 'O', 'O', 'O']\n",
      "setting up calculator\n"
     ]
    },
    {
     "name": "stderr",
     "output_type": "stream",
     "text": [
      "551it [04:04,  1.60it/s]"
     ]
    },
    {
     "name": "stdout",
     "output_type": "stream",
     "text": [
      "structure 551 written to DFTB_db \"\n",
      "w is ['C', 'C', 'C', 'H', 'H', 'H', 'H', 'Li', 'O', 'O', 'O']\n",
      "setting up calculator\n"
     ]
    },
    {
     "name": "stderr",
     "output_type": "stream",
     "text": [
      "552it [04:04,  1.74it/s]"
     ]
    },
    {
     "name": "stdout",
     "output_type": "stream",
     "text": [
      "structure 552 written to DFTB_db \"\n",
      "w is ['C', 'C', 'C', 'H', 'H', 'H', 'H', 'Li', 'O', 'O', 'O']\n",
      "setting up calculator\n"
     ]
    },
    {
     "name": "stderr",
     "output_type": "stream",
     "text": [
      "553it [04:04,  1.93it/s]"
     ]
    },
    {
     "name": "stdout",
     "output_type": "stream",
     "text": [
      "structure 553 written to DFTB_db \"\n",
      "w is ['C', 'C', 'C', 'H', 'H', 'H', 'H', 'Li', 'O', 'O', 'O']\n",
      "setting up calculator\n"
     ]
    },
    {
     "name": "stderr",
     "output_type": "stream",
     "text": [
      "554it [04:05,  2.06it/s]"
     ]
    },
    {
     "name": "stdout",
     "output_type": "stream",
     "text": [
      "structure 554 written to DFTB_db \"\n",
      "w is ['C', 'C', 'C', 'H', 'H', 'H', 'H', 'Li', 'O', 'O', 'O']\n",
      "setting up calculator\n"
     ]
    },
    {
     "name": "stderr",
     "output_type": "stream",
     "text": [
      "555it [04:05,  2.01it/s]"
     ]
    },
    {
     "name": "stdout",
     "output_type": "stream",
     "text": [
      "structure 555 written to DFTB_db \"\n",
      "w is ['C', 'C', 'C', 'H', 'H', 'H', 'H', 'Li', 'O', 'O', 'O']\n",
      "setting up calculator\n"
     ]
    },
    {
     "name": "stderr",
     "output_type": "stream",
     "text": [
      "556it [04:06,  1.97it/s]"
     ]
    },
    {
     "name": "stdout",
     "output_type": "stream",
     "text": [
      "structure 556 written to DFTB_db \"\n",
      "w is ['C', 'C', 'C', 'H', 'H', 'H', 'H', 'Li', 'O', 'O', 'O']\n",
      "setting up calculator\n"
     ]
    },
    {
     "name": "stderr",
     "output_type": "stream",
     "text": [
      "557it [04:06,  2.09it/s]"
     ]
    },
    {
     "name": "stdout",
     "output_type": "stream",
     "text": [
      "structure 557 written to DFTB_db \"\n",
      "w is ['C', 'C', 'C', 'H', 'H', 'H', 'H', 'Li', 'O', 'O', 'O']\n",
      "setting up calculator\n"
     ]
    },
    {
     "name": "stderr",
     "output_type": "stream",
     "text": [
      "558it [04:07,  1.96it/s]"
     ]
    },
    {
     "name": "stdout",
     "output_type": "stream",
     "text": [
      "structure 558 written to DFTB_db \"\n",
      "w is ['C', 'C', 'C', 'H', 'H', 'H', 'H', 'Li', 'O', 'O', 'O']\n",
      "setting up calculator\n"
     ]
    },
    {
     "name": "stderr",
     "output_type": "stream",
     "text": [
      "559it [04:07,  1.97it/s]"
     ]
    },
    {
     "name": "stdout",
     "output_type": "stream",
     "text": [
      "structure 559 written to DFTB_db \"\n",
      "w is ['C', 'C', 'C', 'H', 'H', 'H', 'H', 'Li', 'O', 'O', 'O']\n",
      "setting up calculator\n"
     ]
    },
    {
     "name": "stderr",
     "output_type": "stream",
     "text": [
      "560it [04:08,  2.05it/s]"
     ]
    },
    {
     "name": "stdout",
     "output_type": "stream",
     "text": [
      "structure 560 written to DFTB_db \"\n",
      "w is ['C', 'C', 'C', 'H', 'H', 'H', 'H', 'Li', 'O', 'O', 'O']\n",
      "setting up calculator\n"
     ]
    },
    {
     "name": "stderr",
     "output_type": "stream",
     "text": [
      "561it [04:08,  2.00it/s]"
     ]
    },
    {
     "name": "stdout",
     "output_type": "stream",
     "text": [
      "structure 561 written to DFTB_db \"\n",
      "w is ['C', 'C', 'C', 'H', 'H', 'H', 'H', 'Li', 'O', 'O', 'O']\n",
      "setting up calculator\n"
     ]
    },
    {
     "name": "stderr",
     "output_type": "stream",
     "text": [
      "562it [04:09,  2.19it/s]"
     ]
    },
    {
     "name": "stdout",
     "output_type": "stream",
     "text": [
      "structure 562 written to DFTB_db \"\n",
      "w is ['C', 'C', 'C', 'H', 'H', 'H', 'H', 'Li', 'O', 'O', 'O']\n",
      "setting up calculator\n"
     ]
    },
    {
     "name": "stderr",
     "output_type": "stream",
     "text": [
      "563it [04:09,  2.12it/s]"
     ]
    },
    {
     "name": "stdout",
     "output_type": "stream",
     "text": [
      "structure 563 written to DFTB_db \"\n",
      "w is ['C', 'C', 'C', 'H', 'H', 'H', 'H', 'Li', 'O', 'O', 'O']\n",
      "setting up calculator\n"
     ]
    },
    {
     "name": "stderr",
     "output_type": "stream",
     "text": [
      "564it [04:10,  2.22it/s]"
     ]
    },
    {
     "name": "stdout",
     "output_type": "stream",
     "text": [
      "structure 564 written to DFTB_db \"\n",
      "w is ['C', 'C', 'C', 'H', 'H', 'H', 'H', 'Li', 'O', 'O', 'O']\n",
      "setting up calculator\n"
     ]
    },
    {
     "name": "stderr",
     "output_type": "stream",
     "text": [
      "565it [04:10,  2.26it/s]"
     ]
    },
    {
     "name": "stdout",
     "output_type": "stream",
     "text": [
      "structure 565 written to DFTB_db \"\n",
      "w is ['C', 'C', 'C', 'H', 'H', 'H', 'H', 'Li', 'O', 'O', 'O']\n",
      "setting up calculator\n"
     ]
    },
    {
     "name": "stderr",
     "output_type": "stream",
     "text": [
      "566it [04:11,  2.08it/s]"
     ]
    },
    {
     "name": "stdout",
     "output_type": "stream",
     "text": [
      "structure 566 written to DFTB_db \"\n",
      "w is ['C', 'C', 'C', 'H', 'H', 'H', 'H', 'Li', 'O', 'O', 'O']\n",
      "setting up calculator\n"
     ]
    },
    {
     "name": "stderr",
     "output_type": "stream",
     "text": [
      "567it [04:11,  2.09it/s]"
     ]
    },
    {
     "name": "stdout",
     "output_type": "stream",
     "text": [
      "structure 567 written to DFTB_db \"\n",
      "w is ['C', 'C', 'C', 'H', 'H', 'H', 'H', 'Li', 'O', 'O', 'O']\n",
      "setting up calculator\n"
     ]
    },
    {
     "name": "stderr",
     "output_type": "stream",
     "text": [
      "568it [04:12,  2.02it/s]"
     ]
    },
    {
     "name": "stdout",
     "output_type": "stream",
     "text": [
      "structure 568 written to DFTB_db \"\n",
      "w is ['C', 'C', 'C', 'H', 'H', 'H', 'H', 'Li', 'O', 'O', 'O']\n",
      "setting up calculator\n"
     ]
    },
    {
     "name": "stderr",
     "output_type": "stream",
     "text": [
      "569it [04:12,  1.95it/s]"
     ]
    },
    {
     "name": "stdout",
     "output_type": "stream",
     "text": [
      "structure 569 written to DFTB_db \"\n",
      "w is ['C', 'C', 'C', 'H', 'H', 'H', 'H', 'Li', 'O', 'O', 'O']\n",
      "setting up calculator\n"
     ]
    },
    {
     "name": "stderr",
     "output_type": "stream",
     "text": [
      "570it [04:13,  1.84it/s]"
     ]
    },
    {
     "name": "stdout",
     "output_type": "stream",
     "text": [
      "structure 570 written to DFTB_db \"\n",
      "w is ['C', 'C', 'C', 'H', 'H', 'H', 'H', 'Li', 'O', 'O', 'O']\n",
      "setting up calculator\n"
     ]
    },
    {
     "name": "stderr",
     "output_type": "stream",
     "text": [
      "571it [04:13,  2.03it/s]"
     ]
    },
    {
     "name": "stdout",
     "output_type": "stream",
     "text": [
      "structure 571 written to DFTB_db \"\n",
      "w is ['C', 'C', 'C', 'H', 'H', 'H', 'H', 'Li', 'O', 'O', 'O']\n",
      "setting up calculator\n"
     ]
    },
    {
     "name": "stderr",
     "output_type": "stream",
     "text": [
      "572it [04:14,  2.18it/s]"
     ]
    },
    {
     "name": "stdout",
     "output_type": "stream",
     "text": [
      "structure 572 written to DFTB_db \"\n",
      "w is ['C', 'C', 'C', 'H', 'H', 'H', 'H', 'Li', 'O', 'O', 'O']\n",
      "setting up calculator\n"
     ]
    },
    {
     "name": "stderr",
     "output_type": "stream",
     "text": [
      "573it [04:14,  2.21it/s]"
     ]
    },
    {
     "name": "stdout",
     "output_type": "stream",
     "text": [
      "structure 573 written to DFTB_db \"\n",
      "w is ['C', 'C', 'C', 'H', 'H', 'H', 'H', 'Li', 'O', 'O', 'O']\n",
      "setting up calculator\n"
     ]
    },
    {
     "name": "stderr",
     "output_type": "stream",
     "text": [
      "574it [04:15,  1.93it/s]"
     ]
    },
    {
     "name": "stdout",
     "output_type": "stream",
     "text": [
      "structure 574 written to DFTB_db \"\n",
      "w is ['C', 'C', 'C', 'H', 'H', 'H', 'H', 'Li', 'O', 'O', 'O']\n",
      "setting up calculator\n"
     ]
    },
    {
     "name": "stderr",
     "output_type": "stream",
     "text": [
      "575it [04:15,  1.98it/s]"
     ]
    },
    {
     "name": "stdout",
     "output_type": "stream",
     "text": [
      "structure 575 written to DFTB_db \"\n",
      "w is ['C', 'C', 'C', 'H', 'H', 'H', 'H', 'Li', 'O', 'O', 'O']\n",
      "setting up calculator\n"
     ]
    },
    {
     "name": "stderr",
     "output_type": "stream",
     "text": [
      "576it [04:16,  2.22it/s]"
     ]
    },
    {
     "name": "stdout",
     "output_type": "stream",
     "text": [
      "structure 576 written to DFTB_db \"\n",
      "w is ['C', 'C', 'C', 'H', 'H', 'H', 'H', 'Li', 'O', 'O', 'O']\n",
      "setting up calculator\n"
     ]
    },
    {
     "name": "stderr",
     "output_type": "stream",
     "text": [
      "577it [04:16,  2.04it/s]"
     ]
    },
    {
     "name": "stdout",
     "output_type": "stream",
     "text": [
      "structure 577 written to DFTB_db \"\n",
      "w is ['C', 'C', 'C', 'H', 'H', 'H', 'H', 'Li', 'O', 'O', 'O']\n",
      "setting up calculator\n"
     ]
    },
    {
     "name": "stderr",
     "output_type": "stream",
     "text": [
      "578it [04:17,  1.81it/s]"
     ]
    },
    {
     "name": "stdout",
     "output_type": "stream",
     "text": [
      "structure 578 written to DFTB_db \"\n",
      "w is ['C', 'C', 'C', 'H', 'H', 'H', 'H', 'Li', 'O', 'O', 'O']\n",
      "setting up calculator\n"
     ]
    },
    {
     "name": "stderr",
     "output_type": "stream",
     "text": [
      "579it [04:17,  1.94it/s]"
     ]
    },
    {
     "name": "stdout",
     "output_type": "stream",
     "text": [
      "structure 579 written to DFTB_db \"\n",
      "w is ['C', 'C', 'C', 'H', 'H', 'H', 'H', 'Li', 'O', 'O', 'O']\n",
      "setting up calculator\n"
     ]
    },
    {
     "name": "stderr",
     "output_type": "stream",
     "text": [
      "580it [04:18,  2.03it/s]"
     ]
    },
    {
     "name": "stdout",
     "output_type": "stream",
     "text": [
      "structure 580 written to DFTB_db \"\n",
      "w is ['C', 'C', 'C', 'H', 'H', 'H', 'H', 'Li', 'O', 'O', 'O']\n",
      "setting up calculator\n"
     ]
    },
    {
     "name": "stderr",
     "output_type": "stream",
     "text": [
      "581it [04:18,  2.04it/s]"
     ]
    },
    {
     "name": "stdout",
     "output_type": "stream",
     "text": [
      "structure 581 written to DFTB_db \"\n",
      "w is ['C', 'C', 'C', 'H', 'H', 'H', 'H', 'Li', 'O', 'O', 'O']\n",
      "setting up calculator\n"
     ]
    },
    {
     "name": "stderr",
     "output_type": "stream",
     "text": [
      "582it [04:19,  2.09it/s]"
     ]
    },
    {
     "name": "stdout",
     "output_type": "stream",
     "text": [
      "structure 582 written to DFTB_db \"\n",
      "w is ['C', 'C', 'C', 'H', 'H', 'H', 'H', 'Li', 'O', 'O', 'O']\n",
      "setting up calculator\n"
     ]
    },
    {
     "name": "stderr",
     "output_type": "stream",
     "text": [
      "583it [04:19,  2.11it/s]"
     ]
    },
    {
     "name": "stdout",
     "output_type": "stream",
     "text": [
      "structure 583 written to DFTB_db \"\n",
      "w is ['C', 'C', 'C', 'H', 'H', 'H', 'H', 'Li', 'O', 'O', 'O']\n",
      "setting up calculator\n"
     ]
    },
    {
     "name": "stderr",
     "output_type": "stream",
     "text": [
      "584it [04:19,  2.32it/s]"
     ]
    },
    {
     "name": "stdout",
     "output_type": "stream",
     "text": [
      "structure 584 written to DFTB_db \"\n",
      "w is ['C', 'C', 'C', 'H', 'H', 'H', 'H', 'Li', 'O', 'O', 'O']\n",
      "setting up calculator\n"
     ]
    },
    {
     "name": "stderr",
     "output_type": "stream",
     "text": [
      "585it [04:20,  2.30it/s]"
     ]
    },
    {
     "name": "stdout",
     "output_type": "stream",
     "text": [
      "structure 585 written to DFTB_db \"\n",
      "w is ['C', 'C', 'C', 'H', 'H', 'H', 'H', 'Li', 'O', 'O', 'O']\n",
      "setting up calculator\n"
     ]
    },
    {
     "name": "stderr",
     "output_type": "stream",
     "text": [
      "586it [04:20,  2.19it/s]"
     ]
    },
    {
     "name": "stdout",
     "output_type": "stream",
     "text": [
      "structure 586 written to DFTB_db \"\n",
      "w is ['C', 'C', 'C', 'H', 'H', 'H', 'H', 'Li', 'O', 'O', 'O']\n",
      "setting up calculator\n"
     ]
    },
    {
     "name": "stderr",
     "output_type": "stream",
     "text": [
      "587it [04:21,  2.13it/s]"
     ]
    },
    {
     "name": "stdout",
     "output_type": "stream",
     "text": [
      "structure 587 written to DFTB_db \"\n",
      "w is ['C', 'C', 'C', 'H', 'H', 'H', 'H', 'Li', 'O', 'O', 'O']\n",
      "setting up calculator\n"
     ]
    },
    {
     "name": "stderr",
     "output_type": "stream",
     "text": [
      "588it [04:21,  2.03it/s]"
     ]
    },
    {
     "name": "stdout",
     "output_type": "stream",
     "text": [
      "structure 588 written to DFTB_db \"\n",
      "w is ['C', 'C', 'C', 'H', 'H', 'H', 'H', 'Li', 'O', 'O', 'O']\n",
      "setting up calculator\n"
     ]
    },
    {
     "name": "stderr",
     "output_type": "stream",
     "text": [
      "589it [04:22,  1.90it/s]"
     ]
    },
    {
     "name": "stdout",
     "output_type": "stream",
     "text": [
      "structure 589 written to DFTB_db \"\n",
      "w is ['C', 'C', 'C', 'H', 'H', 'H', 'H', 'Li', 'O', 'O', 'O']\n",
      "setting up calculator\n"
     ]
    },
    {
     "name": "stderr",
     "output_type": "stream",
     "text": [
      "590it [04:23,  1.88it/s]"
     ]
    },
    {
     "name": "stdout",
     "output_type": "stream",
     "text": [
      "structure 590 written to DFTB_db \"\n",
      "w is ['C', 'C', 'C', 'H', 'H', 'H', 'H', 'Li', 'O', 'O', 'O']\n",
      "setting up calculator\n"
     ]
    },
    {
     "name": "stderr",
     "output_type": "stream",
     "text": [
      "591it [04:23,  1.88it/s]"
     ]
    },
    {
     "name": "stdout",
     "output_type": "stream",
     "text": [
      "structure 591 written to DFTB_db \"\n",
      "w is ['C', 'C', 'C', 'H', 'H', 'H', 'H', 'Li', 'O', 'O', 'O']\n",
      "setting up calculator\n"
     ]
    },
    {
     "name": "stderr",
     "output_type": "stream",
     "text": [
      "592it [04:23,  2.02it/s]"
     ]
    },
    {
     "name": "stdout",
     "output_type": "stream",
     "text": [
      "structure 592 written to DFTB_db \"\n",
      "w is ['C', 'C', 'C', 'H', 'H', 'H', 'H', 'Li', 'O', 'O', 'O']\n",
      "setting up calculator\n"
     ]
    },
    {
     "name": "stderr",
     "output_type": "stream",
     "text": [
      "593it [04:24,  2.06it/s]"
     ]
    },
    {
     "name": "stdout",
     "output_type": "stream",
     "text": [
      "structure 593 written to DFTB_db \"\n",
      "w is ['C', 'C', 'C', 'H', 'H', 'H', 'H', 'Li', 'O', 'O', 'O']\n",
      "setting up calculator\n"
     ]
    },
    {
     "name": "stderr",
     "output_type": "stream",
     "text": [
      "594it [04:24,  2.05it/s]"
     ]
    },
    {
     "name": "stdout",
     "output_type": "stream",
     "text": [
      "structure 594 written to DFTB_db \"\n",
      "w is ['C', 'C', 'C', 'H', 'H', 'H', 'H', 'Li', 'O', 'O', 'O']\n",
      "setting up calculator\n"
     ]
    },
    {
     "name": "stderr",
     "output_type": "stream",
     "text": [
      "595it [04:25,  2.22it/s]"
     ]
    },
    {
     "name": "stdout",
     "output_type": "stream",
     "text": [
      "structure 595 written to DFTB_db \"\n",
      "w is ['C', 'C', 'C', 'H', 'H', 'H', 'H', 'Li', 'O', 'O', 'O']\n",
      "setting up calculator\n"
     ]
    },
    {
     "name": "stderr",
     "output_type": "stream",
     "text": [
      "596it [04:25,  2.43it/s]"
     ]
    },
    {
     "name": "stdout",
     "output_type": "stream",
     "text": [
      "structure 596 written to DFTB_db \"\n",
      "w is ['C', 'C', 'C', 'H', 'H', 'H', 'H', 'Li', 'O', 'O', 'O']\n",
      "setting up calculator\n"
     ]
    },
    {
     "name": "stderr",
     "output_type": "stream",
     "text": [
      "597it [04:26,  2.38it/s]"
     ]
    },
    {
     "name": "stdout",
     "output_type": "stream",
     "text": [
      "structure 597 written to DFTB_db \"\n",
      "w is ['C', 'C', 'C', 'H', 'H', 'H', 'H', 'Li', 'O', 'O', 'O']\n",
      "setting up calculator\n"
     ]
    },
    {
     "name": "stderr",
     "output_type": "stream",
     "text": [
      "598it [04:26,  2.33it/s]"
     ]
    },
    {
     "name": "stdout",
     "output_type": "stream",
     "text": [
      "structure 598 written to DFTB_db \"\n",
      "w is ['C', 'C', 'C', 'H', 'H', 'H', 'H', 'Li', 'O', 'O', 'O']\n",
      "setting up calculator\n"
     ]
    },
    {
     "name": "stderr",
     "output_type": "stream",
     "text": [
      "599it [04:27,  2.21it/s]"
     ]
    },
    {
     "name": "stdout",
     "output_type": "stream",
     "text": [
      "structure 599 written to DFTB_db \"\n",
      "w is ['C', 'C', 'C', 'H', 'H', 'H', 'H', 'Li', 'O', 'O', 'O']\n",
      "setting up calculator\n"
     ]
    },
    {
     "name": "stderr",
     "output_type": "stream",
     "text": [
      "600it [04:27,  2.36it/s]"
     ]
    },
    {
     "name": "stdout",
     "output_type": "stream",
     "text": [
      "structure 600 written to DFTB_db \"\n",
      "w is ['C', 'C', 'C', 'H', 'H', 'H', 'H', 'Li', 'O', 'O', 'O']\n",
      "setting up calculator\n"
     ]
    },
    {
     "name": "stderr",
     "output_type": "stream",
     "text": [
      "601it [04:27,  2.22it/s]"
     ]
    },
    {
     "name": "stdout",
     "output_type": "stream",
     "text": [
      "structure 601 written to DFTB_db \"\n",
      "w is ['C', 'C', 'C', 'H', 'H', 'H', 'H', 'Li', 'O', 'O', 'O']\n",
      "setting up calculator\n"
     ]
    },
    {
     "name": "stderr",
     "output_type": "stream",
     "text": [
      "602it [04:28,  2.06it/s]"
     ]
    },
    {
     "name": "stdout",
     "output_type": "stream",
     "text": [
      "structure 602 written to DFTB_db \"\n",
      "w is ['C', 'C', 'C', 'H', 'H', 'H', 'H', 'Li', 'O', 'O', 'O']\n",
      "setting up calculator\n"
     ]
    },
    {
     "name": "stderr",
     "output_type": "stream",
     "text": [
      "603it [04:28,  2.19it/s]"
     ]
    },
    {
     "name": "stdout",
     "output_type": "stream",
     "text": [
      "structure 603 written to DFTB_db \"\n",
      "w is ['C', 'C', 'C', 'H', 'H', 'H', 'H', 'Li', 'O', 'O', 'O']\n",
      "setting up calculator\n"
     ]
    },
    {
     "name": "stderr",
     "output_type": "stream",
     "text": [
      "604it [04:29,  2.13it/s]"
     ]
    },
    {
     "name": "stdout",
     "output_type": "stream",
     "text": [
      "structure 604 written to DFTB_db \"\n",
      "w is ['C', 'C', 'C', 'H', 'H', 'H', 'H', 'Li', 'O', 'O', 'O']\n",
      "setting up calculator\n"
     ]
    },
    {
     "name": "stderr",
     "output_type": "stream",
     "text": [
      "605it [04:29,  1.94it/s]"
     ]
    },
    {
     "name": "stdout",
     "output_type": "stream",
     "text": [
      "structure 605 written to DFTB_db \"\n",
      "w is ['C', 'C', 'C', 'H', 'H', 'H', 'H', 'Li', 'O', 'O', 'O']\n",
      "setting up calculator\n"
     ]
    },
    {
     "name": "stderr",
     "output_type": "stream",
     "text": [
      "606it [04:30,  1.67it/s]"
     ]
    },
    {
     "name": "stdout",
     "output_type": "stream",
     "text": [
      "structure 606 written to DFTB_db \"\n",
      "w is ['C', 'C', 'C', 'H', 'H', 'H', 'H', 'Li', 'O', 'O', 'O']\n",
      "setting up calculator\n"
     ]
    },
    {
     "name": "stderr",
     "output_type": "stream",
     "text": [
      "607it [04:31,  1.46it/s]"
     ]
    },
    {
     "name": "stdout",
     "output_type": "stream",
     "text": [
      "structure 607 written to DFTB_db \"\n",
      "w is ['C', 'C', 'C', 'H', 'H', 'H', 'H', 'Li', 'O', 'O', 'O']\n",
      "setting up calculator\n"
     ]
    },
    {
     "name": "stderr",
     "output_type": "stream",
     "text": [
      "608it [04:32,  1.47it/s]"
     ]
    },
    {
     "name": "stdout",
     "output_type": "stream",
     "text": [
      "structure 608 written to DFTB_db \"\n",
      "w is ['C', 'C', 'C', 'H', 'H', 'H', 'H', 'Li', 'O', 'O', 'O']\n",
      "setting up calculator\n"
     ]
    },
    {
     "name": "stderr",
     "output_type": "stream",
     "text": [
      "609it [04:33,  1.41it/s]"
     ]
    },
    {
     "name": "stdout",
     "output_type": "stream",
     "text": [
      "structure 609 written to DFTB_db \"\n",
      "w is ['C', 'C', 'C', 'H', 'H', 'H', 'H', 'Li', 'O', 'O', 'O']\n",
      "setting up calculator\n"
     ]
    },
    {
     "name": "stderr",
     "output_type": "stream",
     "text": [
      "610it [04:33,  1.55it/s]"
     ]
    },
    {
     "name": "stdout",
     "output_type": "stream",
     "text": [
      "structure 610 written to DFTB_db \"\n",
      "w is ['C', 'C', 'C', 'H', 'H', 'H', 'H', 'Li', 'O', 'O', 'O']\n",
      "setting up calculator\n"
     ]
    },
    {
     "name": "stderr",
     "output_type": "stream",
     "text": [
      "611it [04:34,  1.52it/s]"
     ]
    },
    {
     "name": "stdout",
     "output_type": "stream",
     "text": [
      "structure 611 written to DFTB_db \"\n",
      "w is ['C', 'C', 'C', 'H', 'H', 'H', 'H', 'Li', 'O', 'O', 'O']\n",
      "setting up calculator\n"
     ]
    },
    {
     "name": "stderr",
     "output_type": "stream",
     "text": [
      "612it [04:34,  1.72it/s]"
     ]
    },
    {
     "name": "stdout",
     "output_type": "stream",
     "text": [
      "structure 612 written to DFTB_db \"\n",
      "w is ['C', 'C', 'C', 'H', 'H', 'H', 'H', 'Li', 'O', 'O', 'O']\n",
      "setting up calculator\n"
     ]
    },
    {
     "name": "stderr",
     "output_type": "stream",
     "text": [
      "613it [04:35,  1.61it/s]"
     ]
    },
    {
     "name": "stdout",
     "output_type": "stream",
     "text": [
      "structure 613 written to DFTB_db \"\n",
      "w is ['C', 'C', 'C', 'H', 'H', 'H', 'H', 'Li', 'O', 'O', 'O']\n",
      "setting up calculator\n"
     ]
    },
    {
     "name": "stderr",
     "output_type": "stream",
     "text": [
      "614it [04:36,  1.56it/s]"
     ]
    },
    {
     "name": "stdout",
     "output_type": "stream",
     "text": [
      "structure 614 written to DFTB_db \"\n",
      "w is ['C', 'C', 'C', 'H', 'H', 'H', 'H', 'Li', 'O', 'O', 'O']\n",
      "setting up calculator\n"
     ]
    },
    {
     "name": "stderr",
     "output_type": "stream",
     "text": [
      "615it [04:36,  1.42it/s]"
     ]
    },
    {
     "name": "stdout",
     "output_type": "stream",
     "text": [
      "structure 615 written to DFTB_db \"\n",
      "w is ['C', 'C', 'C', 'H', 'H', 'H', 'H', 'Li', 'O', 'O', 'O']\n",
      "setting up calculator\n"
     ]
    },
    {
     "name": "stderr",
     "output_type": "stream",
     "text": [
      "616it [04:37,  1.49it/s]"
     ]
    },
    {
     "name": "stdout",
     "output_type": "stream",
     "text": [
      "structure 616 written to DFTB_db \"\n",
      "w is ['C', 'C', 'C', 'H', 'H', 'H', 'H', 'Li', 'O', 'O', 'O']\n",
      "setting up calculator\n"
     ]
    },
    {
     "name": "stderr",
     "output_type": "stream",
     "text": [
      "Note: The following floating-point exceptions are signalling: IEEE_INVALID_FLAG IEEE_DIVIDE_BY_ZERO IEEE_UNDERFLOW_FLAG IEEE_DENORMAL\n",
      "Note: The following floating-point exceptions are signalling: IEEE_INVALID_FLAG IEEE_DIVIDE_BY_ZERO IEEE_UNDERFLOW_FLAG IEEE_DENORMAL\n",
      "617it [04:38,  1.33it/s]"
     ]
    },
    {
     "name": "stdout",
     "output_type": "stream",
     "text": [
      "Error\n",
      "w is ['C', 'C', 'C', 'H', 'H', 'H', 'H', 'Li', 'O', 'O', 'O']\n",
      "setting up calculator\n"
     ]
    },
    {
     "name": "stderr",
     "output_type": "stream",
     "text": [
      "618it [04:39,  1.41it/s]"
     ]
    },
    {
     "name": "stdout",
     "output_type": "stream",
     "text": [
      "structure 618 written to DFTB_db \"\n",
      "w is ['C', 'C', 'C', 'H', 'H', 'H', 'H', 'Li', 'O', 'O', 'O']\n",
      "setting up calculator\n"
     ]
    },
    {
     "name": "stderr",
     "output_type": "stream",
     "text": [
      "619it [04:39,  1.45it/s]"
     ]
    },
    {
     "name": "stdout",
     "output_type": "stream",
     "text": [
      "structure 619 written to DFTB_db \"\n",
      "w is ['C', 'C', 'C', 'H', 'H', 'H', 'H', 'Li', 'O', 'O', 'O']\n",
      "setting up calculator\n"
     ]
    },
    {
     "name": "stderr",
     "output_type": "stream",
     "text": [
      "620it [04:40,  1.54it/s]"
     ]
    },
    {
     "name": "stdout",
     "output_type": "stream",
     "text": [
      "structure 620 written to DFTB_db \"\n",
      "w is ['C', 'C', 'C', 'H', 'H', 'H', 'H', 'Li', 'O', 'O', 'O']\n",
      "setting up calculator\n"
     ]
    },
    {
     "name": "stderr",
     "output_type": "stream",
     "text": [
      "621it [04:40,  1.55it/s]"
     ]
    },
    {
     "name": "stdout",
     "output_type": "stream",
     "text": [
      "structure 621 written to DFTB_db \"\n",
      "w is ['C', 'C', 'C', 'H', 'H', 'H', 'H', 'Li', 'O', 'O', 'O']\n",
      "setting up calculator\n"
     ]
    },
    {
     "name": "stderr",
     "output_type": "stream",
     "text": [
      "Note: The following floating-point exceptions are signalling: IEEE_INVALID_FLAG IEEE_DIVIDE_BY_ZERO IEEE_UNDERFLOW_FLAG IEEE_DENORMAL\n",
      "Note: The following floating-point exceptions are signalling: IEEE_INVALID_FLAG IEEE_DIVIDE_BY_ZERO IEEE_UNDERFLOW_FLAG IEEE_DENORMAL\n",
      "622it [04:41,  1.30it/s]"
     ]
    },
    {
     "name": "stdout",
     "output_type": "stream",
     "text": [
      "Error\n",
      "w is ['C', 'C', 'C', 'H', 'H', 'H', 'H', 'Li', 'O', 'O', 'O']\n",
      "setting up calculator\n"
     ]
    },
    {
     "name": "stderr",
     "output_type": "stream",
     "text": [
      "623it [04:42,  1.36it/s]"
     ]
    },
    {
     "name": "stdout",
     "output_type": "stream",
     "text": [
      "structure 623 written to DFTB_db \"\n",
      "w is ['C', 'C', 'C', 'H', 'H', 'H', 'H', 'Li', 'O', 'O', 'O']\n",
      "setting up calculator\n"
     ]
    },
    {
     "name": "stderr",
     "output_type": "stream",
     "text": [
      "624it [04:43,  1.37it/s]"
     ]
    },
    {
     "name": "stdout",
     "output_type": "stream",
     "text": [
      "structure 624 written to DFTB_db \"\n",
      "w is ['C', 'C', 'C', 'H', 'H', 'H', 'H', 'Li', 'O', 'O', 'O']\n",
      "setting up calculator\n"
     ]
    },
    {
     "name": "stderr",
     "output_type": "stream",
     "text": [
      "625it [04:44,  1.34it/s]"
     ]
    },
    {
     "name": "stdout",
     "output_type": "stream",
     "text": [
      "structure 625 written to DFTB_db \"\n",
      "w is ['C', 'C', 'C', 'H', 'H', 'H', 'H', 'Li', 'O', 'O', 'O']\n",
      "setting up calculator\n"
     ]
    },
    {
     "name": "stderr",
     "output_type": "stream",
     "text": [
      "Note: The following floating-point exceptions are signalling: IEEE_INVALID_FLAG IEEE_DIVIDE_BY_ZERO IEEE_UNDERFLOW_FLAG IEEE_DENORMAL\n",
      "Note: The following floating-point exceptions are signalling: IEEE_INVALID_FLAG IEEE_DIVIDE_BY_ZERO IEEE_UNDERFLOW_FLAG IEEE_DENORMAL\n",
      "626it [04:45,  1.24it/s]"
     ]
    },
    {
     "name": "stdout",
     "output_type": "stream",
     "text": [
      "Error\n",
      "w is ['C', 'C', 'C', 'H', 'H', 'H', 'H', 'Li', 'O', 'O', 'O']\n",
      "setting up calculator\n"
     ]
    },
    {
     "name": "stderr",
     "output_type": "stream",
     "text": [
      "Note: The following floating-point exceptions are signalling: IEEE_INVALID_FLAG IEEE_DIVIDE_BY_ZERO IEEE_UNDERFLOW_FLAG IEEE_DENORMAL\n",
      "Note: The following floating-point exceptions are signalling: IEEE_INVALID_FLAG IEEE_DIVIDE_BY_ZERO IEEE_UNDERFLOW_FLAG IEEE_DENORMAL\n",
      "627it [04:46,  1.17it/s]"
     ]
    },
    {
     "name": "stdout",
     "output_type": "stream",
     "text": [
      "Error\n",
      "w is ['C', 'C', 'C', 'H', 'H', 'H', 'H', 'Li', 'O', 'O', 'O']\n",
      "setting up calculator\n"
     ]
    },
    {
     "name": "stderr",
     "output_type": "stream",
     "text": [
      "628it [04:47,  1.12it/s]"
     ]
    },
    {
     "name": "stdout",
     "output_type": "stream",
     "text": [
      "structure 628 written to DFTB_db \"\n",
      "w is ['C', 'C', 'C', 'H', 'H', 'H', 'H', 'Li', 'O', 'O', 'O']\n",
      "setting up calculator\n"
     ]
    },
    {
     "name": "stderr",
     "output_type": "stream",
     "text": [
      "629it [04:47,  1.12it/s]"
     ]
    },
    {
     "name": "stdout",
     "output_type": "stream",
     "text": [
      "structure 629 written to DFTB_db \"\n",
      "w is ['C', 'C', 'C', 'H', 'H', 'H', 'H', 'Li', 'O', 'O', 'O']\n",
      "setting up calculator\n"
     ]
    },
    {
     "name": "stderr",
     "output_type": "stream",
     "text": [
      "630it [04:48,  1.26it/s]"
     ]
    },
    {
     "name": "stdout",
     "output_type": "stream",
     "text": [
      "structure 630 written to DFTB_db \"\n",
      "w is ['C', 'C', 'C', 'H', 'H', 'H', 'H', 'Li', 'O', 'O', 'O']\n",
      "setting up calculator\n"
     ]
    },
    {
     "name": "stderr",
     "output_type": "stream",
     "text": [
      "631it [04:49,  1.33it/s]"
     ]
    },
    {
     "name": "stdout",
     "output_type": "stream",
     "text": [
      "structure 631 written to DFTB_db \"\n",
      "w is ['C', 'C', 'C', 'H', 'H', 'H', 'H', 'Li', 'O', 'O', 'O']\n",
      "setting up calculator\n"
     ]
    },
    {
     "name": "stderr",
     "output_type": "stream",
     "text": [
      "632it [04:49,  1.48it/s]"
     ]
    },
    {
     "name": "stdout",
     "output_type": "stream",
     "text": [
      "structure 632 written to DFTB_db \"\n",
      "w is ['C', 'C', 'C', 'H', 'H', 'H', 'H', 'Li', 'O', 'O', 'O']\n",
      "setting up calculator\n"
     ]
    },
    {
     "name": "stderr",
     "output_type": "stream",
     "text": [
      "633it [04:50,  1.35it/s]"
     ]
    },
    {
     "name": "stdout",
     "output_type": "stream",
     "text": [
      "structure 633 written to DFTB_db \"\n",
      "w is ['C', 'C', 'C', 'H', 'H', 'H', 'H', 'Li', 'O', 'O', 'O']\n",
      "setting up calculator\n"
     ]
    },
    {
     "name": "stderr",
     "output_type": "stream",
     "text": [
      "634it [04:51,  1.40it/s]"
     ]
    },
    {
     "name": "stdout",
     "output_type": "stream",
     "text": [
      "structure 634 written to DFTB_db \"\n",
      "w is ['C', 'C', 'C', 'H', 'H', 'H', 'H', 'Li', 'O', 'O', 'O']\n",
      "setting up calculator\n"
     ]
    },
    {
     "name": "stderr",
     "output_type": "stream",
     "text": [
      "635it [04:51,  1.39it/s]"
     ]
    },
    {
     "name": "stdout",
     "output_type": "stream",
     "text": [
      "structure 635 written to DFTB_db \"\n",
      "w is ['C', 'C', 'C', 'H', 'H', 'H', 'H', 'Li', 'O', 'O', 'O']\n",
      "setting up calculator\n"
     ]
    },
    {
     "name": "stderr",
     "output_type": "stream",
     "text": [
      "636it [04:52,  1.40it/s]"
     ]
    },
    {
     "name": "stdout",
     "output_type": "stream",
     "text": [
      "structure 636 written to DFTB_db \"\n",
      "w is ['C', 'C', 'C', 'H', 'H', 'H', 'H', 'Li', 'O', 'O', 'O']\n",
      "setting up calculator\n"
     ]
    },
    {
     "name": "stderr",
     "output_type": "stream",
     "text": [
      "637it [04:53,  1.29it/s]"
     ]
    },
    {
     "name": "stdout",
     "output_type": "stream",
     "text": [
      "structure 637 written to DFTB_db \"\n",
      "w is ['C', 'C', 'C', 'H', 'H', 'H', 'H', 'Li', 'O', 'O', 'O']\n",
      "setting up calculator\n"
     ]
    },
    {
     "name": "stderr",
     "output_type": "stream",
     "text": [
      "638it [04:54,  1.26it/s]"
     ]
    },
    {
     "name": "stdout",
     "output_type": "stream",
     "text": [
      "structure 638 written to DFTB_db \"\n",
      "w is ['C', 'C', 'C', 'H', 'H', 'H', 'H', 'Li', 'O', 'O', 'O']\n",
      "setting up calculator\n"
     ]
    },
    {
     "name": "stderr",
     "output_type": "stream",
     "text": [
      "639it [04:55,  1.08it/s]"
     ]
    },
    {
     "name": "stdout",
     "output_type": "stream",
     "text": [
      "structure 639 written to DFTB_db \"\n",
      "w is ['C', 'C', 'C', 'H', 'H', 'H', 'H', 'Li', 'O', 'O', 'O']\n",
      "setting up calculator\n"
     ]
    },
    {
     "name": "stderr",
     "output_type": "stream",
     "text": [
      "640it [04:55,  1.31it/s]"
     ]
    },
    {
     "name": "stdout",
     "output_type": "stream",
     "text": [
      "structure 640 written to DFTB_db \"\n",
      "w is ['C', 'C', 'C', 'H', 'H', 'H', 'H', 'Li', 'O', 'O', 'O']\n",
      "setting up calculator\n"
     ]
    },
    {
     "name": "stderr",
     "output_type": "stream",
     "text": [
      "641it [04:56,  1.52it/s]"
     ]
    },
    {
     "name": "stdout",
     "output_type": "stream",
     "text": [
      "structure 641 written to DFTB_db \"\n",
      "w is ['C', 'C', 'C', 'H', 'H', 'H', 'H', 'Li', 'O', 'O', 'O']\n",
      "setting up calculator\n"
     ]
    },
    {
     "name": "stderr",
     "output_type": "stream",
     "text": [
      "642it [04:56,  1.64it/s]"
     ]
    },
    {
     "name": "stdout",
     "output_type": "stream",
     "text": [
      "structure 642 written to DFTB_db \"\n",
      "w is ['C', 'C', 'C', 'H', 'H', 'H', 'H', 'Li', 'O', 'O', 'O']\n",
      "setting up calculator\n"
     ]
    },
    {
     "name": "stderr",
     "output_type": "stream",
     "text": [
      "643it [04:57,  1.56it/s]"
     ]
    },
    {
     "name": "stdout",
     "output_type": "stream",
     "text": [
      "structure 643 written to DFTB_db \"\n",
      "w is ['C', 'C', 'C', 'H', 'H', 'H', 'H', 'Li', 'O', 'O', 'O']\n",
      "setting up calculator\n"
     ]
    },
    {
     "name": "stderr",
     "output_type": "stream",
     "text": [
      "644it [04:58,  1.41it/s]"
     ]
    },
    {
     "name": "stdout",
     "output_type": "stream",
     "text": [
      "structure 644 written to DFTB_db \"\n",
      "w is ['C', 'C', 'C', 'H', 'H', 'H', 'H', 'Li', 'O', 'O', 'O']\n",
      "setting up calculator\n"
     ]
    },
    {
     "name": "stderr",
     "output_type": "stream",
     "text": [
      "645it [04:59,  1.36it/s]"
     ]
    },
    {
     "name": "stdout",
     "output_type": "stream",
     "text": [
      "structure 645 written to DFTB_db \"\n",
      "w is ['C', 'C', 'C', 'H', 'H', 'H', 'H', 'Li', 'O', 'O', 'O']\n",
      "setting up calculator\n"
     ]
    },
    {
     "name": "stderr",
     "output_type": "stream",
     "text": [
      "Note: The following floating-point exceptions are signalling: IEEE_INVALID_FLAG IEEE_DIVIDE_BY_ZERO IEEE_UNDERFLOW_FLAG IEEE_DENORMAL\n",
      "Note: The following floating-point exceptions are signalling: IEEE_INVALID_FLAG IEEE_DIVIDE_BY_ZERO IEEE_UNDERFLOW_FLAG IEEE_DENORMAL\n",
      "646it [05:00,  1.17it/s]"
     ]
    },
    {
     "name": "stdout",
     "output_type": "stream",
     "text": [
      "Error\n",
      "w is ['C', 'C', 'C', 'H', 'H', 'H', 'H', 'Li', 'O', 'O', 'O']\n",
      "setting up calculator\n"
     ]
    },
    {
     "name": "stderr",
     "output_type": "stream",
     "text": [
      "647it [05:01,  1.25it/s]"
     ]
    },
    {
     "name": "stdout",
     "output_type": "stream",
     "text": [
      "structure 647 written to DFTB_db \"\n",
      "w is ['C', 'C', 'C', 'H', 'H', 'H', 'H', 'Li', 'O', 'O', 'O']\n",
      "setting up calculator\n"
     ]
    },
    {
     "name": "stderr",
     "output_type": "stream",
     "text": [
      "648it [05:01,  1.24it/s]"
     ]
    },
    {
     "name": "stdout",
     "output_type": "stream",
     "text": [
      "structure 648 written to DFTB_db \"\n",
      "w is ['C', 'C', 'C', 'H', 'H', 'H', 'H', 'Li', 'O', 'O', 'O']\n",
      "setting up calculator\n"
     ]
    },
    {
     "name": "stderr",
     "output_type": "stream",
     "text": [
      "649it [05:02,  1.25it/s]"
     ]
    },
    {
     "name": "stdout",
     "output_type": "stream",
     "text": [
      "structure 649 written to DFTB_db \"\n",
      "w is ['C', 'C', 'C', 'H', 'H', 'H', 'H', 'Li', 'O', 'O', 'O']\n",
      "setting up calculator\n"
     ]
    },
    {
     "name": "stderr",
     "output_type": "stream",
     "text": [
      "650it [05:03,  1.25it/s]"
     ]
    },
    {
     "name": "stdout",
     "output_type": "stream",
     "text": [
      "structure 650 written to DFTB_db \"\n",
      "w is ['C', 'C', 'C', 'H', 'H', 'H', 'H', 'Li', 'O', 'O', 'O']\n",
      "setting up calculator\n"
     ]
    },
    {
     "name": "stderr",
     "output_type": "stream",
     "text": [
      "651it [05:04,  1.37it/s]"
     ]
    },
    {
     "name": "stdout",
     "output_type": "stream",
     "text": [
      "structure 651 written to DFTB_db \"\n",
      "w is ['C', 'C', 'C', 'H', 'H', 'H', 'H', 'Li', 'O', 'O', 'O']\n",
      "setting up calculator\n"
     ]
    },
    {
     "name": "stderr",
     "output_type": "stream",
     "text": [
      "652it [05:04,  1.54it/s]"
     ]
    },
    {
     "name": "stdout",
     "output_type": "stream",
     "text": [
      "structure 652 written to DFTB_db \"\n",
      "w is ['C', 'C', 'C', 'H', 'H', 'H', 'H', 'Li', 'O', 'O', 'O']\n",
      "setting up calculator\n"
     ]
    },
    {
     "name": "stderr",
     "output_type": "stream",
     "text": [
      "653it [05:05,  1.45it/s]"
     ]
    },
    {
     "name": "stdout",
     "output_type": "stream",
     "text": [
      "structure 653 written to DFTB_db \"\n",
      "w is ['C', 'C', 'C', 'H', 'H', 'H', 'H', 'Li', 'O', 'O', 'O']\n",
      "setting up calculator\n"
     ]
    },
    {
     "name": "stderr",
     "output_type": "stream",
     "text": [
      "654it [05:05,  1.44it/s]"
     ]
    },
    {
     "name": "stdout",
     "output_type": "stream",
     "text": [
      "structure 654 written to DFTB_db \"\n",
      "w is ['C', 'C', 'C', 'H', 'H', 'H', 'H', 'Li', 'O', 'O', 'O']\n",
      "setting up calculator\n"
     ]
    },
    {
     "name": "stderr",
     "output_type": "stream",
     "text": [
      "655it [05:06,  1.61it/s]"
     ]
    },
    {
     "name": "stdout",
     "output_type": "stream",
     "text": [
      "structure 655 written to DFTB_db \"\n",
      "w is ['C', 'C', 'C', 'H', 'H', 'H', 'H', 'Li', 'O', 'O', 'O']\n",
      "setting up calculator\n"
     ]
    },
    {
     "name": "stderr",
     "output_type": "stream",
     "text": [
      "656it [05:07,  1.54it/s]"
     ]
    },
    {
     "name": "stdout",
     "output_type": "stream",
     "text": [
      "structure 656 written to DFTB_db \"\n",
      "w is ['C', 'C', 'C', 'H', 'H', 'H', 'H', 'Li', 'O', 'O', 'O']\n",
      "setting up calculator\n"
     ]
    },
    {
     "name": "stderr",
     "output_type": "stream",
     "text": [
      "657it [05:07,  1.54it/s]"
     ]
    },
    {
     "name": "stdout",
     "output_type": "stream",
     "text": [
      "structure 657 written to DFTB_db \"\n",
      "w is ['C', 'C', 'C', 'H', 'H', 'H', 'H', 'Li', 'O', 'O', 'O']\n",
      "setting up calculator\n"
     ]
    },
    {
     "name": "stderr",
     "output_type": "stream",
     "text": [
      "658it [05:08,  1.35it/s]"
     ]
    },
    {
     "name": "stdout",
     "output_type": "stream",
     "text": [
      "structure 658 written to DFTB_db \"\n",
      "w is ['C', 'C', 'C', 'H', 'H', 'H', 'H', 'Li', 'O', 'O', 'O']\n",
      "setting up calculator\n"
     ]
    },
    {
     "name": "stderr",
     "output_type": "stream",
     "text": [
      "659it [05:09,  1.36it/s]"
     ]
    },
    {
     "name": "stdout",
     "output_type": "stream",
     "text": [
      "structure 659 written to DFTB_db \"\n",
      "w is ['C', 'C', 'C', 'H', 'H', 'H', 'H', 'Li', 'O', 'O', 'O']\n",
      "setting up calculator\n"
     ]
    },
    {
     "name": "stderr",
     "output_type": "stream",
     "text": [
      "660it [05:10,  1.47it/s]"
     ]
    },
    {
     "name": "stdout",
     "output_type": "stream",
     "text": [
      "structure 660 written to DFTB_db \"\n",
      "w is ['C', 'C', 'C', 'H', 'H', 'H', 'H', 'Li', 'O', 'O', 'O']\n",
      "setting up calculator\n"
     ]
    },
    {
     "name": "stderr",
     "output_type": "stream",
     "text": [
      "661it [05:10,  1.39it/s]"
     ]
    },
    {
     "name": "stdout",
     "output_type": "stream",
     "text": [
      "structure 661 written to DFTB_db \"\n",
      "w is ['C', 'C', 'C', 'H', 'H', 'H', 'H', 'Li', 'O', 'O', 'O']\n",
      "setting up calculator\n"
     ]
    },
    {
     "name": "stderr",
     "output_type": "stream",
     "text": [
      "662it [05:11,  1.40it/s]"
     ]
    },
    {
     "name": "stdout",
     "output_type": "stream",
     "text": [
      "structure 662 written to DFTB_db \"\n",
      "w is ['C', 'C', 'C', 'H', 'H', 'H', 'H', 'Li', 'O', 'O', 'O']\n",
      "setting up calculator\n"
     ]
    },
    {
     "name": "stderr",
     "output_type": "stream",
     "text": [
      "663it [05:12,  1.33it/s]"
     ]
    },
    {
     "name": "stdout",
     "output_type": "stream",
     "text": [
      "structure 663 written to DFTB_db \"\n",
      "w is ['C', 'C', 'C', 'H', 'H', 'H', 'H', 'Li', 'O', 'O', 'O']\n",
      "setting up calculator\n"
     ]
    },
    {
     "name": "stderr",
     "output_type": "stream",
     "text": [
      "664it [05:12,  1.55it/s]"
     ]
    },
    {
     "name": "stdout",
     "output_type": "stream",
     "text": [
      "structure 664 written to DFTB_db \"\n",
      "w is ['C', 'C', 'C', 'H', 'H', 'H', 'H', 'Li', 'O', 'O', 'O']\n",
      "setting up calculator\n"
     ]
    },
    {
     "name": "stderr",
     "output_type": "stream",
     "text": [
      "665it [05:13,  1.76it/s]"
     ]
    },
    {
     "name": "stdout",
     "output_type": "stream",
     "text": [
      "structure 665 written to DFTB_db \"\n",
      "w is ['C', 'C', 'C', 'H', 'H', 'H', 'H', 'Li', 'O', 'O', 'O']\n",
      "setting up calculator\n"
     ]
    },
    {
     "name": "stderr",
     "output_type": "stream",
     "text": [
      "666it [05:13,  1.82it/s]"
     ]
    },
    {
     "name": "stdout",
     "output_type": "stream",
     "text": [
      "structure 666 written to DFTB_db \"\n",
      "w is ['C', 'C', 'C', 'H', 'H', 'H', 'H', 'Li', 'O', 'O', 'O']\n",
      "setting up calculator\n"
     ]
    },
    {
     "name": "stderr",
     "output_type": "stream",
     "text": [
      "667it [05:14,  1.51it/s]"
     ]
    },
    {
     "name": "stdout",
     "output_type": "stream",
     "text": [
      "structure 667 written to DFTB_db \"\n",
      "w is ['C', 'C', 'C', 'H', 'H', 'H', 'H', 'Li', 'O', 'O', 'O']\n",
      "setting up calculator\n"
     ]
    },
    {
     "name": "stderr",
     "output_type": "stream",
     "text": [
      "Note: The following floating-point exceptions are signalling: IEEE_INVALID_FLAG IEEE_DIVIDE_BY_ZERO IEEE_UNDERFLOW_FLAG IEEE_DENORMAL\n",
      "Note: The following floating-point exceptions are signalling: IEEE_INVALID_FLAG IEEE_DIVIDE_BY_ZERO IEEE_UNDERFLOW_FLAG IEEE_DENORMAL\n",
      "668it [05:15,  1.25it/s]"
     ]
    },
    {
     "name": "stdout",
     "output_type": "stream",
     "text": [
      "Error\n",
      "w is ['C', 'C', 'C', 'H', 'H', 'H', 'H', 'Li', 'O', 'O', 'O']\n",
      "setting up calculator\n"
     ]
    },
    {
     "name": "stderr",
     "output_type": "stream",
     "text": [
      "669it [05:16,  1.34it/s]"
     ]
    },
    {
     "name": "stdout",
     "output_type": "stream",
     "text": [
      "structure 669 written to DFTB_db \"\n",
      "w is ['C', 'C', 'C', 'H', 'H', 'H', 'H', 'Li', 'O', 'O', 'O']\n",
      "setting up calculator\n"
     ]
    },
    {
     "name": "stderr",
     "output_type": "stream",
     "text": [
      "670it [05:17,  1.16it/s]"
     ]
    },
    {
     "name": "stdout",
     "output_type": "stream",
     "text": [
      "structure 670 written to DFTB_db \"\n",
      "w is ['C', 'C', 'C', 'H', 'H', 'H', 'H', 'Li', 'O', 'O', 'O']\n",
      "setting up calculator\n"
     ]
    },
    {
     "name": "stderr",
     "output_type": "stream",
     "text": [
      "671it [05:18,  1.10it/s]"
     ]
    },
    {
     "name": "stdout",
     "output_type": "stream",
     "text": [
      "structure 671 written to DFTB_db \"\n",
      "w is ['C', 'C', 'C', 'H', 'H', 'H', 'H', 'Li', 'O', 'O', 'O']\n",
      "setting up calculator\n"
     ]
    },
    {
     "name": "stderr",
     "output_type": "stream",
     "text": [
      "672it [05:19,  1.21it/s]"
     ]
    },
    {
     "name": "stdout",
     "output_type": "stream",
     "text": [
      "structure 672 written to DFTB_db \"\n",
      "w is ['C', 'C', 'C', 'H', 'H', 'H', 'H', 'Li', 'O', 'O', 'O']\n",
      "setting up calculator\n"
     ]
    },
    {
     "name": "stderr",
     "output_type": "stream",
     "text": [
      "673it [05:19,  1.22it/s]"
     ]
    },
    {
     "name": "stdout",
     "output_type": "stream",
     "text": [
      "structure 673 written to DFTB_db \"\n",
      "w is ['C', 'C', 'C', 'H', 'H', 'H', 'H', 'Li', 'O', 'O', 'O']\n",
      "setting up calculator\n"
     ]
    },
    {
     "name": "stderr",
     "output_type": "stream",
     "text": [
      "674it [05:20,  1.27it/s]"
     ]
    },
    {
     "name": "stdout",
     "output_type": "stream",
     "text": [
      "structure 674 written to DFTB_db \"\n",
      "w is ['C', 'C', 'C', 'H', 'H', 'H', 'H', 'Li', 'O', 'O', 'O']\n",
      "setting up calculator\n"
     ]
    },
    {
     "name": "stderr",
     "output_type": "stream",
     "text": [
      "675it [05:21,  1.30it/s]"
     ]
    },
    {
     "name": "stdout",
     "output_type": "stream",
     "text": [
      "structure 675 written to DFTB_db \"\n",
      "w is ['C', 'C', 'C', 'H', 'H', 'H', 'H', 'Li', 'O', 'O', 'O']\n",
      "setting up calculator\n"
     ]
    },
    {
     "name": "stderr",
     "output_type": "stream",
     "text": [
      "676it [05:22,  1.31it/s]"
     ]
    },
    {
     "name": "stdout",
     "output_type": "stream",
     "text": [
      "structure 676 written to DFTB_db \"\n",
      "w is ['C', 'C', 'C', 'H', 'H', 'H', 'H', 'Li', 'O', 'O', 'O']\n",
      "setting up calculator\n"
     ]
    },
    {
     "name": "stderr",
     "output_type": "stream",
     "text": [
      "677it [05:22,  1.31it/s]"
     ]
    },
    {
     "name": "stdout",
     "output_type": "stream",
     "text": [
      "structure 677 written to DFTB_db \"\n",
      "w is ['C', 'C', 'C', 'H', 'H', 'H', 'H', 'Li', 'O', 'O', 'O']\n",
      "setting up calculator\n"
     ]
    },
    {
     "name": "stderr",
     "output_type": "stream",
     "text": [
      "678it [05:23,  1.35it/s]"
     ]
    },
    {
     "name": "stdout",
     "output_type": "stream",
     "text": [
      "structure 678 written to DFTB_db \"\n",
      "w is ['C', 'C', 'C', 'H', 'H', 'H', 'H', 'Li', 'O', 'O', 'O']\n",
      "setting up calculator\n"
     ]
    },
    {
     "name": "stderr",
     "output_type": "stream",
     "text": [
      "679it [05:24,  1.19it/s]"
     ]
    },
    {
     "name": "stdout",
     "output_type": "stream",
     "text": [
      "structure 679 written to DFTB_db \"\n",
      "w is ['C', 'C', 'C', 'H', 'H', 'H', 'H', 'Li', 'O', 'O', 'O']\n",
      "setting up calculator\n"
     ]
    },
    {
     "name": "stderr",
     "output_type": "stream",
     "text": [
      "680it [05:25,  1.34it/s]"
     ]
    },
    {
     "name": "stdout",
     "output_type": "stream",
     "text": [
      "structure 680 written to DFTB_db \"\n",
      "w is ['C', 'C', 'C', 'H', 'H', 'H', 'H', 'Li', 'O', 'O', 'O']\n",
      "setting up calculator\n"
     ]
    },
    {
     "name": "stderr",
     "output_type": "stream",
     "text": [
      "681it [05:25,  1.53it/s]"
     ]
    },
    {
     "name": "stdout",
     "output_type": "stream",
     "text": [
      "structure 681 written to DFTB_db \"\n",
      "w is ['C', 'C', 'C', 'H', 'H', 'H', 'H', 'O', 'O', 'O']\n",
      "setting up calculator\n"
     ]
    },
    {
     "name": "stderr",
     "output_type": "stream",
     "text": [
      "682it [05:25,  1.81it/s]"
     ]
    },
    {
     "name": "stdout",
     "output_type": "stream",
     "text": [
      "structure 682 written to DFTB_db \"\n",
      "w is ['C', 'C', 'C', 'H', 'H', 'H', 'H', 'Li', 'O', 'O', 'O']\n",
      "setting up calculator\n"
     ]
    },
    {
     "name": "stderr",
     "output_type": "stream",
     "text": [
      "683it [05:26,  1.60it/s]"
     ]
    },
    {
     "name": "stdout",
     "output_type": "stream",
     "text": [
      "structure 683 written to DFTB_db \"\n",
      "w is ['C', 'C', 'C', 'H', 'H', 'H', 'H', 'Li', 'O', 'O', 'O']\n",
      "setting up calculator\n"
     ]
    },
    {
     "name": "stderr",
     "output_type": "stream",
     "text": [
      "684it [05:27,  1.68it/s]"
     ]
    },
    {
     "name": "stdout",
     "output_type": "stream",
     "text": [
      "structure 684 written to DFTB_db \"\n",
      "w is ['C', 'C', 'C', 'H', 'H', 'H', 'H', 'Li', 'O', 'O', 'O']\n",
      "setting up calculator\n"
     ]
    },
    {
     "name": "stderr",
     "output_type": "stream",
     "text": [
      "685it [05:27,  1.76it/s]"
     ]
    },
    {
     "name": "stdout",
     "output_type": "stream",
     "text": [
      "structure 685 written to DFTB_db \"\n",
      "w is ['C', 'C', 'C', 'H', 'H', 'H', 'H', 'Li', 'O', 'O', 'O']\n",
      "setting up calculator\n"
     ]
    },
    {
     "name": "stderr",
     "output_type": "stream",
     "text": [
      "686it [05:28,  1.67it/s]"
     ]
    },
    {
     "name": "stdout",
     "output_type": "stream",
     "text": [
      "structure 686 written to DFTB_db \"\n",
      "w is ['C', 'C', 'C', 'H', 'H', 'H', 'H', 'O', 'O', 'O']\n",
      "setting up calculator\n"
     ]
    },
    {
     "name": "stderr",
     "output_type": "stream",
     "text": [
      "687it [05:28,  1.78it/s]"
     ]
    },
    {
     "name": "stdout",
     "output_type": "stream",
     "text": [
      "structure 687 written to DFTB_db \"\n",
      "w is ['C', 'C', 'C', 'H', 'H', 'H', 'H', 'O', 'O', 'O']\n",
      "setting up calculator\n"
     ]
    },
    {
     "name": "stderr",
     "output_type": "stream",
     "text": [
      "688it [05:29,  1.79it/s]"
     ]
    },
    {
     "name": "stdout",
     "output_type": "stream",
     "text": [
      "structure 688 written to DFTB_db \"\n",
      "w is ['C', 'C', 'C', 'H', 'H', 'H', 'H', 'O', 'O', 'O']\n",
      "setting up calculator\n"
     ]
    },
    {
     "name": "stderr",
     "output_type": "stream",
     "text": [
      "689it [05:29,  1.97it/s]"
     ]
    },
    {
     "name": "stdout",
     "output_type": "stream",
     "text": [
      "structure 689 written to DFTB_db \"\n",
      "w is ['C', 'C', 'C', 'H', 'H', 'H', 'H', 'Li', 'O', 'O', 'O']\n",
      "setting up calculator\n"
     ]
    },
    {
     "name": "stderr",
     "output_type": "stream",
     "text": [
      "690it [05:30,  1.82it/s]"
     ]
    },
    {
     "name": "stdout",
     "output_type": "stream",
     "text": [
      "structure 690 written to DFTB_db \"\n",
      "w is ['C', 'C', 'C', 'H', 'H', 'H', 'H', 'O', 'O', 'O']\n",
      "setting up calculator\n"
     ]
    },
    {
     "name": "stderr",
     "output_type": "stream",
     "text": [
      "691it [05:31,  1.83it/s]"
     ]
    },
    {
     "name": "stdout",
     "output_type": "stream",
     "text": [
      "structure 691 written to DFTB_db \"\n",
      "w is ['C', 'C', 'C', 'H', 'H', 'H', 'H', 'O', 'O', 'O']\n",
      "setting up calculator\n"
     ]
    },
    {
     "name": "stderr",
     "output_type": "stream",
     "text": [
      "692it [05:31,  1.94it/s]"
     ]
    },
    {
     "name": "stdout",
     "output_type": "stream",
     "text": [
      "structure 692 written to DFTB_db \"\n",
      "w is ['C', 'C', 'C', 'H', 'H', 'H', 'H', 'O', 'O', 'O']\n",
      "setting up calculator\n"
     ]
    },
    {
     "name": "stderr",
     "output_type": "stream",
     "text": [
      "693it [05:32,  1.72it/s]"
     ]
    },
    {
     "name": "stdout",
     "output_type": "stream",
     "text": [
      "structure 693 written to DFTB_db \"\n",
      "w is ['C', 'C', 'C', 'H', 'H', 'H', 'H', 'Li', 'O', 'O', 'O']\n",
      "setting up calculator\n"
     ]
    },
    {
     "name": "stderr",
     "output_type": "stream",
     "text": [
      "694it [05:32,  1.69it/s]"
     ]
    },
    {
     "name": "stdout",
     "output_type": "stream",
     "text": [
      "structure 694 written to DFTB_db \"\n",
      "w is ['C', 'C', 'C', 'H', 'H', 'H', 'H', 'O', 'O', 'O']\n",
      "setting up calculator\n"
     ]
    },
    {
     "name": "stderr",
     "output_type": "stream",
     "text": [
      "695it [05:33,  2.00it/s]"
     ]
    },
    {
     "name": "stdout",
     "output_type": "stream",
     "text": [
      "structure 695 written to DFTB_db \"\n",
      "w is ['C', 'C', 'C', 'H', 'H', 'H', 'H', 'O', 'O', 'O']\n",
      "setting up calculator\n"
     ]
    },
    {
     "name": "stderr",
     "output_type": "stream",
     "text": [
      "696it [05:33,  2.12it/s]"
     ]
    },
    {
     "name": "stdout",
     "output_type": "stream",
     "text": [
      "structure 696 written to DFTB_db \"\n",
      "w is ['C', 'C', 'C', 'H', 'H', 'H', 'H', 'O', 'O', 'O']\n",
      "setting up calculator\n"
     ]
    },
    {
     "name": "stderr",
     "output_type": "stream",
     "text": [
      "697it [05:33,  2.31it/s]"
     ]
    },
    {
     "name": "stdout",
     "output_type": "stream",
     "text": [
      "structure 697 written to DFTB_db \"\n",
      "w is ['C', 'C', 'C', 'H', 'H', 'H', 'H', 'O', 'O', 'O']\n",
      "setting up calculator\n"
     ]
    },
    {
     "name": "stderr",
     "output_type": "stream",
     "text": [
      "698it [05:34,  2.49it/s]"
     ]
    },
    {
     "name": "stdout",
     "output_type": "stream",
     "text": [
      "structure 698 written to DFTB_db \"\n",
      "w is ['C', 'C', 'C', 'H', 'H', 'H', 'H', 'O', 'O', 'O']\n",
      "setting up calculator\n"
     ]
    },
    {
     "name": "stderr",
     "output_type": "stream",
     "text": [
      "699it [05:34,  2.22it/s]"
     ]
    },
    {
     "name": "stdout",
     "output_type": "stream",
     "text": [
      "structure 699 written to DFTB_db \"\n",
      "w is ['C', 'C', 'C', 'H', 'H', 'H', 'H', 'O', 'O', 'O']\n",
      "setting up calculator\n"
     ]
    },
    {
     "name": "stderr",
     "output_type": "stream",
     "text": [
      "700it [05:35,  1.92it/s]"
     ]
    },
    {
     "name": "stdout",
     "output_type": "stream",
     "text": [
      "structure 700 written to DFTB_db \"\n",
      "w is ['C', 'C', 'C', 'H', 'H', 'H', 'H', 'O', 'O', 'O']\n",
      "setting up calculator\n"
     ]
    },
    {
     "name": "stderr",
     "output_type": "stream",
     "text": [
      "701it [05:35,  2.22it/s]"
     ]
    },
    {
     "name": "stdout",
     "output_type": "stream",
     "text": [
      "structure 701 written to DFTB_db \"\n",
      "w is ['C', 'C', 'C', 'H', 'H', 'H', 'H', 'O', 'O', 'O']\n",
      "setting up calculator\n"
     ]
    },
    {
     "name": "stderr",
     "output_type": "stream",
     "text": [
      "702it [05:35,  2.52it/s]"
     ]
    },
    {
     "name": "stdout",
     "output_type": "stream",
     "text": [
      "structure 702 written to DFTB_db \"\n",
      "w is ['C', 'C', 'C', 'H', 'H', 'H', 'H', 'O', 'O', 'O']\n",
      "setting up calculator\n"
     ]
    },
    {
     "name": "stderr",
     "output_type": "stream",
     "text": [
      "703it [05:36,  2.37it/s]"
     ]
    },
    {
     "name": "stdout",
     "output_type": "stream",
     "text": [
      "structure 703 written to DFTB_db \"\n",
      "w is ['C', 'C', 'C', 'H', 'H', 'H', 'H', 'O', 'O', 'O']\n",
      "setting up calculator\n"
     ]
    },
    {
     "name": "stderr",
     "output_type": "stream",
     "text": [
      "704it [05:36,  2.55it/s]"
     ]
    },
    {
     "name": "stdout",
     "output_type": "stream",
     "text": [
      "structure 704 written to DFTB_db \"\n",
      "w is ['C', 'C', 'C', 'H', 'H', 'H', 'H', 'O', 'O', 'O']\n",
      "setting up calculator\n"
     ]
    },
    {
     "name": "stderr",
     "output_type": "stream",
     "text": [
      "705it [05:37,  2.40it/s]"
     ]
    },
    {
     "name": "stdout",
     "output_type": "stream",
     "text": [
      "structure 705 written to DFTB_db \"\n",
      "w is ['C', 'C', 'C', 'H', 'H', 'H', 'H', 'O', 'O', 'O']\n",
      "setting up calculator\n"
     ]
    },
    {
     "name": "stderr",
     "output_type": "stream",
     "text": [
      "706it [05:37,  2.07it/s]"
     ]
    },
    {
     "name": "stdout",
     "output_type": "stream",
     "text": [
      "structure 706 written to DFTB_db \"\n",
      "w is ['C', 'C', 'C', 'H', 'H', 'H', 'H', 'O', 'O', 'O']\n",
      "setting up calculator\n"
     ]
    },
    {
     "name": "stderr",
     "output_type": "stream",
     "text": [
      "707it [05:38,  1.64it/s]"
     ]
    },
    {
     "name": "stdout",
     "output_type": "stream",
     "text": [
      "structure 707 written to DFTB_db \"\n",
      "w is ['C', 'C', 'C', 'H', 'H', 'H', 'H', 'O', 'O', 'O']\n",
      "setting up calculator\n"
     ]
    },
    {
     "name": "stderr",
     "output_type": "stream",
     "text": [
      "708it [05:39,  1.46it/s]"
     ]
    },
    {
     "name": "stdout",
     "output_type": "stream",
     "text": [
      "structure 708 written to DFTB_db \"\n",
      "w is ['C', 'C', 'C', 'H', 'H', 'H', 'H', 'O', 'O', 'O']\n",
      "setting up calculator\n"
     ]
    },
    {
     "name": "stderr",
     "output_type": "stream",
     "text": [
      "709it [05:40,  1.40it/s]"
     ]
    },
    {
     "name": "stdout",
     "output_type": "stream",
     "text": [
      "structure 709 written to DFTB_db \"\n",
      "w is ['C', 'C', 'C', 'H', 'H', 'H', 'H', 'O', 'O', 'O']\n",
      "setting up calculator\n"
     ]
    },
    {
     "name": "stderr",
     "output_type": "stream",
     "text": [
      "710it [05:41,  1.34it/s]"
     ]
    },
    {
     "name": "stdout",
     "output_type": "stream",
     "text": [
      "structure 710 written to DFTB_db \"\n",
      "w is ['C', 'C', 'C', 'H', 'H', 'H', 'H', 'O', 'O', 'O']\n",
      "setting up calculator\n"
     ]
    },
    {
     "name": "stderr",
     "output_type": "stream",
     "text": [
      "711it [05:41,  1.48it/s]"
     ]
    },
    {
     "name": "stdout",
     "output_type": "stream",
     "text": [
      "structure 711 written to DFTB_db \"\n",
      "w is ['C', 'C', 'C', 'H', 'H', 'H', 'H', 'O', 'O', 'O']\n",
      "setting up calculator\n"
     ]
    },
    {
     "name": "stderr",
     "output_type": "stream",
     "text": [
      "712it [05:42,  1.53it/s]"
     ]
    },
    {
     "name": "stdout",
     "output_type": "stream",
     "text": [
      "structure 712 written to DFTB_db \"\n",
      "w is ['C', 'C', 'C', 'H', 'H', 'H', 'H', 'O', 'O', 'O']\n",
      "setting up calculator\n"
     ]
    },
    {
     "name": "stderr",
     "output_type": "stream",
     "text": [
      "713it [05:42,  1.67it/s]"
     ]
    },
    {
     "name": "stdout",
     "output_type": "stream",
     "text": [
      "structure 713 written to DFTB_db \"\n",
      "w is ['C', 'C', 'C', 'H', 'H', 'H', 'H', 'O', 'O', 'O']\n",
      "setting up calculator\n"
     ]
    },
    {
     "name": "stderr",
     "output_type": "stream",
     "text": [
      "714it [05:43,  1.97it/s]"
     ]
    },
    {
     "name": "stdout",
     "output_type": "stream",
     "text": [
      "structure 714 written to DFTB_db \"\n",
      "w is ['C', 'C', 'C', 'H', 'H', 'H', 'H', 'O', 'O', 'O']\n",
      "setting up calculator\n"
     ]
    },
    {
     "name": "stderr",
     "output_type": "stream",
     "text": [
      "715it [05:43,  1.99it/s]"
     ]
    },
    {
     "name": "stdout",
     "output_type": "stream",
     "text": [
      "structure 715 written to DFTB_db \"\n",
      "w is ['C', 'C', 'C', 'H', 'H', 'H', 'H', 'O', 'O', 'O']\n",
      "setting up calculator\n"
     ]
    },
    {
     "name": "stderr",
     "output_type": "stream",
     "text": [
      "716it [05:43,  2.20it/s]"
     ]
    },
    {
     "name": "stdout",
     "output_type": "stream",
     "text": [
      "structure 716 written to DFTB_db \"\n",
      "w is ['C', 'C', 'C', 'H', 'H', 'H', 'H', 'O', 'O', 'O']\n",
      "setting up calculator\n"
     ]
    },
    {
     "name": "stderr",
     "output_type": "stream",
     "text": [
      "717it [05:44,  2.11it/s]"
     ]
    },
    {
     "name": "stdout",
     "output_type": "stream",
     "text": [
      "structure 717 written to DFTB_db \"\n",
      "w is ['C', 'C', 'C', 'H', 'H', 'H', 'H', 'O', 'O', 'O']\n",
      "setting up calculator\n"
     ]
    },
    {
     "name": "stderr",
     "output_type": "stream",
     "text": [
      "718it [05:45,  1.82it/s]"
     ]
    },
    {
     "name": "stdout",
     "output_type": "stream",
     "text": [
      "structure 718 written to DFTB_db \"\n",
      "w is ['C', 'C', 'C', 'H', 'H', 'H', 'H', 'O', 'O', 'O']\n",
      "setting up calculator\n"
     ]
    },
    {
     "name": "stderr",
     "output_type": "stream",
     "text": [
      "719it [05:46,  1.28it/s]"
     ]
    },
    {
     "name": "stdout",
     "output_type": "stream",
     "text": [
      "structure 719 written to DFTB_db \"\n",
      "w is ['C', 'C', 'C', 'H', 'H', 'H', 'H', 'O', 'O', 'O']\n",
      "setting up calculator\n"
     ]
    },
    {
     "name": "stderr",
     "output_type": "stream",
     "text": [
      "720it [05:47,  1.10it/s]"
     ]
    },
    {
     "name": "stdout",
     "output_type": "stream",
     "text": [
      "structure 720 written to DFTB_db \"\n",
      "w is ['C', 'C', 'C', 'H', 'H', 'H', 'H', 'O', 'O', 'O']\n",
      "setting up calculator\n"
     ]
    },
    {
     "name": "stderr",
     "output_type": "stream",
     "text": [
      "721it [05:49,  1.08s/it]"
     ]
    },
    {
     "name": "stdout",
     "output_type": "stream",
     "text": [
      "structure 721 written to DFTB_db \"\n",
      "w is ['C', 'C', 'C', 'H', 'H', 'H', 'H', 'O', 'O', 'O']\n",
      "setting up calculator\n"
     ]
    },
    {
     "name": "stderr",
     "output_type": "stream",
     "text": [
      "722it [05:50,  1.10s/it]"
     ]
    },
    {
     "name": "stdout",
     "output_type": "stream",
     "text": [
      "structure 722 written to DFTB_db \"\n",
      "w is ['C', 'C', 'C', 'H', 'H', 'H', 'H', 'O', 'O', 'O']\n",
      "setting up calculator\n"
     ]
    },
    {
     "name": "stderr",
     "output_type": "stream",
     "text": [
      "723it [05:51,  1.13s/it]"
     ]
    },
    {
     "name": "stdout",
     "output_type": "stream",
     "text": [
      "structure 723 written to DFTB_db \"\n",
      "w is ['C', 'C', 'C', 'H', 'H', 'H', 'H', 'O', 'O', 'O']\n",
      "setting up calculator\n"
     ]
    },
    {
     "name": "stderr",
     "output_type": "stream",
     "text": [
      "724it [05:52,  1.03it/s]"
     ]
    },
    {
     "name": "stdout",
     "output_type": "stream",
     "text": [
      "structure 724 written to DFTB_db \"\n",
      "w is ['C', 'C', 'C', 'H', 'H', 'H', 'H', 'O', 'O', 'O']\n",
      "setting up calculator\n"
     ]
    },
    {
     "name": "stderr",
     "output_type": "stream",
     "text": [
      "725it [05:53,  1.07it/s]"
     ]
    },
    {
     "name": "stdout",
     "output_type": "stream",
     "text": [
      "structure 725 written to DFTB_db \"\n",
      "w is ['C', 'C', 'C', 'H', 'H', 'H', 'H', 'O', 'O', 'O']\n",
      "setting up calculator\n"
     ]
    },
    {
     "name": "stderr",
     "output_type": "stream",
     "text": [
      "726it [05:54,  1.04s/it]"
     ]
    },
    {
     "name": "stdout",
     "output_type": "stream",
     "text": [
      "structure 726 written to DFTB_db \"\n",
      "w is ['C', 'C', 'C', 'H', 'H', 'H', 'H', 'O', 'O', 'O']\n",
      "setting up calculator\n"
     ]
    },
    {
     "name": "stderr",
     "output_type": "stream",
     "text": [
      "727it [05:54,  1.13it/s]"
     ]
    },
    {
     "name": "stdout",
     "output_type": "stream",
     "text": [
      "structure 727 written to DFTB_db \"\n",
      "w is ['C', 'C', 'C', 'H', 'H', 'H', 'H', 'O', 'O', 'O']\n",
      "setting up calculator\n"
     ]
    },
    {
     "name": "stderr",
     "output_type": "stream",
     "text": [
      "728it [05:55,  1.15it/s]"
     ]
    },
    {
     "name": "stdout",
     "output_type": "stream",
     "text": [
      "structure 728 written to DFTB_db \"\n",
      "w is ['C', 'C', 'C', 'H', 'H', 'H', 'H', 'O', 'O', 'O']\n",
      "setting up calculator\n"
     ]
    },
    {
     "name": "stderr",
     "output_type": "stream",
     "text": [
      "729it [05:56,  1.12it/s]"
     ]
    },
    {
     "name": "stdout",
     "output_type": "stream",
     "text": [
      "structure 729 written to DFTB_db \"\n",
      "w is ['C', 'C', 'C', 'H', 'H', 'H', 'H', 'O', 'O', 'O']\n",
      "setting up calculator\n"
     ]
    },
    {
     "name": "stderr",
     "output_type": "stream",
     "text": [
      "730it [05:57,  1.28it/s]"
     ]
    },
    {
     "name": "stdout",
     "output_type": "stream",
     "text": [
      "structure 730 written to DFTB_db \"\n",
      "w is ['C', 'C', 'C', 'H', 'H', 'H', 'H', 'O', 'O', 'O']\n",
      "setting up calculator\n"
     ]
    },
    {
     "name": "stderr",
     "output_type": "stream",
     "text": [
      "731it [05:57,  1.54it/s]"
     ]
    },
    {
     "name": "stdout",
     "output_type": "stream",
     "text": [
      "structure 731 written to DFTB_db \"\n",
      "w is ['C', 'C', 'C', 'H', 'H', 'H', 'H', 'O', 'O', 'O']\n",
      "setting up calculator\n"
     ]
    },
    {
     "name": "stderr",
     "output_type": "stream",
     "text": [
      "732it [05:57,  1.72it/s]"
     ]
    },
    {
     "name": "stdout",
     "output_type": "stream",
     "text": [
      "structure 732 written to DFTB_db \"\n",
      "w is ['C', 'C', 'C', 'H', 'H', 'H', 'H', 'O', 'O', 'O']\n",
      "setting up calculator\n"
     ]
    },
    {
     "name": "stderr",
     "output_type": "stream",
     "text": [
      "733it [05:58,  1.65it/s]"
     ]
    },
    {
     "name": "stdout",
     "output_type": "stream",
     "text": [
      "structure 733 written to DFTB_db \"\n",
      "w is ['C', 'C', 'C', 'H', 'H', 'H', 'H', 'O', 'O', 'O']\n",
      "setting up calculator\n"
     ]
    },
    {
     "name": "stderr",
     "output_type": "stream",
     "text": [
      "734it [05:58,  1.83it/s]"
     ]
    },
    {
     "name": "stdout",
     "output_type": "stream",
     "text": [
      "structure 734 written to DFTB_db \"\n",
      "w is ['C', 'C', 'C', 'H', 'H', 'H', 'H', 'O', 'O', 'O']\n",
      "setting up calculator\n"
     ]
    },
    {
     "name": "stderr",
     "output_type": "stream",
     "text": [
      "735it [05:59,  1.91it/s]"
     ]
    },
    {
     "name": "stdout",
     "output_type": "stream",
     "text": [
      "structure 735 written to DFTB_db \"\n",
      "w is ['C', 'C', 'C', 'H', 'H', 'H', 'H', 'O', 'O', 'O']\n",
      "setting up calculator\n"
     ]
    },
    {
     "name": "stderr",
     "output_type": "stream",
     "text": [
      "736it [05:59,  2.10it/s]"
     ]
    },
    {
     "name": "stdout",
     "output_type": "stream",
     "text": [
      "structure 736 written to DFTB_db \"\n",
      "w is ['C', 'C', 'C', 'H', 'H', 'H', 'H', 'O', 'O', 'O']\n",
      "setting up calculator\n"
     ]
    },
    {
     "name": "stderr",
     "output_type": "stream",
     "text": [
      "737it [06:00,  1.77it/s]"
     ]
    },
    {
     "name": "stdout",
     "output_type": "stream",
     "text": [
      "structure 737 written to DFTB_db \"\n",
      "w is ['C', 'C', 'C', 'H', 'H', 'H', 'H', 'O', 'O', 'O']\n",
      "setting up calculator\n"
     ]
    },
    {
     "name": "stderr",
     "output_type": "stream",
     "text": [
      "738it [06:01,  1.79it/s]"
     ]
    },
    {
     "name": "stdout",
     "output_type": "stream",
     "text": [
      "structure 738 written to DFTB_db \"\n",
      "w is ['C', 'C', 'C', 'H', 'H', 'H', 'H', 'O', 'O', 'O']\n",
      "setting up calculator\n"
     ]
    },
    {
     "name": "stderr",
     "output_type": "stream",
     "text": [
      "739it [06:01,  1.81it/s]"
     ]
    },
    {
     "name": "stdout",
     "output_type": "stream",
     "text": [
      "structure 739 written to DFTB_db \"\n",
      "w is ['C', 'C', 'C', 'H', 'H', 'H', 'H', 'O', 'O', 'O']\n",
      "setting up calculator\n"
     ]
    },
    {
     "name": "stderr",
     "output_type": "stream",
     "text": [
      "740it [06:02,  1.88it/s]"
     ]
    },
    {
     "name": "stdout",
     "output_type": "stream",
     "text": [
      "structure 740 written to DFTB_db \"\n",
      "w is ['C', 'C', 'C', 'H', 'H', 'H', 'H', 'O', 'O', 'O']\n",
      "setting up calculator\n"
     ]
    },
    {
     "name": "stderr",
     "output_type": "stream",
     "text": [
      "741it [06:02,  1.89it/s]"
     ]
    },
    {
     "name": "stdout",
     "output_type": "stream",
     "text": [
      "structure 741 written to DFTB_db \"\n",
      "w is ['C', 'C', 'C', 'H', 'H', 'H', 'H', 'O', 'O', 'O']\n",
      "setting up calculator\n"
     ]
    },
    {
     "name": "stderr",
     "output_type": "stream",
     "text": [
      "742it [06:03,  2.05it/s]"
     ]
    },
    {
     "name": "stdout",
     "output_type": "stream",
     "text": [
      "structure 742 written to DFTB_db \"\n",
      "w is ['C', 'C', 'C', 'H', 'H', 'H', 'H', 'O', 'O', 'O']\n",
      "setting up calculator\n"
     ]
    },
    {
     "name": "stderr",
     "output_type": "stream",
     "text": [
      "743it [06:03,  1.87it/s]"
     ]
    },
    {
     "name": "stdout",
     "output_type": "stream",
     "text": [
      "structure 743 written to DFTB_db \"\n",
      "w is ['C', 'C', 'C', 'H', 'H', 'H', 'H', 'O', 'O', 'O']\n",
      "setting up calculator\n"
     ]
    },
    {
     "name": "stderr",
     "output_type": "stream",
     "text": [
      "744it [06:04,  1.52it/s]"
     ]
    },
    {
     "name": "stdout",
     "output_type": "stream",
     "text": [
      "structure 744 written to DFTB_db \"\n",
      "w is ['C', 'C', 'C', 'H', 'H', 'H', 'H', 'O', 'O', 'O']\n",
      "setting up calculator\n"
     ]
    },
    {
     "name": "stderr",
     "output_type": "stream",
     "text": [
      "745it [06:05,  1.26it/s]"
     ]
    },
    {
     "name": "stdout",
     "output_type": "stream",
     "text": [
      "structure 745 written to DFTB_db \"\n",
      "w is ['C', 'C', 'C', 'H', 'H', 'H', 'H', 'O', 'O', 'O']\n",
      "setting up calculator\n"
     ]
    },
    {
     "name": "stderr",
     "output_type": "stream",
     "text": [
      "746it [06:06,  1.13it/s]"
     ]
    },
    {
     "name": "stdout",
     "output_type": "stream",
     "text": [
      "structure 746 written to DFTB_db \"\n",
      "w is ['C', 'C', 'C', 'H', 'H', 'H', 'H', 'O', 'O', 'O']\n",
      "setting up calculator\n"
     ]
    },
    {
     "name": "stderr",
     "output_type": "stream",
     "text": [
      "747it [06:07,  1.25it/s]"
     ]
    },
    {
     "name": "stdout",
     "output_type": "stream",
     "text": [
      "structure 747 written to DFTB_db \"\n",
      "w is ['C', 'C', 'C', 'H', 'H', 'H', 'H', 'O', 'O', 'O']\n",
      "setting up calculator\n"
     ]
    },
    {
     "name": "stderr",
     "output_type": "stream",
     "text": [
      "748it [06:08,  1.35it/s]"
     ]
    },
    {
     "name": "stdout",
     "output_type": "stream",
     "text": [
      "structure 748 written to DFTB_db \"\n",
      "w is ['C', 'C', 'C', 'H', 'H', 'H', 'H', 'O', 'O', 'O']\n",
      "setting up calculator\n"
     ]
    },
    {
     "name": "stderr",
     "output_type": "stream",
     "text": [
      "749it [06:08,  1.47it/s]"
     ]
    },
    {
     "name": "stdout",
     "output_type": "stream",
     "text": [
      "structure 749 written to DFTB_db \"\n",
      "w is ['C', 'C', 'C', 'H', 'H', 'H', 'H', 'O', 'O', 'O']\n",
      "setting up calculator\n"
     ]
    },
    {
     "name": "stderr",
     "output_type": "stream",
     "text": [
      "750it [06:09,  1.56it/s]"
     ]
    },
    {
     "name": "stdout",
     "output_type": "stream",
     "text": [
      "structure 750 written to DFTB_db \"\n",
      "w is ['C', 'C', 'C', 'H', 'H', 'H', 'H', 'O', 'O', 'O']\n",
      "setting up calculator\n"
     ]
    },
    {
     "name": "stderr",
     "output_type": "stream",
     "text": [
      "751it [06:09,  1.74it/s]"
     ]
    },
    {
     "name": "stdout",
     "output_type": "stream",
     "text": [
      "structure 751 written to DFTB_db \"\n",
      "w is ['C', 'C', 'C', 'H', 'H', 'H', 'H', 'O', 'O', 'O']\n",
      "setting up calculator\n"
     ]
    },
    {
     "name": "stderr",
     "output_type": "stream",
     "text": [
      "752it [06:10,  1.58it/s]"
     ]
    },
    {
     "name": "stdout",
     "output_type": "stream",
     "text": [
      "structure 752 written to DFTB_db \"\n",
      "w is ['C', 'C', 'C', 'H', 'H', 'H', 'H', 'O', 'O', 'O']\n",
      "setting up calculator\n"
     ]
    },
    {
     "name": "stderr",
     "output_type": "stream",
     "text": [
      "753it [06:10,  1.66it/s]"
     ]
    },
    {
     "name": "stdout",
     "output_type": "stream",
     "text": [
      "structure 753 written to DFTB_db \"\n",
      "w is ['C', 'C', 'C', 'H', 'H', 'H', 'H', 'O', 'O', 'O']\n",
      "setting up calculator\n"
     ]
    },
    {
     "name": "stderr",
     "output_type": "stream",
     "text": [
      "754it [06:11,  1.36it/s]"
     ]
    },
    {
     "name": "stdout",
     "output_type": "stream",
     "text": [
      "structure 754 written to DFTB_db \"\n",
      "w is ['C', 'C', 'C', 'H', 'H', 'H', 'H', 'O', 'O', 'O']\n",
      "setting up calculator\n"
     ]
    },
    {
     "name": "stderr",
     "output_type": "stream",
     "text": [
      "755it [06:12,  1.32it/s]"
     ]
    },
    {
     "name": "stdout",
     "output_type": "stream",
     "text": [
      "structure 755 written to DFTB_db \"\n",
      "w is ['C', 'C', 'C', 'H', 'H', 'H', 'H', 'O', 'O', 'O']\n",
      "setting up calculator\n"
     ]
    },
    {
     "name": "stderr",
     "output_type": "stream",
     "text": [
      "756it [06:13,  1.53it/s]"
     ]
    },
    {
     "name": "stdout",
     "output_type": "stream",
     "text": [
      "structure 756 written to DFTB_db \"\n",
      "w is ['C', 'C', 'C', 'H', 'H', 'H', 'H', 'O', 'O', 'O']\n",
      "setting up calculator\n"
     ]
    },
    {
     "name": "stderr",
     "output_type": "stream",
     "text": [
      "757it [06:13,  1.48it/s]"
     ]
    },
    {
     "name": "stdout",
     "output_type": "stream",
     "text": [
      "structure 757 written to DFTB_db \"\n",
      "w is ['C', 'C', 'C', 'H', 'H', 'H', 'H', 'O', 'O', 'O']\n",
      "setting up calculator\n"
     ]
    },
    {
     "name": "stderr",
     "output_type": "stream",
     "text": [
      "758it [06:14,  1.36it/s]"
     ]
    },
    {
     "name": "stdout",
     "output_type": "stream",
     "text": [
      "structure 758 written to DFTB_db \"\n",
      "w is ['C', 'C', 'C', 'H', 'H', 'H', 'H', 'O', 'O', 'O']\n",
      "setting up calculator\n"
     ]
    },
    {
     "name": "stderr",
     "output_type": "stream",
     "text": [
      "759it [06:15,  1.26it/s]"
     ]
    },
    {
     "name": "stdout",
     "output_type": "stream",
     "text": [
      "structure 759 written to DFTB_db \"\n",
      "w is ['C', 'C', 'C', 'H', 'H', 'H', 'H', 'O', 'O', 'O']\n",
      "setting up calculator\n"
     ]
    },
    {
     "name": "stderr",
     "output_type": "stream",
     "text": [
      "760it [06:16,  1.22it/s]"
     ]
    },
    {
     "name": "stdout",
     "output_type": "stream",
     "text": [
      "structure 760 written to DFTB_db \"\n",
      "w is ['C', 'C', 'C', 'H', 'H', 'H', 'H', 'O', 'O', 'O']\n",
      "setting up calculator\n"
     ]
    },
    {
     "name": "stderr",
     "output_type": "stream",
     "text": [
      "761it [06:16,  1.45it/s]"
     ]
    },
    {
     "name": "stdout",
     "output_type": "stream",
     "text": [
      "structure 761 written to DFTB_db \"\n",
      "w is ['C', 'C', 'C', 'H', 'H', 'H', 'H', 'O', 'O', 'O']\n",
      "setting up calculator\n"
     ]
    },
    {
     "name": "stderr",
     "output_type": "stream",
     "text": [
      "762it [06:18,  1.14it/s]"
     ]
    },
    {
     "name": "stdout",
     "output_type": "stream",
     "text": [
      "structure 762 written to DFTB_db \"\n",
      "w is ['C', 'C', 'C', 'H', 'H', 'H', 'H', 'O', 'O', 'O']\n",
      "setting up calculator\n"
     ]
    },
    {
     "name": "stderr",
     "output_type": "stream",
     "text": [
      "763it [06:18,  1.27it/s]"
     ]
    },
    {
     "name": "stdout",
     "output_type": "stream",
     "text": [
      "structure 763 written to DFTB_db \"\n",
      "w is ['C', 'C', 'C', 'H', 'H', 'H', 'H', 'O', 'O', 'O']\n",
      "setting up calculator\n"
     ]
    },
    {
     "name": "stderr",
     "output_type": "stream",
     "text": [
      "764it [06:19,  1.27it/s]"
     ]
    },
    {
     "name": "stdout",
     "output_type": "stream",
     "text": [
      "structure 764 written to DFTB_db \"\n",
      "w is ['C', 'C', 'C', 'H', 'H', 'H', 'H', 'O', 'O', 'O']\n",
      "setting up calculator\n"
     ]
    },
    {
     "name": "stderr",
     "output_type": "stream",
     "text": [
      "765it [06:20,  1.25it/s]"
     ]
    },
    {
     "name": "stdout",
     "output_type": "stream",
     "text": [
      "structure 765 written to DFTB_db \"\n",
      "w is ['C', 'C', 'C', 'H', 'H', 'H', 'H', 'O', 'O', 'O']\n",
      "setting up calculator\n"
     ]
    },
    {
     "name": "stderr",
     "output_type": "stream",
     "text": [
      "766it [06:21,  1.32it/s]"
     ]
    },
    {
     "name": "stdout",
     "output_type": "stream",
     "text": [
      "structure 766 written to DFTB_db \"\n",
      "w is ['C', 'C', 'C', 'H', 'H', 'H', 'H', 'O', 'O', 'O']\n",
      "setting up calculator\n"
     ]
    },
    {
     "name": "stderr",
     "output_type": "stream",
     "text": [
      "767it [06:21,  1.33it/s]"
     ]
    },
    {
     "name": "stdout",
     "output_type": "stream",
     "text": [
      "structure 767 written to DFTB_db \"\n",
      "w is ['C', 'C', 'C', 'H', 'H', 'H', 'H', 'O', 'O', 'O']\n",
      "setting up calculator\n"
     ]
    },
    {
     "name": "stderr",
     "output_type": "stream",
     "text": [
      "768it [06:22,  1.34it/s]"
     ]
    },
    {
     "name": "stdout",
     "output_type": "stream",
     "text": [
      "structure 768 written to DFTB_db \"\n",
      "w is ['C', 'C', 'C', 'H', 'H', 'H', 'H', 'O', 'O', 'O']\n",
      "setting up calculator\n"
     ]
    },
    {
     "name": "stderr",
     "output_type": "stream",
     "text": [
      "769it [06:23,  1.29it/s]"
     ]
    },
    {
     "name": "stdout",
     "output_type": "stream",
     "text": [
      "structure 769 written to DFTB_db \"\n",
      "w is ['C', 'C', 'C', 'H', 'H', 'H', 'H', 'O', 'O', 'O']\n",
      "setting up calculator\n"
     ]
    },
    {
     "name": "stderr",
     "output_type": "stream",
     "text": [
      "770it [06:24,  1.23it/s]"
     ]
    },
    {
     "name": "stdout",
     "output_type": "stream",
     "text": [
      "structure 770 written to DFTB_db \"\n",
      "w is ['C', 'C', 'C', 'H', 'H', 'H', 'H', 'O', 'O', 'O']\n",
      "setting up calculator\n"
     ]
    },
    {
     "name": "stderr",
     "output_type": "stream",
     "text": [
      "771it [06:24,  1.34it/s]"
     ]
    },
    {
     "name": "stdout",
     "output_type": "stream",
     "text": [
      "structure 771 written to DFTB_db \"\n",
      "w is ['C', 'C', 'C', 'H', 'H', 'H', 'H', 'O', 'O', 'O']\n",
      "setting up calculator\n"
     ]
    },
    {
     "name": "stderr",
     "output_type": "stream",
     "text": [
      "772it [06:25,  1.41it/s]"
     ]
    },
    {
     "name": "stdout",
     "output_type": "stream",
     "text": [
      "structure 772 written to DFTB_db \"\n",
      "w is ['C', 'C', 'C', 'H', 'H', 'H', 'H', 'O', 'O', 'O']\n",
      "setting up calculator\n"
     ]
    },
    {
     "name": "stderr",
     "output_type": "stream",
     "text": [
      "773it [06:26,  1.35it/s]"
     ]
    },
    {
     "name": "stdout",
     "output_type": "stream",
     "text": [
      "structure 773 written to DFTB_db \"\n",
      "w is ['C', 'C', 'C', 'H', 'H', 'H', 'H', 'O', 'O', 'O']\n",
      "setting up calculator\n"
     ]
    },
    {
     "name": "stderr",
     "output_type": "stream",
     "text": [
      "774it [06:26,  1.49it/s]"
     ]
    },
    {
     "name": "stdout",
     "output_type": "stream",
     "text": [
      "structure 774 written to DFTB_db \"\n",
      "w is ['C', 'C', 'C', 'H', 'H', 'H', 'H', 'O', 'O', 'O']\n",
      "setting up calculator\n"
     ]
    },
    {
     "name": "stderr",
     "output_type": "stream",
     "text": [
      "775it [06:27,  1.68it/s]"
     ]
    },
    {
     "name": "stdout",
     "output_type": "stream",
     "text": [
      "structure 775 written to DFTB_db \"\n",
      "w is ['C', 'C', 'C', 'H', 'H', 'H', 'H', 'O', 'O', 'O']\n",
      "setting up calculator\n"
     ]
    },
    {
     "name": "stderr",
     "output_type": "stream",
     "text": [
      "776it [06:27,  1.64it/s]"
     ]
    },
    {
     "name": "stdout",
     "output_type": "stream",
     "text": [
      "structure 776 written to DFTB_db \"\n",
      "w is ['C', 'C', 'C', 'H', 'H', 'H', 'H', 'O', 'O', 'O']\n",
      "setting up calculator\n"
     ]
    },
    {
     "name": "stderr",
     "output_type": "stream",
     "text": [
      "777it [06:28,  1.63it/s]"
     ]
    },
    {
     "name": "stdout",
     "output_type": "stream",
     "text": [
      "structure 777 written to DFTB_db \"\n",
      "w is ['C', 'C', 'C', 'H', 'H', 'H', 'H', 'O', 'O', 'O']\n",
      "setting up calculator\n"
     ]
    },
    {
     "name": "stderr",
     "output_type": "stream",
     "text": [
      "778it [06:29,  1.44it/s]"
     ]
    },
    {
     "name": "stdout",
     "output_type": "stream",
     "text": [
      "structure 778 written to DFTB_db \"\n",
      "w is ['C', 'C', 'C', 'H', 'H', 'H', 'H', 'O', 'O', 'O']\n",
      "setting up calculator\n"
     ]
    },
    {
     "name": "stderr",
     "output_type": "stream",
     "text": [
      "779it [06:29,  1.60it/s]"
     ]
    },
    {
     "name": "stdout",
     "output_type": "stream",
     "text": [
      "structure 779 written to DFTB_db \"\n",
      "w is ['C', 'C', 'C', 'H', 'H', 'H', 'H', 'O', 'O', 'O']\n",
      "setting up calculator\n"
     ]
    },
    {
     "name": "stderr",
     "output_type": "stream",
     "text": [
      "780it [06:30,  1.49it/s]"
     ]
    },
    {
     "name": "stdout",
     "output_type": "stream",
     "text": [
      "structure 780 written to DFTB_db \"\n",
      "w is ['C', 'C', 'C', 'H', 'H', 'H', 'H', 'O', 'O', 'O']\n",
      "setting up calculator\n"
     ]
    },
    {
     "name": "stderr",
     "output_type": "stream",
     "text": [
      "781it [06:31,  1.17it/s]"
     ]
    },
    {
     "name": "stdout",
     "output_type": "stream",
     "text": [
      "structure 781 written to DFTB_db \"\n",
      "w is ['C', 'C', 'C', 'H', 'H', 'H', 'H', 'O', 'O', 'O']\n",
      "setting up calculator\n"
     ]
    },
    {
     "name": "stderr",
     "output_type": "stream",
     "text": [
      "782it [06:33,  1.03it/s]"
     ]
    },
    {
     "name": "stdout",
     "output_type": "stream",
     "text": [
      "structure 782 written to DFTB_db \"\n",
      "w is ['C', 'C', 'C', 'H', 'H', 'H', 'H', 'O', 'O', 'O']\n",
      "setting up calculator\n"
     ]
    },
    {
     "name": "stderr",
     "output_type": "stream",
     "text": [
      "783it [06:34,  1.01it/s]"
     ]
    },
    {
     "name": "stdout",
     "output_type": "stream",
     "text": [
      "structure 783 written to DFTB_db \"\n",
      "w is ['C', 'C', 'C', 'H', 'H', 'H', 'H', 'O', 'O', 'O']\n",
      "setting up calculator\n"
     ]
    },
    {
     "name": "stderr",
     "output_type": "stream",
     "text": [
      "784it [06:35,  1.03s/it]"
     ]
    },
    {
     "name": "stdout",
     "output_type": "stream",
     "text": [
      "structure 784 written to DFTB_db \"\n",
      "w is ['C', 'C', 'C', 'H', 'H', 'H', 'H', 'O', 'O', 'O']\n",
      "setting up calculator\n"
     ]
    },
    {
     "name": "stderr",
     "output_type": "stream",
     "text": [
      "785it [06:35,  1.12it/s]"
     ]
    },
    {
     "name": "stdout",
     "output_type": "stream",
     "text": [
      "structure 785 written to DFTB_db \"\n",
      "w is ['C', 'C', 'C', 'H', 'H', 'H', 'H', 'O', 'O', 'O']\n",
      "setting up calculator\n"
     ]
    },
    {
     "name": "stderr",
     "output_type": "stream",
     "text": [
      "786it [06:36,  1.11it/s]"
     ]
    },
    {
     "name": "stdout",
     "output_type": "stream",
     "text": [
      "structure 786 written to DFTB_db \"\n",
      "w is ['C', 'C', 'C', 'H', 'H', 'H', 'H', 'O', 'O', 'O']\n",
      "setting up calculator\n"
     ]
    },
    {
     "name": "stderr",
     "output_type": "stream",
     "text": [
      "787it [06:37,  1.23it/s]"
     ]
    },
    {
     "name": "stdout",
     "output_type": "stream",
     "text": [
      "structure 787 written to DFTB_db \"\n",
      "w is ['C', 'C', 'C', 'H', 'H', 'H', 'H', 'O', 'O', 'O']\n",
      "setting up calculator\n"
     ]
    },
    {
     "name": "stderr",
     "output_type": "stream",
     "text": [
      "788it [06:38,  1.26it/s]"
     ]
    },
    {
     "name": "stdout",
     "output_type": "stream",
     "text": [
      "structure 788 written to DFTB_db \"\n",
      "w is ['C', 'C', 'C', 'H', 'H', 'H', 'H', 'O', 'O', 'O']\n",
      "setting up calculator\n"
     ]
    },
    {
     "name": "stderr",
     "output_type": "stream",
     "text": [
      "789it [06:38,  1.26it/s]"
     ]
    },
    {
     "name": "stdout",
     "output_type": "stream",
     "text": [
      "structure 789 written to DFTB_db \"\n",
      "w is ['C', 'C', 'C', 'H', 'H', 'H', 'H', 'O', 'O', 'O']\n",
      "setting up calculator\n"
     ]
    },
    {
     "name": "stderr",
     "output_type": "stream",
     "text": [
      "790it [06:39,  1.33it/s]"
     ]
    },
    {
     "name": "stdout",
     "output_type": "stream",
     "text": [
      "structure 790 written to DFTB_db \"\n",
      "w is ['C', 'C', 'C', 'H', 'H', 'H', 'H', 'O', 'O', 'O']\n",
      "setting up calculator\n"
     ]
    },
    {
     "name": "stderr",
     "output_type": "stream",
     "text": [
      "791it [06:40,  1.46it/s]"
     ]
    },
    {
     "name": "stdout",
     "output_type": "stream",
     "text": [
      "structure 791 written to DFTB_db \"\n",
      "w is ['C', 'C', 'C', 'H', 'H', 'H', 'H', 'O', 'O', 'O']\n",
      "setting up calculator\n"
     ]
    },
    {
     "name": "stderr",
     "output_type": "stream",
     "text": [
      "792it [06:41,  1.27it/s]"
     ]
    },
    {
     "name": "stdout",
     "output_type": "stream",
     "text": [
      "structure 792 written to DFTB_db \"\n",
      "w is ['C', 'C', 'C', 'H', 'H', 'H', 'H', 'O', 'O', 'O']\n",
      "setting up calculator\n"
     ]
    },
    {
     "name": "stderr",
     "output_type": "stream",
     "text": [
      "793it [06:41,  1.45it/s]"
     ]
    },
    {
     "name": "stdout",
     "output_type": "stream",
     "text": [
      "structure 793 written to DFTB_db \"\n",
      "w is ['C', 'C', 'C', 'H', 'H', 'H', 'H', 'O', 'O', 'O']\n",
      "setting up calculator\n"
     ]
    },
    {
     "name": "stderr",
     "output_type": "stream",
     "text": [
      "794it [06:42,  1.35it/s]"
     ]
    },
    {
     "name": "stdout",
     "output_type": "stream",
     "text": [
      "structure 794 written to DFTB_db \"\n",
      "w is ['C', 'C', 'C', 'H', 'H', 'H', 'H', 'O', 'O', 'O']\n",
      "setting up calculator\n"
     ]
    },
    {
     "name": "stderr",
     "output_type": "stream",
     "text": [
      "795it [06:44,  1.01it/s]"
     ]
    },
    {
     "name": "stdout",
     "output_type": "stream",
     "text": [
      "structure 795 written to DFTB_db \"\n",
      "w is ['C', 'C', 'C', 'H', 'H', 'H', 'H', 'O', 'O', 'O']\n",
      "setting up calculator\n"
     ]
    },
    {
     "name": "stderr",
     "output_type": "stream",
     "text": [
      "796it [06:44,  1.07it/s]"
     ]
    },
    {
     "name": "stdout",
     "output_type": "stream",
     "text": [
      "structure 796 written to DFTB_db \"\n",
      "w is ['C', 'C', 'C', 'H', 'H', 'H', 'H', 'O', 'O', 'O']\n",
      "setting up calculator\n"
     ]
    },
    {
     "name": "stderr",
     "output_type": "stream",
     "text": [
      "797it [06:45,  1.03it/s]"
     ]
    },
    {
     "name": "stdout",
     "output_type": "stream",
     "text": [
      "structure 797 written to DFTB_db \"\n",
      "w is ['C', 'C', 'C', 'H', 'H', 'H', 'H', 'O', 'O', 'O']\n",
      "setting up calculator\n"
     ]
    },
    {
     "name": "stderr",
     "output_type": "stream",
     "text": [
      "798it [06:46,  1.01it/s]"
     ]
    },
    {
     "name": "stdout",
     "output_type": "stream",
     "text": [
      "structure 798 written to DFTB_db \"\n",
      "w is ['C', 'C', 'C', 'H', 'H', 'H', 'H', 'O', 'O', 'O']\n",
      "setting up calculator\n"
     ]
    },
    {
     "name": "stderr",
     "output_type": "stream",
     "text": [
      "799it [06:47,  1.09it/s]"
     ]
    },
    {
     "name": "stdout",
     "output_type": "stream",
     "text": [
      "structure 799 written to DFTB_db \"\n",
      "w is ['C', 'C', 'C', 'H', 'H', 'H', 'H', 'O', 'O', 'O']\n",
      "setting up calculator\n"
     ]
    },
    {
     "name": "stderr",
     "output_type": "stream",
     "text": [
      "800it [06:48,  1.10it/s]"
     ]
    },
    {
     "name": "stdout",
     "output_type": "stream",
     "text": [
      "structure 800 written to DFTB_db \"\n",
      "w is ['C', 'C', 'C', 'H', 'H', 'H', 'H', 'O', 'O', 'O']\n",
      "setting up calculator\n"
     ]
    },
    {
     "name": "stderr",
     "output_type": "stream",
     "text": [
      "801it [06:49,  1.20it/s]"
     ]
    },
    {
     "name": "stdout",
     "output_type": "stream",
     "text": [
      "structure 801 written to DFTB_db \"\n",
      "w is ['C', 'C', 'C', 'H', 'H', 'H', 'H', 'O', 'O', 'O']\n",
      "setting up calculator\n"
     ]
    },
    {
     "name": "stderr",
     "output_type": "stream",
     "text": [
      "802it [06:50,  1.17it/s]"
     ]
    },
    {
     "name": "stdout",
     "output_type": "stream",
     "text": [
      "structure 802 written to DFTB_db \"\n",
      "w is ['C', 'C', 'C', 'H', 'H', 'H', 'H', 'O', 'O', 'O']\n",
      "setting up calculator\n"
     ]
    },
    {
     "name": "stderr",
     "output_type": "stream",
     "text": [
      "803it [06:50,  1.31it/s]"
     ]
    },
    {
     "name": "stdout",
     "output_type": "stream",
     "text": [
      "structure 803 written to DFTB_db \"\n",
      "w is ['C', 'C', 'C', 'H', 'H', 'H', 'H', 'O', 'O', 'O']\n",
      "setting up calculator\n"
     ]
    },
    {
     "name": "stderr",
     "output_type": "stream",
     "text": [
      "804it [06:51,  1.14it/s]"
     ]
    },
    {
     "name": "stdout",
     "output_type": "stream",
     "text": [
      "structure 804 written to DFTB_db \"\n",
      "w is ['C', 'C', 'C', 'H', 'H', 'H', 'H', 'O', 'O', 'O']\n",
      "setting up calculator\n"
     ]
    },
    {
     "name": "stderr",
     "output_type": "stream",
     "text": [
      "805it [06:52,  1.08it/s]"
     ]
    },
    {
     "name": "stdout",
     "output_type": "stream",
     "text": [
      "structure 805 written to DFTB_db \"\n",
      "w is ['C', 'C', 'C', 'H', 'H', 'H', 'H', 'O', 'O', 'O']\n",
      "setting up calculator\n"
     ]
    },
    {
     "name": "stderr",
     "output_type": "stream",
     "text": [
      "806it [06:53,  1.08it/s]"
     ]
    },
    {
     "name": "stdout",
     "output_type": "stream",
     "text": [
      "structure 806 written to DFTB_db \"\n",
      "w is ['C', 'C', 'C', 'H', 'H', 'H', 'H', 'O', 'O', 'O']\n",
      "setting up calculator\n"
     ]
    },
    {
     "name": "stderr",
     "output_type": "stream",
     "text": [
      "807it [06:54,  1.21it/s]"
     ]
    },
    {
     "name": "stdout",
     "output_type": "stream",
     "text": [
      "structure 807 written to DFTB_db \"\n",
      "w is ['C', 'C', 'C', 'H', 'H', 'H', 'H', 'O', 'O', 'O']\n",
      "setting up calculator\n"
     ]
    },
    {
     "name": "stderr",
     "output_type": "stream",
     "text": [
      "808it [06:55,  1.31it/s]"
     ]
    },
    {
     "name": "stdout",
     "output_type": "stream",
     "text": [
      "structure 808 written to DFTB_db \"\n",
      "w is ['C', 'C', 'C', 'H', 'H', 'H', 'H', 'O', 'O', 'O']\n",
      "setting up calculator\n"
     ]
    },
    {
     "name": "stderr",
     "output_type": "stream",
     "text": [
      "809it [06:55,  1.22it/s]"
     ]
    },
    {
     "name": "stdout",
     "output_type": "stream",
     "text": [
      "structure 809 written to DFTB_db \"\n",
      "w is ['C', 'C', 'C', 'H', 'H', 'H', 'H', 'O', 'O', 'O']\n",
      "setting up calculator\n"
     ]
    },
    {
     "name": "stderr",
     "output_type": "stream",
     "text": [
      "810it [06:56,  1.20it/s]"
     ]
    },
    {
     "name": "stdout",
     "output_type": "stream",
     "text": [
      "structure 810 written to DFTB_db \"\n",
      "w is ['C', 'C', 'C', 'H', 'H', 'H', 'H', 'O', 'O', 'O']\n",
      "setting up calculator\n"
     ]
    },
    {
     "name": "stderr",
     "output_type": "stream",
     "text": [
      "811it [06:57,  1.28it/s]"
     ]
    },
    {
     "name": "stdout",
     "output_type": "stream",
     "text": [
      "structure 811 written to DFTB_db \"\n",
      "w is ['C', 'C', 'C', 'H', 'H', 'H', 'H', 'O', 'O', 'O']\n",
      "setting up calculator\n"
     ]
    },
    {
     "name": "stderr",
     "output_type": "stream",
     "text": [
      "812it [06:58,  1.09it/s]"
     ]
    },
    {
     "name": "stdout",
     "output_type": "stream",
     "text": [
      "structure 812 written to DFTB_db \"\n",
      "w is ['C', 'C', 'C', 'H', 'H', 'H', 'H', 'O', 'O', 'O']\n",
      "setting up calculator\n"
     ]
    },
    {
     "name": "stderr",
     "output_type": "stream",
     "text": [
      "813it [06:59,  1.19it/s]"
     ]
    },
    {
     "name": "stdout",
     "output_type": "stream",
     "text": [
      "structure 813 written to DFTB_db \"\n",
      "w is ['C', 'C', 'C', 'H', 'H', 'H', 'H', 'O', 'O', 'O']\n",
      "setting up calculator\n"
     ]
    },
    {
     "name": "stderr",
     "output_type": "stream",
     "text": [
      "814it [06:59,  1.44it/s]"
     ]
    },
    {
     "name": "stdout",
     "output_type": "stream",
     "text": [
      "structure 814 written to DFTB_db \"\n",
      "w is ['C', 'C', 'C', 'H', 'H', 'H', 'H', 'O', 'O', 'O']\n",
      "setting up calculator\n"
     ]
    },
    {
     "name": "stderr",
     "output_type": "stream",
     "text": [
      "815it [07:00,  1.67it/s]"
     ]
    },
    {
     "name": "stdout",
     "output_type": "stream",
     "text": [
      "structure 815 written to DFTB_db \"\n",
      "w is ['C', 'C', 'C', 'H', 'H', 'H', 'H', 'O', 'O', 'O']\n",
      "setting up calculator\n"
     ]
    },
    {
     "name": "stderr",
     "output_type": "stream",
     "text": [
      "816it [07:00,  1.87it/s]"
     ]
    },
    {
     "name": "stdout",
     "output_type": "stream",
     "text": [
      "structure 816 written to DFTB_db \"\n",
      "w is ['C', 'C', 'C', 'H', 'H', 'H', 'H', 'O', 'O', 'O']\n",
      "setting up calculator\n"
     ]
    },
    {
     "name": "stderr",
     "output_type": "stream",
     "text": [
      "817it [07:00,  2.13it/s]"
     ]
    },
    {
     "name": "stdout",
     "output_type": "stream",
     "text": [
      "structure 817 written to DFTB_db \"\n",
      "w is ['C', 'C', 'C', 'H', 'H', 'H', 'H', 'O', 'O', 'O']\n",
      "setting up calculator\n"
     ]
    },
    {
     "name": "stderr",
     "output_type": "stream",
     "text": [
      "818it [07:01,  1.99it/s]"
     ]
    },
    {
     "name": "stdout",
     "output_type": "stream",
     "text": [
      "structure 818 written to DFTB_db \"\n",
      "w is ['C', 'C', 'C', 'H', 'H', 'H', 'H', 'O', 'O', 'O']\n",
      "setting up calculator\n"
     ]
    },
    {
     "name": "stderr",
     "output_type": "stream",
     "text": [
      "819it [07:02,  1.41it/s]"
     ]
    },
    {
     "name": "stdout",
     "output_type": "stream",
     "text": [
      "structure 819 written to DFTB_db \"\n",
      "w is ['C', 'C', 'C', 'H', 'H', 'H', 'H', 'O', 'O', 'O']\n",
      "setting up calculator\n"
     ]
    },
    {
     "name": "stderr",
     "output_type": "stream",
     "text": [
      "820it [07:03,  1.28it/s]"
     ]
    },
    {
     "name": "stdout",
     "output_type": "stream",
     "text": [
      "structure 820 written to DFTB_db \"\n",
      "w is ['C', 'C', 'C', 'H', 'H', 'H', 'H', 'O', 'O', 'O']\n",
      "setting up calculator\n"
     ]
    },
    {
     "name": "stderr",
     "output_type": "stream",
     "text": [
      "821it [07:04,  1.43it/s]"
     ]
    },
    {
     "name": "stdout",
     "output_type": "stream",
     "text": [
      "structure 821 written to DFTB_db \"\n",
      "w is ['C', 'C', 'C', 'H', 'H', 'H', 'H', 'O', 'O', 'O']\n",
      "setting up calculator\n"
     ]
    },
    {
     "name": "stderr",
     "output_type": "stream",
     "text": [
      "822it [07:04,  1.34it/s]"
     ]
    },
    {
     "name": "stdout",
     "output_type": "stream",
     "text": [
      "structure 822 written to DFTB_db \"\n",
      "w is ['C', 'C', 'C', 'H', 'H', 'H', 'H', 'O', 'O', 'O']\n",
      "setting up calculator\n"
     ]
    },
    {
     "name": "stderr",
     "output_type": "stream",
     "text": [
      "823it [07:05,  1.31it/s]"
     ]
    },
    {
     "name": "stdout",
     "output_type": "stream",
     "text": [
      "structure 823 written to DFTB_db \"\n",
      "w is ['C', 'C', 'C', 'H', 'H', 'H', 'H', 'O', 'O', 'O']\n",
      "setting up calculator\n"
     ]
    },
    {
     "name": "stderr",
     "output_type": "stream",
     "text": [
      "824it [07:06,  1.28it/s]"
     ]
    },
    {
     "name": "stdout",
     "output_type": "stream",
     "text": [
      "structure 824 written to DFTB_db \"\n",
      "w is ['C', 'C', 'C', 'H', 'H', 'H', 'H', 'O', 'O', 'O']\n",
      "setting up calculator\n"
     ]
    },
    {
     "name": "stderr",
     "output_type": "stream",
     "text": [
      "825it [07:07,  1.43it/s]"
     ]
    },
    {
     "name": "stdout",
     "output_type": "stream",
     "text": [
      "structure 825 written to DFTB_db \"\n",
      "w is ['C', 'C', 'C', 'H', 'H', 'H', 'H', 'O', 'O', 'O']\n",
      "setting up calculator\n"
     ]
    },
    {
     "name": "stderr",
     "output_type": "stream",
     "text": [
      "826it [07:07,  1.34it/s]"
     ]
    },
    {
     "name": "stdout",
     "output_type": "stream",
     "text": [
      "structure 826 written to DFTB_db \"\n",
      "w is ['C', 'C', 'C', 'H', 'H', 'H', 'H', 'O', 'O', 'O']\n",
      "setting up calculator\n"
     ]
    },
    {
     "name": "stderr",
     "output_type": "stream",
     "text": [
      "827it [07:08,  1.59it/s]"
     ]
    },
    {
     "name": "stdout",
     "output_type": "stream",
     "text": [
      "structure 827 written to DFTB_db \"\n",
      "w is ['C', 'C', 'C', 'H', 'H', 'H', 'H', 'O', 'O', 'O']\n",
      "setting up calculator\n"
     ]
    },
    {
     "name": "stderr",
     "output_type": "stream",
     "text": [
      "828it [07:08,  1.71it/s]"
     ]
    },
    {
     "name": "stdout",
     "output_type": "stream",
     "text": [
      "structure 828 written to DFTB_db \"\n",
      "w is ['C', 'C', 'C', 'H', 'H', 'H', 'H', 'O', 'O', 'O']\n",
      "setting up calculator\n"
     ]
    },
    {
     "name": "stderr",
     "output_type": "stream",
     "text": [
      "829it [07:09,  1.76it/s]"
     ]
    },
    {
     "name": "stdout",
     "output_type": "stream",
     "text": [
      "structure 829 written to DFTB_db \"\n",
      "w is ['C', 'C', 'C', 'H', 'H', 'H', 'H', 'O', 'O', 'O']\n",
      "setting up calculator\n"
     ]
    },
    {
     "name": "stderr",
     "output_type": "stream",
     "text": [
      "830it [07:09,  1.77it/s]"
     ]
    },
    {
     "name": "stdout",
     "output_type": "stream",
     "text": [
      "structure 830 written to DFTB_db \"\n",
      "w is ['C', 'C', 'C', 'H', 'H', 'H', 'H', 'O', 'O', 'O']\n",
      "setting up calculator\n"
     ]
    },
    {
     "name": "stderr",
     "output_type": "stream",
     "text": [
      "831it [07:10,  1.70it/s]"
     ]
    },
    {
     "name": "stdout",
     "output_type": "stream",
     "text": [
      "structure 831 written to DFTB_db \"\n",
      "w is ['C', 'C', 'C', 'H', 'H', 'H', 'H', 'O', 'O', 'O']\n",
      "setting up calculator\n"
     ]
    },
    {
     "name": "stderr",
     "output_type": "stream",
     "text": [
      "832it [07:10,  1.89it/s]"
     ]
    },
    {
     "name": "stdout",
     "output_type": "stream",
     "text": [
      "structure 832 written to DFTB_db \"\n",
      "w is ['C', 'C', 'C', 'H', 'H', 'H', 'H', 'O', 'O', 'O']\n",
      "setting up calculator\n"
     ]
    },
    {
     "name": "stderr",
     "output_type": "stream",
     "text": [
      "833it [07:11,  2.09it/s]"
     ]
    },
    {
     "name": "stdout",
     "output_type": "stream",
     "text": [
      "structure 833 written to DFTB_db \"\n",
      "w is ['C', 'C', 'C', 'H', 'H', 'H', 'H', 'O', 'O', 'O']\n",
      "setting up calculator\n"
     ]
    },
    {
     "name": "stderr",
     "output_type": "stream",
     "text": [
      "834it [07:11,  1.92it/s]"
     ]
    },
    {
     "name": "stdout",
     "output_type": "stream",
     "text": [
      "structure 834 written to DFTB_db \"\n",
      "w is ['C', 'C', 'C', 'H', 'H', 'H', 'H', 'O', 'O', 'O']\n",
      "setting up calculator\n"
     ]
    },
    {
     "name": "stderr",
     "output_type": "stream",
     "text": [
      "835it [07:12,  1.81it/s]"
     ]
    },
    {
     "name": "stdout",
     "output_type": "stream",
     "text": [
      "structure 835 written to DFTB_db \"\n",
      "w is ['C', 'C', 'C', 'H', 'H', 'H', 'H', 'O', 'O', 'O']\n",
      "setting up calculator\n"
     ]
    },
    {
     "name": "stderr",
     "output_type": "stream",
     "text": [
      "836it [07:13,  1.83it/s]"
     ]
    },
    {
     "name": "stdout",
     "output_type": "stream",
     "text": [
      "structure 836 written to DFTB_db \"\n",
      "w is ['C', 'C', 'C', 'H', 'H', 'H', 'H', 'O', 'O', 'O']\n",
      "setting up calculator\n"
     ]
    },
    {
     "name": "stderr",
     "output_type": "stream",
     "text": [
      "837it [07:13,  1.79it/s]"
     ]
    },
    {
     "name": "stdout",
     "output_type": "stream",
     "text": [
      "structure 837 written to DFTB_db \"\n",
      "w is ['C', 'C', 'C', 'H', 'H', 'H', 'H', 'O', 'O', 'O']\n",
      "setting up calculator\n"
     ]
    },
    {
     "name": "stderr",
     "output_type": "stream",
     "text": [
      "838it [07:13,  2.05it/s]"
     ]
    },
    {
     "name": "stdout",
     "output_type": "stream",
     "text": [
      "structure 838 written to DFTB_db \"\n",
      "w is ['C', 'C', 'C', 'H', 'H', 'H', 'H', 'O', 'O', 'O']\n",
      "setting up calculator\n"
     ]
    },
    {
     "name": "stderr",
     "output_type": "stream",
     "text": [
      "839it [07:14,  2.00it/s]"
     ]
    },
    {
     "name": "stdout",
     "output_type": "stream",
     "text": [
      "structure 839 written to DFTB_db \"\n",
      "w is ['C', 'C', 'C', 'H', 'H', 'H', 'H', 'O', 'O', 'O']\n",
      "setting up calculator\n"
     ]
    },
    {
     "name": "stderr",
     "output_type": "stream",
     "text": [
      "840it [07:14,  2.01it/s]"
     ]
    },
    {
     "name": "stdout",
     "output_type": "stream",
     "text": [
      "structure 840 written to DFTB_db \"\n",
      "w is ['C', 'C', 'C', 'H', 'H', 'H', 'H', 'O', 'O', 'O']\n",
      "setting up calculator\n"
     ]
    },
    {
     "name": "stderr",
     "output_type": "stream",
     "text": [
      "841it [07:15,  2.02it/s]"
     ]
    },
    {
     "name": "stdout",
     "output_type": "stream",
     "text": [
      "structure 841 written to DFTB_db \"\n",
      "w is ['C', 'C', 'C', 'H', 'H', 'H', 'H', 'O', 'O', 'O']\n",
      "setting up calculator\n"
     ]
    },
    {
     "name": "stderr",
     "output_type": "stream",
     "text": [
      "842it [07:15,  2.06it/s]"
     ]
    },
    {
     "name": "stdout",
     "output_type": "stream",
     "text": [
      "structure 842 written to DFTB_db \"\n",
      "w is ['C', 'C', 'C', 'H', 'H', 'H', 'H', 'O', 'O', 'O']\n",
      "setting up calculator\n"
     ]
    },
    {
     "name": "stderr",
     "output_type": "stream",
     "text": [
      "843it [07:16,  2.08it/s]"
     ]
    },
    {
     "name": "stdout",
     "output_type": "stream",
     "text": [
      "structure 843 written to DFTB_db \"\n",
      "w is ['C', 'C', 'C', 'H', 'H', 'H', 'H', 'O', 'O', 'O']\n",
      "setting up calculator\n"
     ]
    },
    {
     "name": "stderr",
     "output_type": "stream",
     "text": [
      "844it [07:16,  2.06it/s]"
     ]
    },
    {
     "name": "stdout",
     "output_type": "stream",
     "text": [
      "structure 844 written to DFTB_db \"\n",
      "w is ['C', 'C', 'C', 'H', 'H', 'H', 'H', 'O', 'O', 'O']\n",
      "setting up calculator\n"
     ]
    },
    {
     "name": "stderr",
     "output_type": "stream",
     "text": [
      "845it [07:17,  2.22it/s]"
     ]
    },
    {
     "name": "stdout",
     "output_type": "stream",
     "text": [
      "structure 845 written to DFTB_db \"\n",
      "w is ['C', 'C', 'C', 'H', 'H', 'H', 'H', 'O', 'O', 'O']\n",
      "setting up calculator\n"
     ]
    },
    {
     "name": "stderr",
     "output_type": "stream",
     "text": [
      "846it [07:17,  2.24it/s]"
     ]
    },
    {
     "name": "stdout",
     "output_type": "stream",
     "text": [
      "structure 846 written to DFTB_db \"\n",
      "w is ['C', 'C', 'C', 'H', 'H', 'H', 'H', 'O', 'O', 'O']\n",
      "setting up calculator\n"
     ]
    },
    {
     "name": "stderr",
     "output_type": "stream",
     "text": [
      "847it [07:18,  2.05it/s]"
     ]
    },
    {
     "name": "stdout",
     "output_type": "stream",
     "text": [
      "structure 847 written to DFTB_db \"\n",
      "w is ['C', 'C', 'C', 'H', 'H', 'H', 'H', 'O', 'O', 'O']\n",
      "setting up calculator\n"
     ]
    },
    {
     "name": "stderr",
     "output_type": "stream",
     "text": [
      "848it [07:18,  2.20it/s]"
     ]
    },
    {
     "name": "stdout",
     "output_type": "stream",
     "text": [
      "structure 848 written to DFTB_db \"\n",
      "w is ['C', 'C', 'C', 'H', 'H', 'H', 'H', 'O', 'O', 'O']\n",
      "setting up calculator\n"
     ]
    },
    {
     "name": "stderr",
     "output_type": "stream",
     "text": [
      "849it [07:19,  2.36it/s]"
     ]
    },
    {
     "name": "stdout",
     "output_type": "stream",
     "text": [
      "structure 849 written to DFTB_db \"\n",
      "w is ['C', 'C', 'C', 'H', 'H', 'H', 'H', 'O', 'O', 'O']\n",
      "setting up calculator\n"
     ]
    },
    {
     "name": "stderr",
     "output_type": "stream",
     "text": [
      "850it [07:19,  2.60it/s]"
     ]
    },
    {
     "name": "stdout",
     "output_type": "stream",
     "text": [
      "structure 850 written to DFTB_db \"\n",
      "w is ['C', 'C', 'C', 'H', 'H', 'H', 'H', 'O', 'O', 'O']\n",
      "setting up calculator\n"
     ]
    },
    {
     "name": "stderr",
     "output_type": "stream",
     "text": [
      "851it [07:19,  2.59it/s]"
     ]
    },
    {
     "name": "stdout",
     "output_type": "stream",
     "text": [
      "structure 851 written to DFTB_db \"\n",
      "w is ['C', 'C', 'C', 'H', 'H', 'H', 'H', 'O', 'O', 'O']\n",
      "setting up calculator\n"
     ]
    },
    {
     "name": "stderr",
     "output_type": "stream",
     "text": [
      "852it [07:20,  2.40it/s]"
     ]
    },
    {
     "name": "stdout",
     "output_type": "stream",
     "text": [
      "structure 852 written to DFTB_db \"\n",
      "w is ['C', 'C', 'C', 'C', 'H', 'H', 'H', 'H', 'Li', 'Li', 'O', 'O', 'O', 'O', 'O', 'O']\n",
      "setting up calculator\n"
     ]
    },
    {
     "name": "stderr",
     "output_type": "stream",
     "text": [
      "853it [07:20,  2.14it/s]"
     ]
    },
    {
     "name": "stdout",
     "output_type": "stream",
     "text": [
      "structure 853 written to DFTB_db \"\n",
      "w is ['C', 'C', 'C', 'H', 'H', 'H', 'H', 'O', 'O', 'O']\n",
      "setting up calculator\n"
     ]
    },
    {
     "name": "stderr",
     "output_type": "stream",
     "text": [
      "854it [07:21,  2.31it/s]"
     ]
    },
    {
     "name": "stdout",
     "output_type": "stream",
     "text": [
      "structure 854 written to DFTB_db \"\n",
      "w is ['C', 'C', 'C', 'H', 'H', 'H', 'H', 'O', 'O', 'O']\n",
      "setting up calculator\n"
     ]
    },
    {
     "name": "stderr",
     "output_type": "stream",
     "text": [
      "855it [07:21,  2.60it/s]"
     ]
    },
    {
     "name": "stdout",
     "output_type": "stream",
     "text": [
      "structure 855 written to DFTB_db \"\n",
      "w is ['C', 'C', 'C', 'H', 'H', 'H', 'H', 'O', 'O', 'O']\n",
      "setting up calculator\n"
     ]
    },
    {
     "name": "stderr",
     "output_type": "stream",
     "text": [
      "856it [07:21,  2.82it/s]"
     ]
    },
    {
     "name": "stdout",
     "output_type": "stream",
     "text": [
      "structure 856 written to DFTB_db \"\n",
      "w is ['C', 'C', 'C', 'H', 'H', 'H', 'H', 'O', 'O', 'O']\n",
      "setting up calculator\n"
     ]
    },
    {
     "name": "stderr",
     "output_type": "stream",
     "text": [
      "857it [07:22,  2.46it/s]"
     ]
    },
    {
     "name": "stdout",
     "output_type": "stream",
     "text": [
      "structure 857 written to DFTB_db \"\n",
      "w is ['C', 'C', 'C', 'H', 'H', 'H', 'H', 'O', 'O', 'O']\n",
      "setting up calculator\n"
     ]
    },
    {
     "name": "stderr",
     "output_type": "stream",
     "text": [
      "858it [07:22,  2.67it/s]"
     ]
    },
    {
     "name": "stdout",
     "output_type": "stream",
     "text": [
      "structure 858 written to DFTB_db \"\n",
      "w is ['C', 'C', 'C', 'H', 'H', 'H', 'H', 'O', 'O', 'O']\n",
      "setting up calculator\n"
     ]
    },
    {
     "name": "stderr",
     "output_type": "stream",
     "text": [
      "859it [07:22,  2.59it/s]"
     ]
    },
    {
     "name": "stdout",
     "output_type": "stream",
     "text": [
      "structure 859 written to DFTB_db \"\n",
      "w is ['C', 'C', 'C', 'H', 'H', 'H', 'H', 'O', 'O', 'O']\n",
      "setting up calculator\n"
     ]
    },
    {
     "name": "stderr",
     "output_type": "stream",
     "text": [
      "860it [07:23,  2.75it/s]"
     ]
    },
    {
     "name": "stdout",
     "output_type": "stream",
     "text": [
      "structure 860 written to DFTB_db \"\n",
      "w is ['C', 'C', 'C', 'H', 'H', 'H', 'H', 'O', 'O', 'O']\n",
      "setting up calculator\n"
     ]
    },
    {
     "name": "stderr",
     "output_type": "stream",
     "text": [
      "861it [07:23,  2.38it/s]"
     ]
    },
    {
     "name": "stdout",
     "output_type": "stream",
     "text": [
      "structure 861 written to DFTB_db \"\n",
      "w is ['C', 'C', 'C', 'H', 'H', 'H', 'H', 'O', 'O', 'O']\n",
      "setting up calculator\n"
     ]
    },
    {
     "name": "stderr",
     "output_type": "stream",
     "text": [
      "862it [07:24,  2.16it/s]"
     ]
    },
    {
     "name": "stdout",
     "output_type": "stream",
     "text": [
      "structure 862 written to DFTB_db \"\n",
      "w is ['C', 'C', 'C', 'H', 'H', 'H', 'H', 'O', 'O', 'O']\n",
      "setting up calculator\n"
     ]
    },
    {
     "name": "stderr",
     "output_type": "stream",
     "text": [
      "863it [07:24,  2.22it/s]"
     ]
    },
    {
     "name": "stdout",
     "output_type": "stream",
     "text": [
      "structure 863 written to DFTB_db \"\n",
      "w is ['C', 'C', 'C', 'H', 'H', 'H', 'H', 'O', 'O', 'O']\n",
      "setting up calculator\n"
     ]
    },
    {
     "name": "stderr",
     "output_type": "stream",
     "text": [
      "864it [07:25,  2.49it/s]"
     ]
    },
    {
     "name": "stdout",
     "output_type": "stream",
     "text": [
      "structure 864 written to DFTB_db \"\n",
      "w is ['C', 'C', 'C', 'H', 'H', 'H', 'H', 'O', 'O', 'O']\n",
      "setting up calculator\n"
     ]
    },
    {
     "name": "stderr",
     "output_type": "stream",
     "text": [
      "865it [07:25,  2.55it/s]"
     ]
    },
    {
     "name": "stdout",
     "output_type": "stream",
     "text": [
      "structure 865 written to DFTB_db \"\n",
      "w is ['C', 'C', 'C', 'H', 'H', 'H', 'H', 'O', 'O', 'O']\n",
      "setting up calculator\n"
     ]
    },
    {
     "name": "stderr",
     "output_type": "stream",
     "text": [
      "866it [07:25,  2.76it/s]"
     ]
    },
    {
     "name": "stdout",
     "output_type": "stream",
     "text": [
      "structure 866 written to DFTB_db \"\n",
      "w is ['C', 'C', 'C', 'C', 'C', 'H', 'H', 'H', 'H', 'H', 'H', 'H', 'H', 'H', 'H', 'O', 'O', 'O']\n",
      "setting up calculator\n"
     ]
    },
    {
     "name": "stderr",
     "output_type": "stream",
     "text": [
      "867it [07:26,  2.49it/s]"
     ]
    },
    {
     "name": "stdout",
     "output_type": "stream",
     "text": [
      "structure 867 written to DFTB_db \"\n",
      "w is ['C', 'C', 'C', 'C', 'C', 'H', 'H', 'H', 'H', 'H', 'H', 'H', 'H', 'H', 'H', 'O', 'O', 'O']\n",
      "setting up calculator\n"
     ]
    },
    {
     "name": "stderr",
     "output_type": "stream",
     "text": [
      "868it [07:26,  2.22it/s]"
     ]
    },
    {
     "name": "stdout",
     "output_type": "stream",
     "text": [
      "structure 868 written to DFTB_db \"\n",
      "w is ['C', 'C', 'C', 'C', 'C', 'H', 'H', 'H', 'H', 'H', 'H', 'H', 'H', 'H', 'H', 'O', 'O', 'O']\n",
      "setting up calculator\n"
     ]
    },
    {
     "name": "stderr",
     "output_type": "stream",
     "text": [
      "869it [07:27,  2.14it/s]"
     ]
    },
    {
     "name": "stdout",
     "output_type": "stream",
     "text": [
      "structure 869 written to DFTB_db \"\n",
      "w is ['C', 'C', 'C', 'C', 'C', 'H', 'H', 'H', 'H', 'H', 'H', 'H', 'H', 'H', 'H', 'O', 'O', 'O']\n",
      "setting up calculator\n"
     ]
    },
    {
     "name": "stderr",
     "output_type": "stream",
     "text": [
      "870it [07:27,  2.06it/s]"
     ]
    },
    {
     "name": "stdout",
     "output_type": "stream",
     "text": [
      "structure 870 written to DFTB_db \"\n",
      "w is ['C', 'C', 'C', 'C', 'C', 'H', 'H', 'H', 'H', 'H', 'H', 'H', 'H', 'H', 'H', 'O', 'O', 'O']\n",
      "setting up calculator\n"
     ]
    },
    {
     "name": "stderr",
     "output_type": "stream",
     "text": [
      "871it [07:28,  1.98it/s]"
     ]
    },
    {
     "name": "stdout",
     "output_type": "stream",
     "text": [
      "structure 871 written to DFTB_db \"\n",
      "w is ['C', 'C', 'C', 'C', 'C', 'H', 'H', 'H', 'H', 'H', 'H', 'H', 'H', 'H', 'H', 'O', 'O', 'O']\n",
      "setting up calculator\n"
     ]
    },
    {
     "name": "stderr",
     "output_type": "stream",
     "text": [
      "872it [07:28,  1.90it/s]"
     ]
    },
    {
     "name": "stdout",
     "output_type": "stream",
     "text": [
      "structure 872 written to DFTB_db \"\n",
      "w is ['C', 'C', 'C', 'C', 'C', 'H', 'H', 'H', 'H', 'H', 'H', 'H', 'H', 'H', 'H', 'O', 'O', 'O']\n",
      "setting up calculator\n"
     ]
    },
    {
     "name": "stderr",
     "output_type": "stream",
     "text": [
      "873it [07:29,  1.89it/s]"
     ]
    },
    {
     "name": "stdout",
     "output_type": "stream",
     "text": [
      "structure 873 written to DFTB_db \"\n",
      "w is ['C', 'C', 'C', 'C', 'C', 'H', 'H', 'H', 'H', 'H', 'H', 'H', 'H', 'H', 'H', 'O', 'O', 'O']\n",
      "setting up calculator\n"
     ]
    },
    {
     "name": "stderr",
     "output_type": "stream",
     "text": [
      "874it [07:29,  1.90it/s]"
     ]
    },
    {
     "name": "stdout",
     "output_type": "stream",
     "text": [
      "structure 874 written to DFTB_db \"\n",
      "w is ['C', 'C', 'C', 'C', 'C', 'H', 'H', 'H', 'H', 'H', 'H', 'H', 'H', 'H', 'H', 'O', 'O', 'O']\n",
      "setting up calculator\n"
     ]
    },
    {
     "name": "stderr",
     "output_type": "stream",
     "text": [
      "875it [07:30,  1.92it/s]"
     ]
    },
    {
     "name": "stdout",
     "output_type": "stream",
     "text": [
      "structure 875 written to DFTB_db \"\n",
      "w is ['C', 'C', 'C', 'C', 'C', 'H', 'H', 'H', 'H', 'H', 'H', 'H', 'H', 'H', 'H', 'O', 'O', 'O']\n",
      "setting up calculator\n"
     ]
    },
    {
     "name": "stderr",
     "output_type": "stream",
     "text": [
      "876it [07:31,  1.91it/s]"
     ]
    },
    {
     "name": "stdout",
     "output_type": "stream",
     "text": [
      "structure 876 written to DFTB_db \"\n",
      "w is ['C', 'C', 'C', 'C', 'C', 'H', 'H', 'H', 'H', 'H', 'H', 'H', 'H', 'H', 'H', 'O', 'O', 'O']\n",
      "setting up calculator\n"
     ]
    },
    {
     "name": "stderr",
     "output_type": "stream",
     "text": [
      "877it [07:31,  1.94it/s]"
     ]
    },
    {
     "name": "stdout",
     "output_type": "stream",
     "text": [
      "structure 877 written to DFTB_db \"\n",
      "w is ['C', 'C', 'C', 'H', 'H', 'H', 'H', 'Li', 'Li', 'O', 'O', 'O', 'O']\n",
      "setting up calculator\n"
     ]
    },
    {
     "name": "stderr",
     "output_type": "stream",
     "text": [
      "878it [07:31,  2.06it/s]"
     ]
    },
    {
     "name": "stdout",
     "output_type": "stream",
     "text": [
      "structure 878 written to DFTB_db \"\n",
      "w is ['C', 'C', 'C', 'H', 'H', 'H', 'H', 'Li', 'Li', 'O', 'O', 'O', 'O']\n",
      "setting up calculator\n"
     ]
    },
    {
     "name": "stderr",
     "output_type": "stream",
     "text": [
      "879it [07:32,  1.88it/s]"
     ]
    },
    {
     "name": "stdout",
     "output_type": "stream",
     "text": [
      "structure 879 written to DFTB_db \"\n",
      "w is ['C', 'C', 'C', 'H', 'H', 'H', 'H', 'Li', 'Li', 'O', 'O', 'O', 'O']\n",
      "setting up calculator\n"
     ]
    },
    {
     "name": "stderr",
     "output_type": "stream",
     "text": [
      "880it [07:32,  1.99it/s]"
     ]
    },
    {
     "name": "stdout",
     "output_type": "stream",
     "text": [
      "structure 880 written to DFTB_db \"\n",
      "w is ['C', 'C', 'C', 'H', 'H', 'H', 'H', 'Li', 'Li', 'O', 'O', 'O', 'O']\n",
      "setting up calculator\n"
     ]
    },
    {
     "name": "stderr",
     "output_type": "stream",
     "text": [
      "881it [07:33,  2.00it/s]"
     ]
    },
    {
     "name": "stdout",
     "output_type": "stream",
     "text": [
      "structure 881 written to DFTB_db \"\n",
      "w is ['C', 'C', 'C', 'H', 'H', 'H', 'H', 'Li', 'Li', 'O', 'O', 'O', 'O']\n",
      "setting up calculator\n"
     ]
    },
    {
     "name": "stderr",
     "output_type": "stream",
     "text": [
      "882it [07:33,  2.06it/s]"
     ]
    },
    {
     "name": "stdout",
     "output_type": "stream",
     "text": [
      "structure 882 written to DFTB_db \"\n",
      "w is ['C', 'C', 'C', 'H', 'H', 'H', 'H', 'Li', 'Li', 'O', 'O', 'O', 'O']\n",
      "setting up calculator\n"
     ]
    },
    {
     "name": "stderr",
     "output_type": "stream",
     "text": [
      "883it [07:34,  2.06it/s]"
     ]
    },
    {
     "name": "stdout",
     "output_type": "stream",
     "text": [
      "structure 883 written to DFTB_db \"\n",
      "w is ['C', 'C', 'C', 'H', 'H', 'H', 'H', 'Li', 'Li', 'O', 'O', 'O', 'O']\n",
      "setting up calculator\n"
     ]
    },
    {
     "name": "stderr",
     "output_type": "stream",
     "text": [
      "884it [07:34,  2.03it/s]"
     ]
    },
    {
     "name": "stdout",
     "output_type": "stream",
     "text": [
      "structure 884 written to DFTB_db \"\n",
      "w is ['C', 'C', 'C', 'H', 'H', 'H', 'H', 'Li', 'Li', 'O', 'O', 'O', 'O']\n",
      "setting up calculator\n"
     ]
    },
    {
     "name": "stderr",
     "output_type": "stream",
     "text": [
      "885it [07:35,  2.28it/s]"
     ]
    },
    {
     "name": "stdout",
     "output_type": "stream",
     "text": [
      "structure 885 written to DFTB_db \"\n",
      "w is ['C', 'C', 'C', 'H', 'H', 'H', 'H', 'Li', 'Li', 'O', 'O', 'O', 'O']\n",
      "setting up calculator\n"
     ]
    },
    {
     "name": "stderr",
     "output_type": "stream",
     "text": [
      "886it [07:35,  2.49it/s]"
     ]
    },
    {
     "name": "stdout",
     "output_type": "stream",
     "text": [
      "structure 886 written to DFTB_db \"\n",
      "w is ['C', 'C', 'C', 'C', 'C', 'H', 'H', 'H', 'H', 'H', 'H', 'H', 'H', 'H', 'H', 'O', 'O', 'O']\n",
      "setting up calculator\n"
     ]
    },
    {
     "name": "stderr",
     "output_type": "stream",
     "text": [
      "887it [07:36,  2.33it/s]"
     ]
    },
    {
     "name": "stdout",
     "output_type": "stream",
     "text": [
      "structure 887 written to DFTB_db \"\n",
      "w is ['C', 'C', 'C', 'C', 'C', 'H', 'H', 'H', 'H', 'H', 'H', 'H', 'H', 'H', 'H', 'O', 'O', 'O']\n",
      "setting up calculator\n"
     ]
    },
    {
     "name": "stderr",
     "output_type": "stream",
     "text": [
      "888it [07:36,  2.26it/s]"
     ]
    },
    {
     "name": "stdout",
     "output_type": "stream",
     "text": [
      "structure 888 written to DFTB_db \"\n",
      "w is ['C', 'C', 'C', 'H', 'H', 'H', 'H', 'Li', 'Li', 'O', 'O', 'O', 'O']\n",
      "setting up calculator\n"
     ]
    },
    {
     "name": "stderr",
     "output_type": "stream",
     "text": [
      "889it [07:37,  1.99it/s]"
     ]
    },
    {
     "name": "stdout",
     "output_type": "stream",
     "text": [
      "structure 889 written to DFTB_db \"\n",
      "w is ['C', 'C', 'C', 'H', 'H', 'H', 'H', 'Li', 'Li', 'O', 'O', 'O', 'O']\n",
      "setting up calculator\n"
     ]
    },
    {
     "name": "stderr",
     "output_type": "stream",
     "text": [
      "890it [07:37,  2.19it/s]"
     ]
    },
    {
     "name": "stdout",
     "output_type": "stream",
     "text": [
      "structure 890 written to DFTB_db \"\n",
      "w is ['C', 'C', 'C', 'H', 'H', 'H', 'H', 'Li', 'Li', 'O', 'O', 'O', 'O']\n",
      "setting up calculator\n"
     ]
    },
    {
     "name": "stderr",
     "output_type": "stream",
     "text": [
      "891it [07:38,  2.14it/s]"
     ]
    },
    {
     "name": "stdout",
     "output_type": "stream",
     "text": [
      "structure 891 written to DFTB_db \"\n",
      "w is ['C', 'C', 'C', 'H', 'H', 'H', 'H', 'Li', 'Li', 'O', 'O', 'O', 'O']\n",
      "setting up calculator\n"
     ]
    },
    {
     "name": "stderr",
     "output_type": "stream",
     "text": [
      "892it [07:38,  2.16it/s]"
     ]
    },
    {
     "name": "stdout",
     "output_type": "stream",
     "text": [
      "structure 892 written to DFTB_db \"\n",
      "w is ['C', 'C', 'C', 'H', 'H', 'H', 'H', 'Li', 'Li', 'O', 'O', 'O', 'O']\n",
      "setting up calculator\n"
     ]
    },
    {
     "name": "stderr",
     "output_type": "stream",
     "text": [
      "893it [07:38,  2.36it/s]"
     ]
    },
    {
     "name": "stdout",
     "output_type": "stream",
     "text": [
      "structure 893 written to DFTB_db \"\n",
      "w is ['C', 'C', 'C', 'H', 'H', 'H', 'H', 'Li', 'Li', 'O', 'O', 'O', 'O']\n",
      "setting up calculator\n"
     ]
    },
    {
     "name": "stderr",
     "output_type": "stream",
     "text": [
      "894it [07:39,  2.29it/s]"
     ]
    },
    {
     "name": "stdout",
     "output_type": "stream",
     "text": [
      "structure 894 written to DFTB_db \"\n",
      "w is ['C', 'C', 'C', 'H', 'H', 'H', 'H', 'Li', 'Li', 'O', 'O', 'O', 'O']\n",
      "setting up calculator\n"
     ]
    },
    {
     "name": "stderr",
     "output_type": "stream",
     "text": [
      "895it [07:39,  2.24it/s]"
     ]
    },
    {
     "name": "stdout",
     "output_type": "stream",
     "text": [
      "structure 895 written to DFTB_db \"\n",
      "w is ['C', 'C', 'C', 'H', 'H', 'H', 'H', 'Li', 'Li', 'O', 'O', 'O', 'O']\n",
      "setting up calculator\n"
     ]
    },
    {
     "name": "stderr",
     "output_type": "stream",
     "text": [
      "896it [07:40,  2.17it/s]"
     ]
    },
    {
     "name": "stdout",
     "output_type": "stream",
     "text": [
      "structure 896 written to DFTB_db \"\n",
      "w is ['C', 'C', 'C', 'H', 'H', 'H', 'H', 'Li', 'Li', 'O', 'O', 'O', 'O']\n",
      "setting up calculator\n"
     ]
    },
    {
     "name": "stderr",
     "output_type": "stream",
     "text": [
      "897it [07:40,  2.01it/s]"
     ]
    },
    {
     "name": "stdout",
     "output_type": "stream",
     "text": [
      "structure 897 written to DFTB_db \"\n",
      "w is ['C', 'C', 'C', 'H', 'H', 'H', 'H', 'Li', 'Li', 'O', 'O', 'O', 'O']\n",
      "setting up calculator\n"
     ]
    },
    {
     "name": "stderr",
     "output_type": "stream",
     "text": [
      "898it [07:41,  1.77it/s]"
     ]
    },
    {
     "name": "stdout",
     "output_type": "stream",
     "text": [
      "structure 898 written to DFTB_db \"\n",
      "w is ['C', 'C', 'C', 'H', 'H', 'H', 'H', 'Li', 'Li', 'O', 'O', 'O', 'O']\n",
      "setting up calculator\n"
     ]
    },
    {
     "name": "stderr",
     "output_type": "stream",
     "text": [
      "899it [07:41,  1.94it/s]"
     ]
    },
    {
     "name": "stdout",
     "output_type": "stream",
     "text": [
      "structure 899 written to DFTB_db \"\n",
      "w is ['C', 'C', 'C', 'C', 'H', 'H', 'H', 'H', 'Li', 'Li', 'O', 'O', 'O', 'O', 'O', 'O']\n",
      "setting up calculator\n"
     ]
    },
    {
     "name": "stderr",
     "output_type": "stream",
     "text": [
      "900it [07:42,  1.88it/s]"
     ]
    },
    {
     "name": "stdout",
     "output_type": "stream",
     "text": [
      "structure 900 written to DFTB_db \"\n",
      "w is ['C', 'C', 'C', 'C', 'H', 'H', 'H', 'H', 'Li', 'Li', 'O', 'O', 'O', 'O', 'O', 'O']\n",
      "setting up calculator\n"
     ]
    },
    {
     "name": "stderr",
     "output_type": "stream",
     "text": [
      "901it [07:43,  1.75it/s]"
     ]
    },
    {
     "name": "stdout",
     "output_type": "stream",
     "text": [
      "structure 901 written to DFTB_db \"\n",
      "w is ['C', 'C', 'C', 'H', 'H', 'H', 'H', 'Li', 'Li', 'O', 'O', 'O', 'O']\n",
      "setting up calculator\n"
     ]
    },
    {
     "name": "stderr",
     "output_type": "stream",
     "text": [
      "902it [07:43,  1.89it/s]"
     ]
    },
    {
     "name": "stdout",
     "output_type": "stream",
     "text": [
      "structure 902 written to DFTB_db \"\n",
      "w is ['C', 'C', 'C', 'H', 'H', 'H', 'H', 'Li', 'Li', 'O', 'O', 'O', 'O']\n",
      "setting up calculator\n"
     ]
    },
    {
     "name": "stderr",
     "output_type": "stream",
     "text": [
      "903it [07:44,  2.00it/s]"
     ]
    },
    {
     "name": "stdout",
     "output_type": "stream",
     "text": [
      "structure 903 written to DFTB_db \"\n",
      "w is ['C', 'C', 'C', 'H', 'H', 'H', 'H', 'Li', 'Li', 'O', 'O', 'O', 'O']\n",
      "setting up calculator\n"
     ]
    },
    {
     "name": "stderr",
     "output_type": "stream",
     "text": [
      "904it [07:44,  2.10it/s]"
     ]
    },
    {
     "name": "stdout",
     "output_type": "stream",
     "text": [
      "structure 904 written to DFTB_db \"\n",
      "w is ['C', 'C', 'C', 'H', 'H', 'H', 'H', 'Li', 'Li', 'O', 'O', 'O', 'O']\n",
      "setting up calculator\n"
     ]
    },
    {
     "name": "stderr",
     "output_type": "stream",
     "text": [
      "905it [07:44,  2.05it/s]"
     ]
    },
    {
     "name": "stdout",
     "output_type": "stream",
     "text": [
      "structure 905 written to DFTB_db \"\n",
      "w is ['C', 'C', 'C', 'H', 'H', 'H', 'H', 'Li', 'Li', 'O', 'O', 'O', 'O']\n",
      "setting up calculator\n"
     ]
    },
    {
     "name": "stderr",
     "output_type": "stream",
     "text": [
      "906it [07:45,  1.99it/s]"
     ]
    },
    {
     "name": "stdout",
     "output_type": "stream",
     "text": [
      "structure 906 written to DFTB_db \"\n",
      "w is ['C', 'C', 'C', 'H', 'H', 'H', 'H', 'Li', 'Li', 'O', 'O', 'O', 'O']\n",
      "setting up calculator\n"
     ]
    },
    {
     "name": "stderr",
     "output_type": "stream",
     "text": [
      "907it [07:46,  1.96it/s]"
     ]
    },
    {
     "name": "stdout",
     "output_type": "stream",
     "text": [
      "structure 907 written to DFTB_db \"\n",
      "w is ['C', 'C', 'C', 'H', 'H', 'H', 'H', 'Li', 'Li', 'O', 'O', 'O', 'O']\n",
      "setting up calculator\n"
     ]
    },
    {
     "name": "stderr",
     "output_type": "stream",
     "text": [
      "908it [07:46,  1.91it/s]"
     ]
    },
    {
     "name": "stdout",
     "output_type": "stream",
     "text": [
      "structure 908 written to DFTB_db \"\n",
      "w is ['C', 'C', 'C', 'H', 'H', 'H', 'H', 'Li', 'Li', 'O', 'O', 'O', 'O']\n",
      "setting up calculator\n"
     ]
    },
    {
     "name": "stderr",
     "output_type": "stream",
     "text": [
      "909it [07:47,  1.84it/s]"
     ]
    },
    {
     "name": "stdout",
     "output_type": "stream",
     "text": [
      "structure 909 written to DFTB_db \"\n",
      "w is ['C', 'C', 'C', 'H', 'H', 'H', 'H', 'Li', 'Li', 'O', 'O', 'O', 'O']\n",
      "setting up calculator\n"
     ]
    },
    {
     "name": "stderr",
     "output_type": "stream",
     "text": [
      "910it [07:47,  1.65it/s]"
     ]
    },
    {
     "name": "stdout",
     "output_type": "stream",
     "text": [
      "structure 910 written to DFTB_db \"\n",
      "w is ['C', 'C', 'C', 'H', 'H', 'H', 'H', 'Li', 'Li', 'O', 'O', 'O', 'O']\n",
      "setting up calculator\n"
     ]
    },
    {
     "name": "stderr",
     "output_type": "stream",
     "text": [
      "911it [07:48,  1.69it/s]"
     ]
    },
    {
     "name": "stdout",
     "output_type": "stream",
     "text": [
      "structure 911 written to DFTB_db \"\n",
      "w is ['C', 'C', 'C', 'H', 'H', 'H', 'H', 'Li', 'Li', 'O', 'O', 'O', 'O']\n",
      "setting up calculator\n"
     ]
    },
    {
     "name": "stderr",
     "output_type": "stream",
     "text": [
      "912it [07:49,  1.72it/s]"
     ]
    },
    {
     "name": "stdout",
     "output_type": "stream",
     "text": [
      "structure 912 written to DFTB_db \"\n",
      "w is ['C', 'C', 'C', 'H', 'H', 'H', 'H', 'Li', 'Li', 'O', 'O', 'O', 'O']\n",
      "setting up calculator\n"
     ]
    },
    {
     "name": "stderr",
     "output_type": "stream",
     "text": [
      "913it [07:49,  1.76it/s]"
     ]
    },
    {
     "name": "stdout",
     "output_type": "stream",
     "text": [
      "structure 913 written to DFTB_db \"\n",
      "w is ['C', 'C', 'C', 'H', 'H', 'H', 'H', 'Li', 'Li', 'O', 'O', 'O', 'O']\n",
      "setting up calculator\n"
     ]
    },
    {
     "name": "stderr",
     "output_type": "stream",
     "text": [
      "914it [07:50,  1.84it/s]"
     ]
    },
    {
     "name": "stdout",
     "output_type": "stream",
     "text": [
      "structure 914 written to DFTB_db \"\n",
      "w is ['C', 'C', 'C', 'H', 'H', 'H', 'H', 'Li', 'Li', 'O', 'O', 'O', 'O']\n",
      "setting up calculator\n"
     ]
    },
    {
     "name": "stderr",
     "output_type": "stream",
     "text": [
      "915it [07:50,  2.12it/s]"
     ]
    },
    {
     "name": "stdout",
     "output_type": "stream",
     "text": [
      "structure 915 written to DFTB_db \"\n",
      "w is ['C', 'C', 'C', 'H', 'H', 'H', 'H', 'Li', 'Li', 'O', 'O', 'O', 'O']\n",
      "setting up calculator\n"
     ]
    },
    {
     "name": "stderr",
     "output_type": "stream",
     "text": [
      "916it [07:50,  2.00it/s]"
     ]
    },
    {
     "name": "stdout",
     "output_type": "stream",
     "text": [
      "structure 916 written to DFTB_db \"\n",
      "w is ['C', 'C', 'C', 'H', 'H', 'H', 'H', 'Li', 'Li', 'O', 'O', 'O', 'O']\n",
      "setting up calculator\n"
     ]
    },
    {
     "name": "stderr",
     "output_type": "stream",
     "text": [
      "917it [07:51,  2.00it/s]"
     ]
    },
    {
     "name": "stdout",
     "output_type": "stream",
     "text": [
      "structure 917 written to DFTB_db \"\n",
      "w is ['C', 'C', 'C', 'H', 'H', 'H', 'H', 'Li', 'Li', 'O', 'O', 'O', 'O']\n",
      "setting up calculator\n"
     ]
    },
    {
     "name": "stderr",
     "output_type": "stream",
     "text": [
      "918it [07:52,  1.90it/s]"
     ]
    },
    {
     "name": "stdout",
     "output_type": "stream",
     "text": [
      "structure 918 written to DFTB_db \"\n",
      "w is ['C', 'C', 'C', 'H', 'H', 'H', 'H', 'Li', 'Li', 'O', 'O', 'O', 'O']\n",
      "setting up calculator\n"
     ]
    },
    {
     "name": "stderr",
     "output_type": "stream",
     "text": [
      "919it [07:52,  1.79it/s]"
     ]
    },
    {
     "name": "stdout",
     "output_type": "stream",
     "text": [
      "structure 919 written to DFTB_db \"\n",
      "w is ['C', 'C', 'C', 'H', 'H', 'H', 'H', 'Li', 'Li', 'O', 'O', 'O', 'O']\n",
      "setting up calculator\n"
     ]
    },
    {
     "name": "stderr",
     "output_type": "stream",
     "text": [
      "920it [07:53,  1.69it/s]"
     ]
    },
    {
     "name": "stdout",
     "output_type": "stream",
     "text": [
      "structure 920 written to DFTB_db \"\n",
      "w is ['C', 'C', 'C', 'H', 'H', 'H', 'H', 'Li', 'Li', 'O', 'O', 'O', 'O']\n",
      "setting up calculator\n"
     ]
    },
    {
     "name": "stderr",
     "output_type": "stream",
     "text": [
      "921it [07:53,  1.69it/s]"
     ]
    },
    {
     "name": "stdout",
     "output_type": "stream",
     "text": [
      "structure 921 written to DFTB_db \"\n",
      "w is ['C', 'C', 'C', 'H', 'H', 'H', 'H', 'Li', 'Li', 'O', 'O', 'O', 'O']\n",
      "setting up calculator\n"
     ]
    },
    {
     "name": "stderr",
     "output_type": "stream",
     "text": [
      "922it [07:54,  1.72it/s]"
     ]
    },
    {
     "name": "stdout",
     "output_type": "stream",
     "text": [
      "structure 922 written to DFTB_db \"\n",
      "w is ['C', 'C', 'C', 'C', 'H', 'H', 'H', 'H', 'Li', 'Li', 'O', 'O', 'O', 'O', 'O', 'O']\n",
      "setting up calculator\n"
     ]
    },
    {
     "name": "stderr",
     "output_type": "stream",
     "text": [
      "923it [07:55,  1.69it/s]"
     ]
    },
    {
     "name": "stdout",
     "output_type": "stream",
     "text": [
      "structure 923 written to DFTB_db \"\n",
      "w is ['C', 'C', 'C', 'C', 'H', 'H', 'H', 'H', 'Li', 'Li', 'O', 'O', 'O', 'O', 'O', 'O']\n",
      "setting up calculator\n"
     ]
    },
    {
     "name": "stderr",
     "output_type": "stream",
     "text": [
      "924it [07:55,  1.63it/s]"
     ]
    },
    {
     "name": "stdout",
     "output_type": "stream",
     "text": [
      "structure 924 written to DFTB_db \"\n",
      "w is ['C', 'C', 'C', 'C', 'H', 'H', 'H', 'H', 'Li', 'Li', 'O', 'O', 'O', 'O', 'O', 'O']\n",
      "setting up calculator\n"
     ]
    },
    {
     "name": "stderr",
     "output_type": "stream",
     "text": [
      "925it [07:56,  1.54it/s]"
     ]
    },
    {
     "name": "stdout",
     "output_type": "stream",
     "text": [
      "structure 925 written to DFTB_db \"\n",
      "w is ['C', 'C', 'C', 'C', 'H', 'H', 'H', 'H', 'Li', 'Li', 'O', 'O', 'O', 'O', 'O', 'O']\n",
      "setting up calculator\n"
     ]
    },
    {
     "name": "stderr",
     "output_type": "stream",
     "text": [
      "926it [07:56,  1.64it/s]"
     ]
    },
    {
     "name": "stdout",
     "output_type": "stream",
     "text": [
      "structure 926 written to DFTB_db \"\n",
      "w is ['C', 'C', 'C', 'C', 'H', 'H', 'H', 'H', 'Li', 'Li', 'O', 'O', 'O', 'O', 'O', 'O']\n",
      "setting up calculator\n"
     ]
    },
    {
     "name": "stderr",
     "output_type": "stream",
     "text": [
      "927it [07:57,  1.94it/s]"
     ]
    },
    {
     "name": "stdout",
     "output_type": "stream",
     "text": [
      "structure 927 written to DFTB_db \"\n",
      "w is ['C', 'C', 'C', 'H', 'H', 'H', 'H', 'Li', 'Li', 'O', 'O', 'O', 'O']\n",
      "setting up calculator\n"
     ]
    },
    {
     "name": "stderr",
     "output_type": "stream",
     "text": [
      "928it [07:57,  1.93it/s]"
     ]
    },
    {
     "name": "stdout",
     "output_type": "stream",
     "text": [
      "structure 928 written to DFTB_db \"\n",
      "w is ['C', 'C', 'C', 'C', 'H', 'H', 'H', 'H', 'Li', 'Li', 'O', 'O', 'O', 'O', 'O', 'O']\n",
      "setting up calculator\n"
     ]
    },
    {
     "name": "stderr",
     "output_type": "stream",
     "text": [
      "929it [07:58,  1.82it/s]"
     ]
    },
    {
     "name": "stdout",
     "output_type": "stream",
     "text": [
      "structure 929 written to DFTB_db \"\n",
      "w is ['C', 'C', 'C', 'C', 'H', 'H', 'H', 'H', 'Li', 'Li', 'O', 'O', 'O', 'O', 'O', 'O']\n",
      "setting up calculator\n"
     ]
    },
    {
     "name": "stderr",
     "output_type": "stream",
     "text": [
      "930it [07:59,  1.67it/s]"
     ]
    },
    {
     "name": "stdout",
     "output_type": "stream",
     "text": [
      "structure 930 written to DFTB_db \"\n",
      "w is ['C', 'C', 'C', 'C', 'H', 'H', 'H', 'H', 'Li', 'Li', 'O', 'O', 'O', 'O', 'O', 'O']\n",
      "setting up calculator\n"
     ]
    },
    {
     "name": "stderr",
     "output_type": "stream",
     "text": [
      "931it [07:59,  1.56it/s]"
     ]
    },
    {
     "name": "stdout",
     "output_type": "stream",
     "text": [
      "structure 931 written to DFTB_db \"\n",
      "w is ['C', 'C', 'C', 'C', 'H', 'H', 'H', 'H', 'Li', 'Li', 'O', 'O', 'O', 'O', 'O', 'O']\n",
      "setting up calculator\n"
     ]
    },
    {
     "name": "stderr",
     "output_type": "stream",
     "text": [
      "932it [08:00,  1.50it/s]"
     ]
    },
    {
     "name": "stdout",
     "output_type": "stream",
     "text": [
      "structure 932 written to DFTB_db \"\n",
      "w is ['C', 'C', 'C', 'C', 'H', 'H', 'H', 'H', 'Li', 'Li', 'O', 'O', 'O', 'O', 'O', 'O']\n",
      "setting up calculator\n"
     ]
    },
    {
     "name": "stderr",
     "output_type": "stream",
     "text": [
      "933it [08:01,  1.50it/s]"
     ]
    },
    {
     "name": "stdout",
     "output_type": "stream",
     "text": [
      "structure 933 written to DFTB_db \"\n",
      "w is ['C', 'C', 'C', 'C', 'H', 'H', 'H', 'H', 'Li', 'Li', 'O', 'O', 'O', 'O', 'O', 'O']\n",
      "setting up calculator\n"
     ]
    },
    {
     "name": "stderr",
     "output_type": "stream",
     "text": [
      "934it [08:01,  1.48it/s]"
     ]
    },
    {
     "name": "stdout",
     "output_type": "stream",
     "text": [
      "structure 934 written to DFTB_db \"\n",
      "w is ['C', 'C', 'C', 'C', 'H', 'H', 'H', 'H', 'Li', 'Li', 'O', 'O', 'O', 'O', 'O', 'O']\n",
      "setting up calculator\n"
     ]
    },
    {
     "name": "stderr",
     "output_type": "stream",
     "text": [
      "935it [08:02,  1.52it/s]"
     ]
    },
    {
     "name": "stdout",
     "output_type": "stream",
     "text": [
      "structure 935 written to DFTB_db \"\n",
      "w is ['C', 'C', 'C', 'H', 'H', 'H', 'H', 'Li', 'Li', 'O', 'O', 'O', 'O']\n",
      "setting up calculator\n"
     ]
    },
    {
     "name": "stderr",
     "output_type": "stream",
     "text": [
      "936it [08:03,  1.64it/s]"
     ]
    },
    {
     "name": "stdout",
     "output_type": "stream",
     "text": [
      "structure 936 written to DFTB_db \"\n",
      "w is ['C', 'C', 'C', 'C', 'H', 'H', 'H', 'H', 'Li', 'Li', 'O', 'O', 'O', 'O', 'O', 'O']\n",
      "setting up calculator\n"
     ]
    },
    {
     "name": "stderr",
     "output_type": "stream",
     "text": [
      "937it [08:03,  1.56it/s]"
     ]
    },
    {
     "name": "stdout",
     "output_type": "stream",
     "text": [
      "structure 937 written to DFTB_db \"\n",
      "w is ['C', 'C', 'C', 'C', 'H', 'H', 'H', 'H', 'Li', 'Li', 'O', 'O', 'O', 'O', 'O', 'O']\n",
      "setting up calculator\n"
     ]
    },
    {
     "name": "stderr",
     "output_type": "stream",
     "text": [
      "938it [08:04,  1.53it/s]"
     ]
    },
    {
     "name": "stdout",
     "output_type": "stream",
     "text": [
      "structure 938 written to DFTB_db \"\n",
      "w is ['C', 'C', 'C', 'C', 'H', 'H', 'H', 'H', 'Li', 'Li', 'O', 'O', 'O', 'O', 'O', 'O']\n",
      "setting up calculator\n"
     ]
    },
    {
     "name": "stderr",
     "output_type": "stream",
     "text": [
      "939it [08:05,  1.62it/s]"
     ]
    },
    {
     "name": "stdout",
     "output_type": "stream",
     "text": [
      "structure 939 written to DFTB_db \"\n",
      "w is ['C', 'C', 'C', 'C', 'H', 'H', 'H', 'H', 'Li', 'Li', 'O', 'O', 'O', 'O', 'O', 'O']\n",
      "setting up calculator\n"
     ]
    },
    {
     "name": "stderr",
     "output_type": "stream",
     "text": [
      "940it [08:05,  1.59it/s]"
     ]
    },
    {
     "name": "stdout",
     "output_type": "stream",
     "text": [
      "structure 940 written to DFTB_db \"\n",
      "w is ['C', 'C', 'C', 'H', 'H', 'H', 'H', 'Li', 'Li', 'O', 'O', 'O', 'O']\n",
      "setting up calculator\n"
     ]
    },
    {
     "name": "stderr",
     "output_type": "stream",
     "text": [
      "941it [08:06,  1.86it/s]"
     ]
    },
    {
     "name": "stdout",
     "output_type": "stream",
     "text": [
      "structure 941 written to DFTB_db \"\n",
      "w is ['C', 'C', 'C', 'H', 'H', 'H', 'H', 'Li', 'Li', 'O', 'O', 'O', 'O']\n",
      "setting up calculator\n"
     ]
    },
    {
     "name": "stderr",
     "output_type": "stream",
     "text": [
      "942it [08:06,  2.01it/s]"
     ]
    },
    {
     "name": "stdout",
     "output_type": "stream",
     "text": [
      "structure 942 written to DFTB_db \"\n",
      "w is ['C', 'C', 'C', 'C', 'H', 'H', 'H', 'H', 'Li', 'Li', 'O', 'O', 'O', 'O', 'O', 'O']\n",
      "setting up calculator\n"
     ]
    },
    {
     "name": "stderr",
     "output_type": "stream",
     "text": [
      "943it [08:07,  1.69it/s]"
     ]
    },
    {
     "name": "stdout",
     "output_type": "stream",
     "text": [
      "structure 943 written to DFTB_db \"\n",
      "w is ['C', 'C', 'C', 'C', 'H', 'H', 'H', 'H', 'Li', 'Li', 'O', 'O', 'O', 'O', 'O', 'O']\n",
      "setting up calculator\n"
     ]
    },
    {
     "name": "stderr",
     "output_type": "stream",
     "text": [
      "944it [08:07,  1.88it/s]"
     ]
    },
    {
     "name": "stdout",
     "output_type": "stream",
     "text": [
      "structure 944 written to DFTB_db \"\n",
      "w is ['C', 'C', 'C', 'C', 'H', 'H', 'H', 'H', 'Li', 'Li', 'O', 'O', 'O', 'O', 'O', 'O']\n",
      "setting up calculator\n"
     ]
    },
    {
     "name": "stderr",
     "output_type": "stream",
     "text": [
      "945it [08:08,  1.85it/s]"
     ]
    },
    {
     "name": "stdout",
     "output_type": "stream",
     "text": [
      "structure 945 written to DFTB_db \"\n",
      "w is ['C', 'C', 'C', 'C', 'H', 'H', 'H', 'H', 'Li', 'Li', 'O', 'O', 'O', 'O', 'O', 'O']\n",
      "setting up calculator\n"
     ]
    },
    {
     "name": "stderr",
     "output_type": "stream",
     "text": [
      "946it [08:08,  1.83it/s]"
     ]
    },
    {
     "name": "stdout",
     "output_type": "stream",
     "text": [
      "structure 946 written to DFTB_db \"\n",
      "w is ['C', 'C', 'C', 'C', 'H', 'H', 'H', 'H', 'Li', 'Li', 'O', 'O', 'O', 'O', 'O', 'O']\n",
      "setting up calculator\n"
     ]
    },
    {
     "name": "stderr",
     "output_type": "stream",
     "text": [
      "947it [08:09,  1.69it/s]"
     ]
    },
    {
     "name": "stdout",
     "output_type": "stream",
     "text": [
      "structure 947 written to DFTB_db \"\n",
      "w is ['C', 'C', 'C', 'H', 'H', 'H', 'H', 'Li', 'Li', 'O', 'O', 'O', 'O']\n",
      "setting up calculator\n"
     ]
    },
    {
     "name": "stderr",
     "output_type": "stream",
     "text": [
      "948it [08:09,  1.77it/s]"
     ]
    },
    {
     "name": "stdout",
     "output_type": "stream",
     "text": [
      "structure 948 written to DFTB_db \"\n",
      "w is ['C', 'C', 'C', 'H', 'H', 'H', 'H', 'Li', 'Li', 'O', 'O', 'O', 'O']\n",
      "setting up calculator\n"
     ]
    },
    {
     "name": "stderr",
     "output_type": "stream",
     "text": [
      "949it [08:10,  1.86it/s]"
     ]
    },
    {
     "name": "stdout",
     "output_type": "stream",
     "text": [
      "structure 949 written to DFTB_db \"\n",
      "w is ['C', 'C', 'C', 'C', 'H', 'H', 'H', 'H', 'Li', 'Li', 'O', 'O', 'O', 'O', 'O', 'O']\n",
      "setting up calculator\n"
     ]
    },
    {
     "name": "stderr",
     "output_type": "stream",
     "text": [
      "950it [08:10,  1.85it/s]"
     ]
    },
    {
     "name": "stdout",
     "output_type": "stream",
     "text": [
      "structure 950 written to DFTB_db \"\n",
      "w is ['C', 'C', 'C', 'H', 'H', 'H', 'H', 'Li', 'Li', 'O', 'O', 'O', 'O']\n",
      "setting up calculator\n"
     ]
    },
    {
     "name": "stderr",
     "output_type": "stream",
     "text": [
      "951it [08:11,  1.71it/s]"
     ]
    },
    {
     "name": "stdout",
     "output_type": "stream",
     "text": [
      "structure 951 written to DFTB_db \"\n",
      "w is ['C', 'C', 'C', 'H', 'H', 'H', 'H', 'Li', 'Li', 'O', 'O', 'O', 'O']\n",
      "setting up calculator\n"
     ]
    },
    {
     "name": "stderr",
     "output_type": "stream",
     "text": [
      "952it [08:11,  1.98it/s]"
     ]
    },
    {
     "name": "stdout",
     "output_type": "stream",
     "text": [
      "structure 952 written to DFTB_db \"\n",
      "w is ['C', 'C', 'C', 'H', 'H', 'H', 'H', 'Li', 'Li', 'O', 'O', 'O', 'O']\n",
      "setting up calculator\n"
     ]
    },
    {
     "name": "stderr",
     "output_type": "stream",
     "text": [
      "953it [08:12,  1.83it/s]"
     ]
    },
    {
     "name": "stdout",
     "output_type": "stream",
     "text": [
      "structure 953 written to DFTB_db \"\n",
      "w is ['C', 'C', 'C', 'H', 'H', 'H', 'H', 'Li', 'Li', 'O', 'O', 'O', 'O']\n",
      "setting up calculator\n"
     ]
    },
    {
     "name": "stderr",
     "output_type": "stream",
     "text": [
      "954it [08:13,  1.77it/s]"
     ]
    },
    {
     "name": "stdout",
     "output_type": "stream",
     "text": [
      "structure 954 written to DFTB_db \"\n",
      "w is ['C', 'C', 'C', 'H', 'H', 'H', 'H', 'Li', 'Li', 'O', 'O', 'O', 'O']\n",
      "setting up calculator\n"
     ]
    },
    {
     "name": "stderr",
     "output_type": "stream",
     "text": [
      "955it [08:13,  1.80it/s]"
     ]
    },
    {
     "name": "stdout",
     "output_type": "stream",
     "text": [
      "structure 955 written to DFTB_db \"\n",
      "w is ['C', 'C', 'C', 'H', 'H', 'H', 'H', 'Li', 'Li', 'O', 'O', 'O', 'O']\n",
      "setting up calculator\n"
     ]
    },
    {
     "name": "stderr",
     "output_type": "stream",
     "text": [
      "956it [08:14,  1.89it/s]"
     ]
    },
    {
     "name": "stdout",
     "output_type": "stream",
     "text": [
      "structure 956 written to DFTB_db \"\n",
      "w is ['C', 'C', 'C', 'H', 'H', 'H', 'H', 'Li', 'Li', 'O', 'O', 'O', 'O']\n",
      "setting up calculator\n"
     ]
    },
    {
     "name": "stderr",
     "output_type": "stream",
     "text": [
      "957it [08:14,  1.97it/s]"
     ]
    },
    {
     "name": "stdout",
     "output_type": "stream",
     "text": [
      "structure 957 written to DFTB_db \"\n",
      "w is ['C', 'C', 'C', 'C', 'H', 'H', 'H', 'H', 'Li', 'Li', 'O', 'O', 'O', 'O', 'O', 'O']\n",
      "setting up calculator\n"
     ]
    },
    {
     "name": "stderr",
     "output_type": "stream",
     "text": [
      "958it [08:15,  1.76it/s]"
     ]
    },
    {
     "name": "stdout",
     "output_type": "stream",
     "text": [
      "structure 958 written to DFTB_db \"\n",
      "w is ['C', 'C', 'C', 'H', 'H', 'H', 'H', 'Li', 'Li', 'O', 'O', 'O', 'O']\n",
      "setting up calculator\n"
     ]
    },
    {
     "name": "stderr",
     "output_type": "stream",
     "text": [
      "959it [08:16,  1.71it/s]"
     ]
    },
    {
     "name": "stdout",
     "output_type": "stream",
     "text": [
      "structure 959 written to DFTB_db \"\n",
      "w is ['C', 'C', 'C', 'H', 'H', 'H', 'H', 'Li', 'Li', 'O', 'O', 'O', 'O']\n",
      "setting up calculator\n"
     ]
    },
    {
     "name": "stderr",
     "output_type": "stream",
     "text": [
      "960it [08:16,  1.71it/s]"
     ]
    },
    {
     "name": "stdout",
     "output_type": "stream",
     "text": [
      "structure 960 written to DFTB_db \"\n",
      "w is ['C', 'C', 'C', 'H', 'H', 'H', 'H', 'Li', 'Li', 'O', 'O', 'O', 'O']\n",
      "setting up calculator\n"
     ]
    },
    {
     "name": "stderr",
     "output_type": "stream",
     "text": [
      "961it [08:17,  1.87it/s]"
     ]
    },
    {
     "name": "stdout",
     "output_type": "stream",
     "text": [
      "structure 961 written to DFTB_db \"\n",
      "w is ['C', 'C', 'C', 'H', 'H', 'H', 'H', 'Li', 'Li', 'O', 'O', 'O', 'O']\n",
      "setting up calculator\n"
     ]
    },
    {
     "name": "stderr",
     "output_type": "stream",
     "text": [
      "962it [08:17,  1.84it/s]"
     ]
    },
    {
     "name": "stdout",
     "output_type": "stream",
     "text": [
      "structure 962 written to DFTB_db \"\n",
      "w is ['C', 'C', 'C', 'H', 'H', 'H', 'H', 'Li', 'Li', 'O', 'O', 'O', 'O']\n",
      "setting up calculator\n"
     ]
    },
    {
     "name": "stderr",
     "output_type": "stream",
     "text": [
      "963it [08:17,  2.04it/s]"
     ]
    },
    {
     "name": "stdout",
     "output_type": "stream",
     "text": [
      "structure 963 written to DFTB_db \"\n",
      "w is ['C', 'C', 'C', 'H', 'H', 'H', 'H', 'Li', 'Li', 'O', 'O', 'O', 'O']\n",
      "setting up calculator\n"
     ]
    },
    {
     "name": "stderr",
     "output_type": "stream",
     "text": [
      "964it [08:18,  2.17it/s]"
     ]
    },
    {
     "name": "stdout",
     "output_type": "stream",
     "text": [
      "structure 964 written to DFTB_db \"\n",
      "w is ['C', 'C', 'C', 'H', 'H', 'H', 'H', 'Li', 'Li', 'O', 'O', 'O', 'O']\n",
      "setting up calculator\n"
     ]
    },
    {
     "name": "stderr",
     "output_type": "stream",
     "text": [
      "965it [08:18,  2.21it/s]"
     ]
    },
    {
     "name": "stdout",
     "output_type": "stream",
     "text": [
      "structure 965 written to DFTB_db \"\n",
      "w is ['C', 'C', 'C', 'H', 'H', 'H', 'H', 'Li', 'Li', 'O', 'O', 'O', 'O']\n",
      "setting up calculator\n"
     ]
    },
    {
     "name": "stderr",
     "output_type": "stream",
     "text": [
      "966it [08:19,  2.45it/s]"
     ]
    },
    {
     "name": "stdout",
     "output_type": "stream",
     "text": [
      "structure 966 written to DFTB_db \"\n",
      "w is ['C', 'C', 'C', 'H', 'H', 'H', 'H', 'Li', 'Li', 'O', 'O', 'O', 'O']\n",
      "setting up calculator\n"
     ]
    },
    {
     "name": "stderr",
     "output_type": "stream",
     "text": [
      "967it [08:19,  2.64it/s]"
     ]
    },
    {
     "name": "stdout",
     "output_type": "stream",
     "text": [
      "structure 967 written to DFTB_db \"\n",
      "w is ['C', 'C', 'C', 'H', 'H', 'H', 'H', 'Li', 'Li', 'O', 'O', 'O', 'O']\n",
      "setting up calculator\n"
     ]
    },
    {
     "name": "stderr",
     "output_type": "stream",
     "text": [
      "968it [08:19,  2.49it/s]"
     ]
    },
    {
     "name": "stdout",
     "output_type": "stream",
     "text": [
      "structure 968 written to DFTB_db \"\n",
      "w is ['C', 'C', 'C', 'H', 'H', 'H', 'H', 'Li', 'Li', 'O', 'O', 'O', 'O']\n",
      "setting up calculator\n"
     ]
    },
    {
     "name": "stderr",
     "output_type": "stream",
     "text": [
      "969it [08:20,  2.68it/s]"
     ]
    },
    {
     "name": "stdout",
     "output_type": "stream",
     "text": [
      "structure 969 written to DFTB_db \"\n",
      "w is ['C', 'C', 'C', 'H', 'H', 'H', 'H', 'Li', 'Li', 'O', 'O', 'O', 'O']\n",
      "setting up calculator\n"
     ]
    },
    {
     "name": "stderr",
     "output_type": "stream",
     "text": [
      "970it [08:20,  2.33it/s]"
     ]
    },
    {
     "name": "stdout",
     "output_type": "stream",
     "text": [
      "structure 970 written to DFTB_db \"\n",
      "w is ['C', 'C', 'C', 'H', 'H', 'H', 'H', 'Li', 'Li', 'O', 'O', 'O', 'O']\n",
      "setting up calculator\n"
     ]
    },
    {
     "name": "stderr",
     "output_type": "stream",
     "text": [
      "971it [08:21,  2.35it/s]"
     ]
    },
    {
     "name": "stdout",
     "output_type": "stream",
     "text": [
      "structure 971 written to DFTB_db \"\n",
      "w is ['C', 'C', 'C', 'H', 'H', 'H', 'H', 'Li', 'Li', 'O', 'O', 'O', 'O']\n",
      "setting up calculator\n"
     ]
    },
    {
     "name": "stderr",
     "output_type": "stream",
     "text": [
      "972it [08:21,  2.34it/s]"
     ]
    },
    {
     "name": "stdout",
     "output_type": "stream",
     "text": [
      "structure 972 written to DFTB_db \"\n",
      "w is ['C', 'C', 'C', 'H', 'H', 'H', 'H', 'Li', 'Li', 'O', 'O', 'O', 'O']\n",
      "setting up calculator\n"
     ]
    },
    {
     "name": "stderr",
     "output_type": "stream",
     "text": [
      "973it [08:22,  2.24it/s]"
     ]
    },
    {
     "name": "stdout",
     "output_type": "stream",
     "text": [
      "structure 973 written to DFTB_db \"\n",
      "w is ['C', 'C', 'C', 'H', 'H', 'H', 'H', 'Li', 'Li', 'O', 'O', 'O', 'O']\n",
      "setting up calculator\n"
     ]
    },
    {
     "name": "stderr",
     "output_type": "stream",
     "text": [
      "974it [08:22,  2.14it/s]"
     ]
    },
    {
     "name": "stdout",
     "output_type": "stream",
     "text": [
      "structure 974 written to DFTB_db \"\n",
      "w is ['C', 'C', 'C', 'H', 'H', 'H', 'H', 'Li', 'Li', 'O', 'O', 'O', 'O']\n",
      "setting up calculator\n"
     ]
    },
    {
     "name": "stderr",
     "output_type": "stream",
     "text": [
      "975it [08:23,  2.10it/s]"
     ]
    },
    {
     "name": "stdout",
     "output_type": "stream",
     "text": [
      "structure 975 written to DFTB_db \"\n",
      "w is ['C', 'C', 'C', 'H', 'H', 'H', 'H', 'Li', 'Li', 'O', 'O', 'O', 'O']\n",
      "setting up calculator\n"
     ]
    },
    {
     "name": "stderr",
     "output_type": "stream",
     "text": [
      "976it [08:23,  1.84it/s]"
     ]
    },
    {
     "name": "stdout",
     "output_type": "stream",
     "text": [
      "structure 976 written to DFTB_db \"\n",
      "w is ['C', 'C', 'C', 'H', 'H', 'H', 'H', 'Li', 'Li', 'O', 'O', 'O', 'O']\n",
      "setting up calculator\n"
     ]
    },
    {
     "name": "stderr",
     "output_type": "stream",
     "text": [
      "977it [08:24,  1.96it/s]"
     ]
    },
    {
     "name": "stdout",
     "output_type": "stream",
     "text": [
      "structure 977 written to DFTB_db \"\n",
      "w is ['C', 'C', 'C', 'H', 'H', 'H', 'H', 'Li', 'Li', 'O', 'O', 'O', 'O']\n",
      "setting up calculator\n"
     ]
    },
    {
     "name": "stderr",
     "output_type": "stream",
     "text": [
      "978it [08:24,  1.79it/s]"
     ]
    },
    {
     "name": "stdout",
     "output_type": "stream",
     "text": [
      "structure 978 written to DFTB_db \"\n",
      "w is ['C', 'C', 'C', 'H', 'H', 'H', 'H', 'Li', 'Li', 'O', 'O', 'O', 'O']\n",
      "setting up calculator\n"
     ]
    },
    {
     "name": "stderr",
     "output_type": "stream",
     "text": [
      "979it [08:25,  1.83it/s]"
     ]
    },
    {
     "name": "stdout",
     "output_type": "stream",
     "text": [
      "structure 979 written to DFTB_db \"\n",
      "w is ['C', 'C', 'C', 'H', 'H', 'H', 'H', 'Li', 'Li', 'O', 'O', 'O', 'O']\n",
      "setting up calculator\n"
     ]
    },
    {
     "name": "stderr",
     "output_type": "stream",
     "text": [
      "980it [08:25,  2.10it/s]"
     ]
    },
    {
     "name": "stdout",
     "output_type": "stream",
     "text": [
      "structure 980 written to DFTB_db \"\n",
      "w is ['C', 'C', 'C', 'H', 'H', 'H', 'H', 'Li', 'Li', 'O', 'O', 'O', 'O']\n",
      "setting up calculator\n"
     ]
    },
    {
     "name": "stderr",
     "output_type": "stream",
     "text": [
      "981it [08:26,  2.25it/s]"
     ]
    },
    {
     "name": "stdout",
     "output_type": "stream",
     "text": [
      "structure 981 written to DFTB_db \"\n",
      "w is ['C', 'C', 'C', 'H', 'H', 'H', 'H', 'Li', 'Li', 'O', 'O', 'O', 'O']\n",
      "setting up calculator\n"
     ]
    },
    {
     "name": "stderr",
     "output_type": "stream",
     "text": [
      "982it [08:26,  2.30it/s]"
     ]
    },
    {
     "name": "stdout",
     "output_type": "stream",
     "text": [
      "structure 982 written to DFTB_db \"\n",
      "w is ['C', 'C', 'C', 'H', 'H', 'H', 'H', 'Li', 'Li', 'O', 'O', 'O', 'O']\n",
      "setting up calculator\n"
     ]
    },
    {
     "name": "stderr",
     "output_type": "stream",
     "text": [
      "983it [08:26,  2.29it/s]"
     ]
    },
    {
     "name": "stdout",
     "output_type": "stream",
     "text": [
      "structure 983 written to DFTB_db \"\n",
      "w is ['C', 'C', 'C', 'H', 'H', 'H', 'H', 'Li', 'Li', 'O', 'O', 'O', 'O']\n",
      "setting up calculator\n"
     ]
    },
    {
     "name": "stderr",
     "output_type": "stream",
     "text": [
      "984it [08:27,  2.28it/s]"
     ]
    },
    {
     "name": "stdout",
     "output_type": "stream",
     "text": [
      "structure 984 written to DFTB_db \"\n",
      "w is ['C', 'C', 'C', 'H', 'H', 'H', 'H', 'Li', 'Li', 'O', 'O', 'O', 'O']\n",
      "setting up calculator\n"
     ]
    },
    {
     "name": "stderr",
     "output_type": "stream",
     "text": [
      "985it [08:27,  2.44it/s]"
     ]
    },
    {
     "name": "stdout",
     "output_type": "stream",
     "text": [
      "structure 985 written to DFTB_db \"\n",
      "w is ['C', 'C', 'C', 'H', 'H', 'H', 'H', 'Li', 'Li', 'O', 'O', 'O', 'O']\n",
      "setting up calculator\n"
     ]
    },
    {
     "name": "stderr",
     "output_type": "stream",
     "text": [
      "986it [08:27,  2.67it/s]"
     ]
    },
    {
     "name": "stdout",
     "output_type": "stream",
     "text": [
      "structure 986 written to DFTB_db \"\n",
      "w is ['C', 'C', 'C', 'H', 'H', 'H', 'H', 'Li', 'Li', 'O', 'O', 'O', 'O']\n",
      "setting up calculator\n"
     ]
    },
    {
     "name": "stderr",
     "output_type": "stream",
     "text": [
      "987it [08:28,  2.42it/s]"
     ]
    },
    {
     "name": "stdout",
     "output_type": "stream",
     "text": [
      "structure 987 written to DFTB_db \"\n",
      "w is ['C', 'C', 'C', 'H', 'H', 'H', 'H', 'Li', 'Li', 'O', 'O', 'O', 'O']\n",
      "setting up calculator\n"
     ]
    },
    {
     "name": "stderr",
     "output_type": "stream",
     "text": [
      "988it [08:28,  2.45it/s]"
     ]
    },
    {
     "name": "stdout",
     "output_type": "stream",
     "text": [
      "structure 988 written to DFTB_db \"\n",
      "w is ['C', 'C', 'C', 'H', 'H', 'H', 'H', 'Li', 'Li', 'O', 'O', 'O', 'O']\n",
      "setting up calculator\n"
     ]
    },
    {
     "name": "stderr",
     "output_type": "stream",
     "text": [
      "989it [08:29,  2.38it/s]"
     ]
    },
    {
     "name": "stdout",
     "output_type": "stream",
     "text": [
      "structure 989 written to DFTB_db \"\n",
      "w is ['C', 'C', 'C', 'H', 'H', 'H', 'H', 'Li', 'Li', 'O', 'O', 'O', 'O']\n",
      "setting up calculator\n"
     ]
    },
    {
     "name": "stderr",
     "output_type": "stream",
     "text": [
      "990it [08:29,  2.36it/s]"
     ]
    },
    {
     "name": "stdout",
     "output_type": "stream",
     "text": [
      "structure 990 written to DFTB_db \"\n",
      "w is ['C', 'C', 'C', 'H', 'H', 'H', 'H', 'Li', 'Li', 'O', 'O', 'O', 'O']\n",
      "setting up calculator\n"
     ]
    },
    {
     "name": "stderr",
     "output_type": "stream",
     "text": [
      "991it [08:30,  2.48it/s]"
     ]
    },
    {
     "name": "stdout",
     "output_type": "stream",
     "text": [
      "structure 991 written to DFTB_db \"\n",
      "w is ['C', 'C', 'C', 'H', 'H', 'H', 'H', 'Li', 'Li', 'O', 'O', 'O', 'O']\n",
      "setting up calculator\n"
     ]
    },
    {
     "name": "stderr",
     "output_type": "stream",
     "text": [
      "992it [08:30,  2.55it/s]"
     ]
    },
    {
     "name": "stdout",
     "output_type": "stream",
     "text": [
      "structure 992 written to DFTB_db \"\n",
      "w is ['C', 'C', 'C', 'H', 'H', 'H', 'H', 'Li', 'Li', 'O', 'O', 'O', 'O']\n",
      "setting up calculator\n"
     ]
    },
    {
     "name": "stderr",
     "output_type": "stream",
     "text": [
      "993it [08:30,  2.56it/s]"
     ]
    },
    {
     "name": "stdout",
     "output_type": "stream",
     "text": [
      "structure 993 written to DFTB_db \"\n",
      "w is ['C', 'C', 'C', 'H', 'H', 'H', 'H', 'Li', 'Li', 'O', 'O', 'O', 'O']\n",
      "setting up calculator\n"
     ]
    },
    {
     "name": "stderr",
     "output_type": "stream",
     "text": [
      "994it [08:31,  2.71it/s]"
     ]
    },
    {
     "name": "stdout",
     "output_type": "stream",
     "text": [
      "structure 994 written to DFTB_db \"\n",
      "w is ['C', 'C', 'C', 'H', 'H', 'H', 'H', 'Li', 'Li', 'O', 'O', 'O', 'O']\n",
      "setting up calculator\n"
     ]
    },
    {
     "name": "stderr",
     "output_type": "stream",
     "text": [
      "995it [08:31,  2.43it/s]"
     ]
    },
    {
     "name": "stdout",
     "output_type": "stream",
     "text": [
      "structure 995 written to DFTB_db \"\n",
      "w is ['C', 'C', 'C', 'H', 'H', 'H', 'H', 'Li', 'Li', 'O', 'O', 'O', 'O']\n",
      "setting up calculator\n"
     ]
    },
    {
     "name": "stderr",
     "output_type": "stream",
     "text": [
      "996it [08:32,  2.62it/s]"
     ]
    },
    {
     "name": "stdout",
     "output_type": "stream",
     "text": [
      "structure 996 written to DFTB_db \"\n",
      "w is ['C', 'C', 'C', 'H', 'H', 'H', 'H', 'Li', 'Li', 'O', 'O', 'O', 'O']\n",
      "setting up calculator\n"
     ]
    },
    {
     "name": "stderr",
     "output_type": "stream",
     "text": [
      "997it [08:32,  2.35it/s]"
     ]
    },
    {
     "name": "stdout",
     "output_type": "stream",
     "text": [
      "structure 997 written to DFTB_db \"\n",
      "w is ['C', 'C', 'C', 'H', 'H', 'H', 'H', 'Li', 'Li', 'O', 'O', 'O', 'O']\n",
      "setting up calculator\n"
     ]
    },
    {
     "name": "stderr",
     "output_type": "stream",
     "text": [
      "998it [08:33,  2.22it/s]"
     ]
    },
    {
     "name": "stdout",
     "output_type": "stream",
     "text": [
      "structure 998 written to DFTB_db \"\n",
      "w is ['C', 'C', 'C', 'H', 'H', 'H', 'H', 'Li', 'Li', 'O', 'O', 'O', 'O']\n",
      "setting up calculator\n"
     ]
    },
    {
     "name": "stderr",
     "output_type": "stream",
     "text": [
      "999it [08:33,  1.95it/s]"
     ]
    },
    {
     "name": "stdout",
     "output_type": "stream",
     "text": [
      "structure 999 written to DFTB_db \"\n",
      "Database /Users/tjams20/Documents/repos/ParAutomatik/pgm/Jupyter_notebooks/DFTB_DB.db created from /Users/tjams20/Documents/repos/ParAutomatik/pgm/Jupyter_notebooks/DFT_DB.db\n"
     ]
    },
    {
     "name": "stderr",
     "output_type": "stream",
     "text": [
      "\n"
     ]
    }
   ],
   "source": [
    "os.chdir(base_dir)\n",
    "\n",
    "SKF=base_dir+\"/SKF/\"\n",
    "dbname_DFT=base_dir+'/DFT_DB.db'\n",
    "dbname_DFTB=base_dir+'/DFTB_DB.db'\n",
    "db_dftb=ase.db.connect(dbname_DFTB)\n",
    "db_dft=ase.db.connect(dbname_DFT)\n",
    "\n",
    "for row in tqdm(db_dft.select()):\n",
    "    structure=row.toatoms()\n",
    "    try: \n",
    "        structure=run_dftb(structure,SKF)\n",
    "        db_dft.update(row.id, key=row.id, DFTB=True)\n",
    "        # print('DFT_DB updated')\n",
    "        db_dftb.write(structure,key=row.id)\n",
    "        print(\"structure\", row.key, \"written to DFTB_db \\\"\")\n",
    "    except:\n",
    "        print('Error')\n",
    "\n",
    "print('Database',dbname_DFTB,'created from',dbname_DFT)"
   ]
  },
  {
   "cell_type": "code",
   "execution_count": null,
   "id": "38e09137-5107-4c23-9178-48b90730c17a",
   "metadata": {},
   "outputs": [],
   "source": []
  },
  {
   "cell_type": "code",
   "execution_count": null,
   "id": "cadaebc4-f4a6-4cbb-833d-8ef4da752d1c",
   "metadata": {},
   "outputs": [],
   "source": []
  }
 ],
 "metadata": {
  "kernelspec": {
   "display_name": "ParAutomatik",
   "language": "python",
   "name": "parautomatik"
  },
  "language_info": {
   "codemirror_mode": {
    "name": "ipython",
    "version": 3
   },
   "file_extension": ".py",
   "mimetype": "text/x-python",
   "name": "python",
   "nbconvert_exporter": "python",
   "pygments_lexer": "ipython3",
   "version": "3.9.15"
  }
 },
 "nbformat": 4,
 "nbformat_minor": 5
}
