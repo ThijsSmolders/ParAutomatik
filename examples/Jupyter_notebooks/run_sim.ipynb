{
 "cells": [
  {
   "cell_type": "markdown",
   "id": "06207701",
   "metadata": {},
   "source": [
    "# RUN SCC-DFTB+CCS+PiNN Simulations using ASE \n",
    "Input: SKF/, CCS/ and PiNN/ folders from ParAutomatik\n",
    "\n",
    "Simualtion type: \n",
    "- Geometry optimization\n",
    "- MD Simulations \n",
    "- and more "
   ]
  },
  {
   "cell_type": "code",
   "execution_count": 1,
   "id": "159965e4",
   "metadata": {},
   "outputs": [],
   "source": [
    "PARAUTOMATIK_PATH='/Users/tjams20/Documents/repos/ParAutomatik/'   # Add your installation path here"
   ]
  },
  {
   "cell_type": "code",
   "execution_count": 2,
   "id": "c226ac1f-f66f-41d7-ac78-4da8d267af4d",
   "metadata": {},
   "outputs": [
    {
     "name": "stdout",
     "output_type": "stream",
     "text": [
      "You are here /Users/tjams20/Documents/repos/ParAutomatik/pgm/Jupyter_notebooks/RUN_SIM\n"
     ]
    }
   ],
   "source": [
    "import os \n",
    "import sys\n",
    "from ase import Atoms\n",
    "from ase import io\n",
    "from ase.optimize import FIRE\n",
    "from ase.io import read, write\n",
    "from ase.calculators.dftb import Dftb\n",
    "from ase.calculators.mixing import LinearCombinationCalculator\n",
    "import json\n",
    "# from ase.calculators.ccs import CCS\n",
    "# from ccs.ase_calculator.ccs_ase_calculator import CCS # PATH ADDED USING conda develop\n",
    "import numpy as np\n",
    "# import pinn\n",
    "# print(dir(pinn))\n",
    "# from xtb.ase.calculator import XTB\n",
    "sys.path.append(PARAUTOMATIK_PATH+'/pgm/CCS/')\n",
    "\n",
    "base_dir=os.getcwd()\n",
    "os.chdir(base_dir)\n",
    "\n",
    "if not os.path.isdir(\"RUN_SIM/\"):\n",
    "    os.mkdir(\"RUN_SIM/\")\n",
    "\n",
    "os.chdir(\"RUN_SIM/\")\n",
    "cwd = os.getcwd() \n",
    "print('You are here',cwd) \n",
    "\n",
    "def setup_model(elements,spin,charge,**kwargs):\n",
    "\n",
    "    # set up model:\n",
    "    # 1: DFTB \n",
    "    os.environ[\"DFTB_PREFIX\"] = base_dir+\"/SKF/\"\n",
    "    DFTB_calc=Dftb(Hamiltonian_SCC='Yes',Hamiltonian_ShellResolvedSCC = 'Yes',Hamiltonian_SCCTolerance = '1.0E-006',Hamiltonian_Mixer= 'Anderson{',Hamiltonian_Mixer_MixingParameter='0.03',Hamiltonian_MaxSCCIterations = '1500',Hamiltonian_Filling = 'MethfesselPaxton{',Hamiltonian_Filling_Temperature = '0.001583407672623195',Hamiltonian_KPointsAndWeights = 'SupercellFolding {1 0 0 0 1 0 0 0 1 0.0 0.0 0.0}') \n",
    "    if spin>0:                  \n",
    "        DFTB_calc.set(Hamiltonian_SpinPolarisation = 'Colinear{') \n",
    "        DFTB_calc.set(Hamiltonian_SpinPolarisation_UnpairedElectrons=str(spin))\n",
    "        DFTB_calc.set(Hamiltonian_SpinConstants_ ='')\n",
    "        for i in elements: \n",
    "            print(i)\n",
    "            spinparam=get_spindata(i)\n",
    "            string=f'Hamiltonian_SpinConstants_{i}'  \n",
    "            print(string)\n",
    "            DFTB_calc.set(**{string:spinparam})  \n",
    "    if charge>0: \n",
    "        DFTB_calc.set(Hamiltonian_Charge =str(charge))\n",
    "    print(DFTB_calc.todict())     \n",
    "\n",
    "    \n",
    "    # 1.1 DFTB with xTB\n",
    "    # XTB_calc = XTB(method=\"GFN1-xTB\")\n",
    "    DFTB_calc=Dftb(label='singlepoint', Hamiltonian_='xTB', Hamiltonian_Method='GFN2-xTB', \n",
    "                   Hamiltonian_ReadInitialCharges='Yes', # Hamiltonian_ParameterFile=skdef_all,\n",
    "                   Hamiltonian_MaxSCCIterations = '1500', Hamiltonian_Filling = 'MethfesselPaxton{',\n",
    "                   Hamiltonian_Filling_Temperature = '0.003583407672623195',Hamiltonian_Mixer= 'Anderson{',\n",
    "                   Hamiltonian_Mixer_MixingParameter='0.03', Hamiltonian_SCCTolerance = '3.0E-003',\n",
    "                   Hamiltonian_KPointsAndWeights = 'SupercellFolding {1 0 0 0 1 0 0 0 1 0.0 0.0 0.0}',\n",
    "                   Hamiltonian_MaxAngularMomentum_Li=\"d\", Hamiltonian_MaxAngularMomentum_C=\"d\",\n",
    "                   Hamiltonian_MaxAngularMomentum_O=\"d\", Hamiltonian_MaxAngularMomentum_H=\"s\",\n",
    "                   do_forces = True, write_results = True)\n",
    "    \n",
    "    #2: CCS \n",
    "    # with open(base_dir+'/CCS/CCS_params.json', 'r') as f:\n",
    "    #     CCS_params = json.load(f)\n",
    "\n",
    "    # CCS_calc=CCS(CCS_params=CCS_params)\n",
    "    \n",
    "    #3: PiNN \n",
    "    # PiNN_calc = pinn.get_calc(base_dir+'/PiNN/') \n",
    "    \n",
    "\n",
    "    # and the calculater becomes \n",
    "    calcs =[DFTB_calc] #, CCS_calc] #, PiNN_calc]\n",
    "    weights=[1] #,1] #,1]\n",
    "    calc=LinearCombinationCalculator(calcs, weights) \n",
    "    return calc            \n",
    "\n",
    "def get_spindata(element): \n",
    "    if element=='Li':\n",
    "        spinparam='{-0.019  -0.016  -0.016 -0.027}'\n",
    "    if element=='C':\n",
    "        spinparam='{-0.031 -0.025 -0.025 -0.023}'\n",
    "    if element=='O':\n",
    "        spinparam='{-0.035 -0.030 -0.030 -0.028}'\n",
    "    if element=='H':\n",
    "        spinparam='{-0.072}'\n",
    "    return spinparam        "
   ]
  },
  {
   "cell_type": "code",
   "execution_count": 3,
   "id": "184d2ffc-97e8-4757-a1ac-551eb61f4250",
   "metadata": {},
   "outputs": [
    {
     "name": "stdout",
     "output_type": "stream",
     "text": [
      "['/Users/tjams20/opt/anaconda3/envs/ParAutomatik/lib/python3.10/site-packages/ase']\n"
     ]
    }
   ],
   "source": [
    "import ase\n",
    "print(ase.__path__)"
   ]
  },
  {
   "cell_type": "code",
   "execution_count": 4,
   "id": "214cd210-321b-46c8-9fec-889e07c8459c",
   "metadata": {},
   "outputs": [
    {
     "name": "stdout",
     "output_type": "stream",
     "text": [
      "{'Hamiltonian_SCC': 'Yes', 'Hamiltonian_ShellResolvedSCC': 'Yes', 'Hamiltonian_SCCTolerance': '1.0E-006', 'Hamiltonian_Mixer': 'Anderson{', 'Hamiltonian_Mixer_MixingParameter': '0.03', 'Hamiltonian_MaxSCCIterations': '1500', 'Hamiltonian_Filling': 'MethfesselPaxton{', 'Hamiltonian_Filling_Temperature': '0.001583407672623195', 'Hamiltonian_KPointsAndWeights': 'SupercellFolding {1 0 0 0 1 0 0 0 1 0.0 0.0 0.0}'}\n",
      "      Step     Time          Energy         fmax\n",
      "FIRE:    0 15:07:42     -689.785540        3.4170\n",
      "FIRE:    1 15:07:42     -690.243724        2.2679\n",
      "FIRE:    2 15:07:42     -690.528573        2.5506\n",
      "FIRE:    3 15:07:42     -690.569470        1.7876\n",
      "FIRE:    4 15:07:42     -690.623513        1.3493\n",
      "FIRE:    5 15:07:42     -690.670127        1.2242\n",
      "FIRE:    6 15:07:42     -690.712895        1.2804\n",
      "FIRE:    7 15:07:42     -690.763702        1.4141\n",
      "FIRE:    8 15:07:42     -690.823751        1.1140\n",
      "FIRE:    9 15:07:42     -690.883187        0.8313\n",
      "FIRE:   10 15:07:42     -690.936106        1.0908\n",
      "FIRE:   11 15:07:43     -690.980549        1.1363\n",
      "FIRE:   12 15:07:43     -691.018563        0.8004\n",
      "FIRE:   13 15:07:43     -691.047472        0.6960\n",
      "FIRE:   14 15:07:43     -691.069377        0.7938\n",
      "FIRE:   15 15:07:43     -691.080698        0.7722\n",
      "FIRE:   16 15:07:43     -691.084732        0.6131\n",
      "FIRE:   17 15:07:43     -691.090989        0.4784\n",
      "FIRE:   18 15:07:43     -691.097237        0.4500\n",
      "FIRE:   19 15:07:43     -691.102447        0.4090\n",
      "FIRE:   20 15:07:43     -691.107374        0.5092\n",
      "FIRE:   21 15:07:43     -691.113211        0.4476\n",
      "FIRE:   22 15:07:43     -691.119473        0.3100\n",
      "FIRE:   23 15:07:43     -691.125673        0.2385\n",
      "FIRE:   24 15:07:44     -691.130555        0.2926\n",
      "FIRE:   25 15:07:44     -691.134388        0.2939\n",
      "FIRE:   26 15:07:44     -691.137802        0.2170\n",
      "FIRE:   27 15:07:44     -691.140650        0.2739\n",
      "FIRE:   28 15:07:44     -691.143342        0.3025\n",
      "FIRE:   29 15:07:44     -691.146319        0.2373\n",
      "FIRE:   30 15:07:44     -691.149565        0.2497\n",
      "FIRE:   31 15:07:44     -691.154016        0.2258\n",
      "FIRE:   32 15:07:44     -691.158319        0.2089\n",
      "FIRE:   33 15:07:44     -691.162723        0.2167\n",
      "FIRE:   34 15:07:44     -691.166269        0.2766\n",
      "FIRE:   35 15:07:44     -691.167272        0.1921\n",
      "FIRE:   36 15:07:44     -691.168330        0.1069\n",
      "FIRE:   37 15:07:45     -691.168993        0.2393\n",
      "FIRE:   38 15:07:45     -691.170144        0.1464\n",
      "FIRE:   39 15:07:45     -691.171452        0.1033\n",
      "FIRE:   40 15:07:45     -691.172317        0.2056\n",
      "FIRE:   41 15:07:45     -691.172979        0.1832\n",
      "FIRE:   42 15:07:45     -691.173801        0.1056\n",
      "FIRE:   43 15:07:45     -691.174549        0.1665\n",
      "FIRE:   44 15:07:45     -691.175404        0.1064\n",
      "FIRE:   45 15:07:45     -691.176434        0.0790\n",
      "FIRE:   46 15:07:45     -691.177544        0.1279\n",
      "FIRE:   47 15:07:45     -691.178731        0.0907\n",
      "FIRE:   48 15:07:45     -691.179951        0.1418\n",
      "FIRE:   49 15:07:45     -691.181217        0.1866\n",
      "FIRE:   50 15:07:45     -691.182944        0.2186\n",
      "FIRE:   51 15:07:46     -691.183856        0.4820\n",
      "FIRE:   52 15:07:46     -691.185433        0.0492\n"
     ]
    },
    {
     "data": {
      "text/plain": [
       "True"
      ]
     },
     "execution_count": 4,
     "metadata": {},
     "output_type": "execute_result"
    }
   ],
   "source": [
    "# Geometry optimization\n",
    "# import structure:\n",
    "slab = io.read('/Users/tjams20/Documents/repos/ParAutomatik/Electrolyte/DFT_DB.db@0')\n",
    "# slab = io.read('../DFT_DB.db@0')\n",
    "elements=['C','H','O'] \n",
    "spin=0\n",
    "charge=0\n",
    "slab.calc=setup_model(elements, spin, charge)\n",
    "nrg = slab.get_potential_energy()\n",
    "relax = FIRE(slab, trajectory='opt.traj')\n",
    "relax.run(fmax=0.05) "
   ]
  },
  {
   "cell_type": "code",
   "execution_count": 5,
   "id": "07b0246f",
   "metadata": {},
   "outputs": [
    {
     "name": "stdout",
     "output_type": "stream",
     "text": [
      "Traceback (most recent call last):\n",
      "  File \"/Users/tjams20/opt/anaconda3/envs/ParAutomatik/lib/python3.10/runpy.py\", line 196, in _run_module_as_main\n",
      "    return _run_code(code, main_globals, None,\n",
      "  File \"/Users/tjams20/opt/anaconda3/envs/ParAutomatik/lib/python3.10/runpy.py\", line 86, in _run_code\n",
      "    exec(code, run_globals)\n",
      "  File \"/Users/tjams20/opt/anaconda3/envs/ParAutomatik/lib/python3.10/site-packages/ase/gui/pipe.py\", line 32, in <module>\n",
      "    main()\n",
      "  File \"/Users/tjams20/opt/anaconda3/envs/ParAutomatik/lib/python3.10/site-packages/ase/gui/pipe.py\", line 28, in main\n",
      "    plt.show()\n",
      "  File \"/Users/tjams20/opt/anaconda3/envs/ParAutomatik/lib/python3.10/site-packages/matplotlib/pyplot.py\", line 411, in show\n",
      "    return _get_backend_mod().show(*args, **kwargs)\n",
      "  File \"/Users/tjams20/opt/anaconda3/envs/ParAutomatik/lib/python3.10/site-packages/matplotlib_inline/backend_inline.py\", line 90, in show\n",
      "    display(\n",
      "  File \"/Users/tjams20/opt/anaconda3/envs/ParAutomatik/lib/python3.10/site-packages/IPython/core/display_functions.py\", line 265, in display\n",
      "    print(*objs)\n",
      "ValueError: I/O operation on closed file.\n"
     ]
    }
   ],
   "source": [
    "!ase gui opt.traj"
   ]
  },
  {
   "cell_type": "code",
   "execution_count": 6,
   "id": "0de9b2f8-f402-47ea-a0db-cd3e026021be",
   "metadata": {},
   "outputs": [
    {
     "name": "stderr",
     "output_type": "stream",
     "text": [
      "/Users/tjams20/opt/anaconda3/envs/ParAutomatik/lib/python3.10/site-packages/ase/md/md.py:48: FutureWarning: Specify the temperature in K using the 'temperature_K' argument\n",
      "  warnings.warn(FutureWarning(w))\n"
     ]
    },
    {
     "data": {
      "text/plain": [
       "True"
      ]
     },
     "execution_count": 6,
     "metadata": {},
     "output_type": "execute_result"
    }
   ],
   "source": [
    "# Read geometry optimized structure and run NVE Molecular dynamics \n",
    "from ase import units\n",
    "from ase.io import read, write\n",
    "from ase.io.trajectory import Trajectory\n",
    "from ase.md import MDLogger\n",
    "from ase.md.velocitydistribution import MaxwellBoltzmannDistribution\n",
    "from ase.md.nptberendsen import NPTBerendsen\n",
    "from ase.md.nvtberendsen import NVTBerendsen\n",
    "from ase.md.verlet import VelocityVerlet\n",
    "\n",
    "rng = np.random.default_rng(10)\n",
    "atoms = read(\"opt.traj\")\n",
    "atoms.set_calculator(slab.calc)\n",
    "MaxwellBoltzmannDistribution(atoms, 873*units.kB, rng=rng)\n",
    "dt = 0.5 * units.fs\n",
    "steps = int(10)\n",
    "dyn = VelocityVerlet(atoms, timestep=dt)\n",
    "interval = int(1)\n",
    "dyn.attach(MDLogger(dyn, atoms, 'output.log', mode=\"a\"), interval=interval)\n",
    "dyn.attach(Trajectory('output.traj', 'a', atoms).write, interval=interval)\n",
    "dyn.run(steps)"
   ]
  },
  {
   "cell_type": "code",
   "execution_count": 7,
   "id": "10cf77dc",
   "metadata": {},
   "outputs": [
    {
     "name": "stdout",
     "output_type": "stream",
     "text": [
      "Traceback (most recent call last):\n",
      "  File \"/Users/tjams20/opt/anaconda3/envs/ParAutomatik/lib/python3.10/runpy.py\", line 196, in _run_module_as_main\n",
      "    return _run_code(code, main_globals, None,\n",
      "  File \"/Users/tjams20/opt/anaconda3/envs/ParAutomatik/lib/python3.10/runpy.py\", line 86, in _run_code\n",
      "    exec(code, run_globals)\n",
      "  File \"/Users/tjams20/opt/anaconda3/envs/ParAutomatik/lib/python3.10/site-packages/ase/gui/pipe.py\", line 32, in <module>\n",
      "    main()\n",
      "  File \"/Users/tjams20/opt/anaconda3/envs/ParAutomatik/lib/python3.10/site-packages/ase/gui/pipe.py\", line 28, in main\n",
      "    plt.show()\n",
      "  File \"/Users/tjams20/opt/anaconda3/envs/ParAutomatik/lib/python3.10/site-packages/matplotlib/pyplot.py\", line 411, in show\n",
      "    return _get_backend_mod().show(*args, **kwargs)\n",
      "  File \"/Users/tjams20/opt/anaconda3/envs/ParAutomatik/lib/python3.10/site-packages/matplotlib_inline/backend_inline.py\", line 90, in show\n",
      "    display(\n",
      "  File \"/Users/tjams20/opt/anaconda3/envs/ParAutomatik/lib/python3.10/site-packages/IPython/core/display_functions.py\", line 265, in display\n",
      "    print(*objs)\n",
      "ValueError: I/O operation on closed file.\n"
     ]
    }
   ],
   "source": [
    "!ase gui output.traj "
   ]
  },
  {
   "cell_type": "code",
   "execution_count": null,
   "id": "622403c7",
   "metadata": {},
   "outputs": [],
   "source": []
  }
 ],
 "metadata": {
  "kernelspec": {
   "display_name": "Python 3 (ipykernel)",
   "language": "python",
   "name": "python3"
  },
  "language_info": {
   "codemirror_mode": {
    "name": "ipython",
    "version": 3
   },
   "file_extension": ".py",
   "mimetype": "text/x-python",
   "name": "python",
   "nbconvert_exporter": "python",
   "pygments_lexer": "ipython3",
   "version": "3.9.13"
  }
 },
 "nbformat": 4,
 "nbformat_minor": 5
}
