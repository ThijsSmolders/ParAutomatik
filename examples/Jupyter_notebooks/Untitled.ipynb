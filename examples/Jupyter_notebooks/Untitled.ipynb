{
 "cells": [
  {
   "cell_type": "code",
   "execution_count": 1,
   "id": "a4595fa8-6dbd-4f11-a68e-8f13c925e0cd",
   "metadata": {},
   "outputs": [
    {
     "name": "stdout",
     "output_type": "stream",
     "text": [
      "Testing try\n",
      "Testing except\n"
     ]
    }
   ],
   "source": [
    "if True:\n",
    "    try:\n",
    "        print(\"Testing try\")\n",
    "        print(undefined)\n",
    "    except:\n",
    "        print(\"Testing except\")"
   ]
  },
  {
   "cell_type": "code",
   "execution_count": 3,
   "id": "1bb505f3-3973-4820-b997-c3f978f15bfc",
   "metadata": {},
   "outputs": [
    {
     "name": "stdout",
     "output_type": "stream",
     "text": [
      "[('C', 'C'), ('C', 'H'), ('C', 'Li'), ('C', 'O'), ('H', 'H'), ('H', 'Li'), ('H', 'O'), ('Li', 'Li'), ('Li', 'O'), ('O', 'O')]\n"
     ]
    }
   ],
   "source": [
    "elements = ['C', 'H', 'Li', 'O']\n",
    "\n",
    "import itertools\n",
    "\n",
    "combi = list(itertools.combinations_with_replacement(elements, 2))\n",
    "print(combi)"
   ]
  },
  {
   "cell_type": "code",
   "execution_count": null,
   "id": "34d8670c-e0bb-4384-882a-b4e2ba4f274f",
   "metadata": {},
   "outputs": [],
   "source": []
  }
 ],
 "metadata": {
  "kernelspec": {
   "display_name": "ParAutomatik",
   "language": "python",
   "name": "parautomatik"
  },
  "language_info": {
   "codemirror_mode": {
    "name": "ipython",
    "version": 3
   },
   "file_extension": ".py",
   "mimetype": "text/x-python",
   "name": "python",
   "nbconvert_exporter": "python",
   "pygments_lexer": "ipython3",
   "version": "3.9.15"
  }
 },
 "nbformat": 4,
 "nbformat_minor": 5
}
