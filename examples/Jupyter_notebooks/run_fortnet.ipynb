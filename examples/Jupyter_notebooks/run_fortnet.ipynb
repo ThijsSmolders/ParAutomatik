{
 "cells": [
  {
   "cell_type": "code",
   "execution_count": null,
   "id": "231ff3be-5d2e-4908-aaa1-0f4f81bf3611",
   "metadata": {},
   "outputs": [],
   "source": []
  }
 ],
 "metadata": {
  "kernelspec": {
   "display_name": "ParAutomatik",
   "language": "python",
   "name": "parautomatik"
  },
  "language_info": {
   "codemirror_mode": {
    "name": "ipython",
    "version": 3
   },
   "file_extension": ".py",
   "mimetype": "text/x-python",
   "name": "python",
   "nbconvert_exporter": "python",
   "pygments_lexer": "ipython3",
   "version": "3.9.15"
  }
 },
 "nbformat": 4,
 "nbformat_minor": 5
}
