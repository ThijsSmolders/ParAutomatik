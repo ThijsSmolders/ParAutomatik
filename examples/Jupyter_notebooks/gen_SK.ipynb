{
 "cells": [
  {
   "cell_type": "markdown",
   "id": "38b1081c",
   "metadata": {
    "tags": []
   },
   "source": [
    "# SCC-DFTB SK-generation \n",
    "\n",
    "Input: DFTB_DB.db - ASE database with coordinates, energies and forces\n",
    "\n",
    "Output: Slater-Koster files for each pair of elements stored in ./SKF/\n",
    "\n",
    "\n",
    "Input for the Slater-Koster generation are taken from \"$PARAUTOMATIK/pgm/SK_def/skdef.hsd\". Modify this file if your elements does'nt exist.   \n"
   ]
  },
  {
   "cell_type": "code",
   "execution_count": 1,
   "id": "38077ea5",
   "metadata": {},
   "outputs": [],
   "source": [
    "PARAUTOMATIK_PATH='/Users/tjams20/Documents/repos/ParAutomatik/'   # Add your installation path here"
   ]
  },
  {
   "cell_type": "code",
   "execution_count": 2,
   "id": "adec4b54",
   "metadata": {
    "scrolled": true,
    "tags": []
   },
   "outputs": [
    {
     "name": "stdout",
     "output_type": "stream",
     "text": [
      "Base dir is: /Users/tjams20/Documents/repos/ParAutomatik_dev/examples/Jupyter_notebooks\n"
     ]
    },
    {
     "ename": "ModuleNotFoundError",
     "evalue": "No module named 'sktools'",
     "output_type": "error",
     "traceback": [
      "\u001b[0;31m---------------------------------------------------------------------------\u001b[0m",
      "\u001b[0;31mModuleNotFoundError\u001b[0m                       Traceback (most recent call last)",
      "Cell \u001b[0;32mIn [2], line 18\u001b[0m\n\u001b[1;32m     16\u001b[0m \u001b[38;5;28;01mimport\u001b[39;00m \u001b[38;5;21;01margparse\u001b[39;00m\n\u001b[1;32m     17\u001b[0m \u001b[38;5;28;01mimport\u001b[39;00m \u001b[38;5;21;01mnumpy\u001b[39;00m \u001b[38;5;28;01mas\u001b[39;00m \u001b[38;5;21;01mnp\u001b[39;00m\n\u001b[0;32m---> 18\u001b[0m \u001b[38;5;28;01mimport\u001b[39;00m \u001b[38;5;21;01msktools\u001b[39;00m\u001b[38;5;21;01m.\u001b[39;00m\u001b[38;5;21;01mcommon\u001b[39;00m \u001b[38;5;28;01mas\u001b[39;00m \u001b[38;5;21;01msc\u001b[39;00m\n\u001b[1;32m     19\u001b[0m \u001b[38;5;28;01mimport\u001b[39;00m \u001b[38;5;21;01msktools\u001b[39;00m\u001b[38;5;21;01m.\u001b[39;00m\u001b[38;5;21;01mskgen\u001b[39;00m \u001b[38;5;28;01mas\u001b[39;00m \u001b[38;5;21;01mskgen\u001b[39;00m\n\u001b[1;32m     20\u001b[0m \u001b[38;5;28;01mfrom\u001b[39;00m \u001b[38;5;21;01msktools\u001b[39;00m\u001b[38;5;21;01m.\u001b[39;00m\u001b[38;5;21;01mskdef\u001b[39;00m \u001b[38;5;28;01mimport\u001b[39;00m Skdef\n",
      "\u001b[0;31mModuleNotFoundError\u001b[0m: No module named 'sktools'"
     ]
    }
   ],
   "source": [
    "import os, sys, warnings\n",
    "import glob\n",
    "import re\n",
    "from shutil import copyfile, copytree\n",
    "import itertools\n",
    "import numpy as np\n",
    "from ase.data import atomic_numbers, atomic_names, atomic_masses, covalent_radii, vdw_radii\n",
    "\n",
    "\n",
    "base_dir=os.getcwd()  # You should be in your production folder now. \n",
    "print('Base dir is:', base_dir) \n",
    "\n",
    "warnings.filterwarnings('ignore')\n",
    "sys.path.append(PARAUTOMATIK_PATH+'skprogs/opt/lib/python3.9/site-packages/')\n",
    "\n",
    "import argparse\n",
    "import numpy as np\n",
    "import sktools.common as sc\n",
    "import sktools.skgen as skgen\n",
    "from sktools.skdef import Skdef\n",
    "from sktools import PACKAGE_VERSION\n",
    "import sk_util\n",
    "cwd = os.getcwd()\n",
    "# !source /home/broqvist/Desktop/parautomatik/pgm/skprogs/opt/bin/skprogs-activate.sh should be issued before starting jupyter-lab\n",
    "skdef_all = PARAUTOMATIK_PATH+'/examples/SK_def/skdef.hsd'  # parameter file for the data generation\n",
    "SCRIPTNAME = sc.get_script_name()\n",
    "\n",
    "# make the directory for the SK-generation and move in to that directory\n",
    "if not os.path.isdir(\"SKF/\"):\n",
    "    os.mkdir(\"SKF/\")\n",
    "\n",
    "os.chdir(\"SKF/\")\n",
    "print('You are here',os.getcwd())"
   ]
  },
  {
   "cell_type": "code",
   "execution_count": null,
   "id": "54ae5e6f-709a-484e-ba30-3c41c9dba9fa",
   "metadata": {},
   "outputs": [],
   "source": [
    "# automatic search for elements in database\n",
    "print('You are here',os.getcwd())\n",
    "\n",
    "import ase.db as db\n",
    "DFT_DB=db.connect(\"../DFT_DB.db\")\n",
    "elements=[]\n",
    "for row in DFT_DB.select():\n",
    "    structure=row.toatoms()\n",
    "    a=structure.get_chemical_symbols()\n",
    "    for i in a: \n",
    "        if i not in elements:\n",
    "            elements.append(i)\n",
    "\n",
    "elem=''\n",
    "for i in elements:\n",
    "    if elem=='':\n",
    "        elem=i\n",
    "    else:\n",
    "        elem=elem+','+i\n",
    "print(elem)        "
   ]
  },
  {
   "cell_type": "code",
   "execution_count": null,
   "id": "66a58317-2118-4b35-9285-3bee1743a571",
   "metadata": {},
   "outputs": [],
   "source": [
    "#set up input for skprogs and run skprogs generating the Slater-Koster files with a dummy rep\n",
    "parser, subparsers = sk_util.get_parser_and_subparser_container()\n",
    "sk_util.setup_parser_main(parser)\n",
    "onecnt_common = sk_util.get_onecnt_common_parser()\n",
    "sk_util.setup_parser_atom(subparsers, onecnt_common, sk_util.run_atom)\n",
    "sk_util.setup_parser_denscomp(subparsers, onecnt_common, sk_util.run_denscomp)\n",
    "sk_util.setup_parser_wavecomp(subparsers, onecnt_common, sk_util.run_wavecomp)\n",
    "twocnt_common = sk_util.get_twocnt_common_parser()\n",
    "sk_util.setup_parser_twocnt(subparsers, twocnt_common, sk_util.run_twocnt)\n",
    "sk_util.setup_parser_sktable(subparsers, twocnt_common, sk_util.run_sktable)\n",
    "\n",
    "class Args:\n",
    "    includedirs=[] \n",
    "    configfiles=[skdef_all]\n",
    "    builddir='_build' \n",
    "    onecnt_binary='slateratom' \n",
    "    twocnt_binary='sktwocnt'\n",
    "    loglevel='info' \n",
    "    element1=elem\n",
    "    element2=elem \n",
    "    dummyrep=True \n",
    "    outdir='.'\n",
    "    func=sk_util.run_sktable\n",
    "\n",
    "        \n",
    "args=Args()\n",
    "\n",
    "#run \n",
    "args.func()"
   ]
  },
  {
   "cell_type": "code",
   "execution_count": null,
   "id": "002ef133-53ed-468b-b615-4c6009178598",
   "metadata": {},
   "outputs": [],
   "source": []
  }
 ],
 "metadata": {
  "celltoolbar": "Edit Metadata",
  "kernelspec": {
   "display_name": "Python 3 (ipykernel)",
   "language": "python",
   "name": "python3"
  },
  "language_info": {
   "codemirror_mode": {
    "name": "ipython",
    "version": 3
   },
   "file_extension": ".py",
   "mimetype": "text/x-python",
   "name": "python",
   "nbconvert_exporter": "python",
   "pygments_lexer": "ipython3",
   "version": "3.9.13"
  }
 },
 "nbformat": 4,
 "nbformat_minor": 5
}
