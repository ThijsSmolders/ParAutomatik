{
 "cells": [
  {
   "cell_type": "markdown",
   "id": "12bdeec6-5a7e-4297-adbe-561776a86a73",
   "metadata": {
    "tags": []
   },
   "source": [
    "# SCC-DFTB repulsive potential generation (2-body)\n",
    "\n",
    "Input: DFT_DB.db DFTB_DB.db \n",
    "\n",
    "Output: CCS parameters to be used in conjunction with the SK-tables generated in gen_SK.ipynb and CCS_DB.db \n",
    "\n"
   ]
  },
  {
   "cell_type": "code",
   "execution_count": 1,
   "id": "54fb709f",
   "metadata": {},
   "outputs": [],
   "source": [
    "PARAUTOMATIK_PATH='/Users/tjams20/Documents/repos/ParAutomatik/'   # Add your installation path here"
   ]
  },
  {
   "cell_type": "code",
   "execution_count": 2,
   "id": "17e15140-e377-4d8c-a1be-5662a0dd4173",
   "metadata": {},
   "outputs": [
    {
     "name": "stderr",
     "output_type": "stream",
     "text": [
      "/Users/tjams20/opt/anaconda3/envs/ParAutomatik/lib/python3.9/site-packages/ase/calculators/neighborlist.py:5: UserWarning: Moved to ase.neighborlist\n",
      "  warnings.warn('Moved to ase.neighborlist')\n"
     ]
    },
    {
     "name": "stdout",
     "output_type": "stream",
     "text": [
      "Base dir is: /Users/tjams20/Documents/repos/ParAutomatik/pgm/Jupyter_notebooks\n"
     ]
    }
   ],
   "source": [
    "import os, sys, warnings\n",
    "sys.path.append(PARAUTOMATIK_PATH+'/pgm/CCS/')\n",
    "sys.path.append(PARAUTOMATIK_PATH+'/pgm/python_scripts')\n",
    "import json\n",
    "import pandas as pd\n",
    "import itertools as it\n",
    "from collections import OrderedDict, defaultdict\n",
    "import numpy as np\n",
    "from ase import Atoms\n",
    "from ase import io\n",
    "from ase.calculators.neighborlist import NeighborList\n",
    "import ase.db as db\n",
    "from tqdm import tqdm \n",
    "\n",
    "from ccs.common.exceptions import ScriptError \n",
    "from ccs.ase_calculator.ccs_ase_calculator import CCS\n",
    "from ccs import ccs_fetch, ccs_fit\n",
    "\n",
    "import matplotlib.pyplot as plt\n",
    "import seaborn as sns\n",
    "\n",
    "\n",
    "base_dir=os.getcwd()\n",
    "os.chdir(base_dir)\n",
    "print('Base dir is:', base_dir)\n",
    "warnings.filterwarnings('ignore')\n"
   ]
  },
  {
   "cell_type": "code",
   "execution_count": 3,
   "id": "f0d4af11-1086-4629-b38a-43d9996b5b5c",
   "metadata": {},
   "outputs": [
    {
     "name": "stderr",
     "output_type": "stream",
     "text": [
      "100%|\u001b[38;2;0;128;128m████████████████████████████████████████\u001b[0m| 999/999 [00:04<00:00, 216.95it/s]\u001b[0m\n"
     ]
    }
   ],
   "source": [
    "#generate data generates trainingset in the format for CCS (structures.json)\n",
    "cwd = os.getcwd()\n",
    "if not os.path.isdir(cwd+\"/CCS/\"):\n",
    "    os.mkdir(cwd+\"/CCS/\")\n",
    "os.chdir(cwd+\"/CCS/\")\n",
    "\n",
    "ccs_fetch(mode='CCS', R_c=6.0, Ns='all', DFT_DB='../DFT_DB.db', DFTB_DB='../DFTB_DB.db')\n",
    "\n",
    "os.chdir(base_dir) "
   ]
  },
  {
   "cell_type": "code",
   "execution_count": 4,
   "id": "d9c2d9d6-d77b-464f-b8a3-c838d601ea89",
   "metadata": {
    "tags": []
   },
   "outputs": [
    {
     "name": "stdout",
     "output_type": "stream",
     "text": [
      "Generating one-body information from training-set.\n",
      "    Added elements:  ['C', 'H', 'Li', 'O']\n",
      "Generating two-body potentials from one-body information.\n",
      "C C\n",
      "    Adding pair: C-C\n",
      "C H\n",
      "    Adding pair: C-H\n",
      "C Li\n",
      "    Adding pair: C-Li\n",
      "C O\n",
      "    Adding pair: C-O\n",
      "H C\n",
      "H H\n",
      "    Adding pair: H-H\n",
      "H Li\n",
      "    Adding pair: H-Li\n",
      "H O\n",
      "    Adding pair: H-O\n",
      "Li C\n",
      "Li H\n",
      "Li Li\n",
      "    Adding pair: Li-Li\n",
      "Li O\n",
      "    Adding pair: Li-O\n",
      "O C\n",
      "O H\n",
      "O Li\n",
      "O O\n",
      "    Adding pair: O-O\n"
     ]
    },
    {
     "name": "stderr",
     "output_type": "stream",
     "text": [
      "Finding optimum switch: 100%|\u001b[38;2;128;0;128m█████████████████████\u001b[0m| 1/1 [00:01<00:00,  1.47s/it]\u001b[0m\n"
     ]
    },
    {
     "name": "stdout",
     "output_type": "stream",
     "text": [
      "DEBUG: Current pair C-C has 98 knots and [[ 0.          0.16666667  1.         ... 94.         95.\n",
      "  47.83333333]\n",
      " [ 0.          0.          0.16666667 ... 93.         94.\n",
      "  47.33333333]\n",
      " [ 0.          0.          0.         ... 92.         93.\n",
      "  46.83333333]\n",
      " ...\n",
      " [ 0.          0.          0.         ...  0.16666667  1.\n",
      "   0.83333333]\n",
      " [ 0.          0.          0.         ...  0.          0.16666667\n",
      "   0.33333333]\n",
      " [ 0.          0.          0.         ...  0.          0.\n",
      "   0.        ]] coefficients.\n",
      "DEBUG: Current pair C-H has 103 knots and [[  0.           0.16666667   1.         ...  99.         100.\n",
      "   50.33333333]\n",
      " [  0.           0.           0.16666667 ...  98.          99.\n",
      "   49.83333333]\n",
      " [  0.           0.           0.         ...  97.          98.\n",
      "   49.33333333]\n",
      " ...\n",
      " [  0.           0.           0.         ...   0.16666667   1.\n",
      "    0.83333333]\n",
      " [  0.           0.           0.         ...   0.           0.16666667\n",
      "    0.33333333]\n",
      " [  0.           0.           0.         ...   0.           0.\n",
      "    0.        ]] coefficients.\n",
      "DEBUG: Current pair C-Li has 83 knots and [[ 0.          0.16666667  1.         ... 79.         80.\n",
      "  40.33333333]\n",
      " [ 0.          0.          0.16666667 ... 78.         79.\n",
      "  39.83333333]\n",
      " [ 0.          0.          0.         ... 77.         78.\n",
      "  39.33333333]\n",
      " ...\n",
      " [ 0.          0.          0.         ...  0.16666667  1.\n",
      "   0.83333333]\n",
      " [ 0.          0.          0.         ...  0.          0.16666667\n",
      "   0.33333333]\n",
      " [ 0.          0.          0.         ...  0.          0.\n",
      "   0.        ]] coefficients.\n",
      "DEBUG: Current pair C-O has 99 knots and [[ 0.          0.16666667  1.         ... 95.         96.\n",
      "  48.33333333]\n",
      " [ 0.          0.          0.16666667 ... 94.         95.\n",
      "  47.83333333]\n",
      " [ 0.          0.          0.         ... 93.         94.\n",
      "  47.33333333]\n",
      " ...\n",
      " [ 0.          0.          0.         ...  0.16666667  1.\n",
      "   0.83333333]\n",
      " [ 0.          0.          0.         ...  0.          0.16666667\n",
      "   0.33333333]\n",
      " [ 0.          0.          0.         ...  0.          0.\n",
      "   0.        ]] coefficients.\n",
      "DEBUG: Current pair H-H has 109 knots and [[  0.           0.16666667   1.         ... 105.         106.\n",
      "   53.33333333]\n",
      " [  0.           0.           0.16666667 ... 104.         105.\n",
      "   52.83333333]\n",
      " [  0.           0.           0.         ... 103.         104.\n",
      "   52.33333333]\n",
      " ...\n",
      " [  0.           0.           0.         ...   0.16666667   1.\n",
      "    0.83333333]\n",
      " [  0.           0.           0.         ...   0.           0.16666667\n",
      "    0.33333333]\n",
      " [  0.           0.           0.         ...   0.           0.\n",
      "    0.        ]] coefficients.\n",
      "DEBUG: Current pair H-Li has 81 knots and [[ 0.          0.16666667  1.         ... 77.         78.\n",
      "  39.33333333]\n",
      " [ 0.          0.          0.16666667 ... 76.         77.\n",
      "  38.83333333]\n",
      " [ 0.          0.          0.         ... 75.         76.\n",
      "  38.33333333]\n",
      " ...\n",
      " [ 0.          0.          0.         ...  0.16666667  1.\n",
      "   0.83333333]\n",
      " [ 0.          0.          0.         ...  0.          0.16666667\n",
      "   0.33333333]\n",
      " [ 0.          0.          0.         ...  0.          0.\n",
      "   0.        ]] coefficients.\n",
      "DEBUG: Current pair H-O has 106 knots and [[  0.           0.16666667   1.         ... 102.         103.\n",
      "   51.83333333]\n",
      " [  0.           0.           0.16666667 ... 101.         102.\n",
      "   51.33333333]\n",
      " [  0.           0.           0.         ... 100.         101.\n",
      "   50.83333333]\n",
      " ...\n",
      " [  0.           0.           0.         ...   0.16666667   1.\n",
      "    0.83333333]\n",
      " [  0.           0.           0.         ...   0.           0.16666667\n",
      "    0.33333333]\n",
      " [  0.           0.           0.         ...   0.           0.\n",
      "    0.        ]] coefficients.\n",
      "DEBUG: Current pair Li-Li has 2 knots and [[0. 0.]] coefficients.\n"
     ]
    },
    {
     "ename": "IndexError",
     "evalue": "index 1 is out of bounds for axis 0 with size 1",
     "output_type": "error",
     "traceback": [
      "\u001b[0;31m---------------------------------------------------------------------------\u001b[0m",
      "\u001b[0;31mIndexError\u001b[0m                                Traceback (most recent call last)",
      "Cell \u001b[0;32mIn [4], line 21\u001b[0m\n\u001b[1;32m     18\u001b[0m     json\u001b[38;5;241m.\u001b[39mdump(\u001b[38;5;28minput\u001b[39m, f, indent\u001b[38;5;241m=\u001b[39m\u001b[38;5;241m8\u001b[39m)\n\u001b[1;32m     20\u001b[0m \u001b[38;5;66;03m#RUN FIT\u001b[39;00m\n\u001b[0;32m---> 21\u001b[0m \u001b[43mccs_fit\u001b[49m\u001b[43m(\u001b[49m\u001b[38;5;124;43m\"\u001b[39;49m\u001b[38;5;124;43minput.json\u001b[39;49m\u001b[38;5;124;43m\"\u001b[39;49m\u001b[43m)\u001b[49m\n\u001b[1;32m     22\u001b[0m os\u001b[38;5;241m.\u001b[39mchdir(base_dir)\n\u001b[1;32m     23\u001b[0m \u001b[38;5;28mprint\u001b[39m(\u001b[38;5;124m\"\u001b[39m\u001b[38;5;124mdone\u001b[39m\u001b[38;5;124m\"\u001b[39m)\n",
      "File \u001b[0;32m~/Documents/repos/CCS/src/ccs/fitting/main.py:363\u001b[0m, in \u001b[0;36mtwp_fit\u001b[0;34m(filename)\u001b[0m\n\u001b[1;32m    351\u001b[0m nn \u001b[38;5;241m=\u001b[39m Objective(\n\u001b[1;32m    352\u001b[0m     atom_pairs,\n\u001b[1;32m    353\u001b[0m     atom_onebodies,\n\u001b[0;32m   (...)\u001b[0m\n\u001b[1;32m    359\u001b[0m     ewald_forces\u001b[38;5;241m=\u001b[39mewald_forces,\n\u001b[1;32m    360\u001b[0m )\n\u001b[1;32m    362\u001b[0m \u001b[38;5;66;03m# Solve QP problem\u001b[39;00m\n\u001b[0;32m--> 363\u001b[0m predicted_energies, mse, xx_unfolded \u001b[38;5;241m=\u001b[39m \u001b[43mnn\u001b[49m\u001b[38;5;241;43m.\u001b[39;49m\u001b[43msolution\u001b[49m\u001b[43m(\u001b[49m\u001b[43m)\u001b[49m\n",
      "File \u001b[0;32m~/Documents/repos/CCS/src/ccs/fitting/objective.py:172\u001b[0m, in \u001b[0;36mObjective.solution\u001b[0;34m(self)\u001b[0m\n\u001b[1;32m    170\u001b[0m     \u001b[38;5;28mprint\u001b[39m(\u001b[38;5;124mf\u001b[39m\u001b[38;5;124m\"\u001b[39m\u001b[38;5;124mDEBUG: Current pair \u001b[39m\u001b[38;5;132;01m{\u001b[39;00m\u001b[38;5;28mself\u001b[39m\u001b[38;5;241m.\u001b[39ml_twb[ii]\u001b[38;5;241m.\u001b[39mname\u001b[38;5;132;01m}\u001b[39;00m\u001b[38;5;124m has \u001b[39m\u001b[38;5;132;01m{\u001b[39;00m(\u001b[38;5;28mself\u001b[39m\u001b[38;5;241m.\u001b[39ml_twb[ii]\u001b[38;5;241m.\u001b[39mN)\u001b[38;5;132;01m}\u001b[39;00m\u001b[38;5;124m knots and \u001b[39m\u001b[38;5;132;01m{\u001b[39;00m(\u001b[38;5;28mself\u001b[39m\u001b[38;5;241m.\u001b[39ml_twb[ii]\u001b[38;5;241m.\u001b[39mA)\u001b[38;5;132;01m}\u001b[39;00m\u001b[38;5;124m coefficients.\u001b[39m\u001b[38;5;124m\"\u001b[39m)\n\u001b[1;32m    171\u001b[0m     \u001b[38;5;28mself\u001b[39m\u001b[38;5;241m.\u001b[39ml_twb[ii]\u001b[38;5;241m.\u001b[39mget_spline_coeffs()\n\u001b[0;32m--> 172\u001b[0m     \u001b[38;5;28;43mself\u001b[39;49m\u001b[38;5;241;43m.\u001b[39;49m\u001b[43ml_twb\u001b[49m\u001b[43m[\u001b[49m\u001b[43mii\u001b[49m\u001b[43m]\u001b[49m\u001b[38;5;241;43m.\u001b[39;49m\u001b[43mget_expcoeffs\u001b[49m\u001b[43m(\u001b[49m\u001b[43m)\u001b[49m\n\u001b[1;32m    173\u001b[0m     x_unfolded \u001b[38;5;241m=\u001b[39m np\u001b[38;5;241m.\u001b[39mhstack(\n\u001b[1;32m    174\u001b[0m         (x_unfolded, np\u001b[38;5;241m.\u001b[39marray(\u001b[38;5;28mself\u001b[39m\u001b[38;5;241m.\u001b[39ml_twb[ii]\u001b[38;5;241m.\u001b[39mcurvatures)\u001b[38;5;241m.\u001b[39mflatten())\n\u001b[1;32m    175\u001b[0m     )\n\u001b[1;32m    176\u001b[0m \u001b[38;5;28;01mfor\u001b[39;00m onb \u001b[38;5;129;01min\u001b[39;00m \u001b[38;5;28mself\u001b[39m\u001b[38;5;241m.\u001b[39ml_one:\n",
      "File \u001b[0;32m~/Documents/repos/CCS/src/ccs/fitting/spline_functions.py:344\u001b[0m, in \u001b[0;36mTwobody.get_expcoeffs\u001b[0;34m(self)\u001b[0m\n\u001b[1;32m    321\u001b[0m \u001b[38;5;124;03m\"\"\"Calculates coefficients of exponential function.\u001b[39;00m\n\u001b[1;32m    322\u001b[0m \n\u001b[1;32m    323\u001b[0m \u001b[38;5;124;03mArgs:\u001b[39;00m\n\u001b[0;32m   (...)\u001b[0m\n\u001b[1;32m    335\u001b[0m \n\u001b[1;32m    336\u001b[0m \u001b[38;5;124;03m\"\"\"\u001b[39;00m\n\u001b[1;32m    337\u001b[0m \u001b[38;5;66;03m# NOTE WE SHOULD NOTE INCLUDE INNERMOST POINT WHICH IS IL-DEFINED!\u001b[39;00m\n\u001b[1;32m    338\u001b[0m \u001b[38;5;66;03m# OLD CODE\u001b[39;00m\n\u001b[1;32m    339\u001b[0m \u001b[38;5;66;03m# aa = self.splcoeffs[0, 0]\u001b[39;00m\n\u001b[0;32m   (...)\u001b[0m\n\u001b[1;32m    342\u001b[0m \u001b[38;5;66;03m# r0 = self.rn[0]\u001b[39;00m\n\u001b[1;32m    343\u001b[0m \u001b[38;5;66;03m# NEW CODE\u001b[39;00m\n\u001b[0;32m--> 344\u001b[0m aa \u001b[38;5;241m=\u001b[39m \u001b[38;5;28;43mself\u001b[39;49m\u001b[38;5;241;43m.\u001b[39;49m\u001b[43msplcoeffs\u001b[49m\u001b[43m[\u001b[49m\u001b[38;5;241;43m1\u001b[39;49m\u001b[43m,\u001b[49m\u001b[43m \u001b[49m\u001b[38;5;241;43m0\u001b[39;49m\u001b[43m]\u001b[49m\n\u001b[1;32m    345\u001b[0m bb \u001b[38;5;241m=\u001b[39m \u001b[38;5;28mself\u001b[39m\u001b[38;5;241m.\u001b[39msplcoeffs[\u001b[38;5;241m1\u001b[39m, \u001b[38;5;241m1\u001b[39m]\n\u001b[1;32m    346\u001b[0m cc \u001b[38;5;241m=\u001b[39m \u001b[38;5;28mself\u001b[39m\u001b[38;5;241m.\u001b[39msplcoeffs[\u001b[38;5;241m1\u001b[39m, \u001b[38;5;241m2\u001b[39m]\n",
      "\u001b[0;31mIndexError\u001b[0m: index 1 is out of bounds for axis 0 with size 1"
     ]
    }
   ],
   "source": [
    "#DEFINE INPUT\n",
    "os.chdir(cwd+\"/CCS/\")\n",
    "\n",
    "input={\n",
    "    \"General\": {\n",
    "        \"interface\": \"CCS\"\n",
    "    },\n",
    "    \"Twobody\": {\n",
    "                \"Xx-Xx\": {\n",
    "                        \"Rcut\": 6.0,\n",
    "                        \"Resolution\": 0.05,\n",
    "                        \"Swtype\": \"rep\"\n",
    "                }\n",
    "        }\n",
    "}\n",
    "#SAVE TO FILE\n",
    "with open('input.json', 'w') as f:\n",
    "    json.dump(input, f, indent=8)\n",
    "    \n",
    "#RUN FIT\n",
    "ccs_fit(\"input.json\")\n",
    "os.chdir(base_dir)\n",
    "print(\"done\")"
   ]
  },
  {
   "cell_type": "raw",
   "id": "6bd0e5cb",
   "metadata": {},
   "source": [
    "os.chdir(base_dir+\"/CCS/\")\n",
    "class Args:\n",
    "    cmdlineargs=None\n",
    "    input = 'input.json'\n",
    "\n",
    "args=Args()\n",
    "!ccs_fit input.json\n",
    "os.chdir(base_dir)"
   ]
  },
  {
   "cell_type": "markdown",
   "id": "2696253c-8f8d-4802-aad0-453ea71fd274",
   "metadata": {},
   "source": [
    "# Analysis"
   ]
  },
  {
   "cell_type": "code",
   "execution_count": null,
   "id": "eeddde97-0c9d-47d7-9a24-fd072ed75a25",
   "metadata": {
    "tags": []
   },
   "outputs": [],
   "source": [
    "os.chdir(base_dir)\n",
    "\n",
    "struct=db.connect(\"/Users/tjams20/Documents/repos/ParAutomatik/Electrolyte/DFT_DB.db\")\n",
    "db_ccs=db.connect(\"CCS_DB.db\")\n",
    "\n",
    "print(len(struct))\n",
    "\n",
    "os.chdir(base_dir+\"/CCS/\")\n",
    "with open('CCS_params.json', 'r') as f:\n",
    "    CCS_params = json.load(f)\n",
    "\n",
    "for row in tqdm(struct.select(), total=len(struct)):  \n",
    "    structure=row.toatoms()\n",
    "    structure.calc=CCS(CCS_params=CCS_params)\n",
    "    structure.get_potential_energy()\n",
    "    structure.get_forces()\n",
    "    db_ccs.write(structure,key=row.key,CCS=True)\n",
    "\n",
    "os.chdir(base_dir)"
   ]
  },
  {
   "cell_type": "code",
   "execution_count": null,
   "id": "c66f6b36",
   "metadata": {},
   "outputs": [],
   "source": [
    "#Read Data\n",
    "import matplotlib.pyplot as plt\n",
    "import seaborn as sns\n",
    "dbname_DFT='/Users/tjams20/Documents/repos/ParAutomatik/Electrolyte/DFT_DB.db'\n",
    "# dbname_DFTB='DFTB_DB.db'\n",
    "dbname_CCS='CCS_DB.db'\n",
    "# db_dftb=db.connect(dbname_DFTB)\n",
    "db_ccs=db.connect(dbname_CCS)\n",
    "db_dft=db.connect(dbname_DFT)\n",
    "epred=[];edft=[];eccs=[];\n",
    "for row in tqdm(db_dft.select(), total=len(db_dft)):\n",
    "    structure=row.toatoms()\n",
    "    natoms=len(structure.get_atomic_numbers())\n",
    "    id=str(row.key)\n",
    "    # edftb.append(db_dftb.get('key='+id).energy/natoms)\n",
    "    eccs.append(db_ccs.get('key='+id).energy/natoms)\n",
    "    edft.append(db_dft.get('key='+id).energy/natoms) \n",
    "    # edftb_css.append(db_dftb.get('key='+id).energy/natoms + db_ccs.get('key='+id).energy/natoms)\n"
   ]
  },
  {
   "cell_type": "code",
   "execution_count": null,
   "id": "4d2b87b1",
   "metadata": {},
   "outputs": [],
   "source": [
    "#plot Energies\n",
    "\n",
    "df_plt = pd.DataFrame({\"A\":edft, \"B\":eccs})\n",
    "print(df_plt)\n",
    "\n",
    "plt.figure(figsize = (10,10))\n",
    "sns.scatterplot(df_plt, x='A', y='B', s=50, alpha=0.8, color='r')\n",
    "\n",
    "plt.plot([np.min(edft),np.max(edft)], [np.min(edft),np.max(edft)], 'k-', lw=2.5)\n",
    "plt.legend(labels=[\"DFTB+CCS\"], fontsize=30 )\n",
    "plt.xlabel('E$_{DFT}$/atom (eV)',fontsize=30)\n",
    "plt.ylabel('E$_{DFTB+CCS}$',fontsize=30)\n",
    "plt.xlim(np.min(edft),np.max(edft))\n",
    "plt.ylim(np.min(edft),np.max(edft))\n",
    "plt.savefig('DFTvsDFTB+CCS.png')\n",
    "plt.show()"
   ]
  }
 ],
 "metadata": {
  "kernelspec": {
   "display_name": "ParAutomatik",
   "language": "python",
   "name": "parautomatik"
  },
  "language_info": {
   "codemirror_mode": {
    "name": "ipython",
    "version": 3
   },
   "file_extension": ".py",
   "mimetype": "text/x-python",
   "name": "python",
   "nbconvert_exporter": "python",
   "pygments_lexer": "ipython3",
   "version": "3.9.15"
  }
 },
 "nbformat": 4,
 "nbformat_minor": 5
}
