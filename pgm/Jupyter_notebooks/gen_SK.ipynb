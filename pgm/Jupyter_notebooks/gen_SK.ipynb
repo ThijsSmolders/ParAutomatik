{
 "cells": [
  {
   "cell_type": "markdown",
   "id": "38b1081c",
   "metadata": {
    "tags": []
   },
   "source": [
    "# SCC-DFTB SK-generation \n",
    "\n",
    "Input: DFTB_DB.db - ASE database with coordinates, energies and forces\n",
    "\n",
    "Output: Slater-Koster files for each pair of elements stored in ./SKF/\n",
    "\n",
    "\n",
    "Input for the Slater-Koster generation are taken from \"$PARAUTOMATIK/pgm/SK_def/skdef.hsd\". Modify this file if your elements does'nt exist.   \n"
   ]
  },
  {
   "cell_type": "code",
   "execution_count": 1,
   "id": "38077ea5",
   "metadata": {},
   "outputs": [],
   "source": [
    "PARAUTOMATIK_PATH='/Users/tjams20/Documents/repos/ParAutomatik/'   # Add your installation path here"
   ]
  },
  {
   "cell_type": "code",
   "execution_count": 5,
   "id": "adec4b54",
   "metadata": {
    "scrolled": true,
    "tags": []
   },
   "outputs": [
    {
     "name": "stdout",
     "output_type": "stream",
     "text": [
      "Base dir is: /Users/tjams20/Documents/repos/ParAutomatik/pgm/Jupyter_notebooks/SKF\n",
      "You are here /Users/tjams20/Documents/repos/ParAutomatik/pgm/Jupyter_notebooks/SKF/SKF\n"
     ]
    }
   ],
   "source": [
    "import os, sys, warnings\n",
    "import glob\n",
    "import re\n",
    "from shutil import copyfile, copytree\n",
    "import itertools\n",
    "import numpy as np\n",
    "from ase.data import atomic_numbers, atomic_names, atomic_masses, covalent_radii, vdw_radii\n",
    "\n",
    "\n",
    "base_dir=os.getcwd()  # You should be in your production folder now. \n",
    "print('Base dir is:', base_dir) \n",
    "\n",
    "warnings.filterwarnings('ignore')\n",
    "sys.path.append(PARAUTOMATIK_PATH+'/pgm/skprogs/opt/lib/python3.9/site-packages/')\n",
    "\n",
    "import argparse\n",
    "import numpy as np\n",
    "import sktools.common as sc\n",
    "import sktools.skgen as skgen\n",
    "from sktools.skdef import Skdef\n",
    "from sktools import PACKAGE_VERSION\n",
    "import sk_util\n",
    "cwd = os.getcwd()\n",
    "# !source /home/broqvist/Desktop/parautomatik/pgm/skprogs/opt/bin/skprogs-activate.sh should be issued before starting jupyter-lab\n",
    "skdef_all = PARAUTOMATIK_PATH+'/pgm/SK_def/skdef.hsd'  # parameter file for the data generation\n",
    "SCRIPTNAME = sc.get_script_name()\n",
    "\n",
    "# make the directory for the SK-generation and move in to that directory\n",
    "if not os.path.isdir(\"SKF/\"):\n",
    "    os.mkdir(\"SKF/\")\n",
    "\n",
    "os.chdir(\"SKF/\")\n",
    "print('You are here',os.getcwd())"
   ]
  },
  {
   "cell_type": "code",
   "execution_count": 4,
   "id": "54ae5e6f-709a-484e-ba30-3c41c9dba9fa",
   "metadata": {},
   "outputs": [
    {
     "name": "stdout",
     "output_type": "stream",
     "text": [
      "You are here /Users/tjams20/Documents/repos/ParAutomatik/pgm/Jupyter_notebooks/SKF\n",
      "C,H,Li,O\n"
     ]
    }
   ],
   "source": [
    "# automatic search for elements in database\n",
    "print('You are here',os.getcwd())\n",
    "\n",
    "import ase.db as db\n",
    "DFT_DB=db.connect(\"../DFT_DB.db\")\n",
    "elements=[]\n",
    "for row in DFT_DB.select():\n",
    "    structure=row.toatoms()\n",
    "    a=structure.get_chemical_symbols()\n",
    "    for i in a: \n",
    "        if i not in elements:\n",
    "            elements.append(i)\n",
    "\n",
    "elem=''\n",
    "for i in elements:\n",
    "    if elem=='':\n",
    "        elem=i\n",
    "    else:\n",
    "        elem=elem+','+i\n",
    "print(elem)        "
   ]
  },
  {
   "cell_type": "code",
   "execution_count": 7,
   "id": "66a58317-2118-4b35-9285-3bee1743a571",
   "metadata": {},
   "outputs": [
    {
     "name": "stderr",
     "output_type": "stream",
     "text": [
      "[ipykernel_launcher.py] Subcommand sktable started\n",
      "[ipykernel_launcher.py] Subcommand sktable started\n",
      "[skgen.sktable] Started for C-C\n",
      "[skgen.sktable] Started for C-C\n",
      "[skgen.sktable] Creating free atom prerequisite for C\n",
      "[skgen.sktable] Creating free atom prerequisite for C\n",
      "[skgen.atom] Started for C\n",
      "[skgen.atom] Started for C\n",
      "[skgen.atom] Calculating spin polarized atom (_build/c/atom.da0db592/atom0_spin)\n",
      "[skgen.atom] Calculating spin polarized atom (_build/c/atom.da0db592/atom0_spin)\n"
     ]
    },
    {
     "ename": "FileNotFoundError",
     "evalue": "[Errno 2] No such file or directory: 'slateratom'",
     "output_type": "error",
     "traceback": [
      "\u001b[0;31m---------------------------------------------------------------------------\u001b[0m",
      "\u001b[0;31mFileNotFoundError\u001b[0m                         Traceback (most recent call last)",
      "Input \u001b[0;32mIn [7]\u001b[0m, in \u001b[0;36m<cell line: 29>\u001b[0;34m()\u001b[0m\n\u001b[1;32m     26\u001b[0m args\u001b[38;5;241m=\u001b[39mArgs()\n\u001b[1;32m     28\u001b[0m \u001b[38;5;66;03m#run \u001b[39;00m\n\u001b[0;32m---> 29\u001b[0m \u001b[43margs\u001b[49m\u001b[38;5;241;43m.\u001b[39;49m\u001b[43mfunc\u001b[49m\u001b[43m(\u001b[49m\u001b[43m)\u001b[49m\n",
      "File \u001b[0;32m~/Documents/repos/ParAutomatik/pgm/Jupyter_notebooks/sk_util.py:125\u001b[0m, in \u001b[0;36mrun_sktable\u001b[0;34m(args)\u001b[0m\n\u001b[1;32m    122\u001b[0m element_pairs \u001b[38;5;241m=\u001b[39m convert_arguments_to_element_pairs(args\u001b[38;5;241m.\u001b[39melement1,\n\u001b[1;32m    123\u001b[0m                                                    args\u001b[38;5;241m.\u001b[39melement2)\n\u001b[1;32m    124\u001b[0m \u001b[38;5;28;01mfor\u001b[39;00m elem1, elem2 \u001b[38;5;129;01min\u001b[39;00m element_pairs:\n\u001b[0;32m--> 125\u001b[0m     skfiles_written \u001b[38;5;241m+\u001b[39m\u001b[38;5;241m=\u001b[39m \u001b[43mskgen\u001b[49m\u001b[38;5;241;43m.\u001b[39;49m\u001b[43mrun_sktable\u001b[49m\u001b[43m(\u001b[49m\n\u001b[1;32m    126\u001b[0m \u001b[43m        \u001b[49m\u001b[43mskdefs\u001b[49m\u001b[43m,\u001b[49m\u001b[43m \u001b[49m\u001b[43melem1\u001b[49m\u001b[43m,\u001b[49m\u001b[43m \u001b[49m\u001b[43melem2\u001b[49m\u001b[43m,\u001b[49m\u001b[43m \u001b[49m\u001b[43mbuilddir\u001b[49m\u001b[43m,\u001b[49m\u001b[43m \u001b[49m\u001b[43msearchdirs\u001b[49m\u001b[43m,\u001b[49m\u001b[43m \u001b[49m\u001b[43margs\u001b[49m\u001b[38;5;241;43m.\u001b[39;49m\u001b[43monecnt_binary\u001b[49m\u001b[43m,\u001b[49m\n\u001b[1;32m    127\u001b[0m \u001b[43m        \u001b[49m\u001b[43margs\u001b[49m\u001b[38;5;241;43m.\u001b[39;49m\u001b[43mtwocnt_binary\u001b[49m\u001b[43m,\u001b[49m\u001b[43m \u001b[49m\u001b[43mworkdir\u001b[49m\u001b[43m,\u001b[49m\u001b[43m \u001b[49m\u001b[43madd_dummy_rep\u001b[49m\u001b[43m)\u001b[49m\n\u001b[1;32m    128\u001b[0m logger\u001b[38;5;241m.\u001b[39minfo(\u001b[38;5;124m'\u001b[39m\u001b[38;5;124mDirectory with assembled SK-file(s): \u001b[39m\u001b[38;5;132;01m{}\u001b[39;00m\u001b[38;5;124m'\u001b[39m\u001b[38;5;241m.\u001b[39mformat(workdir))\n\u001b[1;32m    129\u001b[0m logger\u001b[38;5;241m.\u001b[39minfo(\u001b[38;5;124m'\u001b[39m\u001b[38;5;124mSK-file(s) written: \u001b[39m\u001b[38;5;132;01m{}\u001b[39;00m\u001b[38;5;124m'\u001b[39m\u001b[38;5;241m.\u001b[39mformat(\u001b[38;5;124m'\u001b[39m\u001b[38;5;124m \u001b[39m\u001b[38;5;124m'\u001b[39m\u001b[38;5;241m.\u001b[39mjoin(skfiles_written)))\n",
      "File \u001b[0;32m~/opt/anaconda3/envs/ParAutomatik/lib/python3.10/site-packages/sktools/skgen/sktable.py:16\u001b[0m, in \u001b[0;36mrun_sktable\u001b[0;34m(skdefs, elem1, elem2, builddir, searchdirs, onecnt_binary, twocnt_binary, workdir, add_dummy_repulsive)\u001b[0m\n\u001b[1;32m     13\u001b[0m logger\u001b[38;5;241m.\u001b[39minfo(\u001b[38;5;124m\"\u001b[39m\u001b[38;5;124mStarted for \u001b[39m\u001b[38;5;132;01m{}\u001b[39;00m\u001b[38;5;124m-\u001b[39m\u001b[38;5;132;01m{}\u001b[39;00m\u001b[38;5;124m\"\u001b[39m\u001b[38;5;241m.\u001b[39mformat(\n\u001b[1;32m     14\u001b[0m     sc\u001b[38;5;241m.\u001b[39mcapitalize_elem_name(elem1), sc\u001b[38;5;241m.\u001b[39mcapitalize_elem_name(elem2)))\n\u001b[1;32m     15\u001b[0m hetero \u001b[38;5;241m=\u001b[39m (elem1\u001b[38;5;241m.\u001b[39mlower() \u001b[38;5;241m!=\u001b[39m elem2\u001b[38;5;241m.\u001b[39mlower())\n\u001b[0;32m---> 16\u001b[0m prereq_atom1 \u001b[38;5;241m=\u001b[39m \u001b[43m_get_sktable_atom_prereq\u001b[49m\u001b[43m(\u001b[49m\u001b[43melem1\u001b[49m\u001b[43m,\u001b[49m\u001b[43m \u001b[49m\u001b[43mskdefs\u001b[49m\u001b[43m,\u001b[49m\u001b[43m \u001b[49m\u001b[43mbuilddir\u001b[49m\u001b[43m,\u001b[49m\u001b[43m \u001b[49m\u001b[43msearchdirs\u001b[49m\u001b[43m,\u001b[49m\n\u001b[1;32m     17\u001b[0m \u001b[43m                                        \u001b[49m\u001b[43monecnt_binary\u001b[49m\u001b[43m)\u001b[49m\n\u001b[1;32m     18\u001b[0m \u001b[38;5;28;01mif\u001b[39;00m hetero:\n\u001b[1;32m     19\u001b[0m     prereq_atom2 \u001b[38;5;241m=\u001b[39m _get_sktable_atom_prereq(elem2, skdefs, builddir,\n\u001b[1;32m     20\u001b[0m                                             searchdirs, onecnt_binary)\n",
      "File \u001b[0;32m~/opt/anaconda3/envs/ParAutomatik/lib/python3.10/site-packages/sktools/skgen/sktable.py:37\u001b[0m, in \u001b[0;36m_get_sktable_atom_prereq\u001b[0;34m(elem, skdefs, builddir, searchdirs, onecnt_binary)\u001b[0m\n\u001b[1;32m     34\u001b[0m \u001b[38;5;28;01mdef\u001b[39;00m \u001b[38;5;21m_get_sktable_atom_prereq\u001b[39m(elem, skdefs, builddir, searchdirs, onecnt_binary):\n\u001b[1;32m     35\u001b[0m     logger\u001b[38;5;241m.\u001b[39minfo(\u001b[38;5;124m\"\u001b[39m\u001b[38;5;124mCreating free atom prerequisite for \u001b[39m\u001b[38;5;132;01m{}\u001b[39;00m\u001b[38;5;124m\"\u001b[39m\u001b[38;5;241m.\u001b[39mformat(\n\u001b[1;32m     36\u001b[0m         sc\u001b[38;5;241m.\u001b[39mcapitalize_elem_name(elem)))\n\u001b[0;32m---> 37\u001b[0m     calc_atom \u001b[38;5;241m=\u001b[39m \u001b[43mrun_atom\u001b[49m\u001b[43m(\u001b[49m\u001b[43mskdefs\u001b[49m\u001b[43m,\u001b[49m\u001b[43m \u001b[49m\u001b[43melem\u001b[49m\u001b[43m,\u001b[49m\u001b[43m \u001b[49m\u001b[43mbuilddir\u001b[49m\u001b[43m,\u001b[49m\u001b[43m \u001b[49m\u001b[43msearchdirs\u001b[49m\u001b[43m,\u001b[49m\u001b[43m \u001b[49m\u001b[43monecnt_binary\u001b[49m\u001b[43m)\u001b[49m\n\u001b[1;32m     38\u001b[0m     dir_atom \u001b[38;5;241m=\u001b[39m calc_atom\u001b[38;5;241m.\u001b[39mget_result_directory()\n\u001b[1;32m     39\u001b[0m     result_atom \u001b[38;5;241m=\u001b[39m calc_atom\u001b[38;5;241m.\u001b[39mget_result()\n",
      "File \u001b[0;32m~/opt/anaconda3/envs/ParAutomatik/lib/python3.10/site-packages/sktools/skgen/atom.py:18\u001b[0m, in \u001b[0;36mrun_atom\u001b[0;34m(skdefs, elem, builddir, searchdirs, onecnt_binary, eigenonly, eigenspinonly)\u001b[0m\n\u001b[1;32m     16\u001b[0m calculator \u001b[38;5;241m=\u001b[39m SkgenAtom(builddir, searchdirs, onecnt_binary)\n\u001b[1;32m     17\u001b[0m calculator\u001b[38;5;241m.\u001b[39mset_input(skdefs, elem)\n\u001b[0;32m---> 18\u001b[0m \u001b[43mcalculator\u001b[49m\u001b[38;5;241;43m.\u001b[39;49m\u001b[43mfind_or_run_calculation\u001b[49m\u001b[43m(\u001b[49m\u001b[43meigenonly\u001b[49m\u001b[43m,\u001b[49m\u001b[43m \u001b[49m\u001b[43meigenspinonly\u001b[49m\u001b[43m)\u001b[49m\n\u001b[1;32m     19\u001b[0m logger\u001b[38;5;241m.\u001b[39minfo(\u001b[38;5;124m\"\u001b[39m\u001b[38;5;124mFinished\u001b[39m\u001b[38;5;124m\"\u001b[39m)\n\u001b[1;32m     20\u001b[0m \u001b[38;5;28;01mreturn\u001b[39;00m calculator\n",
      "File \u001b[0;32m~/opt/anaconda3/envs/ParAutomatik/lib/python3.10/site-packages/sktools/skgen/atom.py:50\u001b[0m, in \u001b[0;36mSkgenAtom.find_or_run_calculation\u001b[0;34m(self, eigenonly, eigenspinonly)\u001b[0m\n\u001b[1;32m     47\u001b[0m resultdir \u001b[38;5;241m=\u001b[39m \u001b[38;5;28mself\u001b[39m\u001b[38;5;241m.\u001b[39m_input\u001b[38;5;241m.\u001b[39mget_first_dir_with_matching_signature(\n\u001b[1;32m     48\u001b[0m     previous_calc_dirs)\n\u001b[1;32m     49\u001b[0m \u001b[38;5;28;01mif\u001b[39;00m \u001b[38;5;129;01mnot\u001b[39;00m resultdir:\n\u001b[0;32m---> 50\u001b[0m     resultdir \u001b[38;5;241m=\u001b[39m \u001b[38;5;28;43mself\u001b[39;49m\u001b[38;5;241;43m.\u001b[39;49m\u001b[43m_do_calculation\u001b[49m\u001b[43m(\u001b[49m\u001b[43meigenonly\u001b[49m\u001b[43m,\u001b[49m\u001b[43m \u001b[49m\u001b[43meigenspinonly\u001b[49m\u001b[43m)\u001b[49m\n\u001b[1;32m     51\u001b[0m     \u001b[38;5;28;01mif\u001b[39;00m \u001b[38;5;129;01mnot\u001b[39;00m (eigenonly \u001b[38;5;129;01mor\u001b[39;00m eigenspinonly):\n\u001b[1;32m     52\u001b[0m         \u001b[38;5;28mself\u001b[39m\u001b[38;5;241m.\u001b[39m_input\u001b[38;5;241m.\u001b[39mstore_signature(resultdir)\n",
      "File \u001b[0;32m~/opt/anaconda3/envs/ParAutomatik/lib/python3.10/site-packages/sktools/skgen/atom.py:73\u001b[0m, in \u001b[0;36mSkgenAtom._do_calculation\u001b[0;34m(self, eigenonly, eigenspinonly)\u001b[0m\n\u001b[1;32m     69\u001b[0m workdir \u001b[38;5;241m=\u001b[39m ssc\u001b[38;5;241m.\u001b[39mcreate_onecenter_workdir(\n\u001b[1;32m     70\u001b[0m     \u001b[38;5;28mself\u001b[39m\u001b[38;5;241m.\u001b[39m_builddir, ssc\u001b[38;5;241m.\u001b[39mATOM_WORKDIR_PREFIX, \u001b[38;5;28mself\u001b[39m\u001b[38;5;241m.\u001b[39m_elem)\n\u001b[1;32m     71\u001b[0m calculation \u001b[38;5;241m=\u001b[39m SkgenAtomCalculation(\u001b[38;5;28mself\u001b[39m\u001b[38;5;241m.\u001b[39m_input, workdir,\n\u001b[1;32m     72\u001b[0m                                    \u001b[38;5;28mself\u001b[39m\u001b[38;5;241m.\u001b[39m_onecenter_binary)\n\u001b[0;32m---> 73\u001b[0m \u001b[43mcalculation\u001b[49m\u001b[38;5;241;43m.\u001b[39;49m\u001b[43mrun_and_convert_results\u001b[49m\u001b[43m(\u001b[49m\u001b[43meigenonly\u001b[49m\u001b[43m,\u001b[49m\u001b[43m \u001b[49m\u001b[43meigenspinonly\u001b[49m\u001b[43m)\u001b[49m\n\u001b[1;32m     74\u001b[0m \u001b[38;5;28;01mreturn\u001b[39;00m workdir\n",
      "File \u001b[0;32m~/opt/anaconda3/envs/ParAutomatik/lib/python3.10/site-packages/sktools/skgen/atom.py:118\u001b[0m, in \u001b[0;36mSkgenAtomCalculation.run_and_convert_results\u001b[0;34m(self, eigenonly, eigenspinonly)\u001b[0m\n\u001b[1;32m    116\u001b[0m result_spin_atom \u001b[38;5;241m=\u001b[39m \u001b[38;5;28;01mNone\u001b[39;00m\n\u001b[1;32m    117\u001b[0m \u001b[38;5;28;01mif\u001b[39;00m eigenspinonly \u001b[38;5;129;01mor\u001b[39;00m spin_needed:\n\u001b[0;32m--> 118\u001b[0m     result_spin_atom \u001b[38;5;241m=\u001b[39m \u001b[38;5;28;43mself\u001b[39;49m\u001b[38;5;241;43m.\u001b[39;49m\u001b[43m_calculate_spinpolarized_atom\u001b[49m\u001b[43m(\u001b[49m\u001b[43m)\u001b[49m\n\u001b[1;32m    119\u001b[0m result_spinavg_atom \u001b[38;5;241m=\u001b[39m \u001b[38;5;28;01mNone\u001b[39;00m\n\u001b[1;32m    120\u001b[0m \u001b[38;5;28;01mif\u001b[39;00m eigenonly \u001b[38;5;129;01mor\u001b[39;00m \u001b[38;5;129;01mnot\u001b[39;00m eigenspinonly:\n",
      "File \u001b[0;32m~/opt/anaconda3/envs/ParAutomatik/lib/python3.10/site-packages/sktools/skgen/atom.py:148\u001b[0m, in \u001b[0;36mSkgenAtomCalculation._calculate_spinpolarized_atom\u001b[0;34m(self)\u001b[0m\n\u001b[1;32m    146\u001b[0m logger\u001b[38;5;241m.\u001b[39minfo(\u001b[38;5;124m\"\u001b[39m\u001b[38;5;124mCalculating spin polarized atom \u001b[39m\u001b[38;5;124m\"\u001b[39m \u001b[38;5;241m+\u001b[39m sc\u001b[38;5;241m.\u001b[39mlog_path(workdir))\n\u001b[1;32m    147\u001b[0m \u001b[38;5;28mself\u001b[39m\u001b[38;5;241m.\u001b[39m_atomconfig\u001b[38;5;241m.\u001b[39mmake_spinpolarized()\n\u001b[0;32m--> 148\u001b[0m result_spin \u001b[38;5;241m=\u001b[39m \u001b[38;5;28;43mself\u001b[39;49m\u001b[38;5;241;43m.\u001b[39;49m\u001b[43m_calculate_free_atom\u001b[49m\u001b[43m(\u001b[49m\u001b[43mworkdir\u001b[49m\u001b[43m)\u001b[49m\n\u001b[1;32m    149\u001b[0m \u001b[38;5;28;01mreturn\u001b[39;00m result_spin\n",
      "File \u001b[0;32m~/opt/anaconda3/envs/ParAutomatik/lib/python3.10/site-packages/sktools/skgen/atom.py:161\u001b[0m, in \u001b[0;36mSkgenAtomCalculation._calculate_free_atom\u001b[0;34m(self, workdir)\u001b[0m\n\u001b[1;32m    160\u001b[0m \u001b[38;5;28;01mdef\u001b[39;00m \u001b[38;5;21m_calculate_free_atom\u001b[39m(\u001b[38;5;28mself\u001b[39m, workdir):\n\u001b[0;32m--> 161\u001b[0m     output \u001b[38;5;241m=\u001b[39m \u001b[38;5;28;43mself\u001b[39;49m\u001b[38;5;241;43m.\u001b[39;49m\u001b[43m_oncenter_calculator\u001b[49m\u001b[38;5;241;43m.\u001b[39;49m\u001b[43mdo_calculation\u001b[49m\u001b[43m(\u001b[49m\n\u001b[1;32m    162\u001b[0m \u001b[43m        \u001b[49m\u001b[38;5;28;43mself\u001b[39;49m\u001b[38;5;241;43m.\u001b[39;49m\u001b[43m_atomconfig\u001b[49m\u001b[43m,\u001b[49m\u001b[43m \u001b[49m\u001b[38;5;28;43mself\u001b[39;49m\u001b[38;5;241;43m.\u001b[39;49m\u001b[43m_xcfunc\u001b[49m\u001b[43m,\u001b[49m\u001b[43m \u001b[49m\u001b[38;5;28;43;01mNone\u001b[39;49;00m\u001b[43m,\u001b[49m\u001b[43m \u001b[49m\u001b[38;5;28;43mself\u001b[39;49m\u001b[38;5;241;43m.\u001b[39;49m\u001b[43m_binary\u001b[49m\u001b[43m,\u001b[49m\u001b[43m \u001b[49m\u001b[43mworkdir\u001b[49m\u001b[43m)\u001b[49m\n\u001b[1;32m    163\u001b[0m     result \u001b[38;5;241m=\u001b[39m \u001b[38;5;28mself\u001b[39m\u001b[38;5;241m.\u001b[39m_collect_free_atom_result(output)\n\u001b[1;32m    164\u001b[0m     \u001b[38;5;28mself\u001b[39m\u001b[38;5;241m.\u001b[39m_log_free_atom_result(result)\n",
      "File \u001b[0;32m~/opt/anaconda3/envs/ParAutomatik/lib/python3.10/site-packages/sktools/skgen/common.py:45\u001b[0m, in \u001b[0;36mOnecenterCalculatorWrapper.do_calculation\u001b[0;34m(self, atomconfig, xcfunc, compressions, binary, workdir)\u001b[0m\n\u001b[1;32m     41\u001b[0m calculator\u001b[38;5;241m.\u001b[39mset_input(\u001b[38;5;28mself\u001b[39m\u001b[38;5;241m.\u001b[39m_calcsettings, atomconfig, xcfunc,\n\u001b[1;32m     42\u001b[0m                      compressions)\n\u001b[1;32m     44\u001b[0m logger\u001b[38;5;241m.\u001b[39mdebug(\u001b[38;5;124m\"\u001b[39m\u001b[38;5;124mRunning \u001b[39m\u001b[38;5;132;01m{}\u001b[39;00m\u001b[38;5;124m\"\u001b[39m\u001b[38;5;241m.\u001b[39mformat(binary))\n\u001b[0;32m---> 45\u001b[0m \u001b[43mcalculator\u001b[49m\u001b[38;5;241;43m.\u001b[39;49m\u001b[43mrun\u001b[49m\u001b[43m(\u001b[49m\u001b[43mbinary\u001b[49m\u001b[43m)\u001b[49m\n\u001b[1;32m     46\u001b[0m result \u001b[38;5;241m=\u001b[39m calculator\u001b[38;5;241m.\u001b[39mget_result()\n\u001b[1;32m     47\u001b[0m \u001b[38;5;28;01mreturn\u001b[39;00m result\n",
      "File \u001b[0;32m~/opt/anaconda3/envs/ParAutomatik/lib/python3.10/site-packages/sktools/calculators/slateratom.py:85\u001b[0m, in \u001b[0;36mSlaterAtom.run\u001b[0;34m(self, binary)\u001b[0m\n\u001b[1;32m     83\u001b[0m \u001b[38;5;28;01mdef\u001b[39;00m \u001b[38;5;21mrun\u001b[39m(\u001b[38;5;28mself\u001b[39m, binary\u001b[38;5;241m=\u001b[39mDEFAULT_BINARY):\n\u001b[1;32m     84\u001b[0m     runner \u001b[38;5;241m=\u001b[39m SlateratomCalculation(binary, \u001b[38;5;28mself\u001b[39m\u001b[38;5;241m.\u001b[39m_workdir)\n\u001b[0;32m---> 85\u001b[0m     \u001b[43mrunner\u001b[49m\u001b[38;5;241;43m.\u001b[39;49m\u001b[43mrun\u001b[49m\u001b[43m(\u001b[49m\u001b[43m)\u001b[49m\n",
      "File \u001b[0;32m~/opt/anaconda3/envs/ParAutomatik/lib/python3.10/site-packages/sktools/calculators/slateratom.py:248\u001b[0m, in \u001b[0;36mSlateratomCalculation.run\u001b[0;34m(self)\u001b[0m\n\u001b[1;32m    246\u001b[0m fpin \u001b[38;5;241m=\u001b[39m \u001b[38;5;28mopen\u001b[39m(os\u001b[38;5;241m.\u001b[39mpath\u001b[38;5;241m.\u001b[39mjoin(\u001b[38;5;28mself\u001b[39m\u001b[38;5;241m.\u001b[39m_workdir, INPUT_FILE), \u001b[38;5;124m\"\u001b[39m\u001b[38;5;124mr\u001b[39m\u001b[38;5;124m\"\u001b[39m)\n\u001b[1;32m    247\u001b[0m fpout \u001b[38;5;241m=\u001b[39m \u001b[38;5;28mopen\u001b[39m(os\u001b[38;5;241m.\u001b[39mpath\u001b[38;5;241m.\u001b[39mjoin(\u001b[38;5;28mself\u001b[39m\u001b[38;5;241m.\u001b[39m_workdir, STDOUT_FILE), \u001b[38;5;124m\"\u001b[39m\u001b[38;5;124mw\u001b[39m\u001b[38;5;124m\"\u001b[39m)\n\u001b[0;32m--> 248\u001b[0m proc \u001b[38;5;241m=\u001b[39m \u001b[43msubproc\u001b[49m\u001b[38;5;241;43m.\u001b[39;49m\u001b[43mPopen\u001b[49m\u001b[43m(\u001b[49m\u001b[43m[\u001b[49m\u001b[43m \u001b[49m\u001b[38;5;28;43mself\u001b[39;49m\u001b[38;5;241;43m.\u001b[39;49m\u001b[43m_binary\u001b[49m\u001b[43m \u001b[49m\u001b[43m]\u001b[49m\u001b[43m,\u001b[49m\u001b[43m \u001b[49m\u001b[43mcwd\u001b[49m\u001b[38;5;241;43m=\u001b[39;49m\u001b[38;5;28;43mself\u001b[39;49m\u001b[38;5;241;43m.\u001b[39;49m\u001b[43m_workdir\u001b[49m\u001b[43m,\u001b[49m\n\u001b[1;32m    249\u001b[0m \u001b[43m                     \u001b[49m\u001b[43mstdin\u001b[49m\u001b[38;5;241;43m=\u001b[39;49m\u001b[43mfpin\u001b[49m\u001b[43m,\u001b[49m\u001b[43m \u001b[49m\u001b[43mstdout\u001b[49m\u001b[38;5;241;43m=\u001b[39;49m\u001b[43mfpout\u001b[49m\u001b[43m,\u001b[49m\u001b[43m \u001b[49m\u001b[43mstderr\u001b[49m\u001b[38;5;241;43m=\u001b[39;49m\u001b[43msubproc\u001b[49m\u001b[38;5;241;43m.\u001b[39;49m\u001b[43mSTDOUT\u001b[49m\u001b[43m)\u001b[49m\n\u001b[1;32m    250\u001b[0m proc\u001b[38;5;241m.\u001b[39mwait()\n\u001b[1;32m    251\u001b[0m fpin\u001b[38;5;241m.\u001b[39mclose()\n",
      "File \u001b[0;32m~/opt/anaconda3/envs/ParAutomatik/lib/python3.10/subprocess.py:969\u001b[0m, in \u001b[0;36mPopen.__init__\u001b[0;34m(self, args, bufsize, executable, stdin, stdout, stderr, preexec_fn, close_fds, shell, cwd, env, universal_newlines, startupinfo, creationflags, restore_signals, start_new_session, pass_fds, user, group, extra_groups, encoding, errors, text, umask, pipesize)\u001b[0m\n\u001b[1;32m    965\u001b[0m         \u001b[38;5;28;01mif\u001b[39;00m \u001b[38;5;28mself\u001b[39m\u001b[38;5;241m.\u001b[39mtext_mode:\n\u001b[1;32m    966\u001b[0m             \u001b[38;5;28mself\u001b[39m\u001b[38;5;241m.\u001b[39mstderr \u001b[38;5;241m=\u001b[39m io\u001b[38;5;241m.\u001b[39mTextIOWrapper(\u001b[38;5;28mself\u001b[39m\u001b[38;5;241m.\u001b[39mstderr,\n\u001b[1;32m    967\u001b[0m                     encoding\u001b[38;5;241m=\u001b[39mencoding, errors\u001b[38;5;241m=\u001b[39merrors)\n\u001b[0;32m--> 969\u001b[0m     \u001b[38;5;28;43mself\u001b[39;49m\u001b[38;5;241;43m.\u001b[39;49m\u001b[43m_execute_child\u001b[49m\u001b[43m(\u001b[49m\u001b[43margs\u001b[49m\u001b[43m,\u001b[49m\u001b[43m \u001b[49m\u001b[43mexecutable\u001b[49m\u001b[43m,\u001b[49m\u001b[43m \u001b[49m\u001b[43mpreexec_fn\u001b[49m\u001b[43m,\u001b[49m\u001b[43m \u001b[49m\u001b[43mclose_fds\u001b[49m\u001b[43m,\u001b[49m\n\u001b[1;32m    970\u001b[0m \u001b[43m                        \u001b[49m\u001b[43mpass_fds\u001b[49m\u001b[43m,\u001b[49m\u001b[43m \u001b[49m\u001b[43mcwd\u001b[49m\u001b[43m,\u001b[49m\u001b[43m \u001b[49m\u001b[43menv\u001b[49m\u001b[43m,\u001b[49m\n\u001b[1;32m    971\u001b[0m \u001b[43m                        \u001b[49m\u001b[43mstartupinfo\u001b[49m\u001b[43m,\u001b[49m\u001b[43m \u001b[49m\u001b[43mcreationflags\u001b[49m\u001b[43m,\u001b[49m\u001b[43m \u001b[49m\u001b[43mshell\u001b[49m\u001b[43m,\u001b[49m\n\u001b[1;32m    972\u001b[0m \u001b[43m                        \u001b[49m\u001b[43mp2cread\u001b[49m\u001b[43m,\u001b[49m\u001b[43m \u001b[49m\u001b[43mp2cwrite\u001b[49m\u001b[43m,\u001b[49m\n\u001b[1;32m    973\u001b[0m \u001b[43m                        \u001b[49m\u001b[43mc2pread\u001b[49m\u001b[43m,\u001b[49m\u001b[43m \u001b[49m\u001b[43mc2pwrite\u001b[49m\u001b[43m,\u001b[49m\n\u001b[1;32m    974\u001b[0m \u001b[43m                        \u001b[49m\u001b[43merrread\u001b[49m\u001b[43m,\u001b[49m\u001b[43m \u001b[49m\u001b[43merrwrite\u001b[49m\u001b[43m,\u001b[49m\n\u001b[1;32m    975\u001b[0m \u001b[43m                        \u001b[49m\u001b[43mrestore_signals\u001b[49m\u001b[43m,\u001b[49m\n\u001b[1;32m    976\u001b[0m \u001b[43m                        \u001b[49m\u001b[43mgid\u001b[49m\u001b[43m,\u001b[49m\u001b[43m \u001b[49m\u001b[43mgids\u001b[49m\u001b[43m,\u001b[49m\u001b[43m \u001b[49m\u001b[43muid\u001b[49m\u001b[43m,\u001b[49m\u001b[43m \u001b[49m\u001b[43mumask\u001b[49m\u001b[43m,\u001b[49m\n\u001b[1;32m    977\u001b[0m \u001b[43m                        \u001b[49m\u001b[43mstart_new_session\u001b[49m\u001b[43m)\u001b[49m\n\u001b[1;32m    978\u001b[0m \u001b[38;5;28;01mexcept\u001b[39;00m:\n\u001b[1;32m    979\u001b[0m     \u001b[38;5;66;03m# Cleanup if the child failed starting.\u001b[39;00m\n\u001b[1;32m    980\u001b[0m     \u001b[38;5;28;01mfor\u001b[39;00m f \u001b[38;5;129;01min\u001b[39;00m \u001b[38;5;28mfilter\u001b[39m(\u001b[38;5;28;01mNone\u001b[39;00m, (\u001b[38;5;28mself\u001b[39m\u001b[38;5;241m.\u001b[39mstdin, \u001b[38;5;28mself\u001b[39m\u001b[38;5;241m.\u001b[39mstdout, \u001b[38;5;28mself\u001b[39m\u001b[38;5;241m.\u001b[39mstderr)):\n",
      "File \u001b[0;32m~/opt/anaconda3/envs/ParAutomatik/lib/python3.10/subprocess.py:1845\u001b[0m, in \u001b[0;36mPopen._execute_child\u001b[0;34m(self, args, executable, preexec_fn, close_fds, pass_fds, cwd, env, startupinfo, creationflags, shell, p2cread, p2cwrite, c2pread, c2pwrite, errread, errwrite, restore_signals, gid, gids, uid, umask, start_new_session)\u001b[0m\n\u001b[1;32m   1843\u001b[0m     \u001b[38;5;28;01mif\u001b[39;00m errno_num \u001b[38;5;241m!=\u001b[39m \u001b[38;5;241m0\u001b[39m:\n\u001b[1;32m   1844\u001b[0m         err_msg \u001b[38;5;241m=\u001b[39m os\u001b[38;5;241m.\u001b[39mstrerror(errno_num)\n\u001b[0;32m-> 1845\u001b[0m     \u001b[38;5;28;01mraise\u001b[39;00m child_exception_type(errno_num, err_msg, err_filename)\n\u001b[1;32m   1846\u001b[0m \u001b[38;5;28;01mraise\u001b[39;00m child_exception_type(err_msg)\n",
      "\u001b[0;31mFileNotFoundError\u001b[0m: [Errno 2] No such file or directory: 'slateratom'"
     ]
    }
   ],
   "source": [
    "#set up input for skprogs and run skprogs generating the Slater-Koster files with a dummy rep\n",
    "parser, subparsers = sk_util.get_parser_and_subparser_container()\n",
    "sk_util.setup_parser_main(parser)\n",
    "onecnt_common = sk_util.get_onecnt_common_parser()\n",
    "sk_util.setup_parser_atom(subparsers, onecnt_common, sk_util.run_atom)\n",
    "sk_util.setup_parser_denscomp(subparsers, onecnt_common, sk_util.run_denscomp)\n",
    "sk_util.setup_parser_wavecomp(subparsers, onecnt_common, sk_util.run_wavecomp)\n",
    "twocnt_common = sk_util.get_twocnt_common_parser()\n",
    "sk_util.setup_parser_twocnt(subparsers, twocnt_common, sk_util.run_twocnt)\n",
    "sk_util.setup_parser_sktable(subparsers, twocnt_common, sk_util.run_sktable)\n",
    "\n",
    "class Args:\n",
    "    includedirs=[] \n",
    "    configfiles=[skdef_all]\n",
    "    builddir='_build' \n",
    "    onecnt_binary='slateratom' \n",
    "    twocnt_binary='sktwocnt'\n",
    "    loglevel='info' \n",
    "    element1=elem\n",
    "    element2=elem \n",
    "    dummyrep=True \n",
    "    outdir='.'\n",
    "    func=sk_util.run_sktable\n",
    "\n",
    "        \n",
    "args=Args()\n",
    "\n",
    "#run \n",
    "args.func()"
   ]
  },
  {
   "cell_type": "code",
   "execution_count": null,
   "id": "002ef133-53ed-468b-b615-4c6009178598",
   "metadata": {},
   "outputs": [],
   "source": []
  }
 ],
 "metadata": {
  "celltoolbar": "Edit Metadata",
  "kernelspec": {
   "display_name": "Python 3 (ipykernel)",
   "language": "python",
   "name": "python3"
  },
  "language_info": {
   "codemirror_mode": {
    "name": "ipython",
    "version": 3
   },
   "file_extension": ".py",
   "mimetype": "text/x-python",
   "name": "python",
   "nbconvert_exporter": "python",
   "pygments_lexer": "ipython3",
   "version": "3.10.6"
  }
 },
 "nbformat": 4,
 "nbformat_minor": 5
}
